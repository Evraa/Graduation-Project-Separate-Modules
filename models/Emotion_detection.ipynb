{
  "nbformat": 4,
  "nbformat_minor": 0,
  "metadata": {
    "colab": {
      "name": "Emotion detection.ipynb",
      "provenance": [],
      "collapsed_sections": [],
      "authorship_tag": "ABX9TyPJctHrwdnWGXgx8BiSbbt1",
      "include_colab_link": true
    },
    "kernelspec": {
      "name": "python3",
      "display_name": "Python 3"
    },
    "language_info": {
      "name": "python"
    }
  },
  "cells": [
    {
      "cell_type": "markdown",
      "metadata": {
        "id": "view-in-github",
        "colab_type": "text"
      },
      "source": [
        "<a href=\"https://colab.research.google.com/github/Evraa/Graduation-Project-Separate-Modules/blob/main/models/Emotion_detection.ipynb\" target=\"_parent\"><img src=\"https://colab.research.google.com/assets/colab-badge.svg\" alt=\"Open In Colab\"/></a>"
      ]
    },
    {
      "cell_type": "code",
      "metadata": {
        "id": "O8-GD71KSiNe"
      },
      "source": [
        "from keras.callbacks import CSVLogger, ModelCheckpoint, EarlyStopping\n",
        "from keras.callbacks import ReduceLROnPlateau\n",
        "from keras.preprocessing.image import ImageDataGenerator\n",
        "from sklearn.model_selection import train_test_split\n",
        "from keras.layers import Activation, Convolution2D, Dropout, Conv2D\n",
        "from keras.layers import AveragePooling2D, BatchNormalization\n",
        "from keras.layers import GlobalAveragePooling2D\n",
        "from keras.models import Sequential\n",
        "from keras.layers import Flatten\n",
        "from keras.models import Model\n",
        "from keras.layers import Input\n",
        "from keras.layers import MaxPooling2D\n",
        "from keras.layers import SeparableConv2D\n",
        "from keras import layers\n",
        "from keras.regularizers import l2\n",
        "from keras.models import load_model\n",
        "from keras.preprocessing.image import img_to_array\n",
        "import pandas as pd\n",
        "import cv2\n",
        "import numpy as np"
      ],
      "execution_count": null,
      "outputs": []
    },
    {
      "cell_type": "code",
      "metadata": {
        "colab": {
          "base_uri": "https://localhost:8080/"
        },
        "id": "dkKwN3s-sg2R",
        "outputId": "b7da0658-6149-4796-b4f7-ef468a8d0b20"
      },
      "source": [
        "import tensorflow as tf\n",
        "sess = tf.compat.v1.Session(config=tf.compat.v1.ConfigProto(log_device_placement=True))"
      ],
      "execution_count": null,
      "outputs": [
        {
          "output_type": "stream",
          "text": [
            "Device mapping:\n",
            "/job:localhost/replica:0/task:0/device:GPU:0 -> device: 0, name: Tesla T4, pci bus id: 0000:00:04.0, compute capability: 7.5\n",
            "\n"
          ],
          "name": "stdout"
        }
      ]
    },
    {
      "cell_type": "code",
      "metadata": {
        "colab": {
          "base_uri": "https://localhost:8080/"
        },
        "id": "1TZd1zd_ss7A",
        "outputId": "b65b7635-4f7f-4e28-e5a7-4575c5743f37"
      },
      "source": [
        "from tensorflow.python.client import device_lib\n",
        "print(device_lib.list_local_devices())"
      ],
      "execution_count": null,
      "outputs": [
        {
          "output_type": "stream",
          "text": [
            "[name: \"/device:CPU:0\"\n",
            "device_type: \"CPU\"\n",
            "memory_limit: 268435456\n",
            "locality {\n",
            "}\n",
            "incarnation: 12187025761235313039\n",
            ", name: \"/device:GPU:0\"\n",
            "device_type: \"GPU\"\n",
            "memory_limit: 14509932544\n",
            "locality {\n",
            "  bus_id: 1\n",
            "  links {\n",
            "  }\n",
            "}\n",
            "incarnation: 11194983230466140241\n",
            "physical_device_desc: \"device: 0, name: Tesla T4, pci bus id: 0000:00:04.0, compute capability: 7.5\"\n",
            "]\n"
          ],
          "name": "stdout"
        }
      ]
    },
    {
      "cell_type": "code",
      "metadata": {
        "colab": {
          "base_uri": "https://localhost:8080/"
        },
        "id": "-v2WsFUqTjTL",
        "outputId": "3a7858f7-fc7f-4cac-ef8d-f444907e759b"
      },
      "source": [
        "from google.colab import drive\n",
        "drive.mount('/content/drive/')"
      ],
      "execution_count": null,
      "outputs": [
        {
          "output_type": "stream",
          "text": [
            "Mounted at /content/drive/\n"
          ],
          "name": "stdout"
        }
      ]
    },
    {
      "cell_type": "code",
      "metadata": {
        "id": "5zKG1oIJbSo7"
      },
      "source": [
        "dataset_path = \"drive/MyDrive/fer2013.csv\"\n",
        "image_size=(48,48)\n",
        "\n",
        "def load_data():\n",
        "        data = pd.read_csv(dataset_path)\n",
        "        pixels = data['pixels'].tolist()\n",
        "        width, height = 48, 48\n",
        "        faces = []\n",
        "        for pixel_sequence in pixels:\n",
        "            face = [int(pixel) for pixel in pixel_sequence.split(' ')]\n",
        "            face = np.asarray(face).reshape(width, height)\n",
        "            face = cv2.resize(face.astype('uint8'),image_size)\n",
        "            faces.append(face.astype('float32'))\n",
        "        faces = np.asarray(faces)\n",
        "        faces = np.expand_dims(faces, -1)\n",
        "        emotions = pd.get_dummies(data['emotion']).values\n",
        "        return faces, emotions"
      ],
      "execution_count": null,
      "outputs": []
    },
    {
      "cell_type": "code",
      "metadata": {
        "id": "Wg_7DHYqbT4T"
      },
      "source": [
        "def preprocess_input(x):\n",
        "    x = x.astype('float32')\n",
        "    x = x / 255.0\n",
        "    return x"
      ],
      "execution_count": null,
      "outputs": []
    },
    {
      "cell_type": "code",
      "metadata": {
        "id": "yNvsBAY5WzRh"
      },
      "source": [
        "# parameters\n",
        "batch_size = 32\n",
        "num_epochs = 10000\n",
        "input_shape = (48, 48, 1)\n",
        "validation_split = .2\n",
        "verbose = 1\n",
        "num_classes = 7\n",
        "patience = 50\n",
        "base_path = '/'"
      ],
      "execution_count": null,
      "outputs": []
    },
    {
      "cell_type": "code",
      "metadata": {
        "id": "leDN_OcQV50y"
      },
      "source": [
        "# data generator\n",
        "data_generator = ImageDataGenerator(\n",
        "                        featurewise_center=False,\n",
        "                        featurewise_std_normalization=False,\n",
        "                        rotation_range=10,\n",
        "                        width_shift_range=0.1,\n",
        "                        height_shift_range=0.1,\n",
        "                        zoom_range=.1,\n",
        "                        horizontal_flip=True)"
      ],
      "execution_count": null,
      "outputs": []
    },
    {
      "cell_type": "code",
      "metadata": {
        "id": "75FYtFjuZ6sB"
      },
      "source": [
        "def create_model(input_shape, num_classes, l2_regularization=0.01):\n",
        "    regularization = l2(l2_regularization)\n",
        "\n",
        "    # base\n",
        "    img_input = Input(input_shape)\n",
        "    x = Conv2D(8, (3, 3), strides=(1, 1), kernel_regularizer=regularization,\n",
        "                                            use_bias=False)(img_input)\n",
        "    x = BatchNormalization()(x)\n",
        "    x = Activation('relu')(x)\n",
        "    x = Conv2D(8, (3, 3), strides=(1, 1), kernel_regularizer=regularization,\n",
        "                                            use_bias=False)(x)\n",
        "    x = BatchNormalization()(x)\n",
        "    x = Activation('relu')(x)\n",
        "\n",
        "    # module 1\n",
        "    residual = Conv2D(16, (1, 1), strides=(2, 2),\n",
        "                      padding='same', use_bias=False)(x)\n",
        "    residual = BatchNormalization()(residual)\n",
        "\n",
        "    x = SeparableConv2D(16, (3, 3), padding='same',\n",
        "                        kernel_regularizer=regularization,\n",
        "                        use_bias=False)(x)\n",
        "    x = BatchNormalization()(x)\n",
        "    x = Activation('relu')(x)\n",
        "    x = SeparableConv2D(16, (3, 3), padding='same',\n",
        "                        kernel_regularizer=regularization,\n",
        "                        use_bias=False)(x)\n",
        "    x = BatchNormalization()(x)\n",
        "\n",
        "    x = MaxPooling2D((3, 3), strides=(2, 2), padding='same')(x)\n",
        "    x = layers.add([x, residual])\n",
        "\n",
        "    # module 2\n",
        "    residual = Conv2D(32, (1, 1), strides=(2, 2),\n",
        "                      padding='same', use_bias=False)(x)\n",
        "    residual = BatchNormalization()(residual)\n",
        "\n",
        "    x = SeparableConv2D(32, (3, 3), padding='same',\n",
        "                        kernel_regularizer=regularization,\n",
        "                        use_bias=False)(x)\n",
        "    x = BatchNormalization()(x)\n",
        "    x = Activation('relu')(x)\n",
        "    x = SeparableConv2D(32, (3, 3), padding='same',\n",
        "                        kernel_regularizer=regularization,\n",
        "                        use_bias=False)(x)\n",
        "    x = BatchNormalization()(x)\n",
        "\n",
        "    x = MaxPooling2D((3, 3), strides=(2, 2), padding='same')(x)\n",
        "    x = layers.add([x, residual])\n",
        "\n",
        "    # module 3\n",
        "    residual = Conv2D(64, (1, 1), strides=(2, 2),\n",
        "                      padding='same', use_bias=False)(x)\n",
        "    residual = BatchNormalization()(residual)\n",
        "\n",
        "    x = SeparableConv2D(64, (3, 3), padding='same',\n",
        "                        kernel_regularizer=regularization,\n",
        "                        use_bias=False)(x)\n",
        "    x = BatchNormalization()(x)\n",
        "    x = Activation('relu')(x)\n",
        "    x = SeparableConv2D(64, (3, 3), padding='same',\n",
        "                        kernel_regularizer=regularization,\n",
        "                        use_bias=False)(x)\n",
        "    x = BatchNormalization()(x)\n",
        "\n",
        "    x = MaxPooling2D((3, 3), strides=(2, 2), padding='same')(x)\n",
        "    x = layers.add([x, residual])\n",
        "\n",
        "    # module 4\n",
        "    residual = Conv2D(128, (1, 1), strides=(2, 2),\n",
        "                      padding='same', use_bias=False)(x)\n",
        "    residual = BatchNormalization()(residual)\n",
        "\n",
        "    x = SeparableConv2D(128, (3, 3), padding='same',\n",
        "                        kernel_regularizer=regularization,\n",
        "                        use_bias=False)(x)\n",
        "    x = BatchNormalization()(x)\n",
        "    x = Activation('relu')(x)\n",
        "    x = SeparableConv2D(128, (3, 3), padding='same',\n",
        "                        kernel_regularizer=regularization,\n",
        "                        use_bias=False)(x)\n",
        "    x = BatchNormalization()(x)\n",
        "\n",
        "    x = MaxPooling2D((3, 3), strides=(2, 2), padding='same')(x)\n",
        "    x = layers.add([x, residual])\n",
        "\n",
        "    x = Conv2D(num_classes, (3, 3),\n",
        "            #kernel_regularizer=regularization,\n",
        "            padding='same')(x)\n",
        "    x = GlobalAveragePooling2D()(x)\n",
        "    output = Activation('softmax',name='predictions')(x)\n",
        "\n",
        "    model = Model(img_input, output)\n",
        "    return model"
      ],
      "execution_count": null,
      "outputs": []
    },
    {
      "cell_type": "code",
      "metadata": {
        "colab": {
          "base_uri": "https://localhost:8080/"
        },
        "id": "JxmpfjV_cxnr",
        "outputId": "0ac3af07-359e-47ff-a827-9aff75a57f0d"
      },
      "source": [
        "model = create_model(input_shape, num_classes)\n",
        "model.compile(optimizer='adam', loss='categorical_crossentropy',\n",
        "              metrics=['accuracy'])\n",
        "model.summary()"
      ],
      "execution_count": null,
      "outputs": [
        {
          "output_type": "stream",
          "text": [
            "Model: \"model_2\"\n",
            "__________________________________________________________________________________________________\n",
            "Layer (type)                    Output Shape         Param #     Connected to                     \n",
            "==================================================================================================\n",
            "input_3 (InputLayer)            [(None, 48, 48, 1)]  0                                            \n",
            "__________________________________________________________________________________________________\n",
            "conv2d_14 (Conv2D)              (None, 46, 46, 8)    72          input_3[0][0]                    \n",
            "__________________________________________________________________________________________________\n",
            "batch_normalization_28 (BatchNo (None, 46, 46, 8)    32          conv2d_14[0][0]                  \n",
            "__________________________________________________________________________________________________\n",
            "activation_12 (Activation)      (None, 46, 46, 8)    0           batch_normalization_28[0][0]     \n",
            "__________________________________________________________________________________________________\n",
            "conv2d_15 (Conv2D)              (None, 44, 44, 8)    576         activation_12[0][0]              \n",
            "__________________________________________________________________________________________________\n",
            "batch_normalization_29 (BatchNo (None, 44, 44, 8)    32          conv2d_15[0][0]                  \n",
            "__________________________________________________________________________________________________\n",
            "activation_13 (Activation)      (None, 44, 44, 8)    0           batch_normalization_29[0][0]     \n",
            "__________________________________________________________________________________________________\n",
            "separable_conv2d_16 (SeparableC (None, 44, 44, 16)   200         activation_13[0][0]              \n",
            "__________________________________________________________________________________________________\n",
            "batch_normalization_31 (BatchNo (None, 44, 44, 16)   64          separable_conv2d_16[0][0]        \n",
            "__________________________________________________________________________________________________\n",
            "activation_14 (Activation)      (None, 44, 44, 16)   0           batch_normalization_31[0][0]     \n",
            "__________________________________________________________________________________________________\n",
            "separable_conv2d_17 (SeparableC (None, 44, 44, 16)   400         activation_14[0][0]              \n",
            "__________________________________________________________________________________________________\n",
            "batch_normalization_32 (BatchNo (None, 44, 44, 16)   64          separable_conv2d_17[0][0]        \n",
            "__________________________________________________________________________________________________\n",
            "conv2d_16 (Conv2D)              (None, 22, 22, 16)   128         activation_13[0][0]              \n",
            "__________________________________________________________________________________________________\n",
            "max_pooling2d_8 (MaxPooling2D)  (None, 22, 22, 16)   0           batch_normalization_32[0][0]     \n",
            "__________________________________________________________________________________________________\n",
            "batch_normalization_30 (BatchNo (None, 22, 22, 16)   64          conv2d_16[0][0]                  \n",
            "__________________________________________________________________________________________________\n",
            "add_8 (Add)                     (None, 22, 22, 16)   0           max_pooling2d_8[0][0]            \n",
            "                                                                 batch_normalization_30[0][0]     \n",
            "__________________________________________________________________________________________________\n",
            "separable_conv2d_18 (SeparableC (None, 22, 22, 32)   656         add_8[0][0]                      \n",
            "__________________________________________________________________________________________________\n",
            "batch_normalization_34 (BatchNo (None, 22, 22, 32)   128         separable_conv2d_18[0][0]        \n",
            "__________________________________________________________________________________________________\n",
            "activation_15 (Activation)      (None, 22, 22, 32)   0           batch_normalization_34[0][0]     \n",
            "__________________________________________________________________________________________________\n",
            "separable_conv2d_19 (SeparableC (None, 22, 22, 32)   1312        activation_15[0][0]              \n",
            "__________________________________________________________________________________________________\n",
            "batch_normalization_35 (BatchNo (None, 22, 22, 32)   128         separable_conv2d_19[0][0]        \n",
            "__________________________________________________________________________________________________\n",
            "conv2d_17 (Conv2D)              (None, 11, 11, 32)   512         add_8[0][0]                      \n",
            "__________________________________________________________________________________________________\n",
            "max_pooling2d_9 (MaxPooling2D)  (None, 11, 11, 32)   0           batch_normalization_35[0][0]     \n",
            "__________________________________________________________________________________________________\n",
            "batch_normalization_33 (BatchNo (None, 11, 11, 32)   128         conv2d_17[0][0]                  \n",
            "__________________________________________________________________________________________________\n",
            "add_9 (Add)                     (None, 11, 11, 32)   0           max_pooling2d_9[0][0]            \n",
            "                                                                 batch_normalization_33[0][0]     \n",
            "__________________________________________________________________________________________________\n",
            "separable_conv2d_20 (SeparableC (None, 11, 11, 64)   2336        add_9[0][0]                      \n",
            "__________________________________________________________________________________________________\n",
            "batch_normalization_37 (BatchNo (None, 11, 11, 64)   256         separable_conv2d_20[0][0]        \n",
            "__________________________________________________________________________________________________\n",
            "activation_16 (Activation)      (None, 11, 11, 64)   0           batch_normalization_37[0][0]     \n",
            "__________________________________________________________________________________________________\n",
            "separable_conv2d_21 (SeparableC (None, 11, 11, 64)   4672        activation_16[0][0]              \n",
            "__________________________________________________________________________________________________\n",
            "batch_normalization_38 (BatchNo (None, 11, 11, 64)   256         separable_conv2d_21[0][0]        \n",
            "__________________________________________________________________________________________________\n",
            "conv2d_18 (Conv2D)              (None, 6, 6, 64)     2048        add_9[0][0]                      \n",
            "__________________________________________________________________________________________________\n",
            "max_pooling2d_10 (MaxPooling2D) (None, 6, 6, 64)     0           batch_normalization_38[0][0]     \n",
            "__________________________________________________________________________________________________\n",
            "batch_normalization_36 (BatchNo (None, 6, 6, 64)     256         conv2d_18[0][0]                  \n",
            "__________________________________________________________________________________________________\n",
            "add_10 (Add)                    (None, 6, 6, 64)     0           max_pooling2d_10[0][0]           \n",
            "                                                                 batch_normalization_36[0][0]     \n",
            "__________________________________________________________________________________________________\n",
            "separable_conv2d_22 (SeparableC (None, 6, 6, 128)    8768        add_10[0][0]                     \n",
            "__________________________________________________________________________________________________\n",
            "batch_normalization_40 (BatchNo (None, 6, 6, 128)    512         separable_conv2d_22[0][0]        \n",
            "__________________________________________________________________________________________________\n",
            "activation_17 (Activation)      (None, 6, 6, 128)    0           batch_normalization_40[0][0]     \n",
            "__________________________________________________________________________________________________\n",
            "separable_conv2d_23 (SeparableC (None, 6, 6, 128)    17536       activation_17[0][0]              \n",
            "__________________________________________________________________________________________________\n",
            "batch_normalization_41 (BatchNo (None, 6, 6, 128)    512         separable_conv2d_23[0][0]        \n",
            "__________________________________________________________________________________________________\n",
            "conv2d_19 (Conv2D)              (None, 3, 3, 128)    8192        add_10[0][0]                     \n",
            "__________________________________________________________________________________________________\n",
            "max_pooling2d_11 (MaxPooling2D) (None, 3, 3, 128)    0           batch_normalization_41[0][0]     \n",
            "__________________________________________________________________________________________________\n",
            "batch_normalization_39 (BatchNo (None, 3, 3, 128)    512         conv2d_19[0][0]                  \n",
            "__________________________________________________________________________________________________\n",
            "add_11 (Add)                    (None, 3, 3, 128)    0           max_pooling2d_11[0][0]           \n",
            "                                                                 batch_normalization_39[0][0]     \n",
            "__________________________________________________________________________________________________\n",
            "conv2d_20 (Conv2D)              (None, 3, 3, 7)      8071        add_11[0][0]                     \n",
            "__________________________________________________________________________________________________\n",
            "global_average_pooling2d_2 (Glo (None, 7)            0           conv2d_20[0][0]                  \n",
            "__________________________________________________________________________________________________\n",
            "predictions (Activation)        (None, 7)            0           global_average_pooling2d_2[0][0] \n",
            "==================================================================================================\n",
            "Total params: 58,423\n",
            "Trainable params: 56,951\n",
            "Non-trainable params: 1,472\n",
            "__________________________________________________________________________________________________\n"
          ],
          "name": "stdout"
        }
      ]
    },
    {
      "cell_type": "code",
      "metadata": {
        "id": "4nkIlQJ1c7yT"
      },
      "source": [
        "  # callbacks\n",
        "log_file_path = base_path +'_emotion_training.log'\n",
        "csv_logger = CSVLogger(log_file_path, append=False)\n",
        "early_stop = EarlyStopping('val_loss', patience=patience)\n",
        "reduce_lr = ReduceLROnPlateau('val_loss', factor=0.1,\n",
        "                                  patience=int(patience/4), verbose=1)\n",
        "trained_models_path = base_path +'_CNN_Trained'\n",
        "model_names = trained_models_path + '.{epoch:02d}-{val_accuracy:.2f}.hdf5'\n",
        "model_checkpoint = ModelCheckpoint(model_names, 'val_loss', verbose=1,\n",
        "                                                    save_best_only=True)\n",
        "callbacks = [model_checkpoint, csv_logger, early_stop, reduce_lr]"
      ],
      "execution_count": null,
      "outputs": []
    },
    {
      "cell_type": "code",
      "metadata": {
        "id": "KL1ujeZUdiGb"
      },
      "source": [
        "faces, emotions = load_data()\n",
        "faces = preprocess_input(faces)\n",
        "num_samples, num_classes = emotions.shape\n",
        "xtrain, xtest,ytrain,ytest = train_test_split(faces, emotions,test_size=0.2,shuffle=True)\n"
      ],
      "execution_count": null,
      "outputs": []
    },
    {
      "cell_type": "code",
      "metadata": {
        "colab": {
          "base_uri": "https://localhost:8080/"
        },
        "id": "bWG8r1pwiaOu",
        "outputId": "f11a7ff0-782c-4984-a286-a4b90f6d744a"
      },
      "source": [
        "model.fit(data_generator.flow(xtrain, ytrain,\n",
        "                                            batch_size),\n",
        "                        steps_per_epoch=len(xtrain) / batch_size,\n",
        "                        epochs=num_epochs, verbose=1, callbacks=callbacks,\n",
        "                        validation_data=(xtest,ytest))"
      ],
      "execution_count": null,
      "outputs": [
        {
          "output_type": "stream",
          "text": [
            "Epoch 1/10000\n",
            "897/897 [==============================] - 25s 25ms/step - loss: 1.8878 - accuracy: 0.2814 - val_loss: 1.6760 - val_accuracy: 0.3817\n",
            "\n",
            "Epoch 00001: val_loss improved from inf to 1.67601, saving model to /_CNN_Trained.01-0.38.hdf5\n"
          ],
          "name": "stdout"
        },
        {
          "output_type": "stream",
          "text": [
            "/usr/local/lib/python3.7/dist-packages/keras/utils/generic_utils.py:497: CustomMaskWarning: Custom mask layers require a config and must override get_config. When loading, the custom mask layer must be passed to the custom_objects argument.\n",
            "  category=CustomMaskWarning)\n"
          ],
          "name": "stderr"
        },
        {
          "output_type": "stream",
          "text": [
            "Epoch 2/10000\n",
            "897/897 [==============================] - 20s 22ms/step - loss: 1.5607 - accuracy: 0.4183 - val_loss: 1.5248 - val_accuracy: 0.4324\n",
            "\n",
            "Epoch 00002: val_loss improved from 1.67601 to 1.52476, saving model to /_CNN_Trained.02-0.43.hdf5\n",
            "Epoch 3/10000\n",
            "897/897 [==============================] - 20s 22ms/step - loss: 1.4373 - accuracy: 0.4674 - val_loss: 1.3971 - val_accuracy: 0.4699\n",
            "\n",
            "Epoch 00003: val_loss improved from 1.52476 to 1.39711, saving model to /_CNN_Trained.03-0.47.hdf5\n",
            "Epoch 4/10000\n",
            "897/897 [==============================] - 21s 23ms/step - loss: 1.3632 - accuracy: 0.4903 - val_loss: 1.3680 - val_accuracy: 0.5040\n",
            "\n",
            "Epoch 00004: val_loss improved from 1.39711 to 1.36796, saving model to /_CNN_Trained.04-0.50.hdf5\n",
            "Epoch 5/10000\n",
            "897/897 [==============================] - 20s 22ms/step - loss: 1.3057 - accuracy: 0.5140 - val_loss: 1.3513 - val_accuracy: 0.5106\n",
            "\n",
            "Epoch 00005: val_loss improved from 1.36796 to 1.35127, saving model to /_CNN_Trained.05-0.51.hdf5\n",
            "Epoch 6/10000\n",
            "897/897 [==============================] - 20s 22ms/step - loss: 1.2684 - accuracy: 0.5248 - val_loss: 1.2256 - val_accuracy: 0.5368\n",
            "\n",
            "Epoch 00006: val_loss improved from 1.35127 to 1.22561, saving model to /_CNN_Trained.06-0.54.hdf5\n",
            "Epoch 7/10000\n",
            "897/897 [==============================] - 21s 23ms/step - loss: 1.2326 - accuracy: 0.5380 - val_loss: 1.2755 - val_accuracy: 0.5153\n",
            "\n",
            "Epoch 00007: val_loss did not improve from 1.22561\n",
            "Epoch 8/10000\n",
            "897/897 [==============================] - 20s 23ms/step - loss: 1.2019 - accuracy: 0.5531 - val_loss: 1.3044 - val_accuracy: 0.5281\n",
            "\n",
            "Epoch 00008: val_loss did not improve from 1.22561\n",
            "Epoch 9/10000\n",
            "897/897 [==============================] - 21s 23ms/step - loss: 1.1901 - accuracy: 0.5536 - val_loss: 1.2790 - val_accuracy: 0.5415\n",
            "\n",
            "Epoch 00009: val_loss did not improve from 1.22561\n",
            "Epoch 10/10000\n",
            "897/897 [==============================] - 20s 22ms/step - loss: 1.1682 - accuracy: 0.5640 - val_loss: 1.1772 - val_accuracy: 0.5546\n",
            "\n",
            "Epoch 00010: val_loss improved from 1.22561 to 1.17723, saving model to /_CNN_Trained.10-0.55.hdf5\n",
            "Epoch 11/10000\n",
            "897/897 [==============================] - 20s 22ms/step - loss: 1.1589 - accuracy: 0.5640 - val_loss: 1.1820 - val_accuracy: 0.5585\n",
            "\n",
            "Epoch 00011: val_loss did not improve from 1.17723\n",
            "Epoch 12/10000\n",
            "897/897 [==============================] - 21s 23ms/step - loss: 1.1332 - accuracy: 0.5759 - val_loss: 1.1731 - val_accuracy: 0.5507\n",
            "\n",
            "Epoch 00012: val_loss improved from 1.17723 to 1.17311, saving model to /_CNN_Trained.12-0.55.hdf5\n",
            "Epoch 13/10000\n",
            "897/897 [==============================] - 20s 23ms/step - loss: 1.1393 - accuracy: 0.5724 - val_loss: 1.1452 - val_accuracy: 0.5729\n",
            "\n",
            "Epoch 00013: val_loss improved from 1.17311 to 1.14515, saving model to /_CNN_Trained.13-0.57.hdf5\n",
            "Epoch 14/10000\n",
            "897/897 [==============================] - 20s 22ms/step - loss: 1.1149 - accuracy: 0.5829 - val_loss: 1.1584 - val_accuracy: 0.5671\n",
            "\n",
            "Epoch 00014: val_loss did not improve from 1.14515\n",
            "Epoch 15/10000\n",
            "897/897 [==============================] - 21s 23ms/step - loss: 1.1100 - accuracy: 0.5827 - val_loss: 1.1185 - val_accuracy: 0.5834\n",
            "\n",
            "Epoch 00015: val_loss improved from 1.14515 to 1.11848, saving model to /_CNN_Trained.15-0.58.hdf5\n",
            "Epoch 16/10000\n",
            "897/897 [==============================] - 20s 23ms/step - loss: 1.1190 - accuracy: 0.5826 - val_loss: 1.0804 - val_accuracy: 0.6016\n",
            "\n",
            "Epoch 00016: val_loss improved from 1.11848 to 1.08038, saving model to /_CNN_Trained.16-0.60.hdf5\n",
            "Epoch 17/10000\n",
            "897/897 [==============================] - 20s 22ms/step - loss: 1.0893 - accuracy: 0.5941 - val_loss: 1.2163 - val_accuracy: 0.5500\n",
            "\n",
            "Epoch 00017: val_loss did not improve from 1.08038\n",
            "Epoch 18/10000\n",
            "897/897 [==============================] - 20s 22ms/step - loss: 1.0761 - accuracy: 0.5985 - val_loss: 1.1160 - val_accuracy: 0.5901\n",
            "\n",
            "Epoch 00018: val_loss did not improve from 1.08038\n",
            "Epoch 19/10000\n",
            "897/897 [==============================] - 21s 23ms/step - loss: 1.0725 - accuracy: 0.6005 - val_loss: 1.0993 - val_accuracy: 0.5899\n",
            "\n",
            "Epoch 00019: val_loss did not improve from 1.08038\n",
            "Epoch 20/10000\n",
            "897/897 [==============================] - 20s 22ms/step - loss: 1.0649 - accuracy: 0.6045 - val_loss: 1.1246 - val_accuracy: 0.5779\n",
            "\n",
            "Epoch 00020: val_loss did not improve from 1.08038\n",
            "Epoch 21/10000\n",
            "897/897 [==============================] - 20s 23ms/step - loss: 1.0576 - accuracy: 0.5998 - val_loss: 1.1043 - val_accuracy: 0.5892\n",
            "\n",
            "Epoch 00021: val_loss did not improve from 1.08038\n",
            "Epoch 22/10000\n",
            "897/897 [==============================] - 21s 24ms/step - loss: 1.0495 - accuracy: 0.6067 - val_loss: 1.0840 - val_accuracy: 0.6042\n",
            "\n",
            "Epoch 00022: val_loss did not improve from 1.08038\n",
            "Epoch 23/10000\n",
            "897/897 [==============================] - 21s 23ms/step - loss: 1.0504 - accuracy: 0.6078 - val_loss: 1.1120 - val_accuracy: 0.5780\n",
            "\n",
            "Epoch 00023: val_loss did not improve from 1.08038\n",
            "Epoch 24/10000\n",
            "897/897 [==============================] - 21s 23ms/step - loss: 1.0443 - accuracy: 0.6032 - val_loss: 1.0754 - val_accuracy: 0.6099\n",
            "\n",
            "Epoch 00024: val_loss improved from 1.08038 to 1.07538, saving model to /_CNN_Trained.24-0.61.hdf5\n",
            "Epoch 25/10000\n",
            "897/897 [==============================] - 20s 22ms/step - loss: 1.0300 - accuracy: 0.6172 - val_loss: 1.0794 - val_accuracy: 0.6052\n",
            "\n",
            "Epoch 00025: val_loss did not improve from 1.07538\n",
            "Epoch 26/10000\n",
            "897/897 [==============================] - 20s 23ms/step - loss: 1.0255 - accuracy: 0.6167 - val_loss: 1.0981 - val_accuracy: 0.6017\n",
            "\n",
            "Epoch 00026: val_loss did not improve from 1.07538\n",
            "Epoch 27/10000\n",
            "897/897 [==============================] - 21s 23ms/step - loss: 1.0230 - accuracy: 0.6188 - val_loss: 1.0730 - val_accuracy: 0.5991\n",
            "\n",
            "Epoch 00027: val_loss improved from 1.07538 to 1.07303, saving model to /_CNN_Trained.27-0.60.hdf5\n",
            "Epoch 28/10000\n",
            "897/897 [==============================] - 20s 23ms/step - loss: 1.0250 - accuracy: 0.6175 - val_loss: 1.0940 - val_accuracy: 0.5997\n",
            "\n",
            "Epoch 00028: val_loss did not improve from 1.07303\n",
            "Epoch 29/10000\n",
            "897/897 [==============================] - 20s 22ms/step - loss: 1.0090 - accuracy: 0.6236 - val_loss: 1.0611 - val_accuracy: 0.6057\n",
            "\n",
            "Epoch 00029: val_loss improved from 1.07303 to 1.06109, saving model to /_CNN_Trained.29-0.61.hdf5\n",
            "Epoch 30/10000\n",
            "897/897 [==============================] - 21s 24ms/step - loss: 1.0087 - accuracy: 0.6202 - val_loss: 1.1358 - val_accuracy: 0.5860\n",
            "\n",
            "Epoch 00030: val_loss did not improve from 1.06109\n",
            "Epoch 31/10000\n",
            "897/897 [==============================] - 20s 23ms/step - loss: 1.0067 - accuracy: 0.6255 - val_loss: 1.0600 - val_accuracy: 0.6194\n",
            "\n",
            "Epoch 00031: val_loss improved from 1.06109 to 1.06000, saving model to /_CNN_Trained.31-0.62.hdf5\n",
            "Epoch 32/10000\n",
            "897/897 [==============================] - 20s 23ms/step - loss: 1.0015 - accuracy: 0.6239 - val_loss: 1.0560 - val_accuracy: 0.6131\n",
            "\n",
            "Epoch 00032: val_loss improved from 1.06000 to 1.05604, saving model to /_CNN_Trained.32-0.61.hdf5\n",
            "Epoch 33/10000\n",
            "897/897 [==============================] - 21s 24ms/step - loss: 0.9982 - accuracy: 0.6247 - val_loss: 1.0530 - val_accuracy: 0.6169\n",
            "\n",
            "Epoch 00033: val_loss improved from 1.05604 to 1.05303, saving model to /_CNN_Trained.33-0.62.hdf5\n",
            "Epoch 34/10000\n",
            "897/897 [==============================] - 20s 23ms/step - loss: 0.9869 - accuracy: 0.6334 - val_loss: 1.0682 - val_accuracy: 0.6059\n",
            "\n",
            "Epoch 00034: val_loss did not improve from 1.05303\n",
            "Epoch 35/10000\n",
            "897/897 [==============================] - 20s 22ms/step - loss: 0.9904 - accuracy: 0.6289 - val_loss: 1.0564 - val_accuracy: 0.6158\n",
            "\n",
            "Epoch 00035: val_loss did not improve from 1.05303\n",
            "Epoch 36/10000\n",
            "897/897 [==============================] - 20s 23ms/step - loss: 0.9891 - accuracy: 0.6256 - val_loss: 1.0612 - val_accuracy: 0.6113\n",
            "\n",
            "Epoch 00036: val_loss did not improve from 1.05303\n",
            "Epoch 37/10000\n",
            "897/897 [==============================] - 21s 23ms/step - loss: 0.9935 - accuracy: 0.6289 - val_loss: 1.0550 - val_accuracy: 0.6155\n",
            "\n",
            "Epoch 00037: val_loss did not improve from 1.05303\n",
            "Epoch 38/10000\n",
            "897/897 [==============================] - 20s 22ms/step - loss: 0.9820 - accuracy: 0.6341 - val_loss: 1.0478 - val_accuracy: 0.6133\n",
            "\n",
            "Epoch 00038: val_loss improved from 1.05303 to 1.04775, saving model to /_CNN_Trained.38-0.61.hdf5\n",
            "Epoch 39/10000\n",
            "897/897 [==============================] - 21s 23ms/step - loss: 0.9832 - accuracy: 0.6366 - val_loss: 1.0190 - val_accuracy: 0.6244\n",
            "\n",
            "Epoch 00039: val_loss improved from 1.04775 to 1.01903, saving model to /_CNN_Trained.39-0.62.hdf5\n",
            "Epoch 40/10000\n",
            "897/897 [==============================] - 21s 24ms/step - loss: 0.9817 - accuracy: 0.6326 - val_loss: 1.0406 - val_accuracy: 0.6201\n",
            "\n",
            "Epoch 00040: val_loss did not improve from 1.01903\n",
            "Epoch 41/10000\n",
            "897/897 [==============================] - 21s 24ms/step - loss: 0.9703 - accuracy: 0.6387 - val_loss: 1.0446 - val_accuracy: 0.6169\n",
            "\n",
            "Epoch 00041: val_loss did not improve from 1.01903\n",
            "Epoch 42/10000\n",
            "897/897 [==============================] - 21s 23ms/step - loss: 0.9620 - accuracy: 0.6414 - val_loss: 1.0684 - val_accuracy: 0.6053\n",
            "\n",
            "Epoch 00042: val_loss did not improve from 1.01903\n",
            "Epoch 43/10000\n",
            "897/897 [==============================] - 20s 22ms/step - loss: 0.9714 - accuracy: 0.6379 - val_loss: 1.0350 - val_accuracy: 0.6202\n",
            "\n",
            "Epoch 00043: val_loss did not improve from 1.01903\n",
            "Epoch 44/10000\n",
            "897/897 [==============================] - 21s 23ms/step - loss: 0.9580 - accuracy: 0.6442 - val_loss: 1.0423 - val_accuracy: 0.6223\n",
            "\n",
            "Epoch 00044: val_loss did not improve from 1.01903\n",
            "Epoch 45/10000\n",
            "897/897 [==============================] - 21s 23ms/step - loss: 0.9664 - accuracy: 0.6398 - val_loss: 1.0660 - val_accuracy: 0.6116\n",
            "\n",
            "Epoch 00045: val_loss did not improve from 1.01903\n",
            "Epoch 46/10000\n",
            "897/897 [==============================] - 20s 23ms/step - loss: 0.9647 - accuracy: 0.6413 - val_loss: 1.0329 - val_accuracy: 0.6219\n",
            "\n",
            "Epoch 00046: val_loss did not improve from 1.01903\n",
            "Epoch 47/10000\n",
            "897/897 [==============================] - 21s 23ms/step - loss: 0.9506 - accuracy: 0.6399 - val_loss: 1.0469 - val_accuracy: 0.6195\n",
            "\n",
            "Epoch 00047: val_loss did not improve from 1.01903\n",
            "Epoch 48/10000\n",
            "897/897 [==============================] - 21s 24ms/step - loss: 0.9615 - accuracy: 0.6407 - val_loss: 1.0322 - val_accuracy: 0.6254\n",
            "\n",
            "Epoch 00048: val_loss did not improve from 1.01903\n",
            "Epoch 49/10000\n",
            "897/897 [==============================] - 20s 22ms/step - loss: 0.9671 - accuracy: 0.6388 - val_loss: 1.0798 - val_accuracy: 0.6052\n",
            "\n",
            "Epoch 00049: val_loss did not improve from 1.01903\n",
            "Epoch 50/10000\n",
            "897/897 [==============================] - 21s 23ms/step - loss: 0.9514 - accuracy: 0.6444 - val_loss: 1.0240 - val_accuracy: 0.6278\n",
            "\n",
            "Epoch 00050: val_loss did not improve from 1.01903\n",
            "Epoch 51/10000\n",
            "897/897 [==============================] - 21s 23ms/step - loss: 0.9373 - accuracy: 0.6526 - val_loss: 1.0269 - val_accuracy: 0.6278\n",
            "\n",
            "Epoch 00051: val_loss did not improve from 1.01903\n",
            "\n",
            "Epoch 00051: ReduceLROnPlateau reducing learning rate to 0.00010000000474974513.\n",
            "Epoch 52/10000\n",
            "897/897 [==============================] - 20s 23ms/step - loss: 0.9133 - accuracy: 0.6589 - val_loss: 0.9845 - val_accuracy: 0.6411\n",
            "\n",
            "Epoch 00052: val_loss improved from 1.01903 to 0.98447, saving model to /_CNN_Trained.52-0.64.hdf5\n",
            "Epoch 53/10000\n",
            "897/897 [==============================] - 20s 23ms/step - loss: 0.8913 - accuracy: 0.6688 - val_loss: 0.9880 - val_accuracy: 0.6408\n",
            "\n",
            "Epoch 00053: val_loss did not improve from 0.98447\n",
            "Epoch 54/10000\n",
            "897/897 [==============================] - 21s 24ms/step - loss: 0.8883 - accuracy: 0.6713 - val_loss: 0.9800 - val_accuracy: 0.6435\n",
            "\n",
            "Epoch 00054: val_loss improved from 0.98447 to 0.98001, saving model to /_CNN_Trained.54-0.64.hdf5\n",
            "Epoch 55/10000\n",
            "897/897 [==============================] - 21s 23ms/step - loss: 0.8785 - accuracy: 0.6739 - val_loss: 0.9860 - val_accuracy: 0.6411\n",
            "\n",
            "Epoch 00055: val_loss did not improve from 0.98001\n",
            "Epoch 56/10000\n",
            "897/897 [==============================] - 21s 24ms/step - loss: 0.8583 - accuracy: 0.6837 - val_loss: 0.9839 - val_accuracy: 0.6421\n",
            "\n",
            "Epoch 00056: val_loss did not improve from 0.98001\n",
            "Epoch 57/10000\n",
            "897/897 [==============================] - 20s 23ms/step - loss: 0.8793 - accuracy: 0.6711 - val_loss: 0.9792 - val_accuracy: 0.6461\n",
            "\n",
            "Epoch 00057: val_loss improved from 0.98001 to 0.97921, saving model to /_CNN_Trained.57-0.65.hdf5\n",
            "Epoch 58/10000\n",
            "897/897 [==============================] - 20s 23ms/step - loss: 0.8684 - accuracy: 0.6768 - val_loss: 0.9852 - val_accuracy: 0.6459\n",
            "\n",
            "Epoch 00058: val_loss did not improve from 0.97921\n",
            "Epoch 59/10000\n",
            "897/897 [==============================] - 21s 23ms/step - loss: 0.8643 - accuracy: 0.6810 - val_loss: 0.9795 - val_accuracy: 0.6452\n",
            "\n",
            "Epoch 00059: val_loss did not improve from 0.97921\n",
            "Epoch 60/10000\n",
            "897/897 [==============================] - 20s 22ms/step - loss: 0.8754 - accuracy: 0.6740 - val_loss: 0.9794 - val_accuracy: 0.6466\n",
            "\n",
            "Epoch 00060: val_loss did not improve from 0.97921\n",
            "Epoch 61/10000\n",
            "897/897 [==============================] - 21s 23ms/step - loss: 0.8705 - accuracy: 0.6761 - val_loss: 0.9848 - val_accuracy: 0.6443\n",
            "\n",
            "Epoch 00061: val_loss did not improve from 0.97921\n",
            "Epoch 62/10000\n",
            "897/897 [==============================] - 21s 24ms/step - loss: 0.8641 - accuracy: 0.6826 - val_loss: 0.9830 - val_accuracy: 0.6428\n",
            "\n",
            "Epoch 00062: val_loss did not improve from 0.97921\n",
            "Epoch 63/10000\n",
            "897/897 [==============================] - 21s 23ms/step - loss: 0.8629 - accuracy: 0.6762 - val_loss: 0.9787 - val_accuracy: 0.6447\n",
            "\n",
            "Epoch 00063: val_loss improved from 0.97921 to 0.97868, saving model to /_CNN_Trained.63-0.64.hdf5\n",
            "Epoch 64/10000\n",
            "897/897 [==============================] - 20s 22ms/step - loss: 0.8528 - accuracy: 0.6846 - val_loss: 0.9819 - val_accuracy: 0.6481\n",
            "\n",
            "Epoch 00064: val_loss did not improve from 0.97868\n",
            "Epoch 65/10000\n",
            "897/897 [==============================] - 21s 24ms/step - loss: 0.8661 - accuracy: 0.6771 - val_loss: 0.9820 - val_accuracy: 0.6447\n",
            "\n",
            "Epoch 00065: val_loss did not improve from 0.97868\n",
            "Epoch 66/10000\n",
            "897/897 [==============================] - 20s 23ms/step - loss: 0.8609 - accuracy: 0.6783 - val_loss: 0.9759 - val_accuracy: 0.6478\n",
            "\n",
            "Epoch 00066: val_loss improved from 0.97868 to 0.97592, saving model to /_CNN_Trained.66-0.65.hdf5\n",
            "Epoch 67/10000\n",
            "897/897 [==============================] - 20s 22ms/step - loss: 0.8489 - accuracy: 0.6844 - val_loss: 0.9794 - val_accuracy: 0.6481\n",
            "\n",
            "Epoch 00067: val_loss did not improve from 0.97592\n",
            "Epoch 68/10000\n",
            "897/897 [==============================] - 21s 24ms/step - loss: 0.8494 - accuracy: 0.6859 - val_loss: 0.9788 - val_accuracy: 0.6467\n",
            "\n",
            "Epoch 00068: val_loss did not improve from 0.97592\n",
            "Epoch 69/10000\n",
            "897/897 [==============================] - 21s 24ms/step - loss: 0.8590 - accuracy: 0.6822 - val_loss: 0.9782 - val_accuracy: 0.6471\n",
            "\n",
            "Epoch 00069: val_loss did not improve from 0.97592\n",
            "Epoch 70/10000\n",
            "897/897 [==============================] - 20s 22ms/step - loss: 0.8407 - accuracy: 0.6884 - val_loss: 0.9800 - val_accuracy: 0.6507\n",
            "\n",
            "Epoch 00070: val_loss did not improve from 0.97592\n",
            "Epoch 71/10000\n",
            "897/897 [==============================] - 20s 23ms/step - loss: 0.8543 - accuracy: 0.6862 - val_loss: 0.9755 - val_accuracy: 0.6478\n",
            "\n",
            "Epoch 00071: val_loss improved from 0.97592 to 0.97546, saving model to /_CNN_Trained.71-0.65.hdf5\n",
            "Epoch 72/10000\n",
            "897/897 [==============================] - 21s 24ms/step - loss: 0.8508 - accuracy: 0.6867 - val_loss: 0.9855 - val_accuracy: 0.6452\n",
            "\n",
            "Epoch 00072: val_loss did not improve from 0.97546\n",
            "Epoch 73/10000\n",
            "897/897 [==============================] - 21s 23ms/step - loss: 0.8410 - accuracy: 0.6854 - val_loss: 0.9861 - val_accuracy: 0.6425\n",
            "\n",
            "Epoch 00073: val_loss did not improve from 0.97546\n",
            "Epoch 74/10000\n",
            "897/897 [==============================] - 20s 22ms/step - loss: 0.8508 - accuracy: 0.6834 - val_loss: 0.9874 - val_accuracy: 0.6443\n",
            "\n",
            "Epoch 00074: val_loss did not improve from 0.97546\n",
            "Epoch 75/10000\n",
            "897/897 [==============================] - 21s 23ms/step - loss: 0.8452 - accuracy: 0.6892 - val_loss: 0.9819 - val_accuracy: 0.6457\n",
            "\n",
            "Epoch 00075: val_loss did not improve from 0.97546\n",
            "Epoch 76/10000\n",
            "897/897 [==============================] - 21s 24ms/step - loss: 0.8418 - accuracy: 0.6880 - val_loss: 0.9771 - val_accuracy: 0.6481\n",
            "\n",
            "Epoch 00076: val_loss did not improve from 0.97546\n",
            "Epoch 77/10000\n",
            "897/897 [==============================] - 20s 22ms/step - loss: 0.8577 - accuracy: 0.6819 - val_loss: 0.9811 - val_accuracy: 0.6466\n",
            "\n",
            "Epoch 00077: val_loss did not improve from 0.97546\n",
            "Epoch 78/10000\n",
            "897/897 [==============================] - 21s 24ms/step - loss: 0.8530 - accuracy: 0.6779 - val_loss: 0.9790 - val_accuracy: 0.6496\n",
            "\n",
            "Epoch 00078: val_loss did not improve from 0.97546\n",
            "Epoch 79/10000\n",
            "897/897 [==============================] - 21s 23ms/step - loss: 0.8515 - accuracy: 0.6834 - val_loss: 0.9833 - val_accuracy: 0.6454\n",
            "\n",
            "Epoch 00079: val_loss did not improve from 0.97546\n",
            "Epoch 80/10000\n",
            "897/897 [==============================] - 20s 22ms/step - loss: 0.8366 - accuracy: 0.6877 - val_loss: 0.9886 - val_accuracy: 0.6425\n",
            "\n",
            "Epoch 00080: val_loss did not improve from 0.97546\n",
            "Epoch 81/10000\n",
            "897/897 [==============================] - 21s 23ms/step - loss: 0.8460 - accuracy: 0.6871 - val_loss: 0.9795 - val_accuracy: 0.6480\n",
            "\n",
            "Epoch 00081: val_loss did not improve from 0.97546\n",
            "Epoch 82/10000\n",
            "897/897 [==============================] - 22s 24ms/step - loss: 0.8378 - accuracy: 0.6872 - val_loss: 0.9794 - val_accuracy: 0.6486\n",
            "\n",
            "Epoch 00082: val_loss did not improve from 0.97546\n",
            "Epoch 83/10000\n",
            "897/897 [==============================] - 20s 22ms/step - loss: 0.8499 - accuracy: 0.6822 - val_loss: 0.9819 - val_accuracy: 0.6447\n",
            "\n",
            "Epoch 00083: val_loss did not improve from 0.97546\n",
            "\n",
            "Epoch 00083: ReduceLROnPlateau reducing learning rate to 1.0000000474974514e-05.\n",
            "Epoch 84/10000\n",
            "897/897 [==============================] - 20s 22ms/step - loss: 0.8390 - accuracy: 0.6908 - val_loss: 0.9786 - val_accuracy: 0.6468\n",
            "\n",
            "Epoch 00084: val_loss did not improve from 0.97546\n",
            "Epoch 85/10000\n",
            "897/897 [==============================] - 22s 24ms/step - loss: 0.8369 - accuracy: 0.6896 - val_loss: 0.9787 - val_accuracy: 0.6470\n",
            "\n",
            "Epoch 00085: val_loss did not improve from 0.97546\n",
            "Epoch 86/10000\n",
            "897/897 [==============================] - 21s 23ms/step - loss: 0.8391 - accuracy: 0.6853 - val_loss: 0.9792 - val_accuracy: 0.6454\n",
            "\n",
            "Epoch 00086: val_loss did not improve from 0.97546\n",
            "Epoch 87/10000\n",
            "897/897 [==============================] - 21s 24ms/step - loss: 0.8327 - accuracy: 0.6870 - val_loss: 0.9782 - val_accuracy: 0.6459\n",
            "\n",
            "Epoch 00087: val_loss did not improve from 0.97546\n",
            "Epoch 88/10000\n",
            "897/897 [==============================] - 20s 23ms/step - loss: 0.8386 - accuracy: 0.6890 - val_loss: 0.9778 - val_accuracy: 0.6475\n",
            "\n",
            "Epoch 00088: val_loss did not improve from 0.97546\n",
            "Epoch 89/10000\n",
            "897/897 [==============================] - 21s 23ms/step - loss: 0.8312 - accuracy: 0.6931 - val_loss: 0.9787 - val_accuracy: 0.6474\n",
            "\n",
            "Epoch 00089: val_loss did not improve from 0.97546\n",
            "Epoch 90/10000\n",
            "897/897 [==============================] - 22s 24ms/step - loss: 0.8378 - accuracy: 0.6881 - val_loss: 0.9788 - val_accuracy: 0.6481\n",
            "\n",
            "Epoch 00090: val_loss did not improve from 0.97546\n",
            "Epoch 91/10000\n",
            "897/897 [==============================] - 21s 23ms/step - loss: 0.8368 - accuracy: 0.6880 - val_loss: 0.9792 - val_accuracy: 0.6484\n",
            "\n",
            "Epoch 00091: val_loss did not improve from 0.97546\n",
            "Epoch 92/10000\n",
            "897/897 [==============================] - 21s 23ms/step - loss: 0.8406 - accuracy: 0.6862 - val_loss: 0.9798 - val_accuracy: 0.6463\n",
            "\n",
            "Epoch 00092: val_loss did not improve from 0.97546\n",
            "Epoch 93/10000\n",
            "897/897 [==============================] - 22s 24ms/step - loss: 0.8351 - accuracy: 0.6931 - val_loss: 0.9792 - val_accuracy: 0.6478\n",
            "\n",
            "Epoch 00093: val_loss did not improve from 0.97546\n",
            "Epoch 94/10000\n",
            "897/897 [==============================] - 20s 22ms/step - loss: 0.8345 - accuracy: 0.6865 - val_loss: 0.9795 - val_accuracy: 0.6470\n",
            "\n",
            "Epoch 00094: val_loss did not improve from 0.97546\n",
            "Epoch 95/10000\n",
            "897/897 [==============================] - 21s 23ms/step - loss: 0.8453 - accuracy: 0.6867 - val_loss: 0.9782 - val_accuracy: 0.6475\n",
            "\n",
            "Epoch 00095: val_loss did not improve from 0.97546\n",
            "\n",
            "Epoch 00095: ReduceLROnPlateau reducing learning rate to 1.0000000656873453e-06.\n",
            "Epoch 96/10000\n",
            "897/897 [==============================] - 21s 24ms/step - loss: 0.8312 - accuracy: 0.6954 - val_loss: 0.9789 - val_accuracy: 0.6474\n",
            "\n",
            "Epoch 00096: val_loss did not improve from 0.97546\n",
            "Epoch 97/10000\n",
            "897/897 [==============================] - 20s 23ms/step - loss: 0.8263 - accuracy: 0.6914 - val_loss: 0.9791 - val_accuracy: 0.6475\n",
            "\n",
            "Epoch 00097: val_loss did not improve from 0.97546\n",
            "Epoch 98/10000\n",
            "897/897 [==============================] - 20s 23ms/step - loss: 0.8372 - accuracy: 0.6884 - val_loss: 0.9792 - val_accuracy: 0.6470\n",
            "\n",
            "Epoch 00098: val_loss did not improve from 0.97546\n",
            "Epoch 99/10000\n",
            "897/897 [==============================] - 22s 24ms/step - loss: 0.8359 - accuracy: 0.6893 - val_loss: 0.9784 - val_accuracy: 0.6473\n",
            "\n",
            "Epoch 00099: val_loss did not improve from 0.97546\n",
            "Epoch 100/10000\n",
            "897/897 [==============================] - 21s 23ms/step - loss: 0.8302 - accuracy: 0.6896 - val_loss: 0.9788 - val_accuracy: 0.6475\n",
            "\n",
            "Epoch 00100: val_loss did not improve from 0.97546\n",
            "Epoch 101/10000\n",
            "897/897 [==============================] - 21s 23ms/step - loss: 0.8297 - accuracy: 0.6907 - val_loss: 0.9796 - val_accuracy: 0.6471\n",
            "\n",
            "Epoch 00101: val_loss did not improve from 0.97546\n",
            "Epoch 102/10000\n",
            "897/897 [==============================] - 22s 24ms/step - loss: 0.8308 - accuracy: 0.6910 - val_loss: 0.9792 - val_accuracy: 0.6473\n",
            "\n",
            "Epoch 00102: val_loss did not improve from 0.97546\n",
            "Epoch 103/10000\n",
            "897/897 [==============================] - 21s 24ms/step - loss: 0.8373 - accuracy: 0.6931 - val_loss: 0.9787 - val_accuracy: 0.6474\n",
            "\n",
            "Epoch 00103: val_loss did not improve from 0.97546\n",
            "Epoch 104/10000\n",
            "897/897 [==============================] - 22s 24ms/step - loss: 0.8370 - accuracy: 0.6889 - val_loss: 0.9794 - val_accuracy: 0.6467\n",
            "\n",
            "Epoch 00104: val_loss did not improve from 0.97546\n",
            "Epoch 105/10000\n",
            "897/897 [==============================] - 20s 23ms/step - loss: 0.8326 - accuracy: 0.6914 - val_loss: 0.9791 - val_accuracy: 0.6474\n",
            "\n",
            "Epoch 00105: val_loss did not improve from 0.97546\n",
            "Epoch 106/10000\n",
            "897/897 [==============================] - 21s 23ms/step - loss: 0.8352 - accuracy: 0.6915 - val_loss: 0.9788 - val_accuracy: 0.6480\n",
            "\n",
            "Epoch 00106: val_loss did not improve from 0.97546\n",
            "Epoch 107/10000\n",
            "897/897 [==============================] - 22s 24ms/step - loss: 0.8284 - accuracy: 0.6893 - val_loss: 0.9786 - val_accuracy: 0.6473\n",
            "\n",
            "Epoch 00107: val_loss did not improve from 0.97546\n",
            "\n",
            "Epoch 00107: ReduceLROnPlateau reducing learning rate to 1.0000001111620805e-07.\n",
            "Epoch 108/10000\n",
            "897/897 [==============================] - 21s 24ms/step - loss: 0.8260 - accuracy: 0.6909 - val_loss: 0.9785 - val_accuracy: 0.6484\n",
            "\n",
            "Epoch 00108: val_loss did not improve from 0.97546\n",
            "Epoch 109/10000\n",
            "897/897 [==============================] - 21s 23ms/step - loss: 0.8288 - accuracy: 0.6932 - val_loss: 0.9793 - val_accuracy: 0.6474\n",
            "\n",
            "Epoch 00109: val_loss did not improve from 0.97546\n",
            "Epoch 110/10000\n",
            "897/897 [==============================] - 23s 25ms/step - loss: 0.8421 - accuracy: 0.6877 - val_loss: 0.9797 - val_accuracy: 0.6477\n",
            "\n",
            "Epoch 00110: val_loss did not improve from 0.97546\n",
            "Epoch 111/10000\n",
            "897/897 [==============================] - 22s 24ms/step - loss: 0.8304 - accuracy: 0.6881 - val_loss: 0.9791 - val_accuracy: 0.6477\n",
            "\n",
            "Epoch 00111: val_loss did not improve from 0.97546\n",
            "Epoch 112/10000\n",
            "897/897 [==============================] - 21s 23ms/step - loss: 0.8260 - accuracy: 0.6947 - val_loss: 0.9787 - val_accuracy: 0.6471\n",
            "\n",
            "Epoch 00112: val_loss did not improve from 0.97546\n",
            "Epoch 113/10000\n",
            "897/897 [==============================] - 22s 24ms/step - loss: 0.8373 - accuracy: 0.6917 - val_loss: 0.9785 - val_accuracy: 0.6475\n",
            "\n",
            "Epoch 00113: val_loss did not improve from 0.97546\n",
            "Epoch 114/10000\n",
            "897/897 [==============================] - 21s 24ms/step - loss: 0.8426 - accuracy: 0.6875 - val_loss: 0.9797 - val_accuracy: 0.6466\n",
            "\n",
            "Epoch 00114: val_loss did not improve from 0.97546\n",
            "Epoch 115/10000\n",
            "897/897 [==============================] - 21s 23ms/step - loss: 0.8400 - accuracy: 0.6878 - val_loss: 0.9803 - val_accuracy: 0.6471\n",
            "\n",
            "Epoch 00115: val_loss did not improve from 0.97546\n",
            "Epoch 116/10000\n",
            "897/897 [==============================] - 22s 24ms/step - loss: 0.8408 - accuracy: 0.6831 - val_loss: 0.9793 - val_accuracy: 0.6473\n",
            "\n",
            "Epoch 00116: val_loss did not improve from 0.97546\n",
            "Epoch 117/10000\n",
            "897/897 [==============================] - 22s 24ms/step - loss: 0.8299 - accuracy: 0.6907 - val_loss: 0.9787 - val_accuracy: 0.6473\n",
            "\n",
            "Epoch 00117: val_loss did not improve from 0.97546\n",
            "Epoch 118/10000\n",
            "897/897 [==============================] - 22s 24ms/step - loss: 0.8436 - accuracy: 0.6912 - val_loss: 0.9806 - val_accuracy: 0.6467\n",
            "\n",
            "Epoch 00118: val_loss did not improve from 0.97546\n",
            "Epoch 119/10000\n",
            "897/897 [==============================] - 21s 23ms/step - loss: 0.8339 - accuracy: 0.6912 - val_loss: 0.9796 - val_accuracy: 0.6474\n",
            "\n",
            "Epoch 00119: val_loss did not improve from 0.97546\n",
            "\n",
            "Epoch 00119: ReduceLROnPlateau reducing learning rate to 1.000000082740371e-08.\n",
            "Epoch 120/10000\n",
            "897/897 [==============================] - 21s 23ms/step - loss: 0.8336 - accuracy: 0.6909 - val_loss: 0.9797 - val_accuracy: 0.6471\n",
            "\n",
            "Epoch 00120: val_loss did not improve from 0.97546\n",
            "Epoch 121/10000\n",
            "897/897 [==============================] - 22s 24ms/step - loss: 0.8316 - accuracy: 0.6947 - val_loss: 0.9795 - val_accuracy: 0.6489\n",
            "\n",
            "Epoch 00121: val_loss did not improve from 0.97546\n"
          ],
          "name": "stdout"
        },
        {
          "output_type": "execute_result",
          "data": {
            "text/plain": [
              "<keras.callbacks.History at 0x7fe91a56ed50>"
            ]
          },
          "metadata": {
            "tags": []
          },
          "execution_count": 41
        }
      ]
    },
    {
      "cell_type": "code",
      "metadata": {
        "id": "C8QpqCZ9hAa-"
      },
      "source": [
        "# show training/validation history\n",
        "log_path = 'drive/MyDrive/_emotion_training.log'\n",
        "history = pd.read_csv(log_path)"
      ],
      "execution_count": null,
      "outputs": []
    },
    {
      "cell_type": "code",
      "metadata": {
        "colab": {
          "base_uri": "https://localhost:8080/",
          "height": 573
        },
        "id": "IH_PNb98j7Cd",
        "outputId": "c1e1adf7-8f1f-49d6-b4ac-696d555854f8"
      },
      "source": [
        "import matplotlib.pyplot as plt\n",
        "plt.plot(history['accuracy'])\n",
        "plt.plot(history['val_accuracy'])\n",
        "plt.title('model accuracy')\n",
        "plt.ylabel('accuracy')\n",
        "plt.xlabel('epoch')\n",
        "plt.legend(['train', 'test'], loc='upper left')\n",
        "path = \"drive/MyDrive/Emotion_detection_CNN_acc.jpg\"\n",
        "plt.savefig(dpi=200, fname=path)\n",
        "plt.show()\n",
        "# summarize history for loss\n",
        "plt.plot(history['loss'])\n",
        "plt.plot(history['val_loss'])\n",
        "plt.title('model loss')\n",
        "plt.ylabel('loss')\n",
        "plt.xlabel('epoch')\n",
        "plt.legend(['train', 'test'], loc='upper left')\n",
        "path = \"drive/MyDrive/Emotion_detection_CNN_loss.jpg\"\n",
        "plt.savefig(dpi=200, fname=path)\n",
        "plt.show()"
      ],
      "execution_count": null,
      "outputs": [
        {
          "output_type": "display_data",
          "data": {
            "image/png": "[encoded data removed]",
            "text/plain": [
              "<Figure size 432x288 with 1 Axes>"
            ]
          },
          "metadata": {
            "tags": [],
            "needs_background": "light"
          }
        },
        {
          "output_type": "display_data",
          "data": {
            "image/png": "[encoded data removed]",
            "text/plain": [
              "<Figure size 432x288 with 1 Axes>"
            ]
          },
          "metadata": {
            "tags": [],
            "needs_background": "light"
          }
        }
      ]
    },
    {
      "cell_type": "markdown",
      "metadata": {
        "id": "ZhGUS9clAEAP"
      },
      "source": [
        "Prediction \n"
      ]
    },
    {
      "cell_type": "code",
      "metadata": {
        "id": "NPXZbbu2mHfr"
      },
      "source": [
        "detection_model_path = 'drive/MyDrive/haarcascade_frontalface_default.xml'\n",
        "emotion_model_path = 'drive/MyDrive/_CNN_Trained.102-0.66.hdf5'\n",
        "face_detection = cv2.CascadeClassifier(detection_model_path)\n",
        "emotion_classifier = load_model(emotion_model_path, compile=False)\n",
        "EMOTIONS = [\"angry\" ,\"disgust\",\"scared\", \"happy\", \"sad\", \"surprised\",\n",
        " \"neutral\"]"
      ],
      "execution_count": null,
      "outputs": []
    },
    {
      "cell_type": "code",
      "metadata": {
        "id": "QM7-vAO7ZsIS"
      },
      "source": [
        "from google.colab.patches import cv2_imshow\n",
        "# send path of image [change for frame incase of video]\n",
        "def predict(path):\n",
        "  image = cv2.imread(path)\n",
        "  gray = cv2.cvtColor(image, cv2.COLOR_BGR2GRAY)\n",
        "  faces = face_detection.detectMultiScale(gray,scaleFactor=1.1,minNeighbors=5,minSize=(30,30),flags=cv2.CASCADE_SCALE_IMAGE)\n",
        "  if len(faces) > 0:\n",
        "    # we detect 1 face only for now #index of 0\n",
        "    face = sorted(faces, reverse=True,key=lambda x: (x[2] - x[0]) * (x[3] - x[1]))[0]\n",
        "    (fX, fY, fW, fH) = face\n",
        "    roi = gray[fY:fY + fH, fX:fX + fW]\n",
        "    # cv2_imshow(roi)\n",
        "    roi = cv2.resize(roi, (64, 64))\n",
        "    cv2_imshow(roi)\n",
        "    roi = roi.astype(\"float\") / 255.0\n",
        "    roi = img_to_array(roi)\n",
        "    roi = np.expand_dims(roi, axis=0)\n",
        "    scores = emotion_classifier.predict(roi)\n",
        "    max_emotion_probability = np.max(scores)\n",
        "    label = EMOTIONS[scores.argmax()]\n",
        "    return label, scores,max_emotion_probability"
      ],
      "execution_count": null,
      "outputs": []
    },
    {
      "cell_type": "code",
      "metadata": {
        "colab": {
          "base_uri": "https://localhost:8080/",
          "height": 115
        },
        "id": "ubcYx0EfAJQL",
        "outputId": "c473fd99-9e02-4e39-cd1f-d636f2b7d94d"
      },
      "source": [
        "# image = cv2.imread(\"/img.png\")\n",
        "image_path = \"/img1.png\"\n",
        "label,scores,emotion_probability = predict(image_path)\n",
        "print(label,scores,emotion_probability)"
      ],
      "execution_count": null,
      "outputs": [
        {
          "output_type": "display_data",
          "data": {
            "image/png": "[encoded data removed]",
            "text/plain": [
              "<PIL.Image.Image image mode=L size=64x64 at 0x7FEFEEC99D90>"
            ]
          },
          "metadata": {
            "tags": []
          }
        },
        {
          "output_type": "stream",
          "text": [
            "happy [[3.7980956e-04 5.4927114e-06 4.0598535e-03 8.8656670e-01 8.5241132e-04\n",
            "  6.2404497e-04 1.0751165e-01]] 0.8865667\n"
          ],
          "name": "stdout"
        }
      ]
    },
    {
      "cell_type": "code",
      "metadata": {
        "colab": {
          "base_uri": "https://localhost:8080/",
          "height": 115
        },
        "id": "W9Z_gsRWeQtP",
        "outputId": "f431f2ce-3a54-44a1-d1b3-e1e03179ef13"
      },
      "source": [
        "image_path = \"/img2.png\"\n",
        "label,scores,emotion_probability = predict(image_path)\n",
        "print(label,scores,emotion_probability)"
      ],
      "execution_count": null,
      "outputs": [
        {
          "output_type": "display_data",
          "data": {
            "image/png": "[encoded data removed]",
            "text/plain": [
              "<PIL.Image.Image image mode=L size=64x64 at 0x7FEFEFFBCE10>"
            ]
          },
          "metadata": {
            "tags": []
          }
        },
        {
          "output_type": "stream",
          "text": [
            "neutral [[5.6911372e-02 6.7730769e-05 1.3008487e-01 1.9900111e-02 6.7562379e-02\n",
            "  8.1523908e-03 7.1732116e-01]] 0.71732116\n"
          ],
          "name": "stdout"
        }
      ]
    },
    {
      "cell_type": "code",
      "metadata": {
        "colab": {
          "base_uri": "https://localhost:8080/",
          "height": 115
        },
        "id": "fqUM1YiReefp",
        "outputId": "f4ae11e4-43fd-4aa3-f512-284b45aa54a8"
      },
      "source": [
        "image_path = \"/img3.png\"\n",
        "label,scores,emotion_probability = predict(image_path)\n",
        "print(label,scores,emotion_probability)"
      ],
      "execution_count": null,
      "outputs": [
        {
          "output_type": "display_data",
          "data": {
            "image/png": "[encoded data removed]",
            "text/plain": [
              "<PIL.Image.Image image mode=L size=64x64 at 0x7FEFEF05E890>"
            ]
          },
          "metadata": {
            "tags": []
          }
        },
        {
          "output_type": "stream",
          "text": [
            "surprised [[3.4827335e-05 5.9346405e-08 8.0771174e-04 2.5797067e-06 1.8890778e-05\n",
            "  9.9912792e-01 7.9740676e-06]] 0.9991279\n"
          ],
          "name": "stdout"
        }
      ]
    },
    {
      "cell_type": "code",
      "metadata": {
        "colab": {
          "base_uri": "https://localhost:8080/",
          "height": 115
        },
        "id": "Q_YdopRUeiUT",
        "outputId": "d7a72791-a577-4307-e6a2-b6c19d84df89"
      },
      "source": [
        "image_path = \"/img4.png\"\n",
        "label,scores,emotion_probability = predict(image_path)\n",
        "print(label,scores,emotion_probability)"
      ],
      "execution_count": null,
      "outputs": [
        {
          "output_type": "display_data",
          "data": {
            "image/png": "[encoded data removed]",
            "text/plain": [
              "<PIL.Image.Image image mode=L size=64x64 at 0x7FEFEED20910>"
            ]
          },
          "metadata": {
            "tags": []
          }
        },
        {
          "output_type": "stream",
          "text": [
            "angry [[7.2753572e-01 5.2474916e-04 5.5359561e-02 1.9778685e-05 1.5787219e-01\n",
            "  6.3577695e-03 5.2330203e-02]] 0.7275357\n"
          ],
          "name": "stdout"
        }
      ]
    },
    {
      "cell_type": "code",
      "metadata": {
        "colab": {
          "base_uri": "https://localhost:8080/",
          "height": 115
        },
        "id": "c3bCoDrwfwtp",
        "outputId": "b0ac71c3-daed-4da2-c6d1-947424b632ac"
      },
      "source": [
        "image_path = \"/img5.png\"\n",
        "label,scores,emotion_probability = predict(image_path)\n",
        "print(label,scores,emotion_probability)"
      ],
      "execution_count": null,
      "outputs": [
        {
          "output_type": "display_data",
          "data": {
            "image/png": "[encoded data removed]",
            "text/plain": [
              "<PIL.Image.Image image mode=L size=64x64 at 0x7FEFF0016B10>"
            ]
          },
          "metadata": {
            "tags": []
          }
        },
        {
          "output_type": "stream",
          "text": [
            "sad [[1.3185941e-01 6.3354964e-05 1.0466852e-01 1.0979351e-03 5.8813566e-01\n",
            "  3.1423628e-02 1.4275150e-01]] 0.58813566\n"
          ],
          "name": "stdout"
        }
      ]
    },
    {
      "cell_type": "code",
      "metadata": {
        "id": "5vCFmquofy3r"
      },
      "source": [
        "from google.colab.patches import cv2_imshow\n",
        "# send path of image [change for frame incase of video]\n",
        "def predict(path):\n",
        "  image = cv2.imread(path)\n",
        "  gray = cv2.cvtColor(image, cv2.COLOR_BGR2GRAY)\n",
        "  faces = face_detection.detectMultiScale(gray,scaleFactor=1.1,minNeighbors=5,minSize=(30,30),flags=cv2.CASCADE_SCALE_IMAGE)\n",
        "  if len(faces) > 0:\n",
        "    # we detect 1 face only for now #index of 0\n",
        "    face = sorted(faces, reverse=True,key=lambda x: (x[2] - x[0]) * (x[3] - x[1]))[0]\n",
        "    (fX, fY, fW, fH) = face\n",
        "    roi = gray[fY:fY + fH, fX:fX + fW]\n",
        "    # cv2_imshow(roi)\n",
        "    roi = cv2.resize(roi, (64, 64))\n",
        "    cv2_imshow(roi)\n",
        "    roi = roi.astype(\"float\") / 255.0\n",
        "    roi = img_to_array(roi)\n",
        "    roi = np.expand_dims(roi, axis=0)\n",
        "    scores = emotion_classifier.predict(roi)\n",
        "    max_emotion_probability = np.max(scores)\n",
        "    label = EMOTIONS[scores.argmax()]\n",
        "    return label, scores,max_emotion_probability"
      ],
      "execution_count": null,
      "outputs": []
    }
  ]
}