{
  "nbformat": 4,
  "nbformat_minor": 0,
  "metadata": {
    "colab": {
      "name": "Personality_Analysis_four_models.ipynb",
      "provenance": [],
      "collapsed_sections": []
    },
    "kernelspec": {
      "name": "python3",
      "display_name": "Python 3"
    },
    "language_info": {
      "name": "python"
    }
  },
  "cells": [
    {
      "cell_type": "markdown",
      "metadata": {
        "id": "PW3mNAYRaaR-"
      },
      "source": [
        "# this notebook covers personlity analysis based on text using (MBTI) psychological model by making 4 models for each spectrum/field.\n"
      ]
    },
    {
      "cell_type": "markdown",
      "metadata": {
        "id": "K7yMNJYtccVA"
      },
      "source": [
        "### the notebook goes through:\n",
        "- #### Discovering data, cleaning it.\n",
        "- #### Constucting models.\n",
        "- #### Training models.\n",
        "- #### Testing  models and evaluating their results.\n",
        "- #### Calculating some metrics like confusion matrix.\n"
      ]
    },
    {
      "cell_type": "markdown",
      "metadata": {
        "id": "mOxfwVnvUbEj"
      },
      "source": [
        "#### Importing packages and libraries for prepocessing\n"
      ]
    },
    {
      "cell_type": "code",
      "metadata": {
        "colab": {
          "base_uri": "https://localhost:8080/"
        },
        "id": "9snfaElahZlf",
        "outputId": "ab6f98f5-eba6-454e-a599-e2efb85c0b31"
      },
      "source": [
        "# Needed to install first\n",
        "!pip install transformers\n",
        "# Packages needed to be downloaded once\n",
        "import nltk           # used for cleaning the dataset\n",
        "nltk.download('punkt')\n",
        "nltk.download('averaged_perceptron_tagger')\n",
        "nltk.download('maxent_ne_chunker')\n",
        "nltk.download('words')\n",
        "nltk.download('stopwords')\n",
        "nltk.download('wordnet')\n",
        "\n",
        "# lists of words needed to be loaded once\n",
        "stop_words = set(nltk.corpus.stopwords.words('english'))\n",
        "# for lemmatization\n",
        "wnl = nltk.WordNetLemmatizer()"
      ],
      "execution_count": null,
      "outputs": [
        {
          "output_type": "stream",
          "text": [
            "Collecting transformers\n",
            "  Downloading transformers-4.9.0-py3-none-any.whl (2.6 MB)\n",
            "\u001b[K     |████████████████████████████████| 2.6 MB 5.2 MB/s \n",
            "\u001b[?25hCollecting tokenizers<0.11,>=0.10.1\n",
            "  Downloading tokenizers-0.10.3-cp37-cp37m-manylinux_2_5_x86_64.manylinux1_x86_64.manylinux_2_12_x86_64.manylinux2010_x86_64.whl (3.3 MB)\n",
            "\u001b[K     |████████████████████████████████| 3.3 MB 37.1 MB/s \n",
            "\u001b[?25hCollecting huggingface-hub==0.0.12\n",
            "  Downloading huggingface_hub-0.0.12-py3-none-any.whl (37 kB)\n",
            "Requirement already satisfied: tqdm>=4.27 in /usr/local/lib/python3.7/dist-packages (from transformers) (4.41.1)\n",
            "Requirement already satisfied: numpy>=1.17 in /usr/local/lib/python3.7/dist-packages (from transformers) (1.19.5)\n",
            "Requirement already satisfied: requests in /usr/local/lib/python3.7/dist-packages (from transformers) (2.23.0)\n",
            "Requirement already satisfied: packaging in /usr/local/lib/python3.7/dist-packages (from transformers) (21.0)\n",
            "Collecting sacremoses\n",
            "  Downloading sacremoses-0.0.45-py3-none-any.whl (895 kB)\n",
            "\u001b[K     |████████████████████████████████| 895 kB 45.0 MB/s \n",
            "\u001b[?25hCollecting pyyaml>=5.1\n",
            "  Downloading PyYAML-5.4.1-cp37-cp37m-manylinux1_x86_64.whl (636 kB)\n",
            "\u001b[K     |████████████████████████████████| 636 kB 34.5 MB/s \n",
            "\u001b[?25hRequirement already satisfied: importlib-metadata in /usr/local/lib/python3.7/dist-packages (from transformers) (4.6.1)\n",
            "Requirement already satisfied: regex!=2019.12.17 in /usr/local/lib/python3.7/dist-packages (from transformers) (2019.12.20)\n",
            "Requirement already satisfied: filelock in /usr/local/lib/python3.7/dist-packages (from transformers) (3.0.12)\n",
            "Requirement already satisfied: typing-extensions in /usr/local/lib/python3.7/dist-packages (from huggingface-hub==0.0.12->transformers) (3.7.4.3)\n",
            "Requirement already satisfied: pyparsing>=2.0.2 in /usr/local/lib/python3.7/dist-packages (from packaging->transformers) (2.4.7)\n",
            "Requirement already satisfied: zipp>=0.5 in /usr/local/lib/python3.7/dist-packages (from importlib-metadata->transformers) (3.5.0)\n",
            "Requirement already satisfied: certifi>=2017.4.17 in /usr/local/lib/python3.7/dist-packages (from requests->transformers) (2021.5.30)\n",
            "Requirement already satisfied: idna<3,>=2.5 in /usr/local/lib/python3.7/dist-packages (from requests->transformers) (2.10)\n",
            "Requirement already satisfied: urllib3!=1.25.0,!=1.25.1,<1.26,>=1.21.1 in /usr/local/lib/python3.7/dist-packages (from requests->transformers) (1.24.3)\n",
            "Requirement already satisfied: chardet<4,>=3.0.2 in /usr/local/lib/python3.7/dist-packages (from requests->transformers) (3.0.4)\n",
            "Requirement already satisfied: six in /usr/local/lib/python3.7/dist-packages (from sacremoses->transformers) (1.15.0)\n",
            "Requirement already satisfied: click in /usr/local/lib/python3.7/dist-packages (from sacremoses->transformers) (7.1.2)\n",
            "Requirement already satisfied: joblib in /usr/local/lib/python3.7/dist-packages (from sacremoses->transformers) (1.0.1)\n",
            "Installing collected packages: tokenizers, sacremoses, pyyaml, huggingface-hub, transformers\n",
            "  Attempting uninstall: pyyaml\n",
            "    Found existing installation: PyYAML 3.13\n",
            "    Uninstalling PyYAML-3.13:\n",
            "      Successfully uninstalled PyYAML-3.13\n",
            "Successfully installed huggingface-hub-0.0.12 pyyaml-5.4.1 sacremoses-0.0.45 tokenizers-0.10.3 transformers-4.9.0\n",
            "[nltk_data] Downloading package punkt to /root/nltk_data...\n",
            "[nltk_data]   Unzipping tokenizers/punkt.zip.\n",
            "[nltk_data] Downloading package averaged_perceptron_tagger to\n",
            "[nltk_data]     /root/nltk_data...\n",
            "[nltk_data]   Unzipping taggers/averaged_perceptron_tagger.zip.\n",
            "[nltk_data] Downloading package maxent_ne_chunker to\n",
            "[nltk_data]     /root/nltk_data...\n",
            "[nltk_data]   Unzipping chunkers/maxent_ne_chunker.zip.\n",
            "[nltk_data] Downloading package words to /root/nltk_data...\n",
            "[nltk_data]   Unzipping corpora/words.zip.\n",
            "[nltk_data] Downloading package stopwords to /root/nltk_data...\n",
            "[nltk_data]   Unzipping corpora/stopwords.zip.\n",
            "[nltk_data] Downloading package wordnet to /root/nltk_data...\n",
            "[nltk_data]   Unzipping corpora/wordnet.zip.\n"
          ],
          "name": "stdout"
        }
      ]
    },
    {
      "cell_type": "code",
      "metadata": {
        "id": "zOntTAt5ZQ6p"
      },
      "source": [
        ""
      ],
      "execution_count": null,
      "outputs": []
    },
    {
      "cell_type": "markdown",
      "metadata": {
        "id": "xxbvY546aFUz"
      },
      "source": [
        "#### importing packages and libraries for maths, plots and file access"
      ]
    },
    {
      "cell_type": "code",
      "metadata": {
        "id": "y6XqsHJ-iELN"
      },
      "source": [
        "# Global imports\n",
        "import numpy as np            # linear algebra\n",
        "import pandas as pd           # data processing, CSV file I/O \n",
        "import os                     # to access files on hard disk\n",
        "import collections            # used for faster STL dictionaries and queues\n",
        "import transformers as tf     # the main framework/library for training the AI model\n",
        "import matplotlib.pyplot as plt   # for plotting\n",
        "import csv                    # for handling csv files\n",
        "import string                 # data cleansing\n",
        "import re                     # data cleansing\n",
        "from tensorflow.keras.preprocessing.text import Tokenizer         # for tokenizer\n",
        "from tensorflow.keras.preprocessing.sequence import pad_sequences # for padding the sequences\n",
        "from sklearn.model_selection import train_test_split\n",
        "\n"
      ],
      "execution_count": null,
      "outputs": []
    },
    {
      "cell_type": "markdown",
      "metadata": {
        "id": "FnDmxKqxaWNy"
      },
      "source": [
        "#### making google colab accesses google drive"
      ]
    },
    {
      "cell_type": "code",
      "metadata": {
        "colab": {
          "base_uri": "https://localhost:8080/"
        },
        "id": "Nb8J8lxgiOYi",
        "outputId": "36036c52-880f-4afd-f9e5-f4e29f77d55f"
      },
      "source": [
        "# Access drive\n",
        "from google.colab import drive\n",
        "drive.mount('/content/drive')"
      ],
      "execution_count": null,
      "outputs": [
        {
          "output_type": "stream",
          "text": [
            "Mounted at /content/drive\n"
          ],
          "name": "stdout"
        }
      ]
    },
    {
      "cell_type": "markdown",
      "metadata": {
        "id": "5fYEnrj9dTXl"
      },
      "source": [
        "#### checking if the file exists or not, if so load it."
      ]
    },
    {
      "cell_type": "code",
      "metadata": {
        "id": "ZJTPIu-2icRB"
      },
      "source": [
        "# Read data\n",
        "# As readme suggests, download the dataset kaagle.csv first.\n",
        "if not os.path.exists(\"drive/MyDrive/kaggle.csv\"):\n",
        "  print (\"Error 101: Data does not exist! Download it first.\")\n",
        "data = pd.read_csv(\"drive/MyDrive/kaggle.csv\")\n",
        "\n"
      ],
      "execution_count": null,
      "outputs": []
    },
    {
      "cell_type": "markdown",
      "metadata": {
        "id": "Sn-7GEq7divC"
      },
      "source": [
        "#### showing some data statistics"
      ]
    },
    {
      "cell_type": "code",
      "metadata": {
        "colab": {
          "base_uri": "https://localhost:8080/",
          "height": 295
        },
        "id": "RHIwKDygi8FI",
        "outputId": "5a9fe2d7-0cbc-4176-e83f-a926d5c6a041"
      },
      "source": [
        "# Preview data summary\n",
        "data.describe()"
      ],
      "execution_count": null,
      "outputs": [
        {
          "output_type": "execute_result",
          "data": {
            "text/html": [
              "<div>\n",
              "<style scoped>\n",
              "    .dataframe tbody tr th:only-of-type {\n",
              "        vertical-align: middle;\n",
              "    }\n",
              "\n",
              "    .dataframe tbody tr th {\n",
              "        vertical-align: top;\n",
              "    }\n",
              "\n",
              "    .dataframe thead th {\n",
              "        text-align: right;\n",
              "    }\n",
              "</style>\n",
              "<table border=\"1\" class=\"dataframe\">\n",
              "  <thead>\n",
              "    <tr style=\"text-align: right;\">\n",
              "      <th></th>\n",
              "      <th>split</th>\n",
              "      <th>id</th>\n",
              "    </tr>\n",
              "  </thead>\n",
              "  <tbody>\n",
              "    <tr>\n",
              "      <th>count</th>\n",
              "      <td>8675.000000</td>\n",
              "      <td>8675.000000</td>\n",
              "    </tr>\n",
              "    <tr>\n",
              "      <th>mean</th>\n",
              "      <td>3.992392</td>\n",
              "      <td>4337.000000</td>\n",
              "    </tr>\n",
              "    <tr>\n",
              "      <th>std</th>\n",
              "      <td>2.563591</td>\n",
              "      <td>2504.401126</td>\n",
              "    </tr>\n",
              "    <tr>\n",
              "      <th>min</th>\n",
              "      <td>0.000000</td>\n",
              "      <td>0.000000</td>\n",
              "    </tr>\n",
              "    <tr>\n",
              "      <th>25%</th>\n",
              "      <td>2.000000</td>\n",
              "      <td>2168.500000</td>\n",
              "    </tr>\n",
              "    <tr>\n",
              "      <th>50%</th>\n",
              "      <td>4.000000</td>\n",
              "      <td>4337.000000</td>\n",
              "    </tr>\n",
              "    <tr>\n",
              "      <th>75%</th>\n",
              "      <td>6.000000</td>\n",
              "      <td>6505.500000</td>\n",
              "    </tr>\n",
              "    <tr>\n",
              "      <th>max</th>\n",
              "      <td>8.000000</td>\n",
              "      <td>8674.000000</td>\n",
              "    </tr>\n",
              "  </tbody>\n",
              "</table>\n",
              "</div>"
            ],
            "text/plain": [
              "             split           id\n",
              "count  8675.000000  8675.000000\n",
              "mean      3.992392  4337.000000\n",
              "std       2.563591  2504.401126\n",
              "min       0.000000     0.000000\n",
              "25%       2.000000  2168.500000\n",
              "50%       4.000000  4337.000000\n",
              "75%       6.000000  6505.500000\n",
              "max       8.000000  8674.000000"
            ]
          },
          "metadata": {
            "tags": []
          },
          "execution_count": 5
        }
      ]
    },
    {
      "cell_type": "markdown",
      "metadata": {
        "id": "i0rXMLumdpTG"
      },
      "source": [
        "#### showing first 10 samples of the data"
      ]
    },
    {
      "cell_type": "code",
      "metadata": {
        "colab": {
          "base_uri": "https://localhost:8080/",
          "height": 374
        },
        "id": "tiw0pVbVjGVy",
        "outputId": "75d686fe-7fff-46cd-a8d7-bf72148533be"
      },
      "source": [
        "# data shape and content\n",
        "print(f'Shape of data: {data.shape}')\n",
        "data.head(10)"
      ],
      "execution_count": null,
      "outputs": [
        {
          "output_type": "stream",
          "text": [
            "Shape of data: (8675, 4)\n"
          ],
          "name": "stdout"
        },
        {
          "output_type": "execute_result",
          "data": {
            "text/html": [
              "<div>\n",
              "<style scoped>\n",
              "    .dataframe tbody tr th:only-of-type {\n",
              "        vertical-align: middle;\n",
              "    }\n",
              "\n",
              "    .dataframe tbody tr th {\n",
              "        vertical-align: top;\n",
              "    }\n",
              "\n",
              "    .dataframe thead th {\n",
              "        text-align: right;\n",
              "    }\n",
              "</style>\n",
              "<table border=\"1\" class=\"dataframe\">\n",
              "  <thead>\n",
              "    <tr style=\"text-align: right;\">\n",
              "      <th></th>\n",
              "      <th>type</th>\n",
              "      <th>text</th>\n",
              "      <th>split</th>\n",
              "      <th>id</th>\n",
              "    </tr>\n",
              "  </thead>\n",
              "  <tbody>\n",
              "    <tr>\n",
              "      <th>0</th>\n",
              "      <td>INFJ</td>\n",
              "      <td>'http://www.youtube.com/watch?v=qsXHcwe3krw|||...</td>\n",
              "      <td>5</td>\n",
              "      <td>0</td>\n",
              "    </tr>\n",
              "    <tr>\n",
              "      <th>1</th>\n",
              "      <td>ENTP</td>\n",
              "      <td>'I'm finding the lack of me in these posts ver...</td>\n",
              "      <td>4</td>\n",
              "      <td>1</td>\n",
              "    </tr>\n",
              "    <tr>\n",
              "      <th>2</th>\n",
              "      <td>INTP</td>\n",
              "      <td>'Good one  _____   https://www.youtube.com/wat...</td>\n",
              "      <td>2</td>\n",
              "      <td>2</td>\n",
              "    </tr>\n",
              "    <tr>\n",
              "      <th>3</th>\n",
              "      <td>INTJ</td>\n",
              "      <td>'Dear INTP,   I enjoyed our conversation the o...</td>\n",
              "      <td>2</td>\n",
              "      <td>3</td>\n",
              "    </tr>\n",
              "    <tr>\n",
              "      <th>4</th>\n",
              "      <td>ENTJ</td>\n",
              "      <td>'You're fired.|||That's another silly misconce...</td>\n",
              "      <td>1</td>\n",
              "      <td>4</td>\n",
              "    </tr>\n",
              "    <tr>\n",
              "      <th>5</th>\n",
              "      <td>INTJ</td>\n",
              "      <td>'18/37 @.@|||Science  is not perfect. No scien...</td>\n",
              "      <td>8</td>\n",
              "      <td>5</td>\n",
              "    </tr>\n",
              "    <tr>\n",
              "      <th>6</th>\n",
              "      <td>INFJ</td>\n",
              "      <td>'No, I can't draw on my own nails (haha). Thos...</td>\n",
              "      <td>0</td>\n",
              "      <td>6</td>\n",
              "    </tr>\n",
              "    <tr>\n",
              "      <th>7</th>\n",
              "      <td>INTJ</td>\n",
              "      <td>'I tend to build up a collection of things on ...</td>\n",
              "      <td>5</td>\n",
              "      <td>7</td>\n",
              "    </tr>\n",
              "    <tr>\n",
              "      <th>8</th>\n",
              "      <td>INFJ</td>\n",
              "      <td>I'm not sure, that's a good question. The dist...</td>\n",
              "      <td>0</td>\n",
              "      <td>8</td>\n",
              "    </tr>\n",
              "    <tr>\n",
              "      <th>9</th>\n",
              "      <td>INTP</td>\n",
              "      <td>'https://www.youtube.com/watch?v=w8-egj0y8Qs||...</td>\n",
              "      <td>5</td>\n",
              "      <td>9</td>\n",
              "    </tr>\n",
              "  </tbody>\n",
              "</table>\n",
              "</div>"
            ],
            "text/plain": [
              "   type                                               text  split  id\n",
              "0  INFJ  'http://www.youtube.com/watch?v=qsXHcwe3krw|||...      5   0\n",
              "1  ENTP  'I'm finding the lack of me in these posts ver...      4   1\n",
              "2  INTP  'Good one  _____   https://www.youtube.com/wat...      2   2\n",
              "3  INTJ  'Dear INTP,   I enjoyed our conversation the o...      2   3\n",
              "4  ENTJ  'You're fired.|||That's another silly misconce...      1   4\n",
              "5  INTJ  '18/37 @.@|||Science  is not perfect. No scien...      8   5\n",
              "6  INFJ  'No, I can't draw on my own nails (haha). Thos...      0   6\n",
              "7  INTJ  'I tend to build up a collection of things on ...      5   7\n",
              "8  INFJ  I'm not sure, that's a good question. The dist...      0   8\n",
              "9  INTP  'https://www.youtube.com/watch?v=w8-egj0y8Qs||...      5   9"
            ]
          },
          "metadata": {
            "tags": []
          },
          "execution_count": 101
        }
      ]
    },
    {
      "cell_type": "markdown",
      "metadata": {
        "id": "PjFgomIRdyX2"
      },
      "source": [
        "#### saving the proportions/ratio of each class of the data"
      ]
    },
    {
      "cell_type": "code",
      "metadata": {
        "id": "U_bacjzejaVl"
      },
      "source": [
        "# id and split are not important, remove them\n",
        "data = data.iloc[:,:2]\n",
        "# types\n",
        "types = np.unique(data.type.values)\n",
        "# the actual existence of proportional types\n",
        "MBTI_TO_FREQUENCY_DICT_ACTUAL = {\n",
        "    \"ISTJ\": 0.11,\n",
        "    \"ISFJ\": 0.09,\n",
        "    \"INFJ\": 0.04,\n",
        "    \"INTJ\": 0.05,\n",
        "    \"ISTP\": 0.05,\n",
        "    \"ISFP\": 0.05,\n",
        "    \"INFP\": 0.06,\n",
        "    \"INTP\": 0.06,\n",
        "    \"ESTP\": 0.04,\n",
        "    \"ESFP\": 0.04,\n",
        "    \"ENFP\": 0.08,\n",
        "    \"ENTP\": 0.06,\n",
        "    \"ESTJ\": 0.08,\n",
        "    \"ESFJ\": 0.09,\n",
        "    \"ENFJ\": 0.05,\n",
        "    \"ENTJ\": 0.05,\n",
        "}"
      ],
      "execution_count": null,
      "outputs": []
    },
    {
      "cell_type": "markdown",
      "metadata": {
        "id": "T_G684hSd6M4"
      },
      "source": [
        "#### plotting the histogram of the data classes"
      ]
    },
    {
      "cell_type": "code",
      "metadata": {
        "colab": {
          "base_uri": "https://localhost:8080/",
          "height": 404
        },
        "id": "lsv-l251jSV9",
        "outputId": "a14bc56a-0771-4512-97ae-d5e352b988cc"
      },
      "source": [
        "# Data statistics\n",
        "# Plot distribiution of data\n",
        "\n",
        "def plot_count():\n",
        "  # First, count each type of the 16\n",
        "  counts = collections.defaultdict(int)\n",
        "  for mbti in data[\"type\"]:\n",
        "      counts[mbti] += 1\n",
        "\n",
        "  freq = {}\n",
        "  size = data.shape[0]\n",
        "  for mbti in types:\n",
        "    freq[mbti] = counts[mbti]/size\n",
        "\n",
        "  colors = ['#ff8888', \"#ffdda8\", \"#f9ff93\", \"#d5ffb5\", \"#b3fdff\", \"violet\" ]\n",
        "  counts_sorted = sorted(counts.values(), reverse=True) \n",
        "  plt.rcParams[\"figure.figsize\"] = (12, 6)\n",
        "  plt.bar(types, counts_sorted, color=colors)\n",
        "  plt.xlabel(\"Types\")\n",
        "  plt.ylabel(\"Count in Dataset\")\n",
        "  plt.title(\"The frequency of targets in the dataset\")\n",
        "  plt.savefig(dpi=150, fname=\"freq_of_targets.jpg\")\n",
        "  plt.show()\n",
        "\n",
        "plot_count()"
      ],
      "execution_count": null,
      "outputs": [
        {
          "output_type": "display_data",
          "data": {
            "image/png": "[encoded data removed]",
            "text/plain": [
              "<Figure size 864x432 with 1 Axes>"
            ]
          },
          "metadata": {
            "tags": [],
            "needs_background": "light"
          }
        }
      ]
    },
    {
      "cell_type": "markdown",
      "metadata": {
        "id": "oDjqnZKBeWBP"
      },
      "source": [
        "#### converting biased data into unbiased and noramlized one"
      ]
    },
    {
      "cell_type": "code",
      "metadata": {
        "id": "hM1j3LptuKLY"
      },
      "source": [
        "# Handling the skew of data compared to its originally expected values\n",
        "\n",
        "def store_cleaned_data():\n",
        "  # Then, count the least portion of it, compared to its real/actual value\n",
        "  limiting_type = None\n",
        "  min_size = float(\"infinity\")\n",
        "  for mbti in counts.keys():\n",
        "      size = counts[mbti] / MBTI_TO_FREQUENCY_DICT_ACTUAL[mbti]\n",
        "      if size < min_size:\n",
        "          min_size = size\n",
        "          limiting_type = mbti\n",
        "\n",
        "  # Store dataset as default dictionary\n",
        "  dic = collections.defaultdict(list)\n",
        "  for index, row in data.iterrows():\n",
        "      dic[row[\"type\"]].append(row)\n",
        "\n",
        "  # Save clean dataset for later processing\n",
        "  unclean_list = []\n",
        "  if not os.path.exists(\"drive/MyDrive/data_csv\"):\n",
        "    os.mkdir(\"drive/MyDrive/data_csv\")\n",
        "  with open(\"drive/MyDrive/data_csv/data_clean.csv\", \"w\") as f:\n",
        "      writer = csv.writer(f)\n",
        "      writer.writerow([\"type\", \"text\"])\n",
        "\n",
        "      for mbti in MBTI_TO_FREQUENCY_DICT_ACTUAL.keys():\n",
        "          list1 = dic[mbti]\n",
        "          for x in range(0, int(round(min_size * MBTI_TO_FREQUENCY_DICT_ACTUAL[mbti]))):\n",
        "              writer.writerow(list1[x])\n",
        "          unclean_list.append(\n",
        "              list1[int(round(min_size * MBTI_TO_FREQUENCY_DICT_ACTUAL[mbti])) : len(list1)]\n",
        "          )"
      ],
      "execution_count": null,
      "outputs": []
    },
    {
      "cell_type": "code",
      "metadata": {
        "colab": {
          "base_uri": "https://localhost:8080/",
          "height": 374
        },
        "id": "epQGNuKLnYVG",
        "outputId": "6e540310-b825-49fa-ef5e-937c2ddb651f"
      },
      "source": [
        "import copy\n",
        "# Fetch clean data\n",
        "if not os.path.exists(\"drive/MyDrive/data_csv/data_clean.csv\"):\n",
        "  print (\"Storing cleaned data...\")\n",
        "  store_cleaned_data()\n",
        "\n",
        "data = pd.read_csv(\"drive/MyDrive/data_csv/data_clean.csv\")\n",
        "# data shape and content\n",
        "print(f'Shape of data: {data.shape}')\n",
        "data.head(10)"
      ],
      "execution_count": null,
      "outputs": [
        {
          "output_type": "stream",
          "text": [
            "Shape of data: (465, 2)\n"
          ],
          "name": "stdout"
        },
        {
          "output_type": "execute_result",
          "data": {
            "text/html": [
              "<div>\n",
              "<style scoped>\n",
              "    .dataframe tbody tr th:only-of-type {\n",
              "        vertical-align: middle;\n",
              "    }\n",
              "\n",
              "    .dataframe tbody tr th {\n",
              "        vertical-align: top;\n",
              "    }\n",
              "\n",
              "    .dataframe thead th {\n",
              "        text-align: right;\n",
              "    }\n",
              "</style>\n",
              "<table border=\"1\" class=\"dataframe\">\n",
              "  <thead>\n",
              "    <tr style=\"text-align: right;\">\n",
              "      <th></th>\n",
              "      <th>type</th>\n",
              "      <th>posts</th>\n",
              "    </tr>\n",
              "  </thead>\n",
              "  <tbody>\n",
              "    <tr>\n",
              "      <th>0</th>\n",
              "      <td>ISTJ</td>\n",
              "      <td>'Newton's Universal Gravity Law. I mean seriou...</td>\n",
              "    </tr>\n",
              "    <tr>\n",
              "      <th>1</th>\n",
              "      <td>ISTJ</td>\n",
              "      <td>'I never understood for a long time why people...</td>\n",
              "    </tr>\n",
              "    <tr>\n",
              "      <th>2</th>\n",
              "      <td>ISTJ</td>\n",
              "      <td>'If it's not what you expected, try browns ins...</td>\n",
              "    </tr>\n",
              "    <tr>\n",
              "      <th>3</th>\n",
              "      <td>ISTJ</td>\n",
              "      <td>'0 at 29. Can't see why I should keep it a sec...</td>\n",
              "    </tr>\n",
              "    <tr>\n",
              "      <th>4</th>\n",
              "      <td>ISTJ</td>\n",
              "      <td>'ISTJ in university here, currently employed a...</td>\n",
              "    </tr>\n",
              "    <tr>\n",
              "      <th>5</th>\n",
              "      <td>ISTJ</td>\n",
              "      <td>'You can say that about a lot of online tests....</td>\n",
              "    </tr>\n",
              "    <tr>\n",
              "      <th>6</th>\n",
              "      <td>ISTJ</td>\n",
              "      <td>'When I am depressed I tend to totally stop ca...</td>\n",
              "    </tr>\n",
              "    <tr>\n",
              "      <th>7</th>\n",
              "      <td>ISTJ</td>\n",
              "      <td>'I really am coming to detest online dating si...</td>\n",
              "    </tr>\n",
              "    <tr>\n",
              "      <th>8</th>\n",
              "      <td>ISTJ</td>\n",
              "      <td>I initially thought that she was INFP, as she ...</td>\n",
              "    </tr>\n",
              "    <tr>\n",
              "      <th>9</th>\n",
              "      <td>ISTJ</td>\n",
              "      <td>'Her and I have known each other for over 4 ye...</td>\n",
              "    </tr>\n",
              "  </tbody>\n",
              "</table>\n",
              "</div>"
            ],
            "text/plain": [
              "   type                                              posts\n",
              "0  ISTJ  'Newton's Universal Gravity Law. I mean seriou...\n",
              "1  ISTJ  'I never understood for a long time why people...\n",
              "2  ISTJ  'If it's not what you expected, try browns ins...\n",
              "3  ISTJ  '0 at 29. Can't see why I should keep it a sec...\n",
              "4  ISTJ  'ISTJ in university here, currently employed a...\n",
              "5  ISTJ  'You can say that about a lot of online tests....\n",
              "6  ISTJ  'When I am depressed I tend to totally stop ca...\n",
              "7  ISTJ  'I really am coming to detest online dating si...\n",
              "8  ISTJ  I initially thought that she was INFP, as she ...\n",
              "9  ISTJ  'Her and I have known each other for over 4 ye..."
            ]
          },
          "metadata": {
            "tags": []
          },
          "execution_count": 8
        }
      ]
    },
    {
      "cell_type": "markdown",
      "metadata": {
        "id": "1OYIIMmXenSL"
      },
      "source": [
        "#### plotting the data after converting to unbiased"
      ]
    },
    {
      "cell_type": "code",
      "metadata": {
        "colab": {
          "base_uri": "https://localhost:8080/",
          "height": 682
        },
        "id": "MZpepVR1wKjT",
        "outputId": "13ba7330-00f3-4b0c-8420-b1f6273480ae"
      },
      "source": [
        "plot_count()\n",
        "# colors = ['#ff8888', \"#ffdda8\", \"#f9ff93\", \"#d5ffb5\", \"#b3fdff\", \"violet\" ]\n",
        "freq_sorted = sorted(MBTI_TO_FREQUENCY_DICT_ACTUAL.values(), reverse=True) \n",
        "plt.rcParams[\"figure.figsize\"] = (8,4)\n",
        "plt.bar(types, freq_sorted)\n",
        "plt.xlabel(\"Types\")\n",
        "plt.ylabel(\"Expected frequency\")\n",
        "plt.title(\"The frequency of targets in REALITY\")\n",
        "plt.show()"
      ],
      "execution_count": null,
      "outputs": [
        {
          "output_type": "display_data",
          "data": {
            "image/png": "[encoded data removed]",
            "text/plain": [
              "<Figure size 864x432 with 1 Axes>"
            ]
          },
          "metadata": {
            "tags": [],
            "needs_background": "light"
          }
        },
        {
          "output_type": "display_data",
          "data": {
            "image/png": "[encoded data removed]",
            "text/plain": [
              "<Figure size 576x288 with 1 Axes>"
            ]
          },
          "metadata": {
            "tags": [],
            "needs_background": "light"
          }
        }
      ]
    },
    {
      "cell_type": "markdown",
      "metadata": {
        "id": "3YVoj16gey1z"
      },
      "source": [
        "##### preprocessing the data by cleaning it (removing unwanted words, symbols,etc..)"
      ]
    },
    {
      "cell_type": "code",
      "metadata": {
        "id": "ed_MFvRYwhsQ"
      },
      "source": [
        "# Cleaning the remaining dataset\n",
        "WORDS_TO_REMOVE = [\"intj\",\"intp\",\"infj\",\"infp\",\"istj\",\"istp\",\"isfj\",\"isfp\",\"entj\",\"entp\",\"enfj\",\"enfp\",\"estj\",\"estp\",\"esfj\",\"esfp\",\"si\",\"ni\",\"ti\",\"fi\",\"se\",\"ne\",\"te\",\"fe\",\"nt\",\"nf\",\"sxsp\",\"spsx\",\"spso\",\"sxso\",\"sosp\",\"sosx\",\"sp\",\"sx\",\"sj\",\"sf\",\"st\",\"le\",\"socionic\",\"socionics\",\"enneagram\",\"d\",\"w\",\"mbti\"]\n",
        "stop_words = list(stop_words) + WORDS_TO_REMOVE\n",
        "def clean_text(text):\n",
        "    regex = re.compile('[%s]' % re.escape('|'))\n",
        "    text = regex.sub(\" \", text)\n",
        "    words = str(text).split()\n",
        "    words = [i.lower() + \" \" for i in words]\n",
        "    words = [i for i in words if not \"http\" in i]\n",
        "    words = \" \".join(words)\n",
        "    words = words.translate(words.maketrans('', '', string.punctuation))\n",
        "    #remove digits\n",
        "    words = re.sub(\" \\d+\", \" \", words)\n",
        "    \n",
        "    words_tokens =  nltk.tokenize.word_tokenize(words)\n",
        "    # remove the stop words\n",
        "    filtered_tokens = [w for w in words_tokens if w not in stop_words]\n",
        "    # remove redundent words\n",
        "    filtered_tokens = list(dict.fromkeys(filtered_tokens))\n",
        "    # remove single characters\n",
        "    filtered_tokens = [w for w in filtered_tokens if len(w)>2]\n",
        "    # lastly, lemmatization\n",
        "    # lemmatization using WordNet Lemmatizer\n",
        "    filtered_tokens = [wnl.lemmatize(w) for w in filtered_tokens]\n",
        "\n",
        "    #combine words\n",
        "    words = \" \".join(filtered_tokens)\n",
        "\n",
        "    return words"
      ],
      "execution_count": null,
      "outputs": []
    },
    {
      "cell_type": "markdown",
      "metadata": {
        "id": "XQLPFf1zfbRE"
      },
      "source": [
        "#### showing uncleaned data"
      ]
    },
    {
      "cell_type": "code",
      "metadata": {
        "colab": {
          "base_uri": "https://localhost:8080/",
          "height": 265
        },
        "id": "4cW6Gfh7yp3y",
        "outputId": "3f6dc702-3719-44ea-a0e8-963b64de17b9"
      },
      "source": [
        "print(\"Unprocessed text\\n\\n\")\n",
        "data.text[0]"
      ],
      "execution_count": null,
      "outputs": [
        {
          "output_type": "stream",
          "text": [
            "Unprocessed text\n",
            "\n",
            "\n"
          ],
          "name": "stdout"
        },
        {
          "output_type": "execute_result",
          "data": {
            "application/vnd.google.colaboratory.intrinsic+json": {
              "type": "string"
            },
            "text/plain": [
              "\"'http://www.youtube.com/watch?v=qsXHcwe3krw|||http://41.media.tumblr.com/tumblr_lfouy03PMA1qa1rooo1_500.jpg|||enfp and intj moments  https://www.youtube.com/watch?v=iz7lE1g4XM4  sportscenter not top ten plays  https://www.youtube.com/watch?v=uCdfze1etec  pranks|||What has been the most life-changing experience in your life?|||http://www.youtube.com/watch?v=vXZeYwwRDw8   http://www.youtube.com/watch?v=u8ejam5DP3E  On repeat for most of today.|||May the PerC Experience immerse you.|||The last thing my INFJ friend posted on his facebook before committing suicide the next day. Rest in peace~   http://vimeo.com/22842206|||Hello ENFJ7. Sorry to hear of your distress. It's only natural for a relationship to not be perfection all the time in every moment of existence. Try to figure the hard times as times of growth, as...|||84389  84390  http://wallpaperpassion.com/upload/23700/friendship-boy-and-girl-wallpaper.jpg  http://assets.dornob.com/wp-content/uploads/2010/04/round-home-design.jpg ...|||Welcome and stuff.|||http://playeressence.com/wp-content/uploads/2013/08/RED-red-the-pokemon-master-32560474-450-338.jpg  Game. Set. Match.|||Prozac, wellbrutin, at least thirty minutes of moving your legs (and I don't mean moving them while sitting in your same desk chair), weed in moderation (maybe try edibles as a healthier alternative...|||Basically come up with three items you've determined that each type (or whichever types you want to do) would more than likely use, given each types' cognitive functions and whatnot, when left by...|||All things in moderation.  Sims is indeed a video game, and a good one at that. Note: a good one at that is somewhat subjective in that I am not completely promoting the death of any given Sim...|||Dear ENFP:  What were your favorite video games growing up and what are your now, current favorite video games? :cool:|||https://www.youtube.com/watch?v=QyPqT8umzmY|||It appears to be too late. :sad:|||There's someone out there for everyone.|||Wait... I thought confidence was a good thing.|||I just cherish the time of solitude b/c i revel within my inner world more whereas most other time i'd be workin... just enjoy the me time while you can. Don't worry, people will always be around to...|||Yo entp ladies... if you're into a complimentary personality,well, hey.|||... when your main social outlet is xbox live conversations and even then you verbally fatigue quickly.|||http://www.youtube.com/watch?v=gDhy7rdfm14  I really dig the part from 1:46 to 2:50|||http://www.youtube.com/watch?v=msqXffgh7b8|||Banned because this thread requires it of me.|||Get high in backyard, roast and eat marshmellows in backyard while conversing over something intellectual, followed by massages and kisses.|||http://www.youtube.com/watch?v=Mw7eoU3BMbE|||http://www.youtube.com/watch?v=4V2uYORhQOk|||http://www.youtube.com/watch?v=SlVmgFQQ0TI|||Banned for too many b's in that sentence. How could you! Think of the B!|||Banned for watching movies in the corner with the dunces.|||Banned because Health class clearly taught you nothing about peer pressure.|||Banned for a whole host of reasons!|||http://www.youtube.com/watch?v=IRcrv41hgz4|||1) Two baby deer on left and right munching on a beetle in the middle.  2) Using their own blood, two cavemen diary today's latest happenings on their designated cave diary wall.  3) I see it as...|||a pokemon world  an infj society  everyone becomes an optimist|||49142|||http://www.youtube.com/watch?v=ZRCEq_JFeFM|||http://discovermagazine.com/2012/jul-aug/20-things-you-didnt-know-about-deserts/desert.jpg|||http://oyster.ignimgs.com/mediawiki/apis.ign.com/pokemon-silver-version/d/dd/Ditto.gif|||http://www.serebii.net/potw-dp/Scizor.jpg|||Not all artists are artists because they draw. It's the idea that counts in forming something of your own... like a signature.|||Welcome to the robot ranks, person who downed my self-esteem cuz I'm not an avid signature artist like herself. :proud:|||Banned for taking all the room under my bed. Ya gotta learn to share with the roaches.|||http://www.youtube.com/watch?v=w8IgImn57aQ|||Banned for being too much of a thundering, grumbling kind of storm... yep.|||Ahh... old high school music I haven't heard in ages.   http://www.youtube.com/watch?v=dcCRUPCdB1w|||I failed a public speaking class a few years ago and I've sort of learned what I could do better were I to be in that position again. A big part of my failure was just overloading myself with too...|||I like this person's mentality. He's a confirmed INTJ by the way. http://www.youtube.com/watch?v=hGKLI-GEc6M|||Move to the Denver area and start a new life for myself.'\""
            ]
          },
          "metadata": {
            "tags": []
          },
          "execution_count": 104
        }
      ]
    },
    {
      "cell_type": "markdown",
      "metadata": {
        "id": "Sat2KrUcfedE"
      },
      "source": [
        "#### showing the cleaned data"
      ]
    },
    {
      "cell_type": "code",
      "metadata": {
        "colab": {
          "base_uri": "https://localhost:8080/",
          "height": 265
        },
        "id": "JwwzZH-Ez4QQ",
        "outputId": "9112fa37-216c-4d5a-b188-4a426a35e036"
      },
      "source": [
        "# Apply cleansing on dataset\n",
        "data['cleaned_text'] = data['text'].apply(clean_text)\n",
        "def get_type_index(string):\n",
        "    return list(types).index(string)\n",
        "data['type_index'] = data['type'].apply(get_type_index)\n",
        "\n",
        "DATA_IMMUTE = copy.deepcopy(data)\n",
        "\n",
        "print (\"Cleaned text\\n\\n\")\n",
        "DATA_IMMUTE.cleaned_text[0]"
      ],
      "execution_count": null,
      "outputs": [
        {
          "output_type": "stream",
          "text": [
            "Cleaned text\n",
            "\n",
            "\n"
          ],
          "name": "stdout"
        },
        {
          "output_type": "execute_result",
          "data": {
            "application/vnd.google.colaboratory.intrinsic+json": {
              "type": "string"
            },
            "text/plain": [
              "'moment sportscenter top ten play prank lifechanging experience life repeat today may perc immerse last thing friend posted facebook committing suicide next day rest peace hello enfj7 sorry hear distress natural relationship perfection time every moment existence try figure hard time growth welcome stuff game set match prozac wellbrutin least thirty minute moving leg dont mean sitting desk chair weed moderation maybe edible healthier alternative basically come three item youve determined type whichever type want would likely use given cognitive function whatnot left thing sims indeed video good one note somewhat subjective completely promoting death sim dear favorite game growing current cool appears late sad there someone everyone wait thought confidence cherish solitude revel within inner world whereas workin enjoy worry people always around lady youre complimentary personalitywell hey main social outlet xbox live conversation even verbally fatigue quickly really dig part banned thread requires get high backyard roast eat marshmellows conversing something intellectual followed massage kiss many sentence could think watching movie corner dunce health class clearly taught nothing peer pressure whole host reason two baby deer right munching beetle middle using blood caveman diary today latest happening designated cave wall see pokemon society becomes optimist artist draw idea count forming like signature robot rank person downed selfesteem cuz avid artist proud taking room bed got learn share roach much thundering grumbling kind storm yep ahh old school music havent heard age failed public speaking year ago ive sort learned better position big failure overloading person mentality he confirmed way move denver area start new'"
            ]
          },
          "metadata": {
            "tags": []
          },
          "execution_count": 119
        }
      ]
    },
    {
      "cell_type": "markdown",
      "metadata": {
        "id": "zBgGJefxfpwT"
      },
      "source": [
        "#### choosing some settings applied on data while training (vocab_size, trunc data from start or end, padding happens at start or end,etc...)"
      ]
    },
    {
      "cell_type": "code",
      "metadata": {
        "id": "1hAjo-IA0JDC"
      },
      "source": [
        "# Tokeniation and padding\n",
        "vocab_size = 2500\n",
        "trunc_type = \"post\"\n",
        "pad_type = \"post\"\n",
        "oov_tok = \"<OOV>\"\n",
        "tokenizer = Tokenizer(num_words = vocab_size, oov_token=oov_tok)\n",
        "tokenizer.fit_on_texts(data.cleaned_text.values)"
      ],
      "execution_count": null,
      "outputs": []
    },
    {
      "cell_type": "code",
      "metadata": {
        "id": "sUjuET2r2Xso"
      },
      "source": [
        "# tokenizer.word_counts"
      ],
      "execution_count": null,
      "outputs": []
    },
    {
      "cell_type": "markdown",
      "metadata": {
        "id": "O17ilB5SgPJ0"
      },
      "source": [
        "#### encoding labels to 0's and 1's to be used for training"
      ]
    },
    {
      "cell_type": "code",
      "metadata": {
        "id": "iOLAHAXi8Uhc"
      },
      "source": [
        "\n",
        "def split_classification(data, label):\n",
        "  if label == 1:\n",
        "    data[\"type\"].replace({\"ISTJ\": 1, \"ISFJ\":1, \"INFJ\":1, \"INTJ\":1, \"ISTP\": 1, \"ISFP\": 1, \"INFP\": 1, \"INTP\": 1, \"ESTP\": 0, \"ESFP\": 0, \"ENFP\": 0, \"ENTP\": 0, \"ESTJ\": 0, \"ESFJ\": 0, \"ENFJ\": 0, \"ENTJ\": 0}, inplace=True)\n",
        "  elif label == 2:\n",
        "    data[\"type\"].replace({\"ISTJ\": 1, \"ISFJ\":1, \"INFJ\":0, \"INTJ\":0, \"ISTP\": 1, \"ISFP\": 1, \"INFP\": 0, \"INTP\": 0, \"ESTP\": 1, \"ESFP\": 1, \"ENFP\": 0, \"ENTP\": 0, \"ESTJ\": 1, \"ESFJ\": 1, \"ENFJ\": 0, \"ENTJ\": 0}, inplace=True)\n",
        "  elif label == 3:\n",
        "    data[\"type\"].replace({\"ISTJ\": 1, \"ISFJ\":0, \"INFJ\":0, \"INTJ\":1, \"ISTP\": 1, \"ISFP\": 0, \"INFP\": 0, \"INTP\": 1, \"ESTP\": 1, \"ESFP\": 0, \"ENFP\": 0, \"ENTP\": 1, \"ESTJ\": 1, \"ESFJ\": 0, \"ENFJ\": 0, \"ENTJ\": 1}, inplace=True)\n",
        "  elif label == 4:\n",
        "    data[\"type\"].replace({\"ISTJ\": 0, \"ISFJ\":0, \"INFJ\":0, \"INTJ\":0, \"ISTP\": 1, \"ISFP\": 1, \"INFP\": 1, \"INTP\": 1, \"ESTP\": 1, \"ESFP\": 1, \"ENFP\": 1, \"ENTP\": 1, \"ESTJ\": 0, \"ESFJ\": 0, \"ENFJ\": 0, \"ENTJ\": 0}, inplace=True)\n",
        "  else:\n",
        "    print (\"Dev Error: labels are 1 to 4 only\")"
      ],
      "execution_count": null,
      "outputs": []
    },
    {
      "cell_type": "markdown",
      "metadata": {
        "id": "zws36Yzpis2X"
      },
      "source": [
        "#### spitting data for trainning and validation"
      ]
    },
    {
      "cell_type": "code",
      "metadata": {
        "id": "hMO_Wjjx2Z5m"
      },
      "source": [
        "\n",
        "\n",
        "def data_split(label, large=False):\n",
        "  if not large:\n",
        "    split_classification(data, label)\n",
        "\n",
        "  train, val = train_test_split(data ,test_size=0.2, random_state=42)\n",
        "\n",
        "  print (f\"Train shape: {train.shape}\")\n",
        "  print (f\"Validation shape: {val.shape}\")\n",
        "\n",
        "  maxlen = 40\n",
        "  train_sequences = tokenizer.texts_to_sequences(train.cleaned_text.values)\n",
        "  train_padded = pad_sequences(train_sequences, maxlen = maxlen, truncating = trunc_type, padding = pad_type)\n",
        "\n",
        "  val_sequences = tokenizer.texts_to_sequences(val.cleaned_text.values)\n",
        "  val_padded = pad_sequences(val_sequences, maxlen = maxlen, truncating = trunc_type, padding = pad_type)\n",
        "  \n",
        "  if large:\n",
        "    train_labels = tf.keras.utils.to_categorical(train.type_index.values, num_classes=16)\n",
        "    val_labels= tf.keras.utils.to_categorical(val.type_index.values, num_classes=16)\n",
        "  \n",
        "  else:\n",
        "    train_labels = train['type'].values\n",
        "    val_labels = val['type'].values\n",
        "\n",
        "  return train_padded, train_labels, val_padded, val_labels\n"
      ],
      "execution_count": null,
      "outputs": []
    },
    {
      "cell_type": "markdown",
      "metadata": {
        "id": "bDMbfPXAi0Z9"
      },
      "source": [
        "#### calculating confusion matrix and accuracy"
      ]
    },
    {
      "cell_type": "code",
      "metadata": {
        "id": "UCMNYiG47L63"
      },
      "source": [
        "from sklearn.metrics import confusion_matrix, accuracy_score\n",
        "\n",
        "def conf_mat (val_x, val_y, model,file_name):\n",
        "  predictions = model.predict_classes(val_x)\n",
        "  confusion = confusion_matrix(val_y, predictions)\n",
        "  score = accuracy_score(val_y, predictions)\n",
        "  if not os.path.exists(\"personality_analysis_results\"): os.mkdir(\"personality_analysis_results\")\n",
        "  path = \"personality_analysis_results/\" + file_name+\".txt\"\n",
        "  with open(path, 'w') as f:\n",
        "    f.write(\"Total posts classified: {}\\n\".format(len(val_x)))\n",
        "    f.write(\"Accuracy: {}\\n\".format(score))\n",
        "    f.write(\"Confusion matrix: \\n\")\n",
        "    f.write(np.array2string(confusion, separator=\", \"))"
      ],
      "execution_count": null,
      "outputs": []
    },
    {
      "cell_type": "markdown",
      "metadata": {
        "id": "IZGIr0eejHrF"
      },
      "source": [
        "#### using glove for embeddings"
      ]
    },
    {
      "cell_type": "code",
      "metadata": {
        "colab": {
          "base_uri": "https://localhost:8080/"
        },
        "id": "aJzkC6U-LGcz",
        "outputId": "43c8354e-cd9f-4590-ade3-9ab16490b3b8"
      },
      "source": [
        "### Load glove into memory for embedding\n",
        "\n",
        "GLOVE_PATH = \"drive/MyDrive/glove.6B.50d.txt\"\n",
        "embeddings_index = dict()\n",
        "with open(GLOVE_PATH) as f:\n",
        "    for line in f:\n",
        "        values = line.split()\n",
        "        word = values[0]\n",
        "        embeddings_index[word] = np.asarray(values[1:], dtype=\"float32\")\n",
        "print(\"Loaded {} word vectors.\".format(len(embeddings_index)))\n",
        "\n",
        "### Create a weight matrix for words\n",
        "EMBEDDING_VECTOR_LENGTH = 50  #configurable\n",
        "TOP_WORDS = vocab_size        #same as tokenizer 2500\n",
        "\n",
        "embedding_matrix = np.zeros((TOP_WORDS, EMBEDDING_VECTOR_LENGTH))\n",
        "for word, i in tokenizer.word_index.items():\n",
        "    if i < TOP_WORDS:\n",
        "        embedding_vector = embeddings_index.get(word)\n",
        "        if embedding_vector is not None:\n",
        "            embedding_matrix[i] = embedding_vector"
      ],
      "execution_count": null,
      "outputs": [
        {
          "output_type": "stream",
          "text": [
            "Loaded 400000 word vectors.\n"
          ],
          "name": "stdout"
        }
      ]
    },
    {
      "cell_type": "markdown",
      "metadata": {
        "id": "VdZAlTR_jN09"
      },
      "source": [
        "#### checking for tpu to use or not."
      ]
    },
    {
      "cell_type": "code",
      "metadata": {
        "colab": {
          "base_uri": "https://localhost:8080/"
        },
        "id": "akIsTE1y8F5F",
        "outputId": "b0eff9f9-e12e-4478-e20e-c3f25f3e84a3"
      },
      "source": [
        "use_tpu = True\n",
        "strategy = None\n",
        "model = None\n",
        "import tensorflow as tf\n",
        "\n",
        "if use_tpu:\n",
        "    # Create distribution strategy\n",
        "    tpu = tf.distribute.cluster_resolver.TPUClusterResolver()\n",
        "    tf.config.experimental_connect_to_cluster(tpu)\n",
        "    tf.tpu.experimental.initialize_tpu_system(tpu)\n",
        "    strategy = tf.distribute.experimental.TPUStrategy(tpu)\n",
        "else:\n",
        "    model = create_model()\n",
        "\n"
      ],
      "execution_count": null,
      "outputs": [
        {
          "output_type": "stream",
          "text": [
            "INFO:absl:Entering into master device scope: /job:worker/replica:0/task:0/device:CPU:0\n"
          ],
          "name": "stderr"
        },
        {
          "output_type": "stream",
          "text": [
            "INFO:tensorflow:Initializing the TPU system: grpc://10.100.83.82:8470\n"
          ],
          "name": "stdout"
        },
        {
          "output_type": "stream",
          "text": [
            "INFO:tensorflow:Initializing the TPU system: grpc://10.100.83.82:8470\n"
          ],
          "name": "stderr"
        },
        {
          "output_type": "stream",
          "text": [
            "INFO:tensorflow:Clearing out eager caches\n"
          ],
          "name": "stdout"
        },
        {
          "output_type": "stream",
          "text": [
            "INFO:tensorflow:Clearing out eager caches\n"
          ],
          "name": "stderr"
        },
        {
          "output_type": "stream",
          "text": [
            "INFO:tensorflow:Finished initializing TPU system.\n"
          ],
          "name": "stdout"
        },
        {
          "output_type": "stream",
          "text": [
            "INFO:tensorflow:Finished initializing TPU system.\n",
            "WARNING:absl:`tf.distribute.experimental.TPUStrategy` is deprecated, please use  the non experimental symbol `tf.distribute.TPUStrategy` instead.\n"
          ],
          "name": "stderr"
        },
        {
          "output_type": "stream",
          "text": [
            "INFO:tensorflow:Found TPU system:\n"
          ],
          "name": "stdout"
        },
        {
          "output_type": "stream",
          "text": [
            "INFO:tensorflow:Found TPU system:\n"
          ],
          "name": "stderr"
        },
        {
          "output_type": "stream",
          "text": [
            "INFO:tensorflow:*** Num TPU Cores: 8\n"
          ],
          "name": "stdout"
        },
        {
          "output_type": "stream",
          "text": [
            "INFO:tensorflow:*** Num TPU Cores: 8\n"
          ],
          "name": "stderr"
        },
        {
          "output_type": "stream",
          "text": [
            "INFO:tensorflow:*** Num TPU Workers: 1\n"
          ],
          "name": "stdout"
        },
        {
          "output_type": "stream",
          "text": [
            "INFO:tensorflow:*** Num TPU Workers: 1\n"
          ],
          "name": "stderr"
        },
        {
          "output_type": "stream",
          "text": [
            "INFO:tensorflow:*** Num TPU Cores Per Worker: 8\n"
          ],
          "name": "stdout"
        },
        {
          "output_type": "stream",
          "text": [
            "INFO:tensorflow:*** Num TPU Cores Per Worker: 8\n"
          ],
          "name": "stderr"
        },
        {
          "output_type": "stream",
          "text": [
            "INFO:tensorflow:*** Available Device: _DeviceAttributes(/job:localhost/replica:0/task:0/device:CPU:0, CPU, 0, 0)\n"
          ],
          "name": "stdout"
        },
        {
          "output_type": "stream",
          "text": [
            "INFO:tensorflow:*** Available Device: _DeviceAttributes(/job:localhost/replica:0/task:0/device:CPU:0, CPU, 0, 0)\n"
          ],
          "name": "stderr"
        },
        {
          "output_type": "stream",
          "text": [
            "INFO:tensorflow:*** Available Device: _DeviceAttributes(/job:worker/replica:0/task:0/device:CPU:0, CPU, 0, 0)\n"
          ],
          "name": "stdout"
        },
        {
          "output_type": "stream",
          "text": [
            "INFO:tensorflow:*** Available Device: _DeviceAttributes(/job:worker/replica:0/task:0/device:CPU:0, CPU, 0, 0)\n"
          ],
          "name": "stderr"
        },
        {
          "output_type": "stream",
          "text": [
            "INFO:tensorflow:*** Available Device: _DeviceAttributes(/job:worker/replica:0/task:0/device:TPU:0, TPU, 0, 0)\n"
          ],
          "name": "stdout"
        },
        {
          "output_type": "stream",
          "text": [
            "INFO:tensorflow:*** Available Device: _DeviceAttributes(/job:worker/replica:0/task:0/device:TPU:0, TPU, 0, 0)\n"
          ],
          "name": "stderr"
        },
        {
          "output_type": "stream",
          "text": [
            "INFO:tensorflow:*** Available Device: _DeviceAttributes(/job:worker/replica:0/task:0/device:TPU:1, TPU, 0, 0)\n"
          ],
          "name": "stdout"
        },
        {
          "output_type": "stream",
          "text": [
            "INFO:tensorflow:*** Available Device: _DeviceAttributes(/job:worker/replica:0/task:0/device:TPU:1, TPU, 0, 0)\n"
          ],
          "name": "stderr"
        },
        {
          "output_type": "stream",
          "text": [
            "INFO:tensorflow:*** Available Device: _DeviceAttributes(/job:worker/replica:0/task:0/device:TPU:2, TPU, 0, 0)\n"
          ],
          "name": "stdout"
        },
        {
          "output_type": "stream",
          "text": [
            "INFO:tensorflow:*** Available Device: _DeviceAttributes(/job:worker/replica:0/task:0/device:TPU:2, TPU, 0, 0)\n"
          ],
          "name": "stderr"
        },
        {
          "output_type": "stream",
          "text": [
            "INFO:tensorflow:*** Available Device: _DeviceAttributes(/job:worker/replica:0/task:0/device:TPU:3, TPU, 0, 0)\n"
          ],
          "name": "stdout"
        },
        {
          "output_type": "stream",
          "text": [
            "INFO:tensorflow:*** Available Device: _DeviceAttributes(/job:worker/replica:0/task:0/device:TPU:3, TPU, 0, 0)\n"
          ],
          "name": "stderr"
        },
        {
          "output_type": "stream",
          "text": [
            "INFO:tensorflow:*** Available Device: _DeviceAttributes(/job:worker/replica:0/task:0/device:TPU:4, TPU, 0, 0)\n"
          ],
          "name": "stdout"
        },
        {
          "output_type": "stream",
          "text": [
            "INFO:tensorflow:*** Available Device: _DeviceAttributes(/job:worker/replica:0/task:0/device:TPU:4, TPU, 0, 0)\n"
          ],
          "name": "stderr"
        },
        {
          "output_type": "stream",
          "text": [
            "INFO:tensorflow:*** Available Device: _DeviceAttributes(/job:worker/replica:0/task:0/device:TPU:5, TPU, 0, 0)\n"
          ],
          "name": "stdout"
        },
        {
          "output_type": "stream",
          "text": [
            "INFO:tensorflow:*** Available Device: _DeviceAttributes(/job:worker/replica:0/task:0/device:TPU:5, TPU, 0, 0)\n"
          ],
          "name": "stderr"
        },
        {
          "output_type": "stream",
          "text": [
            "INFO:tensorflow:*** Available Device: _DeviceAttributes(/job:worker/replica:0/task:0/device:TPU:6, TPU, 0, 0)\n"
          ],
          "name": "stdout"
        },
        {
          "output_type": "stream",
          "text": [
            "INFO:tensorflow:*** Available Device: _DeviceAttributes(/job:worker/replica:0/task:0/device:TPU:6, TPU, 0, 0)\n"
          ],
          "name": "stderr"
        },
        {
          "output_type": "stream",
          "text": [
            "INFO:tensorflow:*** Available Device: _DeviceAttributes(/job:worker/replica:0/task:0/device:TPU:7, TPU, 0, 0)\n"
          ],
          "name": "stdout"
        },
        {
          "output_type": "stream",
          "text": [
            "INFO:tensorflow:*** Available Device: _DeviceAttributes(/job:worker/replica:0/task:0/device:TPU:7, TPU, 0, 0)\n"
          ],
          "name": "stderr"
        },
        {
          "output_type": "stream",
          "text": [
            "INFO:tensorflow:*** Available Device: _DeviceAttributes(/job:worker/replica:0/task:0/device:TPU_SYSTEM:0, TPU_SYSTEM, 0, 0)\n"
          ],
          "name": "stdout"
        },
        {
          "output_type": "stream",
          "text": [
            "INFO:tensorflow:*** Available Device: _DeviceAttributes(/job:worker/replica:0/task:0/device:TPU_SYSTEM:0, TPU_SYSTEM, 0, 0)\n"
          ],
          "name": "stderr"
        },
        {
          "output_type": "stream",
          "text": [
            "INFO:tensorflow:*** Available Device: _DeviceAttributes(/job:worker/replica:0/task:0/device:XLA_CPU:0, XLA_CPU, 0, 0)\n"
          ],
          "name": "stdout"
        },
        {
          "output_type": "stream",
          "text": [
            "INFO:tensorflow:*** Available Device: _DeviceAttributes(/job:worker/replica:0/task:0/device:XLA_CPU:0, XLA_CPU, 0, 0)\n"
          ],
          "name": "stderr"
        }
      ]
    },
    {
      "cell_type": "markdown",
      "metadata": {
        "id": "yROT1a66jjxd"
      },
      "source": [
        "#### model architecture creation"
      ]
    },
    {
      "cell_type": "code",
      "metadata": {
        "id": "bHHqReUw9gIw"
      },
      "source": [
        "from tensorflow.keras.models import Sequential\n",
        "from tensorflow.keras.layers import Embedding, LSTM, Dense, Bidirectional, Flatten, Dropout, Conv1D, GlobalMaxPooling1D\n",
        "from keras.wrappers.scikit_learn import KerasClassifier\n",
        "from keras.models import Sequential\n",
        "from keras.models import load_model\n",
        "from keras.layers import Dense\n",
        "from keras.layers import LSTM\n",
        "from keras.layers import Bidirectional\n",
        "from keras.layers import GRU\n",
        "from keras.layers import SimpleRNN\n",
        "from keras.layers.embeddings import Embedding\n",
        "from keras.preprocessing import sequence\n",
        "from keras.preprocessing import text\n",
        "from keras.optimizers import Adam\n",
        "\n",
        "\n",
        "def create_model(LEARNING_RATE = 0.01):\n",
        "    MAX_POST_LENGTH = 40          #same as maxlen\n",
        "    DROPOUT = 0.1                 #configurable\n",
        "    LEARNING_RATE = LEARNING_RATE\n",
        "    model = Sequential()\n",
        "\n",
        "    # model.add(\n",
        "    #     Embedding(\n",
        "    #         TOP_WORDS,\n",
        "    #         EMBEDDING_VECTOR_LENGTH,\n",
        "    #         input_length=MAX_POST_LENGTH,\n",
        "    #         weights=[embedding_matrix],\n",
        "    #         mask_zero=True,\n",
        "    #         trainable=True,\n",
        "    #     )\n",
        "    # )\n",
        "\n",
        "    # model.add(SimpleRNN(EMBEDDING_VECTOR_LENGTH, dropout=DROPOUT, recurrent_dropout=DROPOUT, activation='sigmoid', kernel_initializer='zeros'))\n",
        "    # model.add(GRU(EMBEDDING_VECTOR_LENGTH, dropout=DROPOUT, recurrent_dropout=DROPOUT, activation='sigmoid', kernel_initializer='zeros'))\n",
        "    # model.add(\n",
        "    #     LSTM(\n",
        "    #         EMBEDDING_VECTOR_LENGTH,\n",
        "    #         dropout=DROPOUT,\n",
        "    #         recurrent_dropout=DROPOUT,\n",
        "    #         activation=\"sigmoid\",\n",
        "    #         kernel_initializer=\"zeros\",\n",
        "    #     )\n",
        "    # )\n",
        "    \n",
        "    # model.add(Bidirectional(LSTM(EMBEDDING_VECTOR_LENGTH, dropout=DROPOUT, recurrent_dropout=DROPOUT, activation='sigmoid', kernel_initializer='zeros')))\n",
        "    \n",
        "    # model.add(Dense(16, activation=\"softmax\"))\n",
        "    # optimizer = Adam(learning_rate=LEARNING_RATE, beta_1=0.9, beta_2=0.999, epsilon=1e-8)\n",
        "    # model.compile(loss=\"binary_crossentropy\", optimizer=optimizer, metrics=[\"accuracy\"])\n",
        "    # model.compile(loss=\"categorical_crossentropy\", optimizer=optimizer, metrics=[\"accuracy\"])\n",
        "\n",
        "    model.add(Embedding(TOP_WORDS, EMBEDDING_VECTOR_LENGTH, input_length=MAX_POST_LENGTH))\n",
        "    # model.add(Dropout(0.1))\n",
        "    model.add(Bidirectional(LSTM(EMBEDDING_VECTOR_LENGTH, return_sequences=False)))\n",
        "    model.add(Dropout(0.1))\n",
        "    # model.add(Bidirectional(LSTM(EMBEDDING_VECTOR_LENGTH,return_sequences=False)))\n",
        "    # model.add(Dropout(0.1))\n",
        "    # model.add(Bidirectional(LSTM(50)))\n",
        "    # model.add(Dense(64, activation='relu'))\n",
        "    model.add(Dense(16, activation='softmax'))\n",
        "    op = tf.keras.optimizers.Adam(learning_rate=LEARNING_RATE)\n",
        "    model.compile(loss='categorical_crossentropy', optimizer=op, metrics=['accuracy'])\n",
        "    return model\n",
        "\n"
      ],
      "execution_count": null,
      "outputs": []
    },
    {
      "cell_type": "markdown",
      "metadata": {
        "id": "KlWEykAUjpiU"
      },
      "source": [
        "#### model summary, training with confusion matrix"
      ]
    },
    {
      "cell_type": "code",
      "metadata": {
        "id": "gpjUO00AgrNK"
      },
      "source": [
        "def run_model(label, result_folder, model_name,LEARNING_RATE=0.01, large=False):\n",
        "  batch_size = 128\n",
        "  # Create model\n",
        "  model = None\n",
        "\n",
        "  if strategy is not None:\n",
        "    with strategy.scope():\n",
        "      model = create_model(LEARNING_RATE)\n",
        "    model.summary()\n",
        "\n",
        "  print (f'Model id: {label}')\n",
        "  train_x, train_y, val_x, val_y = data_split(label=label, large=large)\n",
        "  print(f\"Categorial split:\")\n",
        "  print(train_x)\n",
        "  print(train_y)\n",
        "  print(val_x)\n",
        "  print(val_y)\n",
        "  \n",
        "  history = model.fit(train_x, train_y, epochs =1000, verbose = 1, \n",
        "            validation_data = (val_x, val_y),  batch_size = batch_size,\n",
        "            callbacks = [tf.keras.callbacks.EarlyStopping(patience = 3)]\n",
        "            )\n",
        "  model_path = result_folder + '/' + model_name\n",
        "  conf_mat(val_x, val_y , model, file_name=model_path)"
      ],
      "execution_count": null,
      "outputs": []
    },
    {
      "cell_type": "code",
      "metadata": {
        "colab": {
          "base_uri": "https://localhost:8080/"
        },
        "id": "vuEHa-yV9_9J",
        "outputId": "5ef539ef-f12c-42e3-f8f3-10d628da55f6"
      },
      "source": [
        "labels = [1,2,3,4]\n",
        "if not os.path.exists(\"personality_analysis_results/lstm\"): os.mkdir(\"personality_analysis_results/lstm\")\n",
        "model_names = [\"conf_mat_lstm_01_IE\", \n",
        "               \"conf_mat_lstm_01_NS\", \n",
        "               \"conf_mat_lstm_01_FT\",\n",
        "               \"conf_mat_lstm_01_PJ\"]\n",
        "\n",
        "for i in range (4):\n",
        "  data = copy.deepcopy(DATA_IMMUTE)\n",
        "  run_model(labels[i], \"lstm\", model_names[i])\n"
      ],
      "execution_count": null,
      "outputs": [
        {
          "output_type": "stream",
          "text": [
            "Model: \"sequential_12\"\n",
            "_________________________________________________________________\n",
            "Layer (type)                 Output Shape              Param #   \n",
            "=================================================================\n",
            "embedding_12 (Embedding)     (None, 40, 50)            125000    \n",
            "_________________________________________________________________\n",
            "lstm_12 (LSTM)               (None, 50)                20200     \n",
            "_________________________________________________________________\n",
            "dense_12 (Dense)             (None, 1)                 51        \n",
            "=================================================================\n",
            "Total params: 145,251\n",
            "Trainable params: 145,251\n",
            "Non-trainable params: 0\n",
            "_________________________________________________________________\n",
            "Model id: 1\n",
            "   type  ...                                       cleaned_text\n",
            "0  ISTJ  ...  newton universal gravity law mean seriously wo...\n",
            "1  ISTJ  ...  never understood long time people often told s...\n",
            "2  ISTJ  ...  expected try brown instead definitely prefer b...\n",
            "3  ISTJ  ...  cant see keep secret fact could gone either wa...\n",
            "\n",
            "[4 rows x 3 columns]\n",
            "Train shape: (372, 3)\n",
            "Validation shape: (93, 3)\n",
            "Categorial split:\n",
            "   type  ...                                       cleaned_text\n",
            "0     1  ...  newton universal gravity law mean seriously wo...\n",
            "1     1  ...  never understood long time people often told s...\n",
            "2     1  ...  expected try brown instead definitely prefer b...\n",
            "3     1  ...  cant see keep secret fact could gone either wa...\n",
            "\n",
            "[4 rows x 3 columns]\n",
            "Epoch 1/1000\n"
          ],
          "name": "stdout"
        },
        {
          "output_type": "stream",
          "text": [
            "INFO:absl:TPU has inputs with dynamic shapes: [<tf.Tensor 'Const:0' shape=() dtype=int32>, <tf.Tensor 'cond_8/Identity:0' shape=(None, 40) dtype=int32>, <tf.Tensor 'cond_8/Identity_1:0' shape=(None,) dtype=int64>]\n",
            "INFO:absl:TPU has inputs with dynamic shapes: [<tf.Tensor 'Const:0' shape=() dtype=int32>, <tf.Tensor 'cond_8/Identity:0' shape=(None, 40) dtype=int32>, <tf.Tensor 'cond_8/Identity_1:0' shape=(None,) dtype=int64>]\n"
          ],
          "name": "stderr"
        },
        {
          "output_type": "stream",
          "text": [
            "3/3 [==============================] - ETA: 0s - loss: 0.7011 - accuracy: 0.4907 "
          ],
          "name": "stdout"
        },
        {
          "output_type": "stream",
          "text": [
            "INFO:absl:TPU has inputs with dynamic shapes: [<tf.Tensor 'Const:0' shape=() dtype=int32>, <tf.Tensor 'cond_8/Identity:0' shape=(None, 40) dtype=int32>, <tf.Tensor 'cond_8/Identity_1:0' shape=(None,) dtype=int64>]\n"
          ],
          "name": "stderr"
        },
        {
          "output_type": "stream",
          "text": [
            "3/3 [==============================] - 14s 3s/step - loss: 0.7018 - accuracy: 0.4890 - val_loss: 0.7158 - val_accuracy: 0.4839\n",
            "Epoch 2/1000\n",
            "3/3 [==============================] - 1s 270ms/step - loss: 0.6948 - accuracy: 0.5188 - val_loss: 0.6926 - val_accuracy: 0.5269\n",
            "Epoch 3/1000\n",
            "3/3 [==============================] - 1s 287ms/step - loss: 0.6663 - accuracy: 0.7529 - val_loss: 0.6926 - val_accuracy: 0.5591\n",
            "Epoch 4/1000\n",
            "3/3 [==============================] - 1s 261ms/step - loss: 0.6206 - accuracy: 0.8323 - val_loss: 0.6967 - val_accuracy: 0.4731\n",
            "Epoch 5/1000\n",
            "3/3 [==============================] - 1s 266ms/step - loss: 0.5410 - accuracy: 0.9008 - val_loss: 0.7081 - val_accuracy: 0.4946\n"
          ],
          "name": "stdout"
        },
        {
          "output_type": "stream",
          "text": [
            "/usr/local/lib/python3.7/dist-packages/keras/engine/sequential.py:450: UserWarning: `model.predict_classes()` is deprecated and will be removed after 2021-01-01. Please use instead:* `np.argmax(model.predict(x), axis=-1)`,   if your model does multi-class classification   (e.g. if it uses a `softmax` last-layer activation).* `(model.predict(x) > 0.5).astype(\"int32\")`,   if your model does binary classification   (e.g. if it uses a `sigmoid` last-layer activation).\n",
            "  warnings.warn('`model.predict_classes()` is deprecated and '\n",
            "INFO:absl:TPU has inputs with dynamic shapes: [<tf.Tensor 'Const:0' shape=() dtype=int32>, <tf.Tensor 'cond_8/Identity:0' shape=(None, 40) dtype=int32>]\n"
          ],
          "name": "stderr"
        },
        {
          "output_type": "stream",
          "text": [
            "Model: \"sequential_13\"\n",
            "_________________________________________________________________\n",
            "Layer (type)                 Output Shape              Param #   \n",
            "=================================================================\n",
            "embedding_13 (Embedding)     (None, 40, 50)            125000    \n",
            "_________________________________________________________________\n",
            "lstm_13 (LSTM)               (None, 50)                20200     \n",
            "_________________________________________________________________\n",
            "dense_13 (Dense)             (None, 1)                 51        \n",
            "=================================================================\n",
            "Total params: 145,251\n",
            "Trainable params: 145,251\n",
            "Non-trainable params: 0\n",
            "_________________________________________________________________\n",
            "Model id: 2\n",
            "   type  ...                                       cleaned_text\n",
            "0  ISTJ  ...  newton universal gravity law mean seriously wo...\n",
            "1  ISTJ  ...  never understood long time people often told s...\n",
            "2  ISTJ  ...  expected try brown instead definitely prefer b...\n",
            "3  ISTJ  ...  cant see keep secret fact could gone either wa...\n",
            "\n",
            "[4 rows x 3 columns]\n",
            "Train shape: (372, 3)\n",
            "Validation shape: (93, 3)\n",
            "Categorial split:\n",
            "   type  ...                                       cleaned_text\n",
            "0     1  ...  newton universal gravity law mean seriously wo...\n",
            "1     1  ...  never understood long time people often told s...\n",
            "2     1  ...  expected try brown instead definitely prefer b...\n",
            "3     1  ...  cant see keep secret fact could gone either wa...\n",
            "\n",
            "[4 rows x 3 columns]\n",
            "Epoch 1/1000\n"
          ],
          "name": "stdout"
        },
        {
          "output_type": "stream",
          "text": [
            "INFO:absl:TPU has inputs with dynamic shapes: [<tf.Tensor 'Const:0' shape=() dtype=int32>, <tf.Tensor 'cond_8/Identity:0' shape=(None, 40) dtype=int32>, <tf.Tensor 'cond_8/Identity_1:0' shape=(None,) dtype=int64>]\n",
            "INFO:absl:TPU has inputs with dynamic shapes: [<tf.Tensor 'Const:0' shape=() dtype=int32>, <tf.Tensor 'cond_8/Identity:0' shape=(None, 40) dtype=int32>, <tf.Tensor 'cond_8/Identity_1:0' shape=(None,) dtype=int64>]\n"
          ],
          "name": "stderr"
        },
        {
          "output_type": "stream",
          "text": [
            "3/3 [==============================] - ETA: 0s - loss: 0.7250 - accuracy: 0.4609 "
          ],
          "name": "stdout"
        },
        {
          "output_type": "stream",
          "text": [
            "INFO:absl:TPU has inputs with dynamic shapes: [<tf.Tensor 'Const:0' shape=() dtype=int32>, <tf.Tensor 'cond_8/Identity:0' shape=(None, 40) dtype=int32>, <tf.Tensor 'cond_8/Identity_1:0' shape=(None,) dtype=int64>]\n"
          ],
          "name": "stderr"
        },
        {
          "output_type": "stream",
          "text": [
            "3/3 [==============================] - 13s 2s/step - loss: 0.7226 - accuracy: 0.4686 - val_loss: 0.6770 - val_accuracy: 0.5914\n",
            "Epoch 2/1000\n",
            "3/3 [==============================] - 1s 300ms/step - loss: 0.6897 - accuracy: 0.5387 - val_loss: 0.6943 - val_accuracy: 0.5054\n",
            "Epoch 3/1000\n",
            "3/3 [==============================] - 1s 291ms/step - loss: 0.6617 - accuracy: 0.8052 - val_loss: 0.6898 - val_accuracy: 0.5484\n",
            "Epoch 4/1000\n",
            "3/3 [==============================] - 1s 323ms/step - loss: 0.6079 - accuracy: 0.8715 - val_loss: 0.6920 - val_accuracy: 0.5269\n"
          ],
          "name": "stdout"
        },
        {
          "output_type": "stream",
          "text": [
            "/usr/local/lib/python3.7/dist-packages/keras/engine/sequential.py:450: UserWarning: `model.predict_classes()` is deprecated and will be removed after 2021-01-01. Please use instead:* `np.argmax(model.predict(x), axis=-1)`,   if your model does multi-class classification   (e.g. if it uses a `softmax` last-layer activation).* `(model.predict(x) > 0.5).astype(\"int32\")`,   if your model does binary classification   (e.g. if it uses a `sigmoid` last-layer activation).\n",
            "  warnings.warn('`model.predict_classes()` is deprecated and '\n",
            "INFO:absl:TPU has inputs with dynamic shapes: [<tf.Tensor 'Const:0' shape=() dtype=int32>, <tf.Tensor 'cond_8/Identity:0' shape=(None, 40) dtype=int32>]\n"
          ],
          "name": "stderr"
        },
        {
          "output_type": "stream",
          "text": [
            "Model: \"sequential_14\"\n",
            "_________________________________________________________________\n",
            "Layer (type)                 Output Shape              Param #   \n",
            "=================================================================\n",
            "embedding_14 (Embedding)     (None, 40, 50)            125000    \n",
            "_________________________________________________________________\n",
            "lstm_14 (LSTM)               (None, 50)                20200     \n",
            "_________________________________________________________________\n",
            "dense_14 (Dense)             (None, 1)                 51        \n",
            "=================================================================\n",
            "Total params: 145,251\n",
            "Trainable params: 145,251\n",
            "Non-trainable params: 0\n",
            "_________________________________________________________________\n",
            "Model id: 3\n",
            "   type  ...                                       cleaned_text\n",
            "0  ISTJ  ...  newton universal gravity law mean seriously wo...\n",
            "1  ISTJ  ...  never understood long time people often told s...\n",
            "2  ISTJ  ...  expected try brown instead definitely prefer b...\n",
            "3  ISTJ  ...  cant see keep secret fact could gone either wa...\n",
            "\n",
            "[4 rows x 3 columns]\n",
            "Train shape: (372, 3)\n",
            "Validation shape: (93, 3)\n",
            "Categorial split:\n",
            "   type  ...                                       cleaned_text\n",
            "0     1  ...  newton universal gravity law mean seriously wo...\n",
            "1     1  ...  never understood long time people often told s...\n",
            "2     1  ...  expected try brown instead definitely prefer b...\n",
            "3     1  ...  cant see keep secret fact could gone either wa...\n",
            "\n",
            "[4 rows x 3 columns]\n",
            "Epoch 1/1000\n"
          ],
          "name": "stdout"
        },
        {
          "output_type": "stream",
          "text": [
            "INFO:absl:TPU has inputs with dynamic shapes: [<tf.Tensor 'Const:0' shape=() dtype=int32>, <tf.Tensor 'cond_8/Identity:0' shape=(None, 40) dtype=int32>, <tf.Tensor 'cond_8/Identity_1:0' shape=(None,) dtype=int64>]\n",
            "INFO:absl:TPU has inputs with dynamic shapes: [<tf.Tensor 'Const:0' shape=() dtype=int32>, <tf.Tensor 'cond_8/Identity:0' shape=(None, 40) dtype=int32>, <tf.Tensor 'cond_8/Identity_1:0' shape=(None,) dtype=int64>]\n"
          ],
          "name": "stderr"
        },
        {
          "output_type": "stream",
          "text": [
            "3/3 [==============================] - ETA: 0s - loss: 0.7299 - accuracy: 0.4764 "
          ],
          "name": "stdout"
        },
        {
          "output_type": "stream",
          "text": [
            "INFO:absl:TPU has inputs with dynamic shapes: [<tf.Tensor 'Const:0' shape=() dtype=int32>, <tf.Tensor 'cond_8/Identity:0' shape=(None, 40) dtype=int32>, <tf.Tensor 'cond_8/Identity_1:0' shape=(None,) dtype=int64>]\n"
          ],
          "name": "stderr"
        },
        {
          "output_type": "stream",
          "text": [
            "3/3 [==============================] - 14s 2s/step - loss: 0.7273 - accuracy: 0.4783 - val_loss: 0.7130 - val_accuracy: 0.4731\n",
            "Epoch 2/1000\n",
            "3/3 [==============================] - 1s 260ms/step - loss: 0.6921 - accuracy: 0.5381 - val_loss: 0.6846 - val_accuracy: 0.5806\n",
            "Epoch 3/1000\n",
            "3/3 [==============================] - 1s 252ms/step - loss: 0.6611 - accuracy: 0.6088 - val_loss: 0.6781 - val_accuracy: 0.5914\n",
            "Epoch 4/1000\n",
            "3/3 [==============================] - 1s 265ms/step - loss: 0.6057 - accuracy: 0.7958 - val_loss: 0.6732 - val_accuracy: 0.5914\n",
            "Epoch 5/1000\n",
            "3/3 [==============================] - 1s 257ms/step - loss: 0.5279 - accuracy: 0.8663 - val_loss: 0.6926 - val_accuracy: 0.5591\n",
            "Epoch 6/1000\n",
            "3/3 [==============================] - 1s 262ms/step - loss: 0.4219 - accuracy: 0.8676 - val_loss: 0.7239 - val_accuracy: 0.5699\n",
            "Epoch 7/1000\n",
            "3/3 [==============================] - 1s 265ms/step - loss: 0.2876 - accuracy: 0.8961 - val_loss: 0.8386 - val_accuracy: 0.5806\n"
          ],
          "name": "stdout"
        },
        {
          "output_type": "stream",
          "text": [
            "/usr/local/lib/python3.7/dist-packages/keras/engine/sequential.py:450: UserWarning: `model.predict_classes()` is deprecated and will be removed after 2021-01-01. Please use instead:* `np.argmax(model.predict(x), axis=-1)`,   if your model does multi-class classification   (e.g. if it uses a `softmax` last-layer activation).* `(model.predict(x) > 0.5).astype(\"int32\")`,   if your model does binary classification   (e.g. if it uses a `sigmoid` last-layer activation).\n",
            "  warnings.warn('`model.predict_classes()` is deprecated and '\n",
            "INFO:absl:TPU has inputs with dynamic shapes: [<tf.Tensor 'Const:0' shape=() dtype=int32>, <tf.Tensor 'cond_8/Identity:0' shape=(None, 40) dtype=int32>]\n"
          ],
          "name": "stderr"
        },
        {
          "output_type": "stream",
          "text": [
            "Model: \"sequential_15\"\n",
            "_________________________________________________________________\n",
            "Layer (type)                 Output Shape              Param #   \n",
            "=================================================================\n",
            "embedding_15 (Embedding)     (None, 40, 50)            125000    \n",
            "_________________________________________________________________\n",
            "lstm_15 (LSTM)               (None, 50)                20200     \n",
            "_________________________________________________________________\n",
            "dense_15 (Dense)             (None, 1)                 51        \n",
            "=================================================================\n",
            "Total params: 145,251\n",
            "Trainable params: 145,251\n",
            "Non-trainable params: 0\n",
            "_________________________________________________________________\n",
            "Model id: 4\n",
            "   type  ...                                       cleaned_text\n",
            "0  ISTJ  ...  newton universal gravity law mean seriously wo...\n",
            "1  ISTJ  ...  never understood long time people often told s...\n",
            "2  ISTJ  ...  expected try brown instead definitely prefer b...\n",
            "3  ISTJ  ...  cant see keep secret fact could gone either wa...\n",
            "\n",
            "[4 rows x 3 columns]\n",
            "Train shape: (372, 3)\n",
            "Validation shape: (93, 3)\n",
            "Categorial split:\n",
            "   type  ...                                       cleaned_text\n",
            "0     0  ...  newton universal gravity law mean seriously wo...\n",
            "1     0  ...  never understood long time people often told s...\n",
            "2     0  ...  expected try brown instead definitely prefer b...\n",
            "3     0  ...  cant see keep secret fact could gone either wa...\n",
            "\n",
            "[4 rows x 3 columns]\n",
            "Epoch 1/1000\n"
          ],
          "name": "stdout"
        },
        {
          "output_type": "stream",
          "text": [
            "INFO:absl:TPU has inputs with dynamic shapes: [<tf.Tensor 'Const:0' shape=() dtype=int32>, <tf.Tensor 'cond_8/Identity:0' shape=(None, 40) dtype=int32>, <tf.Tensor 'cond_8/Identity_1:0' shape=(None,) dtype=int64>]\n",
            "INFO:absl:TPU has inputs with dynamic shapes: [<tf.Tensor 'Const:0' shape=() dtype=int32>, <tf.Tensor 'cond_8/Identity:0' shape=(None, 40) dtype=int32>, <tf.Tensor 'cond_8/Identity_1:0' shape=(None,) dtype=int64>]\n"
          ],
          "name": "stderr"
        },
        {
          "output_type": "stream",
          "text": [
            "3/3 [==============================] - ETA: 0s - loss: 0.7435 - accuracy: 0.4302 "
          ],
          "name": "stdout"
        },
        {
          "output_type": "stream",
          "text": [
            "INFO:absl:TPU has inputs with dynamic shapes: [<tf.Tensor 'Const:0' shape=() dtype=int32>, <tf.Tensor 'cond_8/Identity:0' shape=(None, 40) dtype=int32>, <tf.Tensor 'cond_8/Identity_1:0' shape=(None,) dtype=int64>]\n"
          ],
          "name": "stderr"
        },
        {
          "output_type": "stream",
          "text": [
            "3/3 [==============================] - 13s 2s/step - loss: 0.7391 - accuracy: 0.4382 - val_loss: 0.6475 - val_accuracy: 0.6667\n",
            "Epoch 2/1000\n",
            "3/3 [==============================] - 1s 283ms/step - loss: 0.6856 - accuracy: 0.5454 - val_loss: 0.6745 - val_accuracy: 0.6667\n",
            "Epoch 3/1000\n",
            "3/3 [==============================] - 1s 280ms/step - loss: 0.6666 - accuracy: 0.6570 - val_loss: 0.7082 - val_accuracy: 0.4301\n",
            "Epoch 4/1000\n",
            "3/3 [==============================] - 1s 293ms/step - loss: 0.6263 - accuracy: 0.8107 - val_loss: 0.6888 - val_accuracy: 0.5376\n"
          ],
          "name": "stdout"
        },
        {
          "output_type": "stream",
          "text": [
            "/usr/local/lib/python3.7/dist-packages/keras/engine/sequential.py:450: UserWarning: `model.predict_classes()` is deprecated and will be removed after 2021-01-01. Please use instead:* `np.argmax(model.predict(x), axis=-1)`,   if your model does multi-class classification   (e.g. if it uses a `softmax` last-layer activation).* `(model.predict(x) > 0.5).astype(\"int32\")`,   if your model does binary classification   (e.g. if it uses a `sigmoid` last-layer activation).\n",
            "  warnings.warn('`model.predict_classes()` is deprecated and '\n",
            "INFO:absl:TPU has inputs with dynamic shapes: [<tf.Tensor 'Const:0' shape=() dtype=int32>, <tf.Tensor 'cond_8/Identity:0' shape=(None, 40) dtype=int32>]\n"
          ],
          "name": "stderr"
        }
      ]
    },
    {
      "cell_type": "markdown",
      "metadata": {
        "id": "nGL1AdagplRr"
      },
      "source": [
        "#### Trainning using LSTM using learning rate 0.001"
      ]
    },
    {
      "cell_type": "code",
      "metadata": {
        "id": "vey9birpEqiI",
        "colab": {
          "base_uri": "https://localhost:8080/"
        },
        "outputId": "6d2a5fe7-7e34-468e-ba34-96a4f4b6d9c8"
      },
      "source": [
        "model_names = [\"conf_mat_lstm_001_IE\", \n",
        "               \"conf_mat_lstm_001_NS\", \n",
        "               \"conf_mat_lstm_001_FT\",\n",
        "               \"conf_mat_lstm_001_PJ\"]\n",
        "if not os.path.exists(\"personality_analysis_results/lstm\"): os.mkdir(\"personality_analysis_results/lstm\")\n",
        "\n",
        "for i in range (4):\n",
        "  data = copy.deepcopy(DATA_IMMUTE)\n",
        "  run_model(i+1, \"lstm\", model_names[i])\n"
      ],
      "execution_count": null,
      "outputs": [
        {
          "output_type": "stream",
          "text": [
            "Model: \"sequential_16\"\n",
            "_________________________________________________________________\n",
            "Layer (type)                 Output Shape              Param #   \n",
            "=================================================================\n",
            "embedding_16 (Embedding)     (None, 40, 50)            125000    \n",
            "_________________________________________________________________\n",
            "lstm_16 (LSTM)               (None, 50)                20200     \n",
            "_________________________________________________________________\n",
            "dense_16 (Dense)             (None, 1)                 51        \n",
            "=================================================================\n",
            "Total params: 145,251\n",
            "Trainable params: 145,251\n",
            "Non-trainable params: 0\n",
            "_________________________________________________________________\n",
            "Model id: 1\n",
            "   type  ...                                       cleaned_text\n",
            "0  ISTJ  ...  newton universal gravity law mean seriously wo...\n",
            "1  ISTJ  ...  never understood long time people often told s...\n",
            "2  ISTJ  ...  expected try brown instead definitely prefer b...\n",
            "3  ISTJ  ...  cant see keep secret fact could gone either wa...\n",
            "\n",
            "[4 rows x 3 columns]\n",
            "Train shape: (372, 3)\n",
            "Validation shape: (93, 3)\n",
            "Categorial split:\n",
            "   type  ...                                       cleaned_text\n",
            "0     1  ...  newton universal gravity law mean seriously wo...\n",
            "1     1  ...  never understood long time people often told s...\n",
            "2     1  ...  expected try brown instead definitely prefer b...\n",
            "3     1  ...  cant see keep secret fact could gone either wa...\n",
            "\n",
            "[4 rows x 3 columns]\n",
            "Epoch 1/1000\n"
          ],
          "name": "stdout"
        },
        {
          "output_type": "stream",
          "text": [
            "INFO:absl:TPU has inputs with dynamic shapes: [<tf.Tensor 'Const:0' shape=() dtype=int32>, <tf.Tensor 'cond_8/Identity:0' shape=(None, 40) dtype=int32>, <tf.Tensor 'cond_8/Identity_1:0' shape=(None,) dtype=int64>]\n",
            "INFO:absl:TPU has inputs with dynamic shapes: [<tf.Tensor 'Const:0' shape=() dtype=int32>, <tf.Tensor 'cond_8/Identity:0' shape=(None, 40) dtype=int32>, <tf.Tensor 'cond_8/Identity_1:0' shape=(None,) dtype=int64>]\n"
          ],
          "name": "stderr"
        },
        {
          "output_type": "stream",
          "text": [
            "3/3 [==============================] - ETA: 0s - loss: 0.6970 - accuracy: 0.4807 "
          ],
          "name": "stdout"
        },
        {
          "output_type": "stream",
          "text": [
            "INFO:absl:TPU has inputs with dynamic shapes: [<tf.Tensor 'Const:0' shape=() dtype=int32>, <tf.Tensor 'cond_8/Identity:0' shape=(None, 40) dtype=int32>, <tf.Tensor 'cond_8/Identity_1:0' shape=(None,) dtype=int64>]\n"
          ],
          "name": "stderr"
        },
        {
          "output_type": "stream",
          "text": [
            "3/3 [==============================] - 14s 2s/step - loss: 0.6968 - accuracy: 0.4808 - val_loss: 0.6951 - val_accuracy: 0.4839\n",
            "Epoch 2/1000\n",
            "3/3 [==============================] - 1s 283ms/step - loss: 0.6924 - accuracy: 0.4940 - val_loss: 0.6973 - val_accuracy: 0.4839\n",
            "Epoch 3/1000\n",
            "3/3 [==============================] - 1s 274ms/step - loss: 0.6894 - accuracy: 0.5286 - val_loss: 0.6991 - val_accuracy: 0.4839\n",
            "Epoch 4/1000\n",
            "3/3 [==============================] - 1s 274ms/step - loss: 0.6883 - accuracy: 0.5188 - val_loss: 0.6963 - val_accuracy: 0.5054\n"
          ],
          "name": "stdout"
        },
        {
          "output_type": "stream",
          "text": [
            "/usr/local/lib/python3.7/dist-packages/keras/engine/sequential.py:450: UserWarning: `model.predict_classes()` is deprecated and will be removed after 2021-01-01. Please use instead:* `np.argmax(model.predict(x), axis=-1)`,   if your model does multi-class classification   (e.g. if it uses a `softmax` last-layer activation).* `(model.predict(x) > 0.5).astype(\"int32\")`,   if your model does binary classification   (e.g. if it uses a `sigmoid` last-layer activation).\n",
            "  warnings.warn('`model.predict_classes()` is deprecated and '\n",
            "INFO:absl:TPU has inputs with dynamic shapes: [<tf.Tensor 'Const:0' shape=() dtype=int32>, <tf.Tensor 'cond_8/Identity:0' shape=(None, 40) dtype=int32>]\n"
          ],
          "name": "stderr"
        },
        {
          "output_type": "stream",
          "text": [
            "Model: \"sequential_17\"\n",
            "_________________________________________________________________\n",
            "Layer (type)                 Output Shape              Param #   \n",
            "=================================================================\n",
            "embedding_17 (Embedding)     (None, 40, 50)            125000    \n",
            "_________________________________________________________________\n",
            "lstm_17 (LSTM)               (None, 50)                20200     \n",
            "_________________________________________________________________\n",
            "dense_17 (Dense)             (None, 1)                 51        \n",
            "=================================================================\n",
            "Total params: 145,251\n",
            "Trainable params: 145,251\n",
            "Non-trainable params: 0\n",
            "_________________________________________________________________\n",
            "Model id: 2\n",
            "   type  ...                                       cleaned_text\n",
            "0  ISTJ  ...  newton universal gravity law mean seriously wo...\n",
            "1  ISTJ  ...  never understood long time people often told s...\n",
            "2  ISTJ  ...  expected try brown instead definitely prefer b...\n",
            "3  ISTJ  ...  cant see keep secret fact could gone either wa...\n",
            "\n",
            "[4 rows x 3 columns]\n",
            "Train shape: (372, 3)\n",
            "Validation shape: (93, 3)\n",
            "Categorial split:\n",
            "   type  ...                                       cleaned_text\n",
            "0     1  ...  newton universal gravity law mean seriously wo...\n",
            "1     1  ...  never understood long time people often told s...\n",
            "2     1  ...  expected try brown instead definitely prefer b...\n",
            "3     1  ...  cant see keep secret fact could gone either wa...\n",
            "\n",
            "[4 rows x 3 columns]\n",
            "Epoch 1/1000\n"
          ],
          "name": "stdout"
        },
        {
          "output_type": "stream",
          "text": [
            "INFO:absl:TPU has inputs with dynamic shapes: [<tf.Tensor 'Const:0' shape=() dtype=int32>, <tf.Tensor 'cond_8/Identity:0' shape=(None, 40) dtype=int32>, <tf.Tensor 'cond_8/Identity_1:0' shape=(None,) dtype=int64>]\n",
            "INFO:absl:TPU has inputs with dynamic shapes: [<tf.Tensor 'Const:0' shape=() dtype=int32>, <tf.Tensor 'cond_8/Identity:0' shape=(None, 40) dtype=int32>, <tf.Tensor 'cond_8/Identity_1:0' shape=(None,) dtype=int64>]\n"
          ],
          "name": "stderr"
        },
        {
          "output_type": "stream",
          "text": [
            "3/3 [==============================] - ETA: 0s - loss: 0.6993 - accuracy: 0.5486 "
          ],
          "name": "stdout"
        },
        {
          "output_type": "stream",
          "text": [
            "INFO:absl:TPU has inputs with dynamic shapes: [<tf.Tensor 'Const:0' shape=() dtype=int32>, <tf.Tensor 'cond_8/Identity:0' shape=(None, 40) dtype=int32>, <tf.Tensor 'cond_8/Identity_1:0' shape=(None,) dtype=int64>]\n"
          ],
          "name": "stderr"
        },
        {
          "output_type": "stream",
          "text": [
            "3/3 [==============================] - 13s 2s/step - loss: 0.6995 - accuracy: 0.5465 - val_loss: 0.6772 - val_accuracy: 0.5914\n",
            "Epoch 2/1000\n",
            "3/3 [==============================] - 1s 275ms/step - loss: 0.6831 - accuracy: 0.5579 - val_loss: 0.6855 - val_accuracy: 0.5914\n",
            "Epoch 3/1000\n",
            "3/3 [==============================] - 1s 269ms/step - loss: 0.6883 - accuracy: 0.5557 - val_loss: 0.6916 - val_accuracy: 0.5161\n",
            "Epoch 4/1000\n",
            "3/3 [==============================] - 1s 256ms/step - loss: 0.6885 - accuracy: 0.5502 - val_loss: 0.6867 - val_accuracy: 0.6129\n"
          ],
          "name": "stdout"
        },
        {
          "output_type": "stream",
          "text": [
            "/usr/local/lib/python3.7/dist-packages/keras/engine/sequential.py:450: UserWarning: `model.predict_classes()` is deprecated and will be removed after 2021-01-01. Please use instead:* `np.argmax(model.predict(x), axis=-1)`,   if your model does multi-class classification   (e.g. if it uses a `softmax` last-layer activation).* `(model.predict(x) > 0.5).astype(\"int32\")`,   if your model does binary classification   (e.g. if it uses a `sigmoid` last-layer activation).\n",
            "  warnings.warn('`model.predict_classes()` is deprecated and '\n",
            "INFO:absl:TPU has inputs with dynamic shapes: [<tf.Tensor 'Const:0' shape=() dtype=int32>, <tf.Tensor 'cond_8/Identity:0' shape=(None, 40) dtype=int32>]\n"
          ],
          "name": "stderr"
        },
        {
          "output_type": "stream",
          "text": [
            "Model: \"sequential_18\"\n",
            "_________________________________________________________________\n",
            "Layer (type)                 Output Shape              Param #   \n",
            "=================================================================\n",
            "embedding_18 (Embedding)     (None, 40, 50)            125000    \n",
            "_________________________________________________________________\n",
            "lstm_18 (LSTM)               (None, 50)                20200     \n",
            "_________________________________________________________________\n",
            "dense_18 (Dense)             (None, 1)                 51        \n",
            "=================================================================\n",
            "Total params: 145,251\n",
            "Trainable params: 145,251\n",
            "Non-trainable params: 0\n",
            "_________________________________________________________________\n",
            "Model id: 3\n",
            "   type  ...                                       cleaned_text\n",
            "0  ISTJ  ...  newton universal gravity law mean seriously wo...\n",
            "1  ISTJ  ...  never understood long time people often told s...\n",
            "2  ISTJ  ...  expected try brown instead definitely prefer b...\n",
            "3  ISTJ  ...  cant see keep secret fact could gone either wa...\n",
            "\n",
            "[4 rows x 3 columns]\n",
            "Train shape: (372, 3)\n",
            "Validation shape: (93, 3)\n",
            "Categorial split:\n",
            "   type  ...                                       cleaned_text\n",
            "0     1  ...  newton universal gravity law mean seriously wo...\n",
            "1     1  ...  never understood long time people often told s...\n",
            "2     1  ...  expected try brown instead definitely prefer b...\n",
            "3     1  ...  cant see keep secret fact could gone either wa...\n",
            "\n",
            "[4 rows x 3 columns]\n",
            "Epoch 1/1000\n"
          ],
          "name": "stdout"
        },
        {
          "output_type": "stream",
          "text": [
            "INFO:absl:TPU has inputs with dynamic shapes: [<tf.Tensor 'Const:0' shape=() dtype=int32>, <tf.Tensor 'cond_8/Identity:0' shape=(None, 40) dtype=int32>, <tf.Tensor 'cond_8/Identity_1:0' shape=(None,) dtype=int64>]\n",
            "INFO:absl:TPU has inputs with dynamic shapes: [<tf.Tensor 'Const:0' shape=() dtype=int32>, <tf.Tensor 'cond_8/Identity:0' shape=(None, 40) dtype=int32>, <tf.Tensor 'cond_8/Identity_1:0' shape=(None,) dtype=int64>]\n"
          ],
          "name": "stderr"
        },
        {
          "output_type": "stream",
          "text": [
            "3/3 [==============================] - ETA: 0s - loss: 0.7285 - accuracy: 0.5031 "
          ],
          "name": "stdout"
        },
        {
          "output_type": "stream",
          "text": [
            "INFO:absl:TPU has inputs with dynamic shapes: [<tf.Tensor 'Const:0' shape=() dtype=int32>, <tf.Tensor 'cond_8/Identity:0' shape=(None, 40) dtype=int32>, <tf.Tensor 'cond_8/Identity_1:0' shape=(None,) dtype=int64>]\n"
          ],
          "name": "stderr"
        },
        {
          "output_type": "stream",
          "text": [
            "3/3 [==============================] - 13s 2s/step - loss: 0.7269 - accuracy: 0.5037 - val_loss: 0.7142 - val_accuracy: 0.4731\n",
            "Epoch 2/1000\n",
            "3/3 [==============================] - 1s 257ms/step - loss: 0.6956 - accuracy: 0.5125 - val_loss: 0.6965 - val_accuracy: 0.4409\n",
            "Epoch 3/1000\n",
            "3/3 [==============================] - 1s 265ms/step - loss: 0.6875 - accuracy: 0.5697 - val_loss: 0.6924 - val_accuracy: 0.5591\n",
            "Epoch 4/1000\n",
            "3/3 [==============================] - 1s 265ms/step - loss: 0.6900 - accuracy: 0.5425 - val_loss: 0.6930 - val_accuracy: 0.5054\n",
            "Epoch 5/1000\n",
            "3/3 [==============================] - 1s 293ms/step - loss: 0.6859 - accuracy: 0.5343 - val_loss: 0.6931 - val_accuracy: 0.5054\n",
            "Epoch 6/1000\n",
            "3/3 [==============================] - 1s 267ms/step - loss: 0.6895 - accuracy: 0.5267 - val_loss: 0.6922 - val_accuracy: 0.5484\n",
            "Epoch 7/1000\n",
            "3/3 [==============================] - 1s 280ms/step - loss: 0.6834 - accuracy: 0.5637 - val_loss: 0.6925 - val_accuracy: 0.5699\n",
            "Epoch 8/1000\n",
            "3/3 [==============================] - 1s 274ms/step - loss: 0.6802 - accuracy: 0.5826 - val_loss: 0.6948 - val_accuracy: 0.5269\n",
            "Epoch 9/1000\n",
            "3/3 [==============================] - 1s 271ms/step - loss: 0.6777 - accuracy: 0.6114 - val_loss: 0.6972 - val_accuracy: 0.4409\n"
          ],
          "name": "stdout"
        },
        {
          "output_type": "stream",
          "text": [
            "/usr/local/lib/python3.7/dist-packages/keras/engine/sequential.py:450: UserWarning: `model.predict_classes()` is deprecated and will be removed after 2021-01-01. Please use instead:* `np.argmax(model.predict(x), axis=-1)`,   if your model does multi-class classification   (e.g. if it uses a `softmax` last-layer activation).* `(model.predict(x) > 0.5).astype(\"int32\")`,   if your model does binary classification   (e.g. if it uses a `sigmoid` last-layer activation).\n",
            "  warnings.warn('`model.predict_classes()` is deprecated and '\n",
            "INFO:absl:TPU has inputs with dynamic shapes: [<tf.Tensor 'Const:0' shape=() dtype=int32>, <tf.Tensor 'cond_8/Identity:0' shape=(None, 40) dtype=int32>]\n"
          ],
          "name": "stderr"
        },
        {
          "output_type": "stream",
          "text": [
            "Model: \"sequential_19\"\n",
            "_________________________________________________________________\n",
            "Layer (type)                 Output Shape              Param #   \n",
            "=================================================================\n",
            "embedding_19 (Embedding)     (None, 40, 50)            125000    \n",
            "_________________________________________________________________\n",
            "lstm_19 (LSTM)               (None, 50)                20200     \n",
            "_________________________________________________________________\n",
            "dense_19 (Dense)             (None, 1)                 51        \n",
            "=================================================================\n",
            "Total params: 145,251\n",
            "Trainable params: 145,251\n",
            "Non-trainable params: 0\n",
            "_________________________________________________________________\n",
            "Model id: 4\n",
            "   type  ...                                       cleaned_text\n",
            "0  ISTJ  ...  newton universal gravity law mean seriously wo...\n",
            "1  ISTJ  ...  never understood long time people often told s...\n",
            "2  ISTJ  ...  expected try brown instead definitely prefer b...\n",
            "3  ISTJ  ...  cant see keep secret fact could gone either wa...\n",
            "\n",
            "[4 rows x 3 columns]\n",
            "Train shape: (372, 3)\n",
            "Validation shape: (93, 3)\n",
            "Categorial split:\n",
            "   type  ...                                       cleaned_text\n",
            "0     0  ...  newton universal gravity law mean seriously wo...\n",
            "1     0  ...  never understood long time people often told s...\n",
            "2     0  ...  expected try brown instead definitely prefer b...\n",
            "3     0  ...  cant see keep secret fact could gone either wa...\n",
            "\n",
            "[4 rows x 3 columns]\n",
            "Epoch 1/1000\n"
          ],
          "name": "stdout"
        },
        {
          "output_type": "stream",
          "text": [
            "INFO:absl:TPU has inputs with dynamic shapes: [<tf.Tensor 'Const:0' shape=() dtype=int32>, <tf.Tensor 'cond_8/Identity:0' shape=(None, 40) dtype=int32>, <tf.Tensor 'cond_8/Identity_1:0' shape=(None,) dtype=int64>]\n",
            "INFO:absl:TPU has inputs with dynamic shapes: [<tf.Tensor 'Const:0' shape=() dtype=int32>, <tf.Tensor 'cond_8/Identity:0' shape=(None, 40) dtype=int32>, <tf.Tensor 'cond_8/Identity_1:0' shape=(None,) dtype=int64>]\n"
          ],
          "name": "stderr"
        },
        {
          "output_type": "stream",
          "text": [
            "3/3 [==============================] - ETA: 0s - loss: 0.7098 - accuracy: 0.5381 "
          ],
          "name": "stdout"
        },
        {
          "output_type": "stream",
          "text": [
            "INFO:absl:TPU has inputs with dynamic shapes: [<tf.Tensor 'Const:0' shape=() dtype=int32>, <tf.Tensor 'cond_8/Identity:0' shape=(None, 40) dtype=int32>, <tf.Tensor 'cond_8/Identity_1:0' shape=(None,) dtype=int64>]\n"
          ],
          "name": "stderr"
        },
        {
          "output_type": "stream",
          "text": [
            "3/3 [==============================] - 14s 3s/step - loss: 0.7093 - accuracy: 0.5366 - val_loss: 0.6481 - val_accuracy: 0.6667\n",
            "Epoch 2/1000\n",
            "3/3 [==============================] - 1s 269ms/step - loss: 0.6909 - accuracy: 0.5357 - val_loss: 0.6687 - val_accuracy: 0.6667\n",
            "Epoch 3/1000\n",
            "3/3 [==============================] - 1s 287ms/step - loss: 0.6877 - accuracy: 0.5462 - val_loss: 0.6886 - val_accuracy: 0.5914\n",
            "Epoch 4/1000\n",
            "3/3 [==============================] - 1s 273ms/step - loss: 0.6875 - accuracy: 0.5670 - val_loss: 0.6967 - val_accuracy: 0.4409\n"
          ],
          "name": "stdout"
        },
        {
          "output_type": "stream",
          "text": [
            "/usr/local/lib/python3.7/dist-packages/keras/engine/sequential.py:450: UserWarning: `model.predict_classes()` is deprecated and will be removed after 2021-01-01. Please use instead:* `np.argmax(model.predict(x), axis=-1)`,   if your model does multi-class classification   (e.g. if it uses a `softmax` last-layer activation).* `(model.predict(x) > 0.5).astype(\"int32\")`,   if your model does binary classification   (e.g. if it uses a `sigmoid` last-layer activation).\n",
            "  warnings.warn('`model.predict_classes()` is deprecated and '\n",
            "INFO:absl:TPU has inputs with dynamic shapes: [<tf.Tensor 'Const:0' shape=() dtype=int32>, <tf.Tensor 'cond_8/Identity:0' shape=(None, 40) dtype=int32>]\n"
          ],
          "name": "stderr"
        }
      ]
    },
    {
      "cell_type": "markdown",
      "metadata": {
        "id": "Wvpf1J6grhkZ"
      },
      "source": [
        "#### Training using LSTM using learning rate 0.001"
      ]
    },
    {
      "cell_type": "code",
      "metadata": {
        "id": "otkGVca1-mfA",
        "colab": {
          "base_uri": "https://localhost:8080/"
        },
        "outputId": "1b9d0e04-cb57-4a63-eda5-8bd4dcc5152f"
      },
      "source": [
        "model_names = [\"conf_mat_lstm_0001_IE\", \n",
        "               \"conf_mat_lstm_0001_NS\", \n",
        "               \"conf_mat_lstm_0001_FT\",\n",
        "               \"conf_mat_lstm_0001_PJ\"]\n",
        "if not os.path.exists(\"personality_analysis_results/lstm\"): os.mkdir(\"personality_analysis_results/lstm\")\n",
        "\n",
        "for i in range (4):\n",
        "  data = copy.deepcopy(DATA_IMMUTE)\n",
        "  run_model(i+1, \"lstm\", model_names[i])\n"
      ],
      "execution_count": null,
      "outputs": [
        {
          "output_type": "stream",
          "text": [
            "Model: \"sequential_20\"\n",
            "_________________________________________________________________\n",
            "Layer (type)                 Output Shape              Param #   \n",
            "=================================================================\n",
            "embedding_20 (Embedding)     (None, 40, 50)            125000    \n",
            "_________________________________________________________________\n",
            "lstm_20 (LSTM)               (None, 50)                20200     \n",
            "_________________________________________________________________\n",
            "dense_20 (Dense)             (None, 1)                 51        \n",
            "=================================================================\n",
            "Total params: 145,251\n",
            "Trainable params: 145,251\n",
            "Non-trainable params: 0\n",
            "_________________________________________________________________\n",
            "Model id: 1\n",
            "   type  ...                                       cleaned_text\n",
            "0  ISTJ  ...  newton universal gravity law mean seriously wo...\n",
            "1  ISTJ  ...  never understood long time people often told s...\n",
            "2  ISTJ  ...  expected try brown instead definitely prefer b...\n",
            "3  ISTJ  ...  cant see keep secret fact could gone either wa...\n",
            "\n",
            "[4 rows x 3 columns]\n",
            "Train shape: (372, 3)\n",
            "Validation shape: (93, 3)\n",
            "Categorial split:\n",
            "   type  ...                                       cleaned_text\n",
            "0     1  ...  newton universal gravity law mean seriously wo...\n",
            "1     1  ...  never understood long time people often told s...\n",
            "2     1  ...  expected try brown instead definitely prefer b...\n",
            "3     1  ...  cant see keep secret fact could gone either wa...\n",
            "\n",
            "[4 rows x 3 columns]\n",
            "Epoch 1/1000\n"
          ],
          "name": "stdout"
        },
        {
          "output_type": "stream",
          "text": [
            "INFO:absl:TPU has inputs with dynamic shapes: [<tf.Tensor 'Const:0' shape=() dtype=int32>, <tf.Tensor 'cond_8/Identity:0' shape=(None, 40) dtype=int32>, <tf.Tensor 'cond_8/Identity_1:0' shape=(None,) dtype=int64>]\n",
            "INFO:absl:TPU has inputs with dynamic shapes: [<tf.Tensor 'Const:0' shape=() dtype=int32>, <tf.Tensor 'cond_8/Identity:0' shape=(None, 40) dtype=int32>, <tf.Tensor 'cond_8/Identity_1:0' shape=(None,) dtype=int64>]\n"
          ],
          "name": "stderr"
        },
        {
          "output_type": "stream",
          "text": [
            "3/3 [==============================] - ETA: 0s - loss: 0.7305 - accuracy: 0.4829 "
          ],
          "name": "stdout"
        },
        {
          "output_type": "stream",
          "text": [
            "INFO:absl:TPU has inputs with dynamic shapes: [<tf.Tensor 'Const:0' shape=() dtype=int32>, <tf.Tensor 'cond_8/Identity:0' shape=(None, 40) dtype=int32>, <tf.Tensor 'cond_8/Identity_1:0' shape=(None,) dtype=int64>]\n"
          ],
          "name": "stderr"
        },
        {
          "output_type": "stream",
          "text": [
            "3/3 [==============================] - 13s 2s/step - loss: 0.7302 - accuracy: 0.4831 - val_loss: 0.7123 - val_accuracy: 0.5161\n",
            "Epoch 2/1000\n",
            "3/3 [==============================] - 1s 291ms/step - loss: 0.7461 - accuracy: 0.4421 - val_loss: 0.7098 - val_accuracy: 0.5161\n",
            "Epoch 3/1000\n",
            "3/3 [==============================] - 1s 301ms/step - loss: 0.7134 - accuracy: 0.5066 - val_loss: 0.7077 - val_accuracy: 0.5161\n",
            "Epoch 4/1000\n",
            "3/3 [==============================] - 1s 273ms/step - loss: 0.7243 - accuracy: 0.4744 - val_loss: 0.7055 - val_accuracy: 0.5161\n",
            "Epoch 5/1000\n",
            "3/3 [==============================] - 1s 276ms/step - loss: 0.7253 - accuracy: 0.4617 - val_loss: 0.7036 - val_accuracy: 0.5161\n",
            "Epoch 6/1000\n",
            "3/3 [==============================] - 1s 288ms/step - loss: 0.7102 - accuracy: 0.4978 - val_loss: 0.7019 - val_accuracy: 0.5161\n",
            "Epoch 7/1000\n",
            "3/3 [==============================] - 1s 274ms/step - loss: 0.7101 - accuracy: 0.4890 - val_loss: 0.7003 - val_accuracy: 0.5161\n",
            "Epoch 8/1000\n",
            "3/3 [==============================] - 1s 280ms/step - loss: 0.7094 - accuracy: 0.4831 - val_loss: 0.6989 - val_accuracy: 0.5161\n",
            "Epoch 9/1000\n",
            "3/3 [==============================] - 1s 291ms/step - loss: 0.6985 - accuracy: 0.5144 - val_loss: 0.6977 - val_accuracy: 0.5161\n",
            "Epoch 10/1000\n",
            "3/3 [==============================] - 1s 282ms/step - loss: 0.7031 - accuracy: 0.4919 - val_loss: 0.6966 - val_accuracy: 0.5161\n",
            "Epoch 11/1000\n",
            "3/3 [==============================] - 1s 286ms/step - loss: 0.6998 - accuracy: 0.4968 - val_loss: 0.6957 - val_accuracy: 0.5161\n",
            "Epoch 12/1000\n",
            "3/3 [==============================] - 1s 291ms/step - loss: 0.7008 - accuracy: 0.4871 - val_loss: 0.6949 - val_accuracy: 0.5161\n",
            "Epoch 13/1000\n",
            "3/3 [==============================] - 1s 285ms/step - loss: 0.7007 - accuracy: 0.4851 - val_loss: 0.6942 - val_accuracy: 0.5161\n",
            "Epoch 14/1000\n",
            "3/3 [==============================] - 1s 288ms/step - loss: 0.7001 - accuracy: 0.4802 - val_loss: 0.6937 - val_accuracy: 0.5161\n",
            "Epoch 15/1000\n",
            "3/3 [==============================] - 1s 274ms/step - loss: 0.6996 - accuracy: 0.4773 - val_loss: 0.6933 - val_accuracy: 0.5161\n",
            "Epoch 16/1000\n",
            "3/3 [==============================] - 1s 281ms/step - loss: 0.6947 - accuracy: 0.4949 - val_loss: 0.6930 - val_accuracy: 0.5161\n",
            "Epoch 17/1000\n",
            "3/3 [==============================] - 1s 287ms/step - loss: 0.6965 - accuracy: 0.4825 - val_loss: 0.6927 - val_accuracy: 0.5161\n",
            "Epoch 18/1000\n",
            "3/3 [==============================] - 1s 316ms/step - loss: 0.6945 - accuracy: 0.4919 - val_loss: 0.6926 - val_accuracy: 0.5161\n",
            "Epoch 19/1000\n",
            "3/3 [==============================] - 1s 276ms/step - loss: 0.6946 - accuracy: 0.4980 - val_loss: 0.6925 - val_accuracy: 0.5054\n",
            "Epoch 20/1000\n",
            "3/3 [==============================] - 1s 278ms/step - loss: 0.6935 - accuracy: 0.5015 - val_loss: 0.6925 - val_accuracy: 0.5269\n",
            "Epoch 21/1000\n",
            "3/3 [==============================] - 1s 265ms/step - loss: 0.6940 - accuracy: 0.4730 - val_loss: 0.6925 - val_accuracy: 0.5269\n",
            "Epoch 22/1000\n",
            "3/3 [==============================] - 1s 260ms/step - loss: 0.6914 - accuracy: 0.5284 - val_loss: 0.6925 - val_accuracy: 0.5376\n",
            "Epoch 23/1000\n",
            "3/3 [==============================] - 1s 268ms/step - loss: 0.6918 - accuracy: 0.5098 - val_loss: 0.6926 - val_accuracy: 0.5054\n"
          ],
          "name": "stdout"
        },
        {
          "output_type": "stream",
          "text": [
            "/usr/local/lib/python3.7/dist-packages/keras/engine/sequential.py:450: UserWarning: `model.predict_classes()` is deprecated and will be removed after 2021-01-01. Please use instead:* `np.argmax(model.predict(x), axis=-1)`,   if your model does multi-class classification   (e.g. if it uses a `softmax` last-layer activation).* `(model.predict(x) > 0.5).astype(\"int32\")`,   if your model does binary classification   (e.g. if it uses a `sigmoid` last-layer activation).\n",
            "  warnings.warn('`model.predict_classes()` is deprecated and '\n",
            "INFO:absl:TPU has inputs with dynamic shapes: [<tf.Tensor 'Const:0' shape=() dtype=int32>, <tf.Tensor 'cond_8/Identity:0' shape=(None, 40) dtype=int32>]\n"
          ],
          "name": "stderr"
        },
        {
          "output_type": "stream",
          "text": [
            "Model: \"sequential_21\"\n",
            "_________________________________________________________________\n",
            "Layer (type)                 Output Shape              Param #   \n",
            "=================================================================\n",
            "embedding_21 (Embedding)     (None, 40, 50)            125000    \n",
            "_________________________________________________________________\n",
            "lstm_21 (LSTM)               (None, 50)                20200     \n",
            "_________________________________________________________________\n",
            "dense_21 (Dense)             (None, 1)                 51        \n",
            "=================================================================\n",
            "Total params: 145,251\n",
            "Trainable params: 145,251\n",
            "Non-trainable params: 0\n",
            "_________________________________________________________________\n",
            "Model id: 2\n",
            "   type  ...                                       cleaned_text\n",
            "0  ISTJ  ...  newton universal gravity law mean seriously wo...\n",
            "1  ISTJ  ...  never understood long time people often told s...\n",
            "2  ISTJ  ...  expected try brown instead definitely prefer b...\n",
            "3  ISTJ  ...  cant see keep secret fact could gone either wa...\n",
            "\n",
            "[4 rows x 3 columns]\n",
            "Train shape: (372, 3)\n",
            "Validation shape: (93, 3)\n",
            "Categorial split:\n",
            "   type  ...                                       cleaned_text\n",
            "0     1  ...  newton universal gravity law mean seriously wo...\n",
            "1     1  ...  never understood long time people often told s...\n",
            "2     1  ...  expected try brown instead definitely prefer b...\n",
            "3     1  ...  cant see keep secret fact could gone either wa...\n",
            "\n",
            "[4 rows x 3 columns]\n",
            "Epoch 1/1000\n"
          ],
          "name": "stdout"
        },
        {
          "output_type": "stream",
          "text": [
            "INFO:absl:TPU has inputs with dynamic shapes: [<tf.Tensor 'Const:0' shape=() dtype=int32>, <tf.Tensor 'cond_8/Identity:0' shape=(None, 40) dtype=int32>, <tf.Tensor 'cond_8/Identity_1:0' shape=(None,) dtype=int64>]\n",
            "INFO:absl:TPU has inputs with dynamic shapes: [<tf.Tensor 'Const:0' shape=() dtype=int32>, <tf.Tensor 'cond_8/Identity:0' shape=(None, 40) dtype=int32>, <tf.Tensor 'cond_8/Identity_1:0' shape=(None,) dtype=int64>]\n"
          ],
          "name": "stderr"
        },
        {
          "output_type": "stream",
          "text": [
            "3/3 [==============================] - ETA: 0s - loss: 0.6914 - accuracy: 0.5382 "
          ],
          "name": "stdout"
        },
        {
          "output_type": "stream",
          "text": [
            "INFO:absl:TPU has inputs with dynamic shapes: [<tf.Tensor 'Const:0' shape=() dtype=int32>, <tf.Tensor 'cond_8/Identity:0' shape=(None, 40) dtype=int32>, <tf.Tensor 'cond_8/Identity_1:0' shape=(None,) dtype=int64>]\n"
          ],
          "name": "stderr"
        },
        {
          "output_type": "stream",
          "text": [
            "3/3 [==============================] - 14s 2s/step - loss: 0.6913 - accuracy: 0.5387 - val_loss: 0.6784 - val_accuracy: 0.5914\n",
            "Epoch 2/1000\n",
            "3/3 [==============================] - 1s 254ms/step - loss: 0.6931 - accuracy: 0.5319 - val_loss: 0.6788 - val_accuracy: 0.5914\n",
            "Epoch 3/1000\n",
            "3/3 [==============================] - 1s 283ms/step - loss: 0.6876 - accuracy: 0.5524 - val_loss: 0.6792 - val_accuracy: 0.5914\n",
            "Epoch 4/1000\n",
            "3/3 [==============================] - 1s 290ms/step - loss: 0.6918 - accuracy: 0.5348 - val_loss: 0.6795 - val_accuracy: 0.5914\n"
          ],
          "name": "stdout"
        },
        {
          "output_type": "stream",
          "text": [
            "/usr/local/lib/python3.7/dist-packages/keras/engine/sequential.py:450: UserWarning: `model.predict_classes()` is deprecated and will be removed after 2021-01-01. Please use instead:* `np.argmax(model.predict(x), axis=-1)`,   if your model does multi-class classification   (e.g. if it uses a `softmax` last-layer activation).* `(model.predict(x) > 0.5).astype(\"int32\")`,   if your model does binary classification   (e.g. if it uses a `sigmoid` last-layer activation).\n",
            "  warnings.warn('`model.predict_classes()` is deprecated and '\n",
            "INFO:absl:TPU has inputs with dynamic shapes: [<tf.Tensor 'Const:0' shape=() dtype=int32>, <tf.Tensor 'cond_8/Identity:0' shape=(None, 40) dtype=int32>]\n"
          ],
          "name": "stderr"
        },
        {
          "output_type": "stream",
          "text": [
            "Model: \"sequential_22\"\n",
            "_________________________________________________________________\n",
            "Layer (type)                 Output Shape              Param #   \n",
            "=================================================================\n",
            "embedding_22 (Embedding)     (None, 40, 50)            125000    \n",
            "_________________________________________________________________\n",
            "lstm_22 (LSTM)               (None, 50)                20200     \n",
            "_________________________________________________________________\n",
            "dense_22 (Dense)             (None, 1)                 51        \n",
            "=================================================================\n",
            "Total params: 145,251\n",
            "Trainable params: 145,251\n",
            "Non-trainable params: 0\n",
            "_________________________________________________________________\n",
            "Model id: 3\n",
            "   type  ...                                       cleaned_text\n",
            "0  ISTJ  ...  newton universal gravity law mean seriously wo...\n",
            "1  ISTJ  ...  never understood long time people often told s...\n",
            "2  ISTJ  ...  expected try brown instead definitely prefer b...\n",
            "3  ISTJ  ...  cant see keep secret fact could gone either wa...\n",
            "\n",
            "[4 rows x 3 columns]\n",
            "Train shape: (372, 3)\n",
            "Validation shape: (93, 3)\n",
            "Categorial split:\n",
            "   type  ...                                       cleaned_text\n",
            "0     1  ...  newton universal gravity law mean seriously wo...\n",
            "1     1  ...  never understood long time people often told s...\n",
            "2     1  ...  expected try brown instead definitely prefer b...\n",
            "3     1  ...  cant see keep secret fact could gone either wa...\n",
            "\n",
            "[4 rows x 3 columns]\n",
            "Epoch 1/1000\n"
          ],
          "name": "stdout"
        },
        {
          "output_type": "stream",
          "text": [
            "INFO:absl:TPU has inputs with dynamic shapes: [<tf.Tensor 'Const:0' shape=() dtype=int32>, <tf.Tensor 'cond_8/Identity:0' shape=(None, 40) dtype=int32>, <tf.Tensor 'cond_8/Identity_1:0' shape=(None,) dtype=int64>]\n",
            "INFO:absl:TPU has inputs with dynamic shapes: [<tf.Tensor 'Const:0' shape=() dtype=int32>, <tf.Tensor 'cond_8/Identity:0' shape=(None, 40) dtype=int32>, <tf.Tensor 'cond_8/Identity_1:0' shape=(None,) dtype=int64>]\n"
          ],
          "name": "stderr"
        },
        {
          "output_type": "stream",
          "text": [
            "3/3 [==============================] - ETA: 0s - loss: 0.7780 - accuracy: 0.5125 "
          ],
          "name": "stdout"
        },
        {
          "output_type": "stream",
          "text": [
            "INFO:absl:TPU has inputs with dynamic shapes: [<tf.Tensor 'Const:0' shape=() dtype=int32>, <tf.Tensor 'cond_8/Identity:0' shape=(None, 40) dtype=int32>, <tf.Tensor 'cond_8/Identity_1:0' shape=(None,) dtype=int64>]\n"
          ],
          "name": "stderr"
        },
        {
          "output_type": "stream",
          "text": [
            "3/3 [==============================] - 13s 2s/step - loss: 0.7818 - accuracy: 0.5081 - val_loss: 0.7612 - val_accuracy: 0.5269\n",
            "Epoch 2/1000\n",
            "3/3 [==============================] - 1s 251ms/step - loss: 0.7879 - accuracy: 0.4954 - val_loss: 0.7561 - val_accuracy: 0.5269\n",
            "Epoch 3/1000\n",
            "3/3 [==============================] - 1s 270ms/step - loss: 0.7861 - accuracy: 0.4885 - val_loss: 0.7512 - val_accuracy: 0.5269\n",
            "Epoch 4/1000\n",
            "3/3 [==============================] - 1s 272ms/step - loss: 0.7909 - accuracy: 0.4768 - val_loss: 0.7465 - val_accuracy: 0.5269\n",
            "Epoch 5/1000\n",
            "3/3 [==============================] - 1s 262ms/step - loss: 0.7701 - accuracy: 0.4954 - val_loss: 0.7420 - val_accuracy: 0.5269\n",
            "Epoch 6/1000\n",
            "3/3 [==============================] - 1s 268ms/step - loss: 0.7781 - accuracy: 0.4778 - val_loss: 0.7378 - val_accuracy: 0.5269\n",
            "Epoch 7/1000\n",
            "3/3 [==============================] - 1s 256ms/step - loss: 0.7672 - accuracy: 0.4846 - val_loss: 0.7339 - val_accuracy: 0.5269\n",
            "Epoch 8/1000\n",
            "3/3 [==============================] - 1s 289ms/step - loss: 0.7512 - accuracy: 0.5012 - val_loss: 0.7302 - val_accuracy: 0.5269\n",
            "Epoch 9/1000\n",
            "3/3 [==============================] - 1s 664ms/step - loss: 0.7409 - accuracy: 0.5100 - val_loss: 0.7268 - val_accuracy: 0.5269\n",
            "Epoch 10/1000\n",
            "3/3 [==============================] - 1s 285ms/step - loss: 0.7466 - accuracy: 0.4954 - val_loss: 0.7235 - val_accuracy: 0.5269\n",
            "Epoch 11/1000\n",
            "3/3 [==============================] - 1s 271ms/step - loss: 0.7530 - accuracy: 0.4797 - val_loss: 0.7203 - val_accuracy: 0.5269\n",
            "Epoch 12/1000\n",
            "3/3 [==============================] - 1s 274ms/step - loss: 0.7357 - accuracy: 0.5002 - val_loss: 0.7175 - val_accuracy: 0.5269\n",
            "Epoch 13/1000\n",
            "3/3 [==============================] - 1s 273ms/step - loss: 0.7350 - accuracy: 0.4983 - val_loss: 0.7149 - val_accuracy: 0.5269\n",
            "Epoch 14/1000\n",
            "3/3 [==============================] - 1s 275ms/step - loss: 0.7418 - accuracy: 0.4768 - val_loss: 0.7123 - val_accuracy: 0.5269\n",
            "Epoch 15/1000\n",
            "3/3 [==============================] - 1s 259ms/step - loss: 0.7263 - accuracy: 0.5012 - val_loss: 0.7101 - val_accuracy: 0.5269\n",
            "Epoch 16/1000\n",
            "3/3 [==============================] - 1s 275ms/step - loss: 0.7238 - accuracy: 0.4983 - val_loss: 0.7081 - val_accuracy: 0.5269\n",
            "Epoch 17/1000\n",
            "3/3 [==============================] - 1s 278ms/step - loss: 0.7249 - accuracy: 0.4885 - val_loss: 0.7061 - val_accuracy: 0.5269\n",
            "Epoch 18/1000\n",
            "3/3 [==============================] - 1s 280ms/step - loss: 0.7230 - accuracy: 0.4895 - val_loss: 0.7044 - val_accuracy: 0.5269\n",
            "Epoch 19/1000\n",
            "3/3 [==============================] - 1s 271ms/step - loss: 0.7151 - accuracy: 0.5022 - val_loss: 0.7029 - val_accuracy: 0.5269\n",
            "Epoch 20/1000\n",
            "3/3 [==============================] - 1s 280ms/step - loss: 0.7170 - accuracy: 0.4924 - val_loss: 0.7014 - val_accuracy: 0.5269\n",
            "Epoch 21/1000\n",
            "3/3 [==============================] - 1s 273ms/step - loss: 0.7148 - accuracy: 0.4875 - val_loss: 0.7001 - val_accuracy: 0.5269\n",
            "Epoch 22/1000\n",
            "3/3 [==============================] - 1s 292ms/step - loss: 0.7087 - accuracy: 0.5022 - val_loss: 0.6990 - val_accuracy: 0.5269\n",
            "Epoch 23/1000\n",
            "3/3 [==============================] - 1s 301ms/step - loss: 0.7110 - accuracy: 0.4915 - val_loss: 0.6980 - val_accuracy: 0.5269\n",
            "Epoch 24/1000\n",
            "3/3 [==============================] - 1s 275ms/step - loss: 0.7090 - accuracy: 0.4973 - val_loss: 0.6970 - val_accuracy: 0.5269\n",
            "Epoch 25/1000\n",
            "3/3 [==============================] - 1s 286ms/step - loss: 0.7102 - accuracy: 0.4846 - val_loss: 0.6962 - val_accuracy: 0.5269\n",
            "Epoch 26/1000\n",
            "3/3 [==============================] - 1s 294ms/step - loss: 0.7094 - accuracy: 0.4856 - val_loss: 0.6955 - val_accuracy: 0.5269\n",
            "Epoch 27/1000\n",
            "3/3 [==============================] - 1s 274ms/step - loss: 0.7036 - accuracy: 0.4993 - val_loss: 0.6949 - val_accuracy: 0.5269\n",
            "Epoch 28/1000\n",
            "3/3 [==============================] - 1s 277ms/step - loss: 0.7068 - accuracy: 0.4866 - val_loss: 0.6943 - val_accuracy: 0.5269\n",
            "Epoch 29/1000\n",
            "3/3 [==============================] - 1s 265ms/step - loss: 0.6980 - accuracy: 0.5168 - val_loss: 0.6939 - val_accuracy: 0.5269\n",
            "Epoch 30/1000\n",
            "3/3 [==============================] - 1s 265ms/step - loss: 0.7015 - accuracy: 0.4963 - val_loss: 0.6935 - val_accuracy: 0.5269\n",
            "Epoch 31/1000\n",
            "3/3 [==============================] - 1s 274ms/step - loss: 0.6994 - accuracy: 0.5022 - val_loss: 0.6932 - val_accuracy: 0.5269\n",
            "Epoch 32/1000\n",
            "3/3 [==============================] - 1s 264ms/step - loss: 0.6991 - accuracy: 0.4993 - val_loss: 0.6929 - val_accuracy: 0.5269\n",
            "Epoch 33/1000\n",
            "3/3 [==============================] - 1s 274ms/step - loss: 0.7031 - accuracy: 0.4768 - val_loss: 0.6926 - val_accuracy: 0.5269\n",
            "Epoch 34/1000\n",
            "3/3 [==============================] - 1s 265ms/step - loss: 0.7002 - accuracy: 0.4860 - val_loss: 0.6925 - val_accuracy: 0.5269\n",
            "Epoch 35/1000\n",
            "3/3 [==============================] - 1s 260ms/step - loss: 0.6989 - accuracy: 0.4877 - val_loss: 0.6923 - val_accuracy: 0.5269\n",
            "Epoch 36/1000\n",
            "3/3 [==============================] - 1s 268ms/step - loss: 0.6986 - accuracy: 0.4926 - val_loss: 0.6922 - val_accuracy: 0.5269\n",
            "Epoch 37/1000\n",
            "3/3 [==============================] - 1s 257ms/step - loss: 0.6935 - accuracy: 0.5266 - val_loss: 0.6921 - val_accuracy: 0.5269\n",
            "Epoch 38/1000\n",
            "3/3 [==============================] - 1s 264ms/step - loss: 0.6951 - accuracy: 0.5056 - val_loss: 0.6921 - val_accuracy: 0.5376\n",
            "Epoch 39/1000\n",
            "3/3 [==============================] - 1s 260ms/step - loss: 0.6973 - accuracy: 0.4850 - val_loss: 0.6921 - val_accuracy: 0.5376\n",
            "Epoch 40/1000\n",
            "3/3 [==============================] - 1s 259ms/step - loss: 0.6967 - accuracy: 0.5108 - val_loss: 0.6921 - val_accuracy: 0.5269\n",
            "Epoch 41/1000\n",
            "3/3 [==============================] - 1s 265ms/step - loss: 0.6955 - accuracy: 0.5248 - val_loss: 0.6921 - val_accuracy: 0.5161\n",
            "Epoch 42/1000\n",
            "3/3 [==============================] - 1s 259ms/step - loss: 0.6922 - accuracy: 0.5220 - val_loss: 0.6921 - val_accuracy: 0.5269\n",
            "Epoch 43/1000\n",
            "3/3 [==============================] - 1s 245ms/step - loss: 0.6925 - accuracy: 0.5419 - val_loss: 0.6921 - val_accuracy: 0.5269\n"
          ],
          "name": "stdout"
        },
        {
          "output_type": "stream",
          "text": [
            "/usr/local/lib/python3.7/dist-packages/keras/engine/sequential.py:450: UserWarning: `model.predict_classes()` is deprecated and will be removed after 2021-01-01. Please use instead:* `np.argmax(model.predict(x), axis=-1)`,   if your model does multi-class classification   (e.g. if it uses a `softmax` last-layer activation).* `(model.predict(x) > 0.5).astype(\"int32\")`,   if your model does binary classification   (e.g. if it uses a `sigmoid` last-layer activation).\n",
            "  warnings.warn('`model.predict_classes()` is deprecated and '\n",
            "INFO:absl:TPU has inputs with dynamic shapes: [<tf.Tensor 'Const:0' shape=() dtype=int32>, <tf.Tensor 'cond_8/Identity:0' shape=(None, 40) dtype=int32>]\n"
          ],
          "name": "stderr"
        },
        {
          "output_type": "stream",
          "text": [
            "Model: \"sequential_23\"\n",
            "_________________________________________________________________\n",
            "Layer (type)                 Output Shape              Param #   \n",
            "=================================================================\n",
            "embedding_23 (Embedding)     (None, 40, 50)            125000    \n",
            "_________________________________________________________________\n",
            "lstm_23 (LSTM)               (None, 50)                20200     \n",
            "_________________________________________________________________\n",
            "dense_23 (Dense)             (None, 1)                 51        \n",
            "=================================================================\n",
            "Total params: 145,251\n",
            "Trainable params: 145,251\n",
            "Non-trainable params: 0\n",
            "_________________________________________________________________\n",
            "Model id: 4\n",
            "   type  ...                                       cleaned_text\n",
            "0  ISTJ  ...  newton universal gravity law mean seriously wo...\n",
            "1  ISTJ  ...  never understood long time people often told s...\n",
            "2  ISTJ  ...  expected try brown instead definitely prefer b...\n",
            "3  ISTJ  ...  cant see keep secret fact could gone either wa...\n",
            "\n",
            "[4 rows x 3 columns]\n",
            "Train shape: (372, 3)\n",
            "Validation shape: (93, 3)\n",
            "Categorial split:\n",
            "   type  ...                                       cleaned_text\n",
            "0     0  ...  newton universal gravity law mean seriously wo...\n",
            "1     0  ...  never understood long time people often told s...\n",
            "2     0  ...  expected try brown instead definitely prefer b...\n",
            "3     0  ...  cant see keep secret fact could gone either wa...\n",
            "\n",
            "[4 rows x 3 columns]\n",
            "Epoch 1/1000\n"
          ],
          "name": "stdout"
        },
        {
          "output_type": "stream",
          "text": [
            "INFO:absl:TPU has inputs with dynamic shapes: [<tf.Tensor 'Const:0' shape=() dtype=int32>, <tf.Tensor 'cond_8/Identity:0' shape=(None, 40) dtype=int32>, <tf.Tensor 'cond_8/Identity_1:0' shape=(None,) dtype=int64>]\n",
            "INFO:absl:TPU has inputs with dynamic shapes: [<tf.Tensor 'Const:0' shape=() dtype=int32>, <tf.Tensor 'cond_8/Identity:0' shape=(None, 40) dtype=int32>, <tf.Tensor 'cond_8/Identity_1:0' shape=(None,) dtype=int64>]\n"
          ],
          "name": "stderr"
        },
        {
          "output_type": "stream",
          "text": [
            "3/3 [==============================] - ETA: 0s - loss: 0.6990 - accuracy: 0.5134 "
          ],
          "name": "stdout"
        },
        {
          "output_type": "stream",
          "text": [
            "INFO:absl:TPU has inputs with dynamic shapes: [<tf.Tensor 'Const:0' shape=() dtype=int32>, <tf.Tensor 'cond_8/Identity:0' shape=(None, 40) dtype=int32>, <tf.Tensor 'cond_8/Identity_1:0' shape=(None,) dtype=int64>]\n"
          ],
          "name": "stderr"
        },
        {
          "output_type": "stream",
          "text": [
            "3/3 [==============================] - 13s 2s/step - loss: 0.6978 - accuracy: 0.5181 - val_loss: 0.6577 - val_accuracy: 0.6667\n",
            "Epoch 2/1000\n",
            "3/3 [==============================] - 1s 255ms/step - loss: 0.6917 - accuracy: 0.5366 - val_loss: 0.6590 - val_accuracy: 0.6667\n",
            "Epoch 3/1000\n",
            "3/3 [==============================] - 1s 269ms/step - loss: 0.6860 - accuracy: 0.5581 - val_loss: 0.6603 - val_accuracy: 0.6667\n",
            "Epoch 4/1000\n",
            "3/3 [==============================] - 1s 274ms/step - loss: 0.6910 - accuracy: 0.5337 - val_loss: 0.6620 - val_accuracy: 0.6667\n"
          ],
          "name": "stdout"
        },
        {
          "output_type": "stream",
          "text": [
            "/usr/local/lib/python3.7/dist-packages/keras/engine/sequential.py:450: UserWarning: `model.predict_classes()` is deprecated and will be removed after 2021-01-01. Please use instead:* `np.argmax(model.predict(x), axis=-1)`,   if your model does multi-class classification   (e.g. if it uses a `softmax` last-layer activation).* `(model.predict(x) > 0.5).astype(\"int32\")`,   if your model does binary classification   (e.g. if it uses a `sigmoid` last-layer activation).\n",
            "  warnings.warn('`model.predict_classes()` is deprecated and '\n",
            "INFO:absl:TPU has inputs with dynamic shapes: [<tf.Tensor 'Const:0' shape=() dtype=int32>, <tf.Tensor 'cond_8/Identity:0' shape=(None, 40) dtype=int32>]\n"
          ],
          "name": "stderr"
        }
      ]
    },
    {
      "cell_type": "markdown",
      "metadata": {
        "id": "-Nbi5vXzrY7o"
      },
      "source": [
        "#### Training using LSTM using learning rate 0.00001"
      ]
    },
    {
      "cell_type": "code",
      "metadata": {
        "colab": {
          "base_uri": "https://localhost:8080/"
        },
        "id": "W81PrvqR-Xf4",
        "outputId": "19fb2ed7-d68d-4b28-fd8d-36bd23250ca0"
      },
      "source": [
        "model_names = [\"conf_mat_lstm_00001_IE\", \n",
        "               \"conf_mat_lstm_00001_NS\", \n",
        "               \"conf_mat_lstm_00001_FT\",\n",
        "               \"conf_mat_lstm_00001_PJ\"]\n",
        "if not os.path.exists(\"personality_analysis_results/lstm\"): os.mkdir(\"personality_analysis_results/lstm\")\n",
        "\n",
        "for i in range (4):\n",
        "  data = copy.deepcopy(DATA_IMMUTE)\n",
        "  run_model(i+1, \"lstm\", model_names[i])\n"
      ],
      "execution_count": null,
      "outputs": [
        {
          "output_type": "stream",
          "text": [
            "Model: \"sequential_24\"\n",
            "_________________________________________________________________\n",
            "Layer (type)                 Output Shape              Param #   \n",
            "=================================================================\n",
            "embedding_24 (Embedding)     (None, 40, 50)            125000    \n",
            "_________________________________________________________________\n",
            "lstm_24 (LSTM)               (None, 50)                20200     \n",
            "_________________________________________________________________\n",
            "dense_24 (Dense)             (None, 1)                 51        \n",
            "=================================================================\n",
            "Total params: 145,251\n",
            "Trainable params: 145,251\n",
            "Non-trainable params: 0\n",
            "_________________________________________________________________\n",
            "Model id: 1\n",
            "   type  ...                                       cleaned_text\n",
            "0  ISTJ  ...  newton universal gravity law mean seriously wo...\n",
            "1  ISTJ  ...  never understood long time people often told s...\n",
            "2  ISTJ  ...  expected try brown instead definitely prefer b...\n",
            "3  ISTJ  ...  cant see keep secret fact could gone either wa...\n",
            "\n",
            "[4 rows x 3 columns]\n",
            "Train shape: (372, 3)\n",
            "Validation shape: (93, 3)\n",
            "Categorial split:\n",
            "   type  ...                                       cleaned_text\n",
            "0     1  ...  newton universal gravity law mean seriously wo...\n",
            "1     1  ...  never understood long time people often told s...\n",
            "2     1  ...  expected try brown instead definitely prefer b...\n",
            "3     1  ...  cant see keep secret fact could gone either wa...\n",
            "\n",
            "[4 rows x 3 columns]\n",
            "Epoch 1/1000\n"
          ],
          "name": "stdout"
        },
        {
          "output_type": "stream",
          "text": [
            "INFO:absl:TPU has inputs with dynamic shapes: [<tf.Tensor 'Const:0' shape=() dtype=int32>, <tf.Tensor 'cond_8/Identity:0' shape=(None, 40) dtype=int32>, <tf.Tensor 'cond_8/Identity_1:0' shape=(None,) dtype=int64>]\n",
            "INFO:absl:TPU has inputs with dynamic shapes: [<tf.Tensor 'Const:0' shape=() dtype=int32>, <tf.Tensor 'cond_8/Identity:0' shape=(None, 40) dtype=int32>, <tf.Tensor 'cond_8/Identity_1:0' shape=(None,) dtype=int64>]\n"
          ],
          "name": "stderr"
        },
        {
          "output_type": "stream",
          "text": [
            "3/3 [==============================] - ETA: 0s - loss: 0.7403 - accuracy: 0.5142 "
          ],
          "name": "stdout"
        },
        {
          "output_type": "stream",
          "text": [
            "INFO:absl:TPU has inputs with dynamic shapes: [<tf.Tensor 'Const:0' shape=() dtype=int32>, <tf.Tensor 'cond_8/Identity:0' shape=(None, 40) dtype=int32>, <tf.Tensor 'cond_8/Identity_1:0' shape=(None,) dtype=int64>]\n"
          ],
          "name": "stderr"
        },
        {
          "output_type": "stream",
          "text": [
            "3/3 [==============================] - 13s 2s/step - loss: 0.7454 - accuracy: 0.5066 - val_loss: 0.7392 - val_accuracy: 0.5161\n",
            "Epoch 2/1000\n",
            "3/3 [==============================] - 2s 810ms/step - loss: 0.7488 - accuracy: 0.5007 - val_loss: 0.7387 - val_accuracy: 0.5161\n",
            "Epoch 3/1000\n",
            "3/3 [==============================] - 1s 274ms/step - loss: 0.7627 - accuracy: 0.4802 - val_loss: 0.7383 - val_accuracy: 0.5161\n",
            "Epoch 4/1000\n",
            "3/3 [==============================] - 1s 259ms/step - loss: 0.7535 - accuracy: 0.4939 - val_loss: 0.7379 - val_accuracy: 0.5161\n",
            "Epoch 5/1000\n",
            "3/3 [==============================] - 1s 265ms/step - loss: 0.7551 - accuracy: 0.4900 - val_loss: 0.7375 - val_accuracy: 0.5161\n",
            "Epoch 6/1000\n",
            "3/3 [==============================] - 1s 272ms/step - loss: 0.7560 - accuracy: 0.4880 - val_loss: 0.7370 - val_accuracy: 0.5161\n",
            "Epoch 7/1000\n",
            "3/3 [==============================] - 1s 275ms/step - loss: 0.7473 - accuracy: 0.5007 - val_loss: 0.7366 - val_accuracy: 0.5161\n",
            "Epoch 8/1000\n",
            "3/3 [==============================] - 1s 287ms/step - loss: 0.7626 - accuracy: 0.4763 - val_loss: 0.7362 - val_accuracy: 0.5161\n",
            "Epoch 9/1000\n",
            "3/3 [==============================] - 1s 277ms/step - loss: 0.7572 - accuracy: 0.4841 - val_loss: 0.7357 - val_accuracy: 0.5161\n",
            "Epoch 10/1000\n",
            "3/3 [==============================] - 1s 270ms/step - loss: 0.7616 - accuracy: 0.4763 - val_loss: 0.7353 - val_accuracy: 0.5161\n",
            "Epoch 11/1000\n",
            "3/3 [==============================] - 1s 282ms/step - loss: 0.7474 - accuracy: 0.4978 - val_loss: 0.7349 - val_accuracy: 0.5161\n",
            "Epoch 12/1000\n",
            "3/3 [==============================] - 1s 276ms/step - loss: 0.7571 - accuracy: 0.4822 - val_loss: 0.7345 - val_accuracy: 0.5161\n",
            "Epoch 13/1000\n",
            "3/3 [==============================] - 1s 277ms/step - loss: 0.7585 - accuracy: 0.4792 - val_loss: 0.7341 - val_accuracy: 0.5161\n",
            "Epoch 14/1000\n",
            "3/3 [==============================] - 1s 275ms/step - loss: 0.7579 - accuracy: 0.4783 - val_loss: 0.7337 - val_accuracy: 0.5161\n",
            "Epoch 15/1000\n",
            "3/3 [==============================] - 1s 279ms/step - loss: 0.7564 - accuracy: 0.4802 - val_loss: 0.7333 - val_accuracy: 0.5161\n",
            "Epoch 16/1000\n",
            "3/3 [==============================] - 1s 278ms/step - loss: 0.7353 - accuracy: 0.5124 - val_loss: 0.7329 - val_accuracy: 0.5161\n",
            "Epoch 17/1000\n",
            "3/3 [==============================] - 1s 263ms/step - loss: 0.7562 - accuracy: 0.4792 - val_loss: 0.7325 - val_accuracy: 0.5161\n",
            "Epoch 18/1000\n",
            "3/3 [==============================] - 1s 273ms/step - loss: 0.7743 - accuracy: 0.4509 - val_loss: 0.7321 - val_accuracy: 0.5161\n",
            "Epoch 19/1000\n",
            "3/3 [==============================] - 1s 290ms/step - loss: 0.7427 - accuracy: 0.4988 - val_loss: 0.7317 - val_accuracy: 0.5161\n",
            "Epoch 20/1000\n",
            "3/3 [==============================] - 1s 260ms/step - loss: 0.7434 - accuracy: 0.4968 - val_loss: 0.7313 - val_accuracy: 0.5161\n",
            "Epoch 21/1000\n",
            "3/3 [==============================] - 1s 268ms/step - loss: 0.7464 - accuracy: 0.4910 - val_loss: 0.7309 - val_accuracy: 0.5161\n",
            "Epoch 22/1000\n",
            "3/3 [==============================] - 1s 270ms/step - loss: 0.7468 - accuracy: 0.4910 - val_loss: 0.7305 - val_accuracy: 0.5161\n",
            "Epoch 23/1000\n",
            "3/3 [==============================] - 1s 269ms/step - loss: 0.7552 - accuracy: 0.4763 - val_loss: 0.7302 - val_accuracy: 0.5161\n",
            "Epoch 24/1000\n",
            "3/3 [==============================] - 1s 284ms/step - loss: 0.7561 - accuracy: 0.4734 - val_loss: 0.7298 - val_accuracy: 0.5161\n",
            "Epoch 25/1000\n",
            "3/3 [==============================] - 1s 282ms/step - loss: 0.7548 - accuracy: 0.4753 - val_loss: 0.7294 - val_accuracy: 0.5161\n",
            "Epoch 26/1000\n",
            "3/3 [==============================] - 1s 281ms/step - loss: 0.7433 - accuracy: 0.4929 - val_loss: 0.7290 - val_accuracy: 0.5161\n",
            "Epoch 27/1000\n",
            "3/3 [==============================] - 1s 276ms/step - loss: 0.7556 - accuracy: 0.4734 - val_loss: 0.7286 - val_accuracy: 0.5161\n",
            "Epoch 28/1000\n",
            "3/3 [==============================] - 1s 294ms/step - loss: 0.7365 - accuracy: 0.5027 - val_loss: 0.7283 - val_accuracy: 0.5161\n",
            "Epoch 29/1000\n",
            "3/3 [==============================] - 1s 293ms/step - loss: 0.7597 - accuracy: 0.4646 - val_loss: 0.7279 - val_accuracy: 0.5161\n",
            "Epoch 30/1000\n",
            "3/3 [==============================] - 1s 282ms/step - loss: 0.7461 - accuracy: 0.4861 - val_loss: 0.7276 - val_accuracy: 0.5161\n",
            "Epoch 31/1000\n",
            "3/3 [==============================] - 1s 295ms/step - loss: 0.7371 - accuracy: 0.4997 - val_loss: 0.7272 - val_accuracy: 0.5161\n",
            "Epoch 32/1000\n",
            "3/3 [==============================] - 1s 303ms/step - loss: 0.7382 - accuracy: 0.4958 - val_loss: 0.7269 - val_accuracy: 0.5161\n",
            "Epoch 33/1000\n",
            "3/3 [==============================] - 1s 290ms/step - loss: 0.7599 - accuracy: 0.4597 - val_loss: 0.7265 - val_accuracy: 0.5161\n",
            "Epoch 34/1000\n",
            "3/3 [==============================] - 1s 280ms/step - loss: 0.7369 - accuracy: 0.4978 - val_loss: 0.7262 - val_accuracy: 0.5161\n",
            "Epoch 35/1000\n",
            "3/3 [==============================] - 1s 281ms/step - loss: 0.7432 - accuracy: 0.4851 - val_loss: 0.7258 - val_accuracy: 0.5161\n",
            "Epoch 36/1000\n",
            "3/3 [==============================] - 1s 266ms/step - loss: 0.7319 - accuracy: 0.5056 - val_loss: 0.7255 - val_accuracy: 0.5161\n",
            "Epoch 37/1000\n",
            "3/3 [==============================] - 1s 276ms/step - loss: 0.7404 - accuracy: 0.4890 - val_loss: 0.7251 - val_accuracy: 0.5161\n",
            "Epoch 38/1000\n",
            "3/3 [==============================] - 1s 276ms/step - loss: 0.7528 - accuracy: 0.4675 - val_loss: 0.7248 - val_accuracy: 0.5161\n",
            "Epoch 39/1000\n",
            "3/3 [==============================] - 1s 273ms/step - loss: 0.7433 - accuracy: 0.4841 - val_loss: 0.7245 - val_accuracy: 0.5161\n",
            "Epoch 40/1000\n",
            "3/3 [==============================] - 1s 278ms/step - loss: 0.7341 - accuracy: 0.4997 - val_loss: 0.7242 - val_accuracy: 0.5161\n",
            "Epoch 41/1000\n",
            "3/3 [==============================] - 1s 275ms/step - loss: 0.7381 - accuracy: 0.4910 - val_loss: 0.7238 - val_accuracy: 0.5161\n",
            "Epoch 42/1000\n",
            "3/3 [==============================] - 1s 268ms/step - loss: 0.7393 - accuracy: 0.4880 - val_loss: 0.7235 - val_accuracy: 0.5161\n",
            "Epoch 43/1000\n",
            "3/3 [==============================] - 1s 295ms/step - loss: 0.7309 - accuracy: 0.4997 - val_loss: 0.7232 - val_accuracy: 0.5161\n",
            "Epoch 44/1000\n",
            "3/3 [==============================] - 1s 270ms/step - loss: 0.7472 - accuracy: 0.4724 - val_loss: 0.7228 - val_accuracy: 0.5161\n",
            "Epoch 45/1000\n",
            "3/3 [==============================] - 1s 268ms/step - loss: 0.7302 - accuracy: 0.5027 - val_loss: 0.7225 - val_accuracy: 0.5161\n",
            "Epoch 46/1000\n",
            "3/3 [==============================] - 1s 275ms/step - loss: 0.7327 - accuracy: 0.4978 - val_loss: 0.7222 - val_accuracy: 0.5161\n",
            "Epoch 47/1000\n",
            "3/3 [==============================] - 1s 634ms/step - loss: 0.7423 - accuracy: 0.4802 - val_loss: 0.7219 - val_accuracy: 0.5161\n",
            "Epoch 48/1000\n",
            "3/3 [==============================] - 1s 291ms/step - loss: 0.7367 - accuracy: 0.4880 - val_loss: 0.7216 - val_accuracy: 0.5161\n",
            "Epoch 49/1000\n",
            "3/3 [==============================] - 1s 276ms/step - loss: 0.7388 - accuracy: 0.4831 - val_loss: 0.7213 - val_accuracy: 0.5161\n",
            "Epoch 50/1000\n",
            "3/3 [==============================] - 1s 279ms/step - loss: 0.7313 - accuracy: 0.4958 - val_loss: 0.7210 - val_accuracy: 0.5161\n",
            "Epoch 51/1000\n",
            "3/3 [==============================] - 1s 269ms/step - loss: 0.7402 - accuracy: 0.4792 - val_loss: 0.7207 - val_accuracy: 0.5161\n",
            "Epoch 52/1000\n",
            "3/3 [==============================] - 1s 276ms/step - loss: 0.7441 - accuracy: 0.4714 - val_loss: 0.7204 - val_accuracy: 0.5161\n",
            "Epoch 53/1000\n",
            "3/3 [==============================] - 1s 278ms/step - loss: 0.7376 - accuracy: 0.4812 - val_loss: 0.7201 - val_accuracy: 0.5161\n",
            "Epoch 54/1000\n",
            "3/3 [==============================] - 1s 271ms/step - loss: 0.7325 - accuracy: 0.4900 - val_loss: 0.7198 - val_accuracy: 0.5161\n",
            "Epoch 55/1000\n",
            "3/3 [==============================] - 1s 270ms/step - loss: 0.7369 - accuracy: 0.4841 - val_loss: 0.7195 - val_accuracy: 0.5161\n",
            "Epoch 56/1000\n",
            "3/3 [==============================] - 1s 271ms/step - loss: 0.7419 - accuracy: 0.4724 - val_loss: 0.7192 - val_accuracy: 0.5161\n",
            "Epoch 57/1000\n",
            "3/3 [==============================] - 1s 272ms/step - loss: 0.7281 - accuracy: 0.4978 - val_loss: 0.7189 - val_accuracy: 0.5161\n",
            "Epoch 58/1000\n",
            "3/3 [==============================] - 1s 268ms/step - loss: 0.7378 - accuracy: 0.4802 - val_loss: 0.7186 - val_accuracy: 0.5161\n",
            "Epoch 59/1000\n",
            "3/3 [==============================] - 1s 274ms/step - loss: 0.7451 - accuracy: 0.4646 - val_loss: 0.7183 - val_accuracy: 0.5161\n",
            "Epoch 60/1000\n",
            "3/3 [==============================] - 1s 265ms/step - loss: 0.7314 - accuracy: 0.4900 - val_loss: 0.7180 - val_accuracy: 0.5161\n",
            "Epoch 61/1000\n",
            "3/3 [==============================] - 1s 285ms/step - loss: 0.7265 - accuracy: 0.4988 - val_loss: 0.7178 - val_accuracy: 0.5161\n",
            "Epoch 62/1000\n",
            "3/3 [==============================] - 1s 264ms/step - loss: 0.7366 - accuracy: 0.4802 - val_loss: 0.7175 - val_accuracy: 0.5161\n",
            "Epoch 63/1000\n",
            "3/3 [==============================] - 1s 272ms/step - loss: 0.7414 - accuracy: 0.4675 - val_loss: 0.7172 - val_accuracy: 0.5161\n",
            "Epoch 64/1000\n",
            "3/3 [==============================] - 1s 277ms/step - loss: 0.7389 - accuracy: 0.4724 - val_loss: 0.7169 - val_accuracy: 0.5161\n",
            "Epoch 65/1000\n",
            "3/3 [==============================] - 1s 269ms/step - loss: 0.7250 - accuracy: 0.4988 - val_loss: 0.7166 - val_accuracy: 0.5161\n",
            "Epoch 66/1000\n",
            "3/3 [==============================] - 1s 278ms/step - loss: 0.7331 - accuracy: 0.4822 - val_loss: 0.7164 - val_accuracy: 0.5161\n",
            "Epoch 67/1000\n",
            "3/3 [==============================] - 1s 271ms/step - loss: 0.7306 - accuracy: 0.4861 - val_loss: 0.7161 - val_accuracy: 0.5161\n",
            "Epoch 68/1000\n",
            "3/3 [==============================] - 1s 270ms/step - loss: 0.7418 - accuracy: 0.4636 - val_loss: 0.7159 - val_accuracy: 0.5161\n",
            "Epoch 69/1000\n",
            "3/3 [==============================] - 1s 268ms/step - loss: 0.7413 - accuracy: 0.4646 - val_loss: 0.7156 - val_accuracy: 0.5161\n",
            "Epoch 70/1000\n",
            "3/3 [==============================] - 1s 264ms/step - loss: 0.7308 - accuracy: 0.4841 - val_loss: 0.7153 - val_accuracy: 0.5161\n",
            "Epoch 71/1000\n",
            "3/3 [==============================] - 1s 275ms/step - loss: 0.7344 - accuracy: 0.4763 - val_loss: 0.7151 - val_accuracy: 0.5161\n",
            "Epoch 72/1000\n",
            "3/3 [==============================] - 1s 281ms/step - loss: 0.7438 - accuracy: 0.4587 - val_loss: 0.7148 - val_accuracy: 0.5161\n",
            "Epoch 73/1000\n",
            "3/3 [==============================] - 1s 279ms/step - loss: 0.7259 - accuracy: 0.4929 - val_loss: 0.7146 - val_accuracy: 0.5161\n",
            "Epoch 74/1000\n",
            "3/3 [==============================] - 1s 282ms/step - loss: 0.7241 - accuracy: 0.4958 - val_loss: 0.7144 - val_accuracy: 0.5161\n",
            "Epoch 75/1000\n",
            "3/3 [==============================] - 1s 273ms/step - loss: 0.7281 - accuracy: 0.4841 - val_loss: 0.7141 - val_accuracy: 0.5161\n",
            "Epoch 76/1000\n",
            "3/3 [==============================] - 1s 273ms/step - loss: 0.7305 - accuracy: 0.4812 - val_loss: 0.7139 - val_accuracy: 0.5161\n",
            "Epoch 77/1000\n",
            "3/3 [==============================] - 1s 275ms/step - loss: 0.7303 - accuracy: 0.4802 - val_loss: 0.7136 - val_accuracy: 0.5161\n",
            "Epoch 78/1000\n",
            "3/3 [==============================] - 1s 271ms/step - loss: 0.7295 - accuracy: 0.4802 - val_loss: 0.7134 - val_accuracy: 0.5161\n",
            "Epoch 79/1000\n",
            "3/3 [==============================] - 1s 285ms/step - loss: 0.7418 - accuracy: 0.4529 - val_loss: 0.7131 - val_accuracy: 0.5161\n",
            "Epoch 80/1000\n",
            "3/3 [==============================] - 1s 291ms/step - loss: 0.7273 - accuracy: 0.4841 - val_loss: 0.7129 - val_accuracy: 0.5161\n",
            "Epoch 81/1000\n",
            "3/3 [==============================] - 1s 276ms/step - loss: 0.7270 - accuracy: 0.4831 - val_loss: 0.7127 - val_accuracy: 0.5161\n",
            "Epoch 82/1000\n",
            "3/3 [==============================] - 1s 284ms/step - loss: 0.7368 - accuracy: 0.4626 - val_loss: 0.7124 - val_accuracy: 0.5161\n",
            "Epoch 83/1000\n",
            "3/3 [==============================] - 1s 275ms/step - loss: 0.7221 - accuracy: 0.4929 - val_loss: 0.7122 - val_accuracy: 0.5161\n",
            "Epoch 84/1000\n",
            "3/3 [==============================] - 1s 276ms/step - loss: 0.7251 - accuracy: 0.4871 - val_loss: 0.7120 - val_accuracy: 0.5161\n",
            "Epoch 85/1000\n",
            "3/3 [==============================] - 1s 279ms/step - loss: 0.7239 - accuracy: 0.4880 - val_loss: 0.7118 - val_accuracy: 0.5161\n",
            "Epoch 86/1000\n",
            "3/3 [==============================] - 1s 277ms/step - loss: 0.7298 - accuracy: 0.4734 - val_loss: 0.7115 - val_accuracy: 0.5161\n",
            "Epoch 87/1000\n",
            "3/3 [==============================] - 1s 281ms/step - loss: 0.7431 - accuracy: 0.4470 - val_loss: 0.7113 - val_accuracy: 0.5161\n",
            "Epoch 88/1000\n",
            "3/3 [==============================] - 1s 620ms/step - loss: 0.7278 - accuracy: 0.4773 - val_loss: 0.7111 - val_accuracy: 0.5161\n",
            "Epoch 89/1000\n",
            "3/3 [==============================] - 1s 290ms/step - loss: 0.7279 - accuracy: 0.4744 - val_loss: 0.7108 - val_accuracy: 0.5161\n",
            "Epoch 90/1000\n",
            "3/3 [==============================] - 1s 289ms/step - loss: 0.7284 - accuracy: 0.4724 - val_loss: 0.7106 - val_accuracy: 0.5161\n",
            "Epoch 91/1000\n",
            "3/3 [==============================] - 1s 294ms/step - loss: 0.7184 - accuracy: 0.4978 - val_loss: 0.7104 - val_accuracy: 0.5161\n",
            "Epoch 92/1000\n",
            "3/3 [==============================] - 1s 284ms/step - loss: 0.7195 - accuracy: 0.4949 - val_loss: 0.7102 - val_accuracy: 0.5161\n",
            "Epoch 93/1000\n",
            "3/3 [==============================] - 1s 306ms/step - loss: 0.7223 - accuracy: 0.4880 - val_loss: 0.7100 - val_accuracy: 0.5161\n",
            "Epoch 94/1000\n",
            "3/3 [==============================] - 1s 282ms/step - loss: 0.7190 - accuracy: 0.4929 - val_loss: 0.7098 - val_accuracy: 0.5161\n",
            "Epoch 95/1000\n",
            "3/3 [==============================] - 1s 287ms/step - loss: 0.7234 - accuracy: 0.4841 - val_loss: 0.7096 - val_accuracy: 0.5161\n",
            "Epoch 96/1000\n",
            "3/3 [==============================] - 1s 271ms/step - loss: 0.7262 - accuracy: 0.4763 - val_loss: 0.7094 - val_accuracy: 0.5161\n",
            "Epoch 97/1000\n",
            "3/3 [==============================] - 1s 268ms/step - loss: 0.7243 - accuracy: 0.4783 - val_loss: 0.7092 - val_accuracy: 0.5161\n",
            "Epoch 98/1000\n",
            "3/3 [==============================] - 1s 274ms/step - loss: 0.7197 - accuracy: 0.4890 - val_loss: 0.7090 - val_accuracy: 0.5161\n",
            "Epoch 99/1000\n",
            "3/3 [==============================] - 1s 271ms/step - loss: 0.7249 - accuracy: 0.4783 - val_loss: 0.7088 - val_accuracy: 0.5161\n",
            "Epoch 100/1000\n",
            "3/3 [==============================] - 1s 280ms/step - loss: 0.7243 - accuracy: 0.4773 - val_loss: 0.7085 - val_accuracy: 0.5161\n",
            "Epoch 101/1000\n",
            "3/3 [==============================] - 1s 284ms/step - loss: 0.7300 - accuracy: 0.4656 - val_loss: 0.7084 - val_accuracy: 0.5161\n",
            "Epoch 102/1000\n",
            "3/3 [==============================] - 1s 313ms/step - loss: 0.7234 - accuracy: 0.4783 - val_loss: 0.7081 - val_accuracy: 0.5161\n",
            "Epoch 103/1000\n",
            "3/3 [==============================] - 1s 300ms/step - loss: 0.7280 - accuracy: 0.4665 - val_loss: 0.7079 - val_accuracy: 0.5161\n",
            "Epoch 104/1000\n",
            "3/3 [==============================] - 1s 268ms/step - loss: 0.7159 - accuracy: 0.4919 - val_loss: 0.7078 - val_accuracy: 0.5161\n",
            "Epoch 105/1000\n",
            "3/3 [==============================] - 1s 286ms/step - loss: 0.7195 - accuracy: 0.4841 - val_loss: 0.7076 - val_accuracy: 0.5161\n",
            "Epoch 106/1000\n",
            "3/3 [==============================] - 1s 282ms/step - loss: 0.7210 - accuracy: 0.4792 - val_loss: 0.7074 - val_accuracy: 0.5161\n",
            "Epoch 107/1000\n",
            "3/3 [==============================] - 1s 278ms/step - loss: 0.7164 - accuracy: 0.4900 - val_loss: 0.7072 - val_accuracy: 0.5161\n",
            "Epoch 108/1000\n",
            "3/3 [==============================] - 1s 271ms/step - loss: 0.7164 - accuracy: 0.4910 - val_loss: 0.7070 - val_accuracy: 0.5161\n",
            "Epoch 109/1000\n",
            "3/3 [==============================] - 1s 274ms/step - loss: 0.7241 - accuracy: 0.4705 - val_loss: 0.7068 - val_accuracy: 0.5161\n",
            "Epoch 110/1000\n",
            "3/3 [==============================] - 1s 299ms/step - loss: 0.7201 - accuracy: 0.4812 - val_loss: 0.7067 - val_accuracy: 0.5161\n",
            "Epoch 111/1000\n",
            "3/3 [==============================] - 1s 275ms/step - loss: 0.7091 - accuracy: 0.5076 - val_loss: 0.7065 - val_accuracy: 0.5161\n",
            "Epoch 112/1000\n",
            "3/3 [==============================] - 1s 275ms/step - loss: 0.7157 - accuracy: 0.4910 - val_loss: 0.7063 - val_accuracy: 0.5161\n",
            "Epoch 113/1000\n",
            "3/3 [==============================] - 1s 285ms/step - loss: 0.7170 - accuracy: 0.4871 - val_loss: 0.7061 - val_accuracy: 0.5161\n",
            "Epoch 114/1000\n",
            "3/3 [==============================] - 1s 296ms/step - loss: 0.7213 - accuracy: 0.4734 - val_loss: 0.7060 - val_accuracy: 0.5161\n",
            "Epoch 115/1000\n",
            "3/3 [==============================] - 1s 279ms/step - loss: 0.7125 - accuracy: 0.4958 - val_loss: 0.7058 - val_accuracy: 0.5161\n",
            "Epoch 116/1000\n",
            "3/3 [==============================] - 1s 273ms/step - loss: 0.7190 - accuracy: 0.4812 - val_loss: 0.7056 - val_accuracy: 0.5161\n",
            "Epoch 117/1000\n",
            "3/3 [==============================] - 1s 270ms/step - loss: 0.7087 - accuracy: 0.5046 - val_loss: 0.7055 - val_accuracy: 0.5161\n",
            "Epoch 118/1000\n",
            "3/3 [==============================] - 1s 265ms/step - loss: 0.7065 - accuracy: 0.5095 - val_loss: 0.7053 - val_accuracy: 0.5161\n",
            "Epoch 119/1000\n",
            "3/3 [==============================] - 1s 283ms/step - loss: 0.7174 - accuracy: 0.4812 - val_loss: 0.7051 - val_accuracy: 0.5161\n",
            "Epoch 120/1000\n",
            "3/3 [==============================] - 1s 286ms/step - loss: 0.7150 - accuracy: 0.4841 - val_loss: 0.7049 - val_accuracy: 0.5161\n",
            "Epoch 121/1000\n",
            "3/3 [==============================] - 1s 264ms/step - loss: 0.7168 - accuracy: 0.4822 - val_loss: 0.7048 - val_accuracy: 0.5161\n",
            "Epoch 122/1000\n",
            "3/3 [==============================] - 1s 286ms/step - loss: 0.7120 - accuracy: 0.4949 - val_loss: 0.7046 - val_accuracy: 0.5161\n",
            "Epoch 123/1000\n",
            "3/3 [==============================] - 1s 275ms/step - loss: 0.7155 - accuracy: 0.4831 - val_loss: 0.7044 - val_accuracy: 0.5161\n",
            "Epoch 124/1000\n",
            "3/3 [==============================] - 1s 291ms/step - loss: 0.7168 - accuracy: 0.4773 - val_loss: 0.7043 - val_accuracy: 0.5161\n",
            "Epoch 125/1000\n",
            "3/3 [==============================] - 1s 627ms/step - loss: 0.7129 - accuracy: 0.4900 - val_loss: 0.7041 - val_accuracy: 0.5161\n",
            "Epoch 126/1000\n",
            "3/3 [==============================] - 1s 264ms/step - loss: 0.7220 - accuracy: 0.4636 - val_loss: 0.7040 - val_accuracy: 0.5161\n",
            "Epoch 127/1000\n",
            "3/3 [==============================] - 1s 273ms/step - loss: 0.7236 - accuracy: 0.4626 - val_loss: 0.7038 - val_accuracy: 0.5161\n",
            "Epoch 128/1000\n",
            "3/3 [==============================] - 1s 293ms/step - loss: 0.7077 - accuracy: 0.4997 - val_loss: 0.7037 - val_accuracy: 0.5161\n",
            "Epoch 129/1000\n",
            "3/3 [==============================] - 1s 263ms/step - loss: 0.7083 - accuracy: 0.5017 - val_loss: 0.7035 - val_accuracy: 0.5161\n",
            "Epoch 130/1000\n",
            "3/3 [==============================] - 1s 271ms/step - loss: 0.7187 - accuracy: 0.4705 - val_loss: 0.7034 - val_accuracy: 0.5161\n",
            "Epoch 131/1000\n",
            "3/3 [==============================] - 1s 278ms/step - loss: 0.7118 - accuracy: 0.4871 - val_loss: 0.7032 - val_accuracy: 0.5161\n",
            "Epoch 132/1000\n",
            "3/3 [==============================] - 1s 270ms/step - loss: 0.7087 - accuracy: 0.4958 - val_loss: 0.7031 - val_accuracy: 0.5161\n",
            "Epoch 133/1000\n",
            "3/3 [==============================] - 1s 282ms/step - loss: 0.7042 - accuracy: 0.5095 - val_loss: 0.7029 - val_accuracy: 0.5161\n",
            "Epoch 134/1000\n",
            "3/3 [==============================] - 1s 275ms/step - loss: 0.7178 - accuracy: 0.4734 - val_loss: 0.7028 - val_accuracy: 0.5161\n",
            "Epoch 135/1000\n",
            "3/3 [==============================] - 1s 286ms/step - loss: 0.7185 - accuracy: 0.4675 - val_loss: 0.7026 - val_accuracy: 0.5161\n",
            "Epoch 136/1000\n",
            "3/3 [==============================] - 1s 276ms/step - loss: 0.7170 - accuracy: 0.4695 - val_loss: 0.7025 - val_accuracy: 0.5161\n",
            "Epoch 137/1000\n",
            "3/3 [==============================] - 1s 269ms/step - loss: 0.7207 - accuracy: 0.4597 - val_loss: 0.7023 - val_accuracy: 0.5161\n",
            "Epoch 138/1000\n",
            "3/3 [==============================] - 1s 284ms/step - loss: 0.7203 - accuracy: 0.4587 - val_loss: 0.7022 - val_accuracy: 0.5161\n",
            "Epoch 139/1000\n",
            "3/3 [==============================] - 1s 277ms/step - loss: 0.7138 - accuracy: 0.4812 - val_loss: 0.7021 - val_accuracy: 0.5161\n",
            "Epoch 140/1000\n",
            "3/3 [==============================] - 1s 285ms/step - loss: 0.7115 - accuracy: 0.4812 - val_loss: 0.7019 - val_accuracy: 0.5161\n",
            "Epoch 141/1000\n",
            "3/3 [==============================] - 1s 271ms/step - loss: 0.7147 - accuracy: 0.4753 - val_loss: 0.7018 - val_accuracy: 0.5161\n",
            "Epoch 142/1000\n",
            "3/3 [==============================] - 1s 275ms/step - loss: 0.7149 - accuracy: 0.4753 - val_loss: 0.7017 - val_accuracy: 0.5161\n",
            "Epoch 143/1000\n",
            "3/3 [==============================] - 1s 280ms/step - loss: 0.7085 - accuracy: 0.4890 - val_loss: 0.7015 - val_accuracy: 0.5161\n",
            "Epoch 144/1000\n",
            "3/3 [==============================] - 1s 270ms/step - loss: 0.7158 - accuracy: 0.4744 - val_loss: 0.7014 - val_accuracy: 0.5161\n",
            "Epoch 145/1000\n",
            "3/3 [==============================] - 1s 277ms/step - loss: 0.7068 - accuracy: 0.4978 - val_loss: 0.7013 - val_accuracy: 0.5161\n",
            "Epoch 146/1000\n",
            "3/3 [==============================] - 1s 273ms/step - loss: 0.7074 - accuracy: 0.4919 - val_loss: 0.7012 - val_accuracy: 0.5161\n",
            "Epoch 147/1000\n",
            "3/3 [==============================] - 1s 274ms/step - loss: 0.7002 - accuracy: 0.5173 - val_loss: 0.7010 - val_accuracy: 0.5161\n",
            "Epoch 148/1000\n",
            "3/3 [==============================] - 1s 269ms/step - loss: 0.7180 - accuracy: 0.4587 - val_loss: 0.7009 - val_accuracy: 0.5161\n",
            "Epoch 149/1000\n",
            "3/3 [==============================] - 1s 295ms/step - loss: 0.7151 - accuracy: 0.4656 - val_loss: 0.7008 - val_accuracy: 0.5161\n",
            "Epoch 150/1000\n",
            "3/3 [==============================] - 1s 279ms/step - loss: 0.7057 - accuracy: 0.4997 - val_loss: 0.7007 - val_accuracy: 0.5161\n",
            "Epoch 151/1000\n",
            "3/3 [==============================] - 1s 278ms/step - loss: 0.7182 - accuracy: 0.4529 - val_loss: 0.7005 - val_accuracy: 0.5161\n",
            "Epoch 152/1000\n",
            "3/3 [==============================] - 1s 286ms/step - loss: 0.7124 - accuracy: 0.4753 - val_loss: 0.7004 - val_accuracy: 0.5161\n",
            "Epoch 153/1000\n",
            "3/3 [==============================] - 1s 273ms/step - loss: 0.7113 - accuracy: 0.4753 - val_loss: 0.7003 - val_accuracy: 0.5161\n",
            "Epoch 154/1000\n",
            "3/3 [==============================] - 1s 268ms/step - loss: 0.7042 - accuracy: 0.4997 - val_loss: 0.7002 - val_accuracy: 0.5161\n",
            "Epoch 155/1000\n",
            "3/3 [==============================] - 1s 274ms/step - loss: 0.7096 - accuracy: 0.4812 - val_loss: 0.7001 - val_accuracy: 0.5161\n",
            "Epoch 156/1000\n",
            "3/3 [==============================] - 1s 272ms/step - loss: 0.7068 - accuracy: 0.4880 - val_loss: 0.7000 - val_accuracy: 0.5161\n",
            "Epoch 157/1000\n",
            "3/3 [==============================] - 1s 273ms/step - loss: 0.7091 - accuracy: 0.4802 - val_loss: 0.6998 - val_accuracy: 0.5161\n",
            "Epoch 158/1000\n",
            "3/3 [==============================] - 1s 268ms/step - loss: 0.7088 - accuracy: 0.4831 - val_loss: 0.6997 - val_accuracy: 0.5161\n",
            "Epoch 159/1000\n",
            "3/3 [==============================] - 1s 265ms/step - loss: 0.7080 - accuracy: 0.4812 - val_loss: 0.6996 - val_accuracy: 0.5161\n",
            "Epoch 160/1000\n",
            "3/3 [==============================] - 1s 268ms/step - loss: 0.7047 - accuracy: 0.4949 - val_loss: 0.6995 - val_accuracy: 0.5161\n",
            "Epoch 161/1000\n",
            "3/3 [==============================] - 1s 257ms/step - loss: 0.7087 - accuracy: 0.4822 - val_loss: 0.6994 - val_accuracy: 0.5161\n",
            "Epoch 162/1000\n",
            "3/3 [==============================] - 1s 645ms/step - loss: 0.7046 - accuracy: 0.4910 - val_loss: 0.6993 - val_accuracy: 0.5161\n",
            "Epoch 163/1000\n",
            "3/3 [==============================] - 1s 283ms/step - loss: 0.7079 - accuracy: 0.4822 - val_loss: 0.6992 - val_accuracy: 0.5161\n",
            "Epoch 164/1000\n",
            "3/3 [==============================] - 1s 271ms/step - loss: 0.7071 - accuracy: 0.4861 - val_loss: 0.6991 - val_accuracy: 0.5161\n",
            "Epoch 165/1000\n",
            "3/3 [==============================] - 1s 264ms/step - loss: 0.7088 - accuracy: 0.4773 - val_loss: 0.6990 - val_accuracy: 0.5161\n",
            "Epoch 166/1000\n",
            "3/3 [==============================] - 1s 280ms/step - loss: 0.7010 - accuracy: 0.5017 - val_loss: 0.6989 - val_accuracy: 0.5161\n",
            "Epoch 167/1000\n",
            "3/3 [==============================] - 1s 267ms/step - loss: 0.6951 - accuracy: 0.5251 - val_loss: 0.6988 - val_accuracy: 0.5161\n",
            "Epoch 168/1000\n",
            "3/3 [==============================] - 1s 272ms/step - loss: 0.7066 - accuracy: 0.4822 - val_loss: 0.6987 - val_accuracy: 0.5161\n",
            "Epoch 169/1000\n",
            "3/3 [==============================] - 1s 279ms/step - loss: 0.7035 - accuracy: 0.4968 - val_loss: 0.6986 - val_accuracy: 0.5161\n",
            "Epoch 170/1000\n",
            "3/3 [==============================] - 1s 285ms/step - loss: 0.7059 - accuracy: 0.4841 - val_loss: 0.6985 - val_accuracy: 0.5161\n",
            "Epoch 171/1000\n",
            "3/3 [==============================] - 1s 276ms/step - loss: 0.7051 - accuracy: 0.4851 - val_loss: 0.6984 - val_accuracy: 0.5161\n",
            "Epoch 172/1000\n",
            "3/3 [==============================] - 1s 288ms/step - loss: 0.7034 - accuracy: 0.4919 - val_loss: 0.6983 - val_accuracy: 0.5161\n",
            "Epoch 173/1000\n",
            "3/3 [==============================] - 1s 279ms/step - loss: 0.7010 - accuracy: 0.5017 - val_loss: 0.6982 - val_accuracy: 0.5161\n",
            "Epoch 174/1000\n",
            "3/3 [==============================] - 1s 266ms/step - loss: 0.7009 - accuracy: 0.5007 - val_loss: 0.6981 - val_accuracy: 0.5161\n",
            "Epoch 175/1000\n",
            "3/3 [==============================] - 1s 261ms/step - loss: 0.7087 - accuracy: 0.4792 - val_loss: 0.6980 - val_accuracy: 0.5161\n",
            "Epoch 176/1000\n",
            "3/3 [==============================] - 1s 273ms/step - loss: 0.7045 - accuracy: 0.4890 - val_loss: 0.6979 - val_accuracy: 0.5161\n",
            "Epoch 177/1000\n",
            "3/3 [==============================] - 1s 281ms/step - loss: 0.7064 - accuracy: 0.4763 - val_loss: 0.6978 - val_accuracy: 0.5161\n",
            "Epoch 178/1000\n",
            "3/3 [==============================] - 1s 273ms/step - loss: 0.7055 - accuracy: 0.4792 - val_loss: 0.6977 - val_accuracy: 0.5161\n",
            "Epoch 179/1000\n",
            "3/3 [==============================] - 1s 263ms/step - loss: 0.7087 - accuracy: 0.4685 - val_loss: 0.6976 - val_accuracy: 0.5161\n",
            "Epoch 180/1000\n",
            "3/3 [==============================] - 1s 270ms/step - loss: 0.7058 - accuracy: 0.4831 - val_loss: 0.6976 - val_accuracy: 0.5161\n",
            "Epoch 181/1000\n",
            "3/3 [==============================] - 1s 291ms/step - loss: 0.7014 - accuracy: 0.4968 - val_loss: 0.6975 - val_accuracy: 0.5161\n",
            "Epoch 182/1000\n",
            "3/3 [==============================] - 1s 272ms/step - loss: 0.7027 - accuracy: 0.4861 - val_loss: 0.6974 - val_accuracy: 0.5161\n",
            "Epoch 183/1000\n",
            "3/3 [==============================] - 1s 276ms/step - loss: 0.7034 - accuracy: 0.4861 - val_loss: 0.6973 - val_accuracy: 0.5161\n",
            "Epoch 184/1000\n",
            "3/3 [==============================] - 1s 281ms/step - loss: 0.7072 - accuracy: 0.4724 - val_loss: 0.6972 - val_accuracy: 0.5161\n",
            "Epoch 185/1000\n",
            "3/3 [==============================] - 1s 303ms/step - loss: 0.7019 - accuracy: 0.4861 - val_loss: 0.6972 - val_accuracy: 0.5161\n",
            "Epoch 186/1000\n",
            "3/3 [==============================] - 1s 274ms/step - loss: 0.6964 - accuracy: 0.5085 - val_loss: 0.6971 - val_accuracy: 0.5161\n",
            "Epoch 187/1000\n",
            "3/3 [==============================] - 1s 292ms/step - loss: 0.7060 - accuracy: 0.4753 - val_loss: 0.6970 - val_accuracy: 0.5161\n",
            "Epoch 188/1000\n",
            "3/3 [==============================] - 1s 264ms/step - loss: 0.7069 - accuracy: 0.4705 - val_loss: 0.6969 - val_accuracy: 0.5161\n",
            "Epoch 189/1000\n",
            "3/3 [==============================] - 1s 280ms/step - loss: 0.7022 - accuracy: 0.4910 - val_loss: 0.6969 - val_accuracy: 0.5161\n",
            "Epoch 190/1000\n",
            "3/3 [==============================] - 1s 270ms/step - loss: 0.7052 - accuracy: 0.4812 - val_loss: 0.6968 - val_accuracy: 0.5161\n",
            "Epoch 191/1000\n",
            "3/3 [==============================] - 1s 263ms/step - loss: 0.7025 - accuracy: 0.4890 - val_loss: 0.6967 - val_accuracy: 0.5161\n",
            "Epoch 192/1000\n",
            "3/3 [==============================] - 1s 266ms/step - loss: 0.7044 - accuracy: 0.4753 - val_loss: 0.6966 - val_accuracy: 0.5161\n",
            "Epoch 193/1000\n",
            "3/3 [==============================] - 1s 281ms/step - loss: 0.7046 - accuracy: 0.4714 - val_loss: 0.6966 - val_accuracy: 0.5161\n",
            "Epoch 194/1000\n",
            "3/3 [==============================] - 1s 274ms/step - loss: 0.7081 - accuracy: 0.4626 - val_loss: 0.6965 - val_accuracy: 0.5161\n",
            "Epoch 195/1000\n",
            "3/3 [==============================] - 1s 272ms/step - loss: 0.7015 - accuracy: 0.4841 - val_loss: 0.6964 - val_accuracy: 0.5161\n",
            "Epoch 196/1000\n",
            "3/3 [==============================] - 1s 285ms/step - loss: 0.7021 - accuracy: 0.4919 - val_loss: 0.6963 - val_accuracy: 0.5161\n",
            "Epoch 197/1000\n",
            "3/3 [==============================] - 1s 276ms/step - loss: 0.7019 - accuracy: 0.4822 - val_loss: 0.6963 - val_accuracy: 0.5161\n",
            "Epoch 198/1000\n",
            "3/3 [==============================] - 1s 279ms/step - loss: 0.7036 - accuracy: 0.4783 - val_loss: 0.6962 - val_accuracy: 0.5161\n",
            "Epoch 199/1000\n",
            "3/3 [==============================] - 1s 273ms/step - loss: 0.7046 - accuracy: 0.4656 - val_loss: 0.6961 - val_accuracy: 0.5161\n",
            "Epoch 200/1000\n",
            "3/3 [==============================] - 1s 285ms/step - loss: 0.7039 - accuracy: 0.4724 - val_loss: 0.6961 - val_accuracy: 0.5161\n",
            "Epoch 201/1000\n",
            "3/3 [==============================] - 1s 277ms/step - loss: 0.7040 - accuracy: 0.4734 - val_loss: 0.6960 - val_accuracy: 0.5161\n",
            "Epoch 202/1000\n",
            "3/3 [==============================] - 1s 272ms/step - loss: 0.7050 - accuracy: 0.4753 - val_loss: 0.6960 - val_accuracy: 0.5161\n",
            "Epoch 203/1000\n",
            "3/3 [==============================] - 1s 270ms/step - loss: 0.6990 - accuracy: 0.4939 - val_loss: 0.6959 - val_accuracy: 0.5161\n",
            "Epoch 204/1000\n",
            "3/3 [==============================] - 1s 287ms/step - loss: 0.7008 - accuracy: 0.4812 - val_loss: 0.6958 - val_accuracy: 0.5161\n",
            "Epoch 205/1000\n",
            "3/3 [==============================] - 1s 294ms/step - loss: 0.6988 - accuracy: 0.4949 - val_loss: 0.6958 - val_accuracy: 0.5161\n",
            "Epoch 206/1000\n",
            "3/3 [==============================] - 1s 276ms/step - loss: 0.7015 - accuracy: 0.4871 - val_loss: 0.6957 - val_accuracy: 0.5161\n",
            "Epoch 207/1000\n",
            "3/3 [==============================] - 1s 272ms/step - loss: 0.6977 - accuracy: 0.4997 - val_loss: 0.6957 - val_accuracy: 0.5161\n",
            "Epoch 208/1000\n",
            "3/3 [==============================] - 1s 278ms/step - loss: 0.6955 - accuracy: 0.5056 - val_loss: 0.6956 - val_accuracy: 0.5161\n",
            "Epoch 209/1000\n",
            "3/3 [==============================] - 1s 286ms/step - loss: 0.7063 - accuracy: 0.4568 - val_loss: 0.6955 - val_accuracy: 0.5161\n",
            "Epoch 210/1000\n",
            "3/3 [==============================] - 1s 266ms/step - loss: 0.6989 - accuracy: 0.4851 - val_loss: 0.6955 - val_accuracy: 0.5161\n",
            "Epoch 211/1000\n",
            "3/3 [==============================] - 1s 270ms/step - loss: 0.6988 - accuracy: 0.4851 - val_loss: 0.6954 - val_accuracy: 0.5161\n",
            "Epoch 212/1000\n",
            "3/3 [==============================] - 1s 276ms/step - loss: 0.6996 - accuracy: 0.4880 - val_loss: 0.6954 - val_accuracy: 0.5161\n",
            "Epoch 213/1000\n",
            "3/3 [==============================] - 1s 274ms/step - loss: 0.7011 - accuracy: 0.4812 - val_loss: 0.6953 - val_accuracy: 0.5161\n",
            "Epoch 214/1000\n",
            "3/3 [==============================] - 1s 269ms/step - loss: 0.6980 - accuracy: 0.4841 - val_loss: 0.6952 - val_accuracy: 0.5161\n",
            "Epoch 215/1000\n",
            "3/3 [==============================] - 1s 270ms/step - loss: 0.7034 - accuracy: 0.4656 - val_loss: 0.6952 - val_accuracy: 0.5161\n",
            "Epoch 216/1000\n",
            "3/3 [==============================] - 1s 292ms/step - loss: 0.7009 - accuracy: 0.4763 - val_loss: 0.6951 - val_accuracy: 0.5161\n",
            "Epoch 217/1000\n",
            "3/3 [==============================] - 1s 265ms/step - loss: 0.6986 - accuracy: 0.4929 - val_loss: 0.6951 - val_accuracy: 0.5161\n",
            "Epoch 218/1000\n",
            "3/3 [==============================] - 1s 266ms/step - loss: 0.6985 - accuracy: 0.4900 - val_loss: 0.6950 - val_accuracy: 0.5161\n",
            "Epoch 219/1000\n",
            "3/3 [==============================] - 1s 274ms/step - loss: 0.7024 - accuracy: 0.4656 - val_loss: 0.6950 - val_accuracy: 0.5161\n",
            "Epoch 220/1000\n",
            "3/3 [==============================] - 1s 266ms/step - loss: 0.6999 - accuracy: 0.4744 - val_loss: 0.6949 - val_accuracy: 0.5161\n",
            "Epoch 221/1000\n",
            "3/3 [==============================] - 1s 278ms/step - loss: 0.6980 - accuracy: 0.4890 - val_loss: 0.6949 - val_accuracy: 0.5161\n",
            "Epoch 222/1000\n",
            "3/3 [==============================] - 1s 285ms/step - loss: 0.6985 - accuracy: 0.4890 - val_loss: 0.6948 - val_accuracy: 0.5161\n",
            "Epoch 223/1000\n",
            "3/3 [==============================] - 1s 269ms/step - loss: 0.7000 - accuracy: 0.4783 - val_loss: 0.6948 - val_accuracy: 0.5161\n",
            "Epoch 224/1000\n",
            "3/3 [==============================] - 1s 285ms/step - loss: 0.6998 - accuracy: 0.4744 - val_loss: 0.6948 - val_accuracy: 0.5161\n",
            "Epoch 225/1000\n",
            "3/3 [==============================] - 1s 294ms/step - loss: 0.6946 - accuracy: 0.5027 - val_loss: 0.6947 - val_accuracy: 0.5161\n",
            "Epoch 226/1000\n",
            "3/3 [==============================] - 1s 276ms/step - loss: 0.6994 - accuracy: 0.4822 - val_loss: 0.6947 - val_accuracy: 0.5161\n",
            "Epoch 227/1000\n",
            "3/3 [==============================] - 1s 258ms/step - loss: 0.7005 - accuracy: 0.4695 - val_loss: 0.6946 - val_accuracy: 0.5161\n",
            "Epoch 228/1000\n",
            "3/3 [==============================] - 1s 269ms/step - loss: 0.6968 - accuracy: 0.4919 - val_loss: 0.6946 - val_accuracy: 0.5161\n",
            "Epoch 229/1000\n",
            "3/3 [==============================] - 1s 287ms/step - loss: 0.6960 - accuracy: 0.4958 - val_loss: 0.6945 - val_accuracy: 0.5161\n",
            "Epoch 230/1000\n",
            "3/3 [==============================] - 1s 267ms/step - loss: 0.6998 - accuracy: 0.4753 - val_loss: 0.6945 - val_accuracy: 0.5161\n",
            "Epoch 231/1000\n",
            "3/3 [==============================] - 1s 263ms/step - loss: 0.7001 - accuracy: 0.4773 - val_loss: 0.6944 - val_accuracy: 0.5161\n",
            "Epoch 232/1000\n",
            "3/3 [==============================] - 1s 277ms/step - loss: 0.6944 - accuracy: 0.4978 - val_loss: 0.6944 - val_accuracy: 0.5161\n",
            "Epoch 233/1000\n",
            "3/3 [==============================] - 1s 259ms/step - loss: 0.6975 - accuracy: 0.4900 - val_loss: 0.6944 - val_accuracy: 0.5161\n",
            "Epoch 234/1000\n",
            "3/3 [==============================] - 1s 262ms/step - loss: 0.6981 - accuracy: 0.4910 - val_loss: 0.6943 - val_accuracy: 0.5161\n",
            "Epoch 235/1000\n",
            "3/3 [==============================] - 1s 267ms/step - loss: 0.6987 - accuracy: 0.4792 - val_loss: 0.6943 - val_accuracy: 0.5161\n",
            "Epoch 236/1000\n",
            "3/3 [==============================] - 1s 272ms/step - loss: 0.6932 - accuracy: 0.5037 - val_loss: 0.6943 - val_accuracy: 0.5161\n",
            "Epoch 237/1000\n",
            "3/3 [==============================] - 1s 272ms/step - loss: 0.6993 - accuracy: 0.4792 - val_loss: 0.6942 - val_accuracy: 0.5161\n",
            "Epoch 238/1000\n",
            "3/3 [==============================] - 1s 275ms/step - loss: 0.6976 - accuracy: 0.4767 - val_loss: 0.6942 - val_accuracy: 0.5161\n",
            "Epoch 239/1000\n",
            "3/3 [==============================] - 1s 264ms/step - loss: 0.6960 - accuracy: 0.4952 - val_loss: 0.6941 - val_accuracy: 0.5161\n",
            "Epoch 240/1000\n",
            "3/3 [==============================] - 1s 266ms/step - loss: 0.7012 - accuracy: 0.4665 - val_loss: 0.6941 - val_accuracy: 0.5161\n",
            "Epoch 241/1000\n",
            "3/3 [==============================] - 1s 265ms/step - loss: 0.6993 - accuracy: 0.4773 - val_loss: 0.6941 - val_accuracy: 0.5161\n",
            "Epoch 242/1000\n",
            "3/3 [==============================] - 1s 275ms/step - loss: 0.6957 - accuracy: 0.4900 - val_loss: 0.6940 - val_accuracy: 0.5161\n",
            "Epoch 243/1000\n",
            "3/3 [==============================] - 1s 271ms/step - loss: 0.6954 - accuracy: 0.4929 - val_loss: 0.6940 - val_accuracy: 0.5161\n",
            "Epoch 244/1000\n",
            "3/3 [==============================] - 1s 264ms/step - loss: 0.6969 - accuracy: 0.4808 - val_loss: 0.6940 - val_accuracy: 0.5161\n",
            "Epoch 245/1000\n",
            "3/3 [==============================] - 1s 267ms/step - loss: 0.7006 - accuracy: 0.4650 - val_loss: 0.6939 - val_accuracy: 0.5161\n",
            "Epoch 246/1000\n",
            "3/3 [==============================] - 1s 267ms/step - loss: 0.6982 - accuracy: 0.4802 - val_loss: 0.6939 - val_accuracy: 0.5161\n",
            "Epoch 247/1000\n",
            "3/3 [==============================] - 1s 273ms/step - loss: 0.6956 - accuracy: 0.4867 - val_loss: 0.6939 - val_accuracy: 0.5161\n",
            "Epoch 248/1000\n",
            "3/3 [==============================] - 1s 607ms/step - loss: 0.6976 - accuracy: 0.4695 - val_loss: 0.6939 - val_accuracy: 0.5161\n",
            "Epoch 249/1000\n",
            "3/3 [==============================] - 1s 248ms/step - loss: 0.6961 - accuracy: 0.4783 - val_loss: 0.6938 - val_accuracy: 0.5161\n",
            "Epoch 250/1000\n",
            "3/3 [==============================] - 1s 269ms/step - loss: 0.6988 - accuracy: 0.4665 - val_loss: 0.6938 - val_accuracy: 0.5161\n",
            "Epoch 251/1000\n",
            "3/3 [==============================] - 1s 266ms/step - loss: 0.6947 - accuracy: 0.4923 - val_loss: 0.6938 - val_accuracy: 0.5161\n",
            "Epoch 252/1000\n",
            "3/3 [==============================] - 1s 268ms/step - loss: 0.6952 - accuracy: 0.4871 - val_loss: 0.6937 - val_accuracy: 0.5161\n",
            "Epoch 253/1000\n",
            "3/3 [==============================] - 1s 272ms/step - loss: 0.6967 - accuracy: 0.4806 - val_loss: 0.6937 - val_accuracy: 0.5161\n",
            "Epoch 254/1000\n",
            "3/3 [==============================] - 1s 269ms/step - loss: 0.6971 - accuracy: 0.4884 - val_loss: 0.6937 - val_accuracy: 0.5161\n",
            "Epoch 255/1000\n",
            "3/3 [==============================] - 1s 270ms/step - loss: 0.6942 - accuracy: 0.5099 - val_loss: 0.6937 - val_accuracy: 0.5161\n",
            "Epoch 256/1000\n",
            "3/3 [==============================] - 1s 262ms/step - loss: 0.6960 - accuracy: 0.4903 - val_loss: 0.6936 - val_accuracy: 0.5161\n",
            "Epoch 257/1000\n",
            "3/3 [==============================] - 1s 264ms/step - loss: 0.6968 - accuracy: 0.4952 - val_loss: 0.6936 - val_accuracy: 0.5161\n",
            "Epoch 258/1000\n",
            "3/3 [==============================] - 1s 279ms/step - loss: 0.6945 - accuracy: 0.4828 - val_loss: 0.6936 - val_accuracy: 0.5161\n",
            "Epoch 259/1000\n",
            "3/3 [==============================] - 1s 257ms/step - loss: 0.6957 - accuracy: 0.4808 - val_loss: 0.6936 - val_accuracy: 0.5161\n",
            "Epoch 260/1000\n",
            "3/3 [==============================] - 1s 265ms/step - loss: 0.6954 - accuracy: 0.4819 - val_loss: 0.6935 - val_accuracy: 0.5161\n",
            "Epoch 261/1000\n",
            "3/3 [==============================] - 1s 263ms/step - loss: 0.6959 - accuracy: 0.4720 - val_loss: 0.6935 - val_accuracy: 0.5161\n",
            "Epoch 262/1000\n",
            "3/3 [==============================] - 1s 273ms/step - loss: 0.6950 - accuracy: 0.4855 - val_loss: 0.6935 - val_accuracy: 0.5161\n",
            "Epoch 263/1000\n",
            "3/3 [==============================] - 1s 272ms/step - loss: 0.6979 - accuracy: 0.4753 - val_loss: 0.6935 - val_accuracy: 0.5161\n",
            "Epoch 264/1000\n",
            "3/3 [==============================] - 1s 261ms/step - loss: 0.6956 - accuracy: 0.4798 - val_loss: 0.6934 - val_accuracy: 0.5161\n",
            "Epoch 265/1000\n",
            "3/3 [==============================] - 1s 261ms/step - loss: 0.6967 - accuracy: 0.4726 - val_loss: 0.6934 - val_accuracy: 0.5161\n",
            "Epoch 266/1000\n",
            "3/3 [==============================] - 1s 268ms/step - loss: 0.6939 - accuracy: 0.4740 - val_loss: 0.6934 - val_accuracy: 0.5161\n",
            "Epoch 267/1000\n",
            "3/3 [==============================] - 1s 263ms/step - loss: 0.6959 - accuracy: 0.4746 - val_loss: 0.6934 - val_accuracy: 0.5161\n",
            "Epoch 268/1000\n",
            "3/3 [==============================] - 1s 263ms/step - loss: 0.6948 - accuracy: 0.4943 - val_loss: 0.6934 - val_accuracy: 0.5161\n",
            "Epoch 269/1000\n",
            "3/3 [==============================] - 1s 264ms/step - loss: 0.6946 - accuracy: 0.5012 - val_loss: 0.6933 - val_accuracy: 0.5161\n",
            "Epoch 270/1000\n",
            "3/3 [==============================] - 1s 287ms/step - loss: 0.6965 - accuracy: 0.4685 - val_loss: 0.6933 - val_accuracy: 0.5161\n",
            "Epoch 271/1000\n",
            "3/3 [==============================] - 1s 280ms/step - loss: 0.6936 - accuracy: 0.4833 - val_loss: 0.6933 - val_accuracy: 0.5054\n",
            "Epoch 272/1000\n",
            "3/3 [==============================] - 1s 276ms/step - loss: 0.6974 - accuracy: 0.4744 - val_loss: 0.6933 - val_accuracy: 0.5054\n",
            "Epoch 273/1000\n",
            "3/3 [==============================] - 1s 273ms/step - loss: 0.6903 - accuracy: 0.5050 - val_loss: 0.6933 - val_accuracy: 0.5054\n",
            "Epoch 274/1000\n",
            "3/3 [==============================] - 1s 272ms/step - loss: 0.6933 - accuracy: 0.4744 - val_loss: 0.6933 - val_accuracy: 0.5054\n",
            "Epoch 275/1000\n",
            "3/3 [==============================] - 1s 277ms/step - loss: 0.6951 - accuracy: 0.4767 - val_loss: 0.6932 - val_accuracy: 0.5054\n",
            "Epoch 276/1000\n",
            "3/3 [==============================] - 1s 265ms/step - loss: 0.6967 - accuracy: 0.4835 - val_loss: 0.6932 - val_accuracy: 0.5054\n",
            "Epoch 277/1000\n",
            "3/3 [==============================] - 1s 269ms/step - loss: 0.6924 - accuracy: 0.4996 - val_loss: 0.6932 - val_accuracy: 0.5054\n",
            "Epoch 278/1000\n",
            "3/3 [==============================] - 1s 261ms/step - loss: 0.6934 - accuracy: 0.5133 - val_loss: 0.6932 - val_accuracy: 0.5054\n",
            "Epoch 279/1000\n",
            "3/3 [==============================] - 1s 254ms/step - loss: 0.6962 - accuracy: 0.4853 - val_loss: 0.6932 - val_accuracy: 0.5054\n",
            "Epoch 280/1000\n",
            "3/3 [==============================] - 1s 274ms/step - loss: 0.6947 - accuracy: 0.4775 - val_loss: 0.6932 - val_accuracy: 0.5054\n",
            "Epoch 281/1000\n",
            "3/3 [==============================] - 1s 264ms/step - loss: 0.6946 - accuracy: 0.4740 - val_loss: 0.6931 - val_accuracy: 0.5054\n",
            "Epoch 282/1000\n",
            "3/3 [==============================] - 1s 273ms/step - loss: 0.6935 - accuracy: 0.4935 - val_loss: 0.6931 - val_accuracy: 0.5054\n",
            "Epoch 283/1000\n",
            "3/3 [==============================] - 1s 266ms/step - loss: 0.6945 - accuracy: 0.4643 - val_loss: 0.6931 - val_accuracy: 0.5161\n",
            "Epoch 284/1000\n",
            "3/3 [==============================] - 1s 260ms/step - loss: 0.6942 - accuracy: 0.4971 - val_loss: 0.6931 - val_accuracy: 0.5161\n",
            "Epoch 285/1000\n",
            "3/3 [==============================] - 1s 266ms/step - loss: 0.6931 - accuracy: 0.5083 - val_loss: 0.6931 - val_accuracy: 0.5161\n",
            "Epoch 286/1000\n",
            "3/3 [==============================] - 1s 262ms/step - loss: 0.6926 - accuracy: 0.4897 - val_loss: 0.6931 - val_accuracy: 0.5269\n",
            "Epoch 287/1000\n",
            "3/3 [==============================] - 1s 280ms/step - loss: 0.6921 - accuracy: 0.5088 - val_loss: 0.6931 - val_accuracy: 0.5269\n",
            "Epoch 288/1000\n",
            "3/3 [==============================] - 1s 265ms/step - loss: 0.6932 - accuracy: 0.4893 - val_loss: 0.6930 - val_accuracy: 0.5269\n",
            "Epoch 289/1000\n",
            "3/3 [==============================] - 1s 263ms/step - loss: 0.6928 - accuracy: 0.5144 - val_loss: 0.6930 - val_accuracy: 0.5269\n",
            "Epoch 290/1000\n",
            "3/3 [==============================] - 1s 266ms/step - loss: 0.6937 - accuracy: 0.4860 - val_loss: 0.6930 - val_accuracy: 0.5269\n",
            "Epoch 291/1000\n",
            "3/3 [==============================] - 1s 277ms/step - loss: 0.6930 - accuracy: 0.5121 - val_loss: 0.6930 - val_accuracy: 0.5269\n",
            "Epoch 292/1000\n",
            "3/3 [==============================] - 1s 271ms/step - loss: 0.6915 - accuracy: 0.4924 - val_loss: 0.6930 - val_accuracy: 0.5269\n",
            "Epoch 293/1000\n",
            "3/3 [==============================] - 1s 274ms/step - loss: 0.6927 - accuracy: 0.4827 - val_loss: 0.6930 - val_accuracy: 0.5269\n",
            "Epoch 294/1000\n",
            "3/3 [==============================] - 1s 274ms/step - loss: 0.6928 - accuracy: 0.5017 - val_loss: 0.6930 - val_accuracy: 0.5269\n",
            "Epoch 295/1000\n",
            "3/3 [==============================] - 1s 281ms/step - loss: 0.6917 - accuracy: 0.5161 - val_loss: 0.6930 - val_accuracy: 0.5269\n",
            "Epoch 296/1000\n",
            "3/3 [==============================] - 1s 263ms/step - loss: 0.6957 - accuracy: 0.4786 - val_loss: 0.6930 - val_accuracy: 0.5269\n",
            "Epoch 297/1000\n",
            "3/3 [==============================] - 1s 260ms/step - loss: 0.6939 - accuracy: 0.4883 - val_loss: 0.6930 - val_accuracy: 0.5269\n",
            "Epoch 298/1000\n",
            "3/3 [==============================] - 1s 265ms/step - loss: 0.6966 - accuracy: 0.4706 - val_loss: 0.6930 - val_accuracy: 0.5269\n",
            "Epoch 299/1000\n",
            "3/3 [==============================] - 1s 651ms/step - loss: 0.6947 - accuracy: 0.4910 - val_loss: 0.6929 - val_accuracy: 0.5269\n",
            "Epoch 300/1000\n",
            "3/3 [==============================] - 1s 275ms/step - loss: 0.6919 - accuracy: 0.4785 - val_loss: 0.6929 - val_accuracy: 0.5161\n",
            "Epoch 301/1000\n",
            "3/3 [==============================] - 1s 271ms/step - loss: 0.6951 - accuracy: 0.4878 - val_loss: 0.6929 - val_accuracy: 0.5161\n",
            "Epoch 302/1000\n",
            "3/3 [==============================] - 1s 270ms/step - loss: 0.6934 - accuracy: 0.5006 - val_loss: 0.6929 - val_accuracy: 0.5161\n",
            "Epoch 303/1000\n",
            "3/3 [==============================] - 1s 310ms/step - loss: 0.6916 - accuracy: 0.5364 - val_loss: 0.6929 - val_accuracy: 0.5161\n",
            "Epoch 304/1000\n",
            "3/3 [==============================] - 1s 285ms/step - loss: 0.6927 - accuracy: 0.4988 - val_loss: 0.6929 - val_accuracy: 0.5161\n",
            "Epoch 305/1000\n",
            "3/3 [==============================] - 1s 305ms/step - loss: 0.6934 - accuracy: 0.4977 - val_loss: 0.6929 - val_accuracy: 0.5161\n",
            "Epoch 306/1000\n",
            "3/3 [==============================] - 1s 329ms/step - loss: 0.6917 - accuracy: 0.5038 - val_loss: 0.6929 - val_accuracy: 0.5161\n",
            "Epoch 307/1000\n",
            "3/3 [==============================] - 1s 293ms/step - loss: 0.6928 - accuracy: 0.4906 - val_loss: 0.6929 - val_accuracy: 0.5161\n",
            "Epoch 308/1000\n",
            "3/3 [==============================] - 1s 269ms/step - loss: 0.6958 - accuracy: 0.4812 - val_loss: 0.6929 - val_accuracy: 0.5161\n",
            "Epoch 309/1000\n",
            "3/3 [==============================] - 1s 270ms/step - loss: 0.6933 - accuracy: 0.4877 - val_loss: 0.6929 - val_accuracy: 0.5269\n",
            "Epoch 310/1000\n",
            "3/3 [==============================] - 1s 272ms/step - loss: 0.6929 - accuracy: 0.5203 - val_loss: 0.6929 - val_accuracy: 0.5376\n",
            "Epoch 311/1000\n",
            "3/3 [==============================] - 1s 285ms/step - loss: 0.6925 - accuracy: 0.5302 - val_loss: 0.6929 - val_accuracy: 0.5269\n",
            "Epoch 312/1000\n",
            "3/3 [==============================] - 1s 276ms/step - loss: 0.6920 - accuracy: 0.5319 - val_loss: 0.6929 - val_accuracy: 0.5269\n",
            "Epoch 313/1000\n",
            "3/3 [==============================] - 1s 280ms/step - loss: 0.6936 - accuracy: 0.4959 - val_loss: 0.6929 - val_accuracy: 0.5269\n",
            "Epoch 314/1000\n",
            "3/3 [==============================] - 1s 280ms/step - loss: 0.6931 - accuracy: 0.5160 - val_loss: 0.6929 - val_accuracy: 0.5269\n",
            "Epoch 315/1000\n",
            "3/3 [==============================] - 1s 285ms/step - loss: 0.6933 - accuracy: 0.5029 - val_loss: 0.6929 - val_accuracy: 0.5269\n",
            "Epoch 316/1000\n",
            "3/3 [==============================] - 1s 280ms/step - loss: 0.6928 - accuracy: 0.5011 - val_loss: 0.6929 - val_accuracy: 0.5269\n",
            "Epoch 317/1000\n",
            "3/3 [==============================] - 1s 267ms/step - loss: 0.6936 - accuracy: 0.5134 - val_loss: 0.6928 - val_accuracy: 0.5269\n",
            "Epoch 318/1000\n",
            "3/3 [==============================] - 1s 275ms/step - loss: 0.6909 - accuracy: 0.5278 - val_loss: 0.6928 - val_accuracy: 0.5269\n",
            "Epoch 319/1000\n",
            "3/3 [==============================] - 1s 270ms/step - loss: 0.6914 - accuracy: 0.5204 - val_loss: 0.6928 - val_accuracy: 0.5269\n",
            "Epoch 320/1000\n",
            "3/3 [==============================] - 1s 266ms/step - loss: 0.6943 - accuracy: 0.4904 - val_loss: 0.6928 - val_accuracy: 0.5269\n",
            "Epoch 321/1000\n",
            "3/3 [==============================] - 1s 286ms/step - loss: 0.6913 - accuracy: 0.5073 - val_loss: 0.6928 - val_accuracy: 0.5269\n",
            "Epoch 322/1000\n",
            "3/3 [==============================] - 1s 269ms/step - loss: 0.6915 - accuracy: 0.5105 - val_loss: 0.6928 - val_accuracy: 0.5376\n",
            "Epoch 323/1000\n",
            "3/3 [==============================] - 1s 280ms/step - loss: 0.6900 - accuracy: 0.5369 - val_loss: 0.6928 - val_accuracy: 0.5376\n",
            "Epoch 324/1000\n",
            "3/3 [==============================] - 1s 265ms/step - loss: 0.6900 - accuracy: 0.5436 - val_loss: 0.6928 - val_accuracy: 0.5376\n",
            "Epoch 325/1000\n",
            "3/3 [==============================] - 1s 276ms/step - loss: 0.6912 - accuracy: 0.5366 - val_loss: 0.6928 - val_accuracy: 0.5376\n",
            "Epoch 326/1000\n",
            "3/3 [==============================] - 1s 287ms/step - loss: 0.6904 - accuracy: 0.5475 - val_loss: 0.6928 - val_accuracy: 0.5484\n",
            "Epoch 327/1000\n",
            "3/3 [==============================] - 1s 278ms/step - loss: 0.6922 - accuracy: 0.4984 - val_loss: 0.6928 - val_accuracy: 0.5484\n",
            "Epoch 328/1000\n",
            "3/3 [==============================] - 1s 267ms/step - loss: 0.6913 - accuracy: 0.5343 - val_loss: 0.6928 - val_accuracy: 0.5484\n",
            "Epoch 329/1000\n",
            "3/3 [==============================] - 1s 283ms/step - loss: 0.6920 - accuracy: 0.5253 - val_loss: 0.6928 - val_accuracy: 0.5484\n",
            "Epoch 330/1000\n",
            "3/3 [==============================] - 1s 281ms/step - loss: 0.6911 - accuracy: 0.5217 - val_loss: 0.6928 - val_accuracy: 0.5484\n",
            "Epoch 331/1000\n",
            "3/3 [==============================] - 1s 266ms/step - loss: 0.6913 - accuracy: 0.5213 - val_loss: 0.6928 - val_accuracy: 0.5484\n",
            "Epoch 332/1000\n",
            "3/3 [==============================] - 1s 278ms/step - loss: 0.6922 - accuracy: 0.5305 - val_loss: 0.6928 - val_accuracy: 0.5484\n"
          ],
          "name": "stdout"
        },
        {
          "output_type": "stream",
          "text": [
            "/usr/local/lib/python3.7/dist-packages/keras/engine/sequential.py:450: UserWarning: `model.predict_classes()` is deprecated and will be removed after 2021-01-01. Please use instead:* `np.argmax(model.predict(x), axis=-1)`,   if your model does multi-class classification   (e.g. if it uses a `softmax` last-layer activation).* `(model.predict(x) > 0.5).astype(\"int32\")`,   if your model does binary classification   (e.g. if it uses a `sigmoid` last-layer activation).\n",
            "  warnings.warn('`model.predict_classes()` is deprecated and '\n",
            "INFO:absl:TPU has inputs with dynamic shapes: [<tf.Tensor 'Const:0' shape=() dtype=int32>, <tf.Tensor 'cond_8/Identity:0' shape=(None, 40) dtype=int32>]\n"
          ],
          "name": "stderr"
        },
        {
          "output_type": "stream",
          "text": [
            "Model: \"sequential_25\"\n",
            "_________________________________________________________________\n",
            "Layer (type)                 Output Shape              Param #   \n",
            "=================================================================\n",
            "embedding_25 (Embedding)     (None, 40, 50)            125000    \n",
            "_________________________________________________________________\n",
            "lstm_25 (LSTM)               (None, 50)                20200     \n",
            "_________________________________________________________________\n",
            "dense_25 (Dense)             (None, 1)                 51        \n",
            "=================================================================\n",
            "Total params: 145,251\n",
            "Trainable params: 145,251\n",
            "Non-trainable params: 0\n",
            "_________________________________________________________________\n",
            "Model id: 2\n",
            "   type  ...                                       cleaned_text\n",
            "0  ISTJ  ...  newton universal gravity law mean seriously wo...\n",
            "1  ISTJ  ...  never understood long time people often told s...\n",
            "2  ISTJ  ...  expected try brown instead definitely prefer b...\n",
            "3  ISTJ  ...  cant see keep secret fact could gone either wa...\n",
            "\n",
            "[4 rows x 3 columns]\n",
            "Train shape: (372, 3)\n",
            "Validation shape: (93, 3)\n",
            "Categorial split:\n",
            "   type  ...                                       cleaned_text\n",
            "0     1  ...  newton universal gravity law mean seriously wo...\n",
            "1     1  ...  never understood long time people often told s...\n",
            "2     1  ...  expected try brown instead definitely prefer b...\n",
            "3     1  ...  cant see keep secret fact could gone either wa...\n",
            "\n",
            "[4 rows x 3 columns]\n",
            "Epoch 1/1000\n"
          ],
          "name": "stdout"
        },
        {
          "output_type": "stream",
          "text": [
            "INFO:absl:TPU has inputs with dynamic shapes: [<tf.Tensor 'Const:0' shape=() dtype=int32>, <tf.Tensor 'cond_8/Identity:0' shape=(None, 40) dtype=int32>, <tf.Tensor 'cond_8/Identity_1:0' shape=(None,) dtype=int64>]\n",
            "INFO:absl:TPU has inputs with dynamic shapes: [<tf.Tensor 'Const:0' shape=() dtype=int32>, <tf.Tensor 'cond_8/Identity:0' shape=(None, 40) dtype=int32>, <tf.Tensor 'cond_8/Identity_1:0' shape=(None,) dtype=int64>]\n"
          ],
          "name": "stderr"
        },
        {
          "output_type": "stream",
          "text": [
            "3/3 [==============================] - ETA: 0s - loss: 0.6896 - accuracy: 0.5434 "
          ],
          "name": "stdout"
        },
        {
          "output_type": "stream",
          "text": [
            "INFO:absl:TPU has inputs with dynamic shapes: [<tf.Tensor 'Const:0' shape=() dtype=int32>, <tf.Tensor 'cond_8/Identity:0' shape=(None, 40) dtype=int32>, <tf.Tensor 'cond_8/Identity_1:0' shape=(None,) dtype=int64>]\n"
          ],
          "name": "stderr"
        },
        {
          "output_type": "stream",
          "text": [
            "3/3 [==============================] - 14s 2s/step - loss: 0.6896 - accuracy: 0.5426 - val_loss: 0.6839 - val_accuracy: 0.5914\n",
            "Epoch 2/1000\n",
            "3/3 [==============================] - 1s 270ms/step - loss: 0.6905 - accuracy: 0.5387 - val_loss: 0.6838 - val_accuracy: 0.5914\n",
            "Epoch 3/1000\n",
            "3/3 [==============================] - 1s 266ms/step - loss: 0.6905 - accuracy: 0.5319 - val_loss: 0.6838 - val_accuracy: 0.5914\n",
            "Epoch 4/1000\n",
            "3/3 [==============================] - 1s 257ms/step - loss: 0.6882 - accuracy: 0.5534 - val_loss: 0.6837 - val_accuracy: 0.5914\n",
            "Epoch 5/1000\n",
            "3/3 [==============================] - 1s 269ms/step - loss: 0.6916 - accuracy: 0.5290 - val_loss: 0.6836 - val_accuracy: 0.5914\n",
            "Epoch 6/1000\n",
            "3/3 [==============================] - 1s 269ms/step - loss: 0.6917 - accuracy: 0.5250 - val_loss: 0.6836 - val_accuracy: 0.5914\n",
            "Epoch 7/1000\n",
            "3/3 [==============================] - 1s 274ms/step - loss: 0.6895 - accuracy: 0.5436 - val_loss: 0.6836 - val_accuracy: 0.5914\n",
            "Epoch 8/1000\n",
            "3/3 [==============================] - 1s 258ms/step - loss: 0.6914 - accuracy: 0.5319 - val_loss: 0.6835 - val_accuracy: 0.5914\n",
            "Epoch 9/1000\n",
            "3/3 [==============================] - 1s 262ms/step - loss: 0.6890 - accuracy: 0.5475 - val_loss: 0.6835 - val_accuracy: 0.5914\n",
            "Epoch 10/1000\n",
            "3/3 [==============================] - 1s 270ms/step - loss: 0.6886 - accuracy: 0.5495 - val_loss: 0.6834 - val_accuracy: 0.5914\n",
            "Epoch 11/1000\n",
            "3/3 [==============================] - 1s 259ms/step - loss: 0.6913 - accuracy: 0.5290 - val_loss: 0.6834 - val_accuracy: 0.5914\n",
            "Epoch 12/1000\n",
            "3/3 [==============================] - 1s 269ms/step - loss: 0.6883 - accuracy: 0.5504 - val_loss: 0.6833 - val_accuracy: 0.5914\n",
            "Epoch 13/1000\n",
            "3/3 [==============================] - 1s 266ms/step - loss: 0.6927 - accuracy: 0.5211 - val_loss: 0.6833 - val_accuracy: 0.5914\n",
            "Epoch 14/1000\n",
            "3/3 [==============================] - 1s 269ms/step - loss: 0.6889 - accuracy: 0.5514 - val_loss: 0.6833 - val_accuracy: 0.5914\n",
            "Epoch 15/1000\n",
            "3/3 [==============================] - 1s 285ms/step - loss: 0.6914 - accuracy: 0.5280 - val_loss: 0.6833 - val_accuracy: 0.5914\n",
            "Epoch 16/1000\n",
            "3/3 [==============================] - 1s 258ms/step - loss: 0.6913 - accuracy: 0.5280 - val_loss: 0.6832 - val_accuracy: 0.5914\n",
            "Epoch 17/1000\n",
            "3/3 [==============================] - 1s 263ms/step - loss: 0.6878 - accuracy: 0.5514 - val_loss: 0.6832 - val_accuracy: 0.5914\n",
            "Epoch 18/1000\n",
            "3/3 [==============================] - 1s 251ms/step - loss: 0.6886 - accuracy: 0.5456 - val_loss: 0.6832 - val_accuracy: 0.5914\n",
            "Epoch 19/1000\n",
            "3/3 [==============================] - 1s 259ms/step - loss: 0.6892 - accuracy: 0.5465 - val_loss: 0.6831 - val_accuracy: 0.5914\n",
            "Epoch 20/1000\n",
            "3/3 [==============================] - 1s 267ms/step - loss: 0.6907 - accuracy: 0.5368 - val_loss: 0.6831 - val_accuracy: 0.5914\n",
            "Epoch 21/1000\n",
            "3/3 [==============================] - 1s 259ms/step - loss: 0.6880 - accuracy: 0.5504 - val_loss: 0.6831 - val_accuracy: 0.5914\n",
            "Epoch 22/1000\n",
            "3/3 [==============================] - 1s 256ms/step - loss: 0.6897 - accuracy: 0.5368 - val_loss: 0.6831 - val_accuracy: 0.5914\n",
            "Epoch 23/1000\n",
            "3/3 [==============================] - 1s 258ms/step - loss: 0.6894 - accuracy: 0.5407 - val_loss: 0.6830 - val_accuracy: 0.5914\n",
            "Epoch 24/1000\n",
            "3/3 [==============================] - 1s 255ms/step - loss: 0.6899 - accuracy: 0.5426 - val_loss: 0.6830 - val_accuracy: 0.5914\n",
            "Epoch 25/1000\n",
            "3/3 [==============================] - 1s 261ms/step - loss: 0.6893 - accuracy: 0.5446 - val_loss: 0.6830 - val_accuracy: 0.5914\n",
            "Epoch 26/1000\n",
            "3/3 [==============================] - 1s 271ms/step - loss: 0.6897 - accuracy: 0.5387 - val_loss: 0.6830 - val_accuracy: 0.5914\n",
            "Epoch 27/1000\n",
            "3/3 [==============================] - 1s 251ms/step - loss: 0.6898 - accuracy: 0.5407 - val_loss: 0.6829 - val_accuracy: 0.5914\n",
            "Epoch 28/1000\n",
            "3/3 [==============================] - 1s 261ms/step - loss: 0.6880 - accuracy: 0.5446 - val_loss: 0.6829 - val_accuracy: 0.5914\n",
            "Epoch 29/1000\n",
            "3/3 [==============================] - 1s 265ms/step - loss: 0.6903 - accuracy: 0.5348 - val_loss: 0.6829 - val_accuracy: 0.5914\n",
            "Epoch 30/1000\n",
            "3/3 [==============================] - 1s 265ms/step - loss: 0.6880 - accuracy: 0.5514 - val_loss: 0.6829 - val_accuracy: 0.5914\n",
            "Epoch 31/1000\n",
            "3/3 [==============================] - 1s 275ms/step - loss: 0.6902 - accuracy: 0.5377 - val_loss: 0.6829 - val_accuracy: 0.5914\n",
            "Epoch 32/1000\n",
            "3/3 [==============================] - 1s 282ms/step - loss: 0.6888 - accuracy: 0.5426 - val_loss: 0.6828 - val_accuracy: 0.5914\n",
            "Epoch 33/1000\n",
            "3/3 [==============================] - 1s 256ms/step - loss: 0.6895 - accuracy: 0.5407 - val_loss: 0.6828 - val_accuracy: 0.5914\n",
            "Epoch 34/1000\n",
            "3/3 [==============================] - 1s 258ms/step - loss: 0.6896 - accuracy: 0.5387 - val_loss: 0.6828 - val_accuracy: 0.5914\n",
            "Epoch 35/1000\n",
            "3/3 [==============================] - 1s 256ms/step - loss: 0.6887 - accuracy: 0.5475 - val_loss: 0.6828 - val_accuracy: 0.5914\n",
            "Epoch 36/1000\n",
            "3/3 [==============================] - 1s 260ms/step - loss: 0.6895 - accuracy: 0.5436 - val_loss: 0.6828 - val_accuracy: 0.5914\n",
            "Epoch 37/1000\n",
            "3/3 [==============================] - 1s 255ms/step - loss: 0.6900 - accuracy: 0.5348 - val_loss: 0.6827 - val_accuracy: 0.5914\n",
            "Epoch 38/1000\n",
            "3/3 [==============================] - 1s 582ms/step - loss: 0.6895 - accuracy: 0.5407 - val_loss: 0.6827 - val_accuracy: 0.5914\n",
            "Epoch 39/1000\n",
            "3/3 [==============================] - 1s 266ms/step - loss: 0.6863 - accuracy: 0.5573 - val_loss: 0.6827 - val_accuracy: 0.5914\n",
            "Epoch 40/1000\n",
            "3/3 [==============================] - 1s 267ms/step - loss: 0.6915 - accuracy: 0.5250 - val_loss: 0.6827 - val_accuracy: 0.5914\n",
            "Epoch 41/1000\n",
            "3/3 [==============================] - 1s 251ms/step - loss: 0.6896 - accuracy: 0.5397 - val_loss: 0.6827 - val_accuracy: 0.5914\n",
            "Epoch 42/1000\n",
            "3/3 [==============================] - 1s 261ms/step - loss: 0.6902 - accuracy: 0.5329 - val_loss: 0.6826 - val_accuracy: 0.5914\n",
            "Epoch 43/1000\n",
            "3/3 [==============================] - 1s 283ms/step - loss: 0.6915 - accuracy: 0.5250 - val_loss: 0.6826 - val_accuracy: 0.5914\n",
            "Epoch 44/1000\n",
            "3/3 [==============================] - 1s 283ms/step - loss: 0.6882 - accuracy: 0.5475 - val_loss: 0.6826 - val_accuracy: 0.5914\n",
            "Epoch 45/1000\n",
            "3/3 [==============================] - 1s 274ms/step - loss: 0.6897 - accuracy: 0.5358 - val_loss: 0.6826 - val_accuracy: 0.5914\n",
            "Epoch 46/1000\n",
            "3/3 [==============================] - 1s 266ms/step - loss: 0.6867 - accuracy: 0.5553 - val_loss: 0.6826 - val_accuracy: 0.5914\n",
            "Epoch 47/1000\n",
            "3/3 [==============================] - 1s 266ms/step - loss: 0.6847 - accuracy: 0.5680 - val_loss: 0.6825 - val_accuracy: 0.5914\n",
            "Epoch 48/1000\n",
            "3/3 [==============================] - 1s 269ms/step - loss: 0.6901 - accuracy: 0.5387 - val_loss: 0.6825 - val_accuracy: 0.5914\n",
            "Epoch 49/1000\n",
            "3/3 [==============================] - 1s 266ms/step - loss: 0.6885 - accuracy: 0.5465 - val_loss: 0.6825 - val_accuracy: 0.5914\n",
            "Epoch 50/1000\n",
            "3/3 [==============================] - 1s 260ms/step - loss: 0.6866 - accuracy: 0.5582 - val_loss: 0.6825 - val_accuracy: 0.5914\n",
            "Epoch 51/1000\n",
            "3/3 [==============================] - 1s 256ms/step - loss: 0.6891 - accuracy: 0.5387 - val_loss: 0.6825 - val_accuracy: 0.5914\n",
            "Epoch 52/1000\n",
            "3/3 [==============================] - 1s 263ms/step - loss: 0.6923 - accuracy: 0.5241 - val_loss: 0.6825 - val_accuracy: 0.5914\n",
            "Epoch 53/1000\n",
            "3/3 [==============================] - 1s 263ms/step - loss: 0.6894 - accuracy: 0.5387 - val_loss: 0.6825 - val_accuracy: 0.5914\n",
            "Epoch 54/1000\n",
            "3/3 [==============================] - 1s 263ms/step - loss: 0.6902 - accuracy: 0.5368 - val_loss: 0.6825 - val_accuracy: 0.5914\n",
            "Epoch 55/1000\n",
            "3/3 [==============================] - 1s 275ms/step - loss: 0.6899 - accuracy: 0.5338 - val_loss: 0.6825 - val_accuracy: 0.5914\n",
            "Epoch 56/1000\n",
            "3/3 [==============================] - 1s 256ms/step - loss: 0.6876 - accuracy: 0.5456 - val_loss: 0.6825 - val_accuracy: 0.5914\n",
            "Epoch 57/1000\n",
            "3/3 [==============================] - 1s 285ms/step - loss: 0.6876 - accuracy: 0.5485 - val_loss: 0.6825 - val_accuracy: 0.5914\n",
            "Epoch 58/1000\n",
            "3/3 [==============================] - 1s 261ms/step - loss: 0.6910 - accuracy: 0.5299 - val_loss: 0.6824 - val_accuracy: 0.5914\n",
            "Epoch 59/1000\n",
            "3/3 [==============================] - 1s 261ms/step - loss: 0.6888 - accuracy: 0.5446 - val_loss: 0.6824 - val_accuracy: 0.5914\n",
            "Epoch 60/1000\n",
            "3/3 [==============================] - 1s 258ms/step - loss: 0.6886 - accuracy: 0.5446 - val_loss: 0.6824 - val_accuracy: 0.5914\n",
            "Epoch 61/1000\n",
            "3/3 [==============================] - 1s 265ms/step - loss: 0.6890 - accuracy: 0.5387 - val_loss: 0.6824 - val_accuracy: 0.5914\n",
            "Epoch 62/1000\n",
            "3/3 [==============================] - 1s 265ms/step - loss: 0.6852 - accuracy: 0.5631 - val_loss: 0.6824 - val_accuracy: 0.5914\n",
            "Epoch 63/1000\n",
            "3/3 [==============================] - 1s 267ms/step - loss: 0.6904 - accuracy: 0.5319 - val_loss: 0.6824 - val_accuracy: 0.5914\n",
            "Epoch 64/1000\n",
            "3/3 [==============================] - 1s 273ms/step - loss: 0.6916 - accuracy: 0.5211 - val_loss: 0.6824 - val_accuracy: 0.5914\n",
            "Epoch 65/1000\n",
            "3/3 [==============================] - 1s 269ms/step - loss: 0.6903 - accuracy: 0.5280 - val_loss: 0.6824 - val_accuracy: 0.5914\n",
            "Epoch 66/1000\n",
            "3/3 [==============================] - 1s 264ms/step - loss: 0.6879 - accuracy: 0.5495 - val_loss: 0.6823 - val_accuracy: 0.5914\n",
            "Epoch 67/1000\n",
            "3/3 [==============================] - 1s 259ms/step - loss: 0.6889 - accuracy: 0.5368 - val_loss: 0.6823 - val_accuracy: 0.5914\n",
            "Epoch 68/1000\n",
            "3/3 [==============================] - 1s 282ms/step - loss: 0.6904 - accuracy: 0.5309 - val_loss: 0.6823 - val_accuracy: 0.5914\n",
            "Epoch 69/1000\n",
            "3/3 [==============================] - 1s 271ms/step - loss: 0.6887 - accuracy: 0.5407 - val_loss: 0.6823 - val_accuracy: 0.5914\n",
            "Epoch 70/1000\n",
            "3/3 [==============================] - 1s 252ms/step - loss: 0.6903 - accuracy: 0.5290 - val_loss: 0.6823 - val_accuracy: 0.5914\n",
            "Epoch 71/1000\n",
            "3/3 [==============================] - 1s 268ms/step - loss: 0.6879 - accuracy: 0.5436 - val_loss: 0.6823 - val_accuracy: 0.5914\n",
            "Epoch 72/1000\n",
            "3/3 [==============================] - 1s 266ms/step - loss: 0.6891 - accuracy: 0.5368 - val_loss: 0.6823 - val_accuracy: 0.5914\n",
            "Epoch 73/1000\n",
            "3/3 [==============================] - 1s 254ms/step - loss: 0.6897 - accuracy: 0.5338 - val_loss: 0.6822 - val_accuracy: 0.5914\n",
            "Epoch 74/1000\n",
            "3/3 [==============================] - 1s 276ms/step - loss: 0.6910 - accuracy: 0.5299 - val_loss: 0.6822 - val_accuracy: 0.5914\n",
            "Epoch 75/1000\n",
            "3/3 [==============================] - 1s 276ms/step - loss: 0.6888 - accuracy: 0.5387 - val_loss: 0.6822 - val_accuracy: 0.5914\n",
            "Epoch 76/1000\n",
            "3/3 [==============================] - 1s 262ms/step - loss: 0.6887 - accuracy: 0.5416 - val_loss: 0.6822 - val_accuracy: 0.5914\n",
            "Epoch 77/1000\n",
            "3/3 [==============================] - 1s 248ms/step - loss: 0.6861 - accuracy: 0.5582 - val_loss: 0.6822 - val_accuracy: 0.5914\n",
            "Epoch 78/1000\n",
            "3/3 [==============================] - 1s 258ms/step - loss: 0.6902 - accuracy: 0.5319 - val_loss: 0.6822 - val_accuracy: 0.5914\n",
            "Epoch 79/1000\n",
            "3/3 [==============================] - 1s 261ms/step - loss: 0.6874 - accuracy: 0.5475 - val_loss: 0.6822 - val_accuracy: 0.5914\n",
            "Epoch 80/1000\n",
            "3/3 [==============================] - 1s 254ms/step - loss: 0.6876 - accuracy: 0.5465 - val_loss: 0.6821 - val_accuracy: 0.5914\n",
            "Epoch 81/1000\n",
            "3/3 [==============================] - 1s 259ms/step - loss: 0.6894 - accuracy: 0.5358 - val_loss: 0.6821 - val_accuracy: 0.5914\n",
            "Epoch 82/1000\n",
            "3/3 [==============================] - 1s 257ms/step - loss: 0.6894 - accuracy: 0.5368 - val_loss: 0.6821 - val_accuracy: 0.5914\n",
            "Epoch 83/1000\n",
            "3/3 [==============================] - 1s 620ms/step - loss: 0.6863 - accuracy: 0.5563 - val_loss: 0.6821 - val_accuracy: 0.5914\n",
            "Epoch 84/1000\n",
            "3/3 [==============================] - 1s 258ms/step - loss: 0.6893 - accuracy: 0.5338 - val_loss: 0.6821 - val_accuracy: 0.5914\n",
            "Epoch 85/1000\n",
            "3/3 [==============================] - 1s 253ms/step - loss: 0.6878 - accuracy: 0.5426 - val_loss: 0.6821 - val_accuracy: 0.5914\n",
            "Epoch 86/1000\n",
            "3/3 [==============================] - 1s 265ms/step - loss: 0.6855 - accuracy: 0.5563 - val_loss: 0.6821 - val_accuracy: 0.5914\n",
            "Epoch 87/1000\n",
            "3/3 [==============================] - 1s 263ms/step - loss: 0.6904 - accuracy: 0.5338 - val_loss: 0.6821 - val_accuracy: 0.5914\n",
            "Epoch 88/1000\n",
            "3/3 [==============================] - 1s 262ms/step - loss: 0.6897 - accuracy: 0.5329 - val_loss: 0.6821 - val_accuracy: 0.5914\n",
            "Epoch 89/1000\n",
            "3/3 [==============================] - 1s 265ms/step - loss: 0.6877 - accuracy: 0.5485 - val_loss: 0.6821 - val_accuracy: 0.5914\n",
            "Epoch 90/1000\n",
            "3/3 [==============================] - 1s 264ms/step - loss: 0.6874 - accuracy: 0.5465 - val_loss: 0.6821 - val_accuracy: 0.5914\n",
            "Epoch 91/1000\n",
            "3/3 [==============================] - 1s 261ms/step - loss: 0.6878 - accuracy: 0.5446 - val_loss: 0.6821 - val_accuracy: 0.5914\n",
            "Epoch 92/1000\n",
            "3/3 [==============================] - 1s 261ms/step - loss: 0.6865 - accuracy: 0.5475 - val_loss: 0.6821 - val_accuracy: 0.5914\n",
            "Epoch 93/1000\n",
            "3/3 [==============================] - 1s 258ms/step - loss: 0.6887 - accuracy: 0.5377 - val_loss: 0.6821 - val_accuracy: 0.5914\n",
            "Epoch 94/1000\n",
            "3/3 [==============================] - 1s 264ms/step - loss: 0.6838 - accuracy: 0.5690 - val_loss: 0.6820 - val_accuracy: 0.5914\n",
            "Epoch 95/1000\n",
            "3/3 [==============================] - 1s 266ms/step - loss: 0.6937 - accuracy: 0.5104 - val_loss: 0.6821 - val_accuracy: 0.5914\n",
            "Epoch 96/1000\n",
            "3/3 [==============================] - 1s 251ms/step - loss: 0.6893 - accuracy: 0.5319 - val_loss: 0.6821 - val_accuracy: 0.5914\n",
            "Epoch 97/1000\n",
            "3/3 [==============================] - 1s 255ms/step - loss: 0.6866 - accuracy: 0.5543 - val_loss: 0.6821 - val_accuracy: 0.5914\n"
          ],
          "name": "stdout"
        },
        {
          "output_type": "stream",
          "text": [
            "/usr/local/lib/python3.7/dist-packages/keras/engine/sequential.py:450: UserWarning: `model.predict_classes()` is deprecated and will be removed after 2021-01-01. Please use instead:* `np.argmax(model.predict(x), axis=-1)`,   if your model does multi-class classification   (e.g. if it uses a `softmax` last-layer activation).* `(model.predict(x) > 0.5).astype(\"int32\")`,   if your model does binary classification   (e.g. if it uses a `sigmoid` last-layer activation).\n",
            "  warnings.warn('`model.predict_classes()` is deprecated and '\n",
            "INFO:absl:TPU has inputs with dynamic shapes: [<tf.Tensor 'Const:0' shape=() dtype=int32>, <tf.Tensor 'cond_8/Identity:0' shape=(None, 40) dtype=int32>]\n"
          ],
          "name": "stderr"
        },
        {
          "output_type": "stream",
          "text": [
            "Model: \"sequential_26\"\n",
            "_________________________________________________________________\n",
            "Layer (type)                 Output Shape              Param #   \n",
            "=================================================================\n",
            "embedding_26 (Embedding)     (None, 40, 50)            125000    \n",
            "_________________________________________________________________\n",
            "lstm_26 (LSTM)               (None, 50)                20200     \n",
            "_________________________________________________________________\n",
            "dense_26 (Dense)             (None, 1)                 51        \n",
            "=================================================================\n",
            "Total params: 145,251\n",
            "Trainable params: 145,251\n",
            "Non-trainable params: 0\n",
            "_________________________________________________________________\n",
            "Model id: 3\n",
            "   type  ...                                       cleaned_text\n",
            "0  ISTJ  ...  newton universal gravity law mean seriously wo...\n",
            "1  ISTJ  ...  never understood long time people often told s...\n",
            "2  ISTJ  ...  expected try brown instead definitely prefer b...\n",
            "3  ISTJ  ...  cant see keep secret fact could gone either wa...\n",
            "\n",
            "[4 rows x 3 columns]\n",
            "Train shape: (372, 3)\n",
            "Validation shape: (93, 3)\n",
            "Categorial split:\n",
            "   type  ...                                       cleaned_text\n",
            "0     1  ...  newton universal gravity law mean seriously wo...\n",
            "1     1  ...  never understood long time people often told s...\n",
            "2     1  ...  expected try brown instead definitely prefer b...\n",
            "3     1  ...  cant see keep secret fact could gone either wa...\n",
            "\n",
            "[4 rows x 3 columns]\n",
            "Epoch 1/1000\n"
          ],
          "name": "stdout"
        },
        {
          "output_type": "stream",
          "text": [
            "INFO:absl:TPU has inputs with dynamic shapes: [<tf.Tensor 'Const:0' shape=() dtype=int32>, <tf.Tensor 'cond_8/Identity:0' shape=(None, 40) dtype=int32>, <tf.Tensor 'cond_8/Identity_1:0' shape=(None,) dtype=int64>]\n",
            "INFO:absl:TPU has inputs with dynamic shapes: [<tf.Tensor 'Const:0' shape=() dtype=int32>, <tf.Tensor 'cond_8/Identity:0' shape=(None, 40) dtype=int32>, <tf.Tensor 'cond_8/Identity_1:0' shape=(None,) dtype=int64>]\n"
          ],
          "name": "stderr"
        },
        {
          "output_type": "stream",
          "text": [
            "3/3 [==============================] - ETA: 0s - loss: 0.6981 - accuracy: 0.4826 "
          ],
          "name": "stdout"
        },
        {
          "output_type": "stream",
          "text": [
            "INFO:absl:TPU has inputs with dynamic shapes: [<tf.Tensor 'Const:0' shape=() dtype=int32>, <tf.Tensor 'cond_8/Identity:0' shape=(None, 40) dtype=int32>, <tf.Tensor 'cond_8/Identity_1:0' shape=(None,) dtype=int64>]\n"
          ],
          "name": "stderr"
        },
        {
          "output_type": "stream",
          "text": [
            "3/3 [==============================] - 13s 2s/step - loss: 0.6976 - accuracy: 0.4856 - val_loss: 0.6918 - val_accuracy: 0.5269\n",
            "Epoch 2/1000\n",
            "3/3 [==============================] - 1s 255ms/step - loss: 0.6980 - accuracy: 0.4817 - val_loss: 0.6918 - val_accuracy: 0.5269\n",
            "Epoch 3/1000\n",
            "3/3 [==============================] - 1s 266ms/step - loss: 0.6932 - accuracy: 0.5149 - val_loss: 0.6918 - val_accuracy: 0.5269\n",
            "Epoch 4/1000\n",
            "3/3 [==============================] - 1s 266ms/step - loss: 0.6954 - accuracy: 0.4954 - val_loss: 0.6918 - val_accuracy: 0.5269\n",
            "Epoch 5/1000\n",
            "3/3 [==============================] - 1s 270ms/step - loss: 0.6945 - accuracy: 0.5071 - val_loss: 0.6918 - val_accuracy: 0.5269\n",
            "Epoch 6/1000\n",
            "3/3 [==============================] - 1s 264ms/step - loss: 0.6942 - accuracy: 0.5100 - val_loss: 0.6918 - val_accuracy: 0.5269\n",
            "Epoch 7/1000\n",
            "3/3 [==============================] - 1s 252ms/step - loss: 0.6960 - accuracy: 0.4944 - val_loss: 0.6918 - val_accuracy: 0.5269\n",
            "Epoch 8/1000\n",
            "3/3 [==============================] - 1s 259ms/step - loss: 0.6964 - accuracy: 0.4944 - val_loss: 0.6917 - val_accuracy: 0.5269\n",
            "Epoch 9/1000\n",
            "3/3 [==============================] - 1s 260ms/step - loss: 0.6970 - accuracy: 0.4846 - val_loss: 0.6917 - val_accuracy: 0.5269\n",
            "Epoch 10/1000\n",
            "3/3 [==============================] - 1s 266ms/step - loss: 0.6976 - accuracy: 0.4846 - val_loss: 0.6917 - val_accuracy: 0.5269\n",
            "Epoch 11/1000\n",
            "3/3 [==============================] - 1s 262ms/step - loss: 0.6969 - accuracy: 0.4836 - val_loss: 0.6917 - val_accuracy: 0.5269\n",
            "Epoch 12/1000\n",
            "3/3 [==============================] - 1s 255ms/step - loss: 0.6966 - accuracy: 0.4895 - val_loss: 0.6917 - val_accuracy: 0.5269\n",
            "Epoch 13/1000\n",
            "3/3 [==============================] - 1s 262ms/step - loss: 0.6961 - accuracy: 0.4895 - val_loss: 0.6917 - val_accuracy: 0.5269\n",
            "Epoch 14/1000\n",
            "3/3 [==============================] - 1s 261ms/step - loss: 0.6949 - accuracy: 0.4993 - val_loss: 0.6917 - val_accuracy: 0.5269\n",
            "Epoch 15/1000\n",
            "3/3 [==============================] - 1s 255ms/step - loss: 0.6965 - accuracy: 0.4885 - val_loss: 0.6917 - val_accuracy: 0.5269\n",
            "Epoch 16/1000\n",
            "3/3 [==============================] - 1s 257ms/step - loss: 0.6973 - accuracy: 0.4788 - val_loss: 0.6917 - val_accuracy: 0.5269\n",
            "Epoch 17/1000\n",
            "3/3 [==============================] - 1s 257ms/step - loss: 0.6931 - accuracy: 0.5100 - val_loss: 0.6917 - val_accuracy: 0.5269\n",
            "Epoch 18/1000\n",
            "3/3 [==============================] - 1s 260ms/step - loss: 0.6968 - accuracy: 0.4885 - val_loss: 0.6917 - val_accuracy: 0.5269\n",
            "Epoch 19/1000\n",
            "3/3 [==============================] - 1s 255ms/step - loss: 0.6953 - accuracy: 0.4934 - val_loss: 0.6917 - val_accuracy: 0.5269\n",
            "Epoch 20/1000\n",
            "3/3 [==============================] - 1s 259ms/step - loss: 0.6945 - accuracy: 0.4924 - val_loss: 0.6917 - val_accuracy: 0.5269\n",
            "Epoch 21/1000\n",
            "3/3 [==============================] - 1s 252ms/step - loss: 0.6961 - accuracy: 0.4895 - val_loss: 0.6917 - val_accuracy: 0.5269\n",
            "Epoch 22/1000\n",
            "3/3 [==============================] - 1s 265ms/step - loss: 0.6947 - accuracy: 0.5002 - val_loss: 0.6917 - val_accuracy: 0.5269\n",
            "Epoch 23/1000\n",
            "3/3 [==============================] - 1s 263ms/step - loss: 0.6947 - accuracy: 0.4944 - val_loss: 0.6917 - val_accuracy: 0.5269\n"
          ],
          "name": "stdout"
        },
        {
          "output_type": "stream",
          "text": [
            "/usr/local/lib/python3.7/dist-packages/keras/engine/sequential.py:450: UserWarning: `model.predict_classes()` is deprecated and will be removed after 2021-01-01. Please use instead:* `np.argmax(model.predict(x), axis=-1)`,   if your model does multi-class classification   (e.g. if it uses a `softmax` last-layer activation).* `(model.predict(x) > 0.5).astype(\"int32\")`,   if your model does binary classification   (e.g. if it uses a `sigmoid` last-layer activation).\n",
            "  warnings.warn('`model.predict_classes()` is deprecated and '\n",
            "INFO:absl:TPU has inputs with dynamic shapes: [<tf.Tensor 'Const:0' shape=() dtype=int32>, <tf.Tensor 'cond_8/Identity:0' shape=(None, 40) dtype=int32>]\n"
          ],
          "name": "stderr"
        },
        {
          "output_type": "stream",
          "text": [
            "Model: \"sequential_27\"\n",
            "_________________________________________________________________\n",
            "Layer (type)                 Output Shape              Param #   \n",
            "=================================================================\n",
            "embedding_27 (Embedding)     (None, 40, 50)            125000    \n",
            "_________________________________________________________________\n",
            "lstm_27 (LSTM)               (None, 50)                20200     \n",
            "_________________________________________________________________\n",
            "dense_27 (Dense)             (None, 1)                 51        \n",
            "=================================================================\n",
            "Total params: 145,251\n",
            "Trainable params: 145,251\n",
            "Non-trainable params: 0\n",
            "_________________________________________________________________\n",
            "Model id: 4\n",
            "   type  ...                                       cleaned_text\n",
            "0  ISTJ  ...  newton universal gravity law mean seriously wo...\n",
            "1  ISTJ  ...  never understood long time people often told s...\n",
            "2  ISTJ  ...  expected try brown instead definitely prefer b...\n",
            "3  ISTJ  ...  cant see keep secret fact could gone either wa...\n",
            "\n",
            "[4 rows x 3 columns]\n",
            "Train shape: (372, 3)\n",
            "Validation shape: (93, 3)\n",
            "Categorial split:\n",
            "   type  ...                                       cleaned_text\n",
            "0     0  ...  newton universal gravity law mean seriously wo...\n",
            "1     0  ...  never understood long time people often told s...\n",
            "2     0  ...  expected try brown instead definitely prefer b...\n",
            "3     0  ...  cant see keep secret fact could gone either wa...\n",
            "\n",
            "[4 rows x 3 columns]\n",
            "Epoch 1/1000\n"
          ],
          "name": "stdout"
        },
        {
          "output_type": "stream",
          "text": [
            "INFO:absl:TPU has inputs with dynamic shapes: [<tf.Tensor 'Const:0' shape=() dtype=int32>, <tf.Tensor 'cond_8/Identity:0' shape=(None, 40) dtype=int32>, <tf.Tensor 'cond_8/Identity_1:0' shape=(None,) dtype=int64>]\n",
            "INFO:absl:TPU has inputs with dynamic shapes: [<tf.Tensor 'Const:0' shape=() dtype=int32>, <tf.Tensor 'cond_8/Identity:0' shape=(None, 40) dtype=int32>, <tf.Tensor 'cond_8/Identity_1:0' shape=(None,) dtype=int64>]\n"
          ],
          "name": "stderr"
        },
        {
          "output_type": "stream",
          "text": [
            "3/3 [==============================] - ETA: 0s - loss: 0.7314 - accuracy: 0.4762 "
          ],
          "name": "stdout"
        },
        {
          "output_type": "stream",
          "text": [
            "INFO:absl:TPU has inputs with dynamic shapes: [<tf.Tensor 'Const:0' shape=() dtype=int32>, <tf.Tensor 'cond_8/Identity:0' shape=(None, 40) dtype=int32>, <tf.Tensor 'cond_8/Identity_1:0' shape=(None,) dtype=int64>]\n"
          ],
          "name": "stderr"
        },
        {
          "output_type": "stream",
          "text": [
            "3/3 [==============================] - 13s 2s/step - loss: 0.7324 - accuracy: 0.4741 - val_loss: 0.7979 - val_accuracy: 0.3333\n",
            "Epoch 2/1000\n",
            "3/3 [==============================] - 1s 285ms/step - loss: 0.7354 - accuracy: 0.4682 - val_loss: 0.7971 - val_accuracy: 0.3333\n",
            "Epoch 3/1000\n",
            "3/3 [==============================] - 1s 267ms/step - loss: 0.7369 - accuracy: 0.4643 - val_loss: 0.7962 - val_accuracy: 0.3333\n",
            "Epoch 4/1000\n",
            "3/3 [==============================] - 1s 257ms/step - loss: 0.7302 - accuracy: 0.4780 - val_loss: 0.7953 - val_accuracy: 0.3333\n",
            "Epoch 5/1000\n",
            "3/3 [==============================] - 0s 241ms/step - loss: 0.7279 - accuracy: 0.4800 - val_loss: 0.7945 - val_accuracy: 0.3333\n",
            "Epoch 6/1000\n",
            "3/3 [==============================] - 1s 263ms/step - loss: 0.7267 - accuracy: 0.4809 - val_loss: 0.7937 - val_accuracy: 0.3333\n",
            "Epoch 7/1000\n",
            "3/3 [==============================] - 1s 254ms/step - loss: 0.7352 - accuracy: 0.4604 - val_loss: 0.7929 - val_accuracy: 0.3333\n",
            "Epoch 8/1000\n",
            "3/3 [==============================] - 1s 256ms/step - loss: 0.7267 - accuracy: 0.4809 - val_loss: 0.7921 - val_accuracy: 0.3333\n",
            "Epoch 9/1000\n",
            "3/3 [==============================] - 1s 261ms/step - loss: 0.7221 - accuracy: 0.4907 - val_loss: 0.7913 - val_accuracy: 0.3333\n",
            "Epoch 10/1000\n",
            "3/3 [==============================] - 1s 256ms/step - loss: 0.7307 - accuracy: 0.4682 - val_loss: 0.7905 - val_accuracy: 0.3333\n",
            "Epoch 11/1000\n",
            "3/3 [==============================] - 1s 259ms/step - loss: 0.7391 - accuracy: 0.4497 - val_loss: 0.7897 - val_accuracy: 0.3333\n",
            "Epoch 12/1000\n",
            "3/3 [==============================] - 1s 256ms/step - loss: 0.7317 - accuracy: 0.4663 - val_loss: 0.7889 - val_accuracy: 0.3333\n",
            "Epoch 13/1000\n",
            "3/3 [==============================] - 1s 267ms/step - loss: 0.7351 - accuracy: 0.4575 - val_loss: 0.7881 - val_accuracy: 0.3333\n",
            "Epoch 14/1000\n",
            "3/3 [==============================] - 1s 261ms/step - loss: 0.7304 - accuracy: 0.4663 - val_loss: 0.7873 - val_accuracy: 0.3333\n",
            "Epoch 15/1000\n",
            "3/3 [==============================] - 1s 259ms/step - loss: 0.7388 - accuracy: 0.4468 - val_loss: 0.7865 - val_accuracy: 0.3333\n",
            "Epoch 16/1000\n",
            "3/3 [==============================] - 1s 247ms/step - loss: 0.7258 - accuracy: 0.4761 - val_loss: 0.7858 - val_accuracy: 0.3333\n",
            "Epoch 17/1000\n",
            "3/3 [==============================] - 1s 270ms/step - loss: 0.7254 - accuracy: 0.4761 - val_loss: 0.7850 - val_accuracy: 0.3333\n",
            "Epoch 18/1000\n",
            "3/3 [==============================] - 1s 273ms/step - loss: 0.7285 - accuracy: 0.4673 - val_loss: 0.7843 - val_accuracy: 0.3333\n",
            "Epoch 19/1000\n",
            "3/3 [==============================] - 1s 247ms/step - loss: 0.7312 - accuracy: 0.4575 - val_loss: 0.7835 - val_accuracy: 0.3333\n",
            "Epoch 20/1000\n",
            "3/3 [==============================] - 1s 259ms/step - loss: 0.7288 - accuracy: 0.4643 - val_loss: 0.7828 - val_accuracy: 0.3333\n",
            "Epoch 21/1000\n",
            "3/3 [==============================] - 1s 263ms/step - loss: 0.7188 - accuracy: 0.4878 - val_loss: 0.7820 - val_accuracy: 0.3333\n",
            "Epoch 22/1000\n",
            "3/3 [==============================] - 1s 257ms/step - loss: 0.7278 - accuracy: 0.4643 - val_loss: 0.7812 - val_accuracy: 0.3333\n",
            "Epoch 23/1000\n",
            "3/3 [==============================] - 1s 258ms/step - loss: 0.7294 - accuracy: 0.4604 - val_loss: 0.7805 - val_accuracy: 0.3333\n",
            "Epoch 24/1000\n",
            "3/3 [==============================] - 1s 258ms/step - loss: 0.7205 - accuracy: 0.4819 - val_loss: 0.7798 - val_accuracy: 0.3333\n",
            "Epoch 25/1000\n",
            "3/3 [==============================] - 1s 258ms/step - loss: 0.7234 - accuracy: 0.4722 - val_loss: 0.7791 - val_accuracy: 0.3333\n",
            "Epoch 26/1000\n",
            "3/3 [==============================] - 1s 252ms/step - loss: 0.7271 - accuracy: 0.4624 - val_loss: 0.7783 - val_accuracy: 0.3333\n",
            "Epoch 27/1000\n",
            "3/3 [==============================] - 1s 255ms/step - loss: 0.7336 - accuracy: 0.4458 - val_loss: 0.7776 - val_accuracy: 0.3333\n",
            "Epoch 28/1000\n",
            "3/3 [==============================] - 1s 269ms/step - loss: 0.7267 - accuracy: 0.4624 - val_loss: 0.7769 - val_accuracy: 0.3333\n",
            "Epoch 29/1000\n",
            "3/3 [==============================] - 1s 270ms/step - loss: 0.7127 - accuracy: 0.4956 - val_loss: 0.7762 - val_accuracy: 0.3333\n",
            "Epoch 30/1000\n",
            "3/3 [==============================] - 1s 710ms/step - loss: 0.7336 - accuracy: 0.4409 - val_loss: 0.7754 - val_accuracy: 0.3333\n",
            "Epoch 31/1000\n",
            "3/3 [==============================] - 1s 263ms/step - loss: 0.7204 - accuracy: 0.4751 - val_loss: 0.7747 - val_accuracy: 0.3333\n",
            "Epoch 32/1000\n",
            "3/3 [==============================] - 1s 256ms/step - loss: 0.7190 - accuracy: 0.4770 - val_loss: 0.7741 - val_accuracy: 0.3333\n",
            "Epoch 33/1000\n",
            "3/3 [==============================] - 1s 267ms/step - loss: 0.7185 - accuracy: 0.4790 - val_loss: 0.7734 - val_accuracy: 0.3333\n",
            "Epoch 34/1000\n",
            "3/3 [==============================] - 1s 261ms/step - loss: 0.7250 - accuracy: 0.4614 - val_loss: 0.7727 - val_accuracy: 0.3333\n",
            "Epoch 35/1000\n",
            "3/3 [==============================] - 1s 262ms/step - loss: 0.7104 - accuracy: 0.4995 - val_loss: 0.7720 - val_accuracy: 0.3333\n",
            "Epoch 36/1000\n",
            "3/3 [==============================] - 1s 260ms/step - loss: 0.7184 - accuracy: 0.4761 - val_loss: 0.7713 - val_accuracy: 0.3333\n",
            "Epoch 37/1000\n",
            "3/3 [==============================] - 1s 265ms/step - loss: 0.7165 - accuracy: 0.4809 - val_loss: 0.7707 - val_accuracy: 0.3333\n",
            "Epoch 38/1000\n",
            "3/3 [==============================] - 1s 271ms/step - loss: 0.7239 - accuracy: 0.4575 - val_loss: 0.7700 - val_accuracy: 0.3333\n",
            "Epoch 39/1000\n",
            "3/3 [==============================] - 1s 275ms/step - loss: 0.7179 - accuracy: 0.4770 - val_loss: 0.7693 - val_accuracy: 0.3333\n",
            "Epoch 40/1000\n",
            "3/3 [==============================] - 1s 266ms/step - loss: 0.7193 - accuracy: 0.4692 - val_loss: 0.7686 - val_accuracy: 0.3333\n",
            "Epoch 41/1000\n",
            "3/3 [==============================] - 1s 251ms/step - loss: 0.7258 - accuracy: 0.4507 - val_loss: 0.7679 - val_accuracy: 0.3333\n",
            "Epoch 42/1000\n",
            "3/3 [==============================] - 1s 259ms/step - loss: 0.7138 - accuracy: 0.4839 - val_loss: 0.7673 - val_accuracy: 0.3333\n",
            "Epoch 43/1000\n",
            "3/3 [==============================] - 1s 261ms/step - loss: 0.7182 - accuracy: 0.4692 - val_loss: 0.7667 - val_accuracy: 0.3333\n",
            "Epoch 44/1000\n",
            "3/3 [==============================] - 1s 256ms/step - loss: 0.7232 - accuracy: 0.4565 - val_loss: 0.7660 - val_accuracy: 0.3333\n",
            "Epoch 45/1000\n",
            "3/3 [==============================] - 1s 259ms/step - loss: 0.7146 - accuracy: 0.4800 - val_loss: 0.7654 - val_accuracy: 0.3333\n",
            "Epoch 46/1000\n",
            "3/3 [==============================] - 1s 261ms/step - loss: 0.7194 - accuracy: 0.4663 - val_loss: 0.7647 - val_accuracy: 0.3333\n",
            "Epoch 47/1000\n",
            "3/3 [==============================] - 1s 269ms/step - loss: 0.7207 - accuracy: 0.4595 - val_loss: 0.7641 - val_accuracy: 0.3333\n",
            "Epoch 48/1000\n",
            "3/3 [==============================] - 1s 254ms/step - loss: 0.7144 - accuracy: 0.4780 - val_loss: 0.7635 - val_accuracy: 0.3333\n",
            "Epoch 49/1000\n",
            "3/3 [==============================] - 1s 254ms/step - loss: 0.7119 - accuracy: 0.4829 - val_loss: 0.7628 - val_accuracy: 0.3333\n",
            "Epoch 50/1000\n",
            "3/3 [==============================] - 1s 270ms/step - loss: 0.7193 - accuracy: 0.4624 - val_loss: 0.7622 - val_accuracy: 0.3333\n",
            "Epoch 51/1000\n",
            "3/3 [==============================] - 1s 260ms/step - loss: 0.7194 - accuracy: 0.4585 - val_loss: 0.7616 - val_accuracy: 0.3333\n",
            "Epoch 52/1000\n",
            "3/3 [==============================] - 1s 262ms/step - loss: 0.7081 - accuracy: 0.4936 - val_loss: 0.7610 - val_accuracy: 0.3333\n",
            "Epoch 53/1000\n",
            "3/3 [==============================] - 1s 255ms/step - loss: 0.7178 - accuracy: 0.4653 - val_loss: 0.7604 - val_accuracy: 0.3333\n",
            "Epoch 54/1000\n",
            "3/3 [==============================] - 1s 258ms/step - loss: 0.7141 - accuracy: 0.4761 - val_loss: 0.7598 - val_accuracy: 0.3333\n",
            "Epoch 55/1000\n",
            "3/3 [==============================] - 1s 258ms/step - loss: 0.7179 - accuracy: 0.4614 - val_loss: 0.7592 - val_accuracy: 0.3333\n",
            "Epoch 56/1000\n",
            "3/3 [==============================] - 1s 254ms/step - loss: 0.7095 - accuracy: 0.4848 - val_loss: 0.7586 - val_accuracy: 0.3333\n",
            "Epoch 57/1000\n",
            "3/3 [==============================] - 1s 257ms/step - loss: 0.7164 - accuracy: 0.4643 - val_loss: 0.7579 - val_accuracy: 0.3333\n",
            "Epoch 58/1000\n",
            "3/3 [==============================] - 1s 252ms/step - loss: 0.7153 - accuracy: 0.4643 - val_loss: 0.7573 - val_accuracy: 0.3333\n",
            "Epoch 59/1000\n",
            "3/3 [==============================] - 1s 266ms/step - loss: 0.7114 - accuracy: 0.4770 - val_loss: 0.7567 - val_accuracy: 0.3333\n",
            "Epoch 60/1000\n",
            "3/3 [==============================] - 1s 259ms/step - loss: 0.7234 - accuracy: 0.4389 - val_loss: 0.7561 - val_accuracy: 0.3333\n",
            "Epoch 61/1000\n",
            "3/3 [==============================] - 1s 255ms/step - loss: 0.7049 - accuracy: 0.4975 - val_loss: 0.7555 - val_accuracy: 0.3333\n",
            "Epoch 62/1000\n",
            "3/3 [==============================] - 1s 263ms/step - loss: 0.7110 - accuracy: 0.4761 - val_loss: 0.7549 - val_accuracy: 0.3333\n",
            "Epoch 63/1000\n",
            "3/3 [==============================] - 1s 259ms/step - loss: 0.7169 - accuracy: 0.4604 - val_loss: 0.7544 - val_accuracy: 0.3333\n",
            "Epoch 64/1000\n",
            "3/3 [==============================] - 1s 267ms/step - loss: 0.7132 - accuracy: 0.4692 - val_loss: 0.7538 - val_accuracy: 0.3333\n",
            "Epoch 65/1000\n",
            "3/3 [==============================] - 1s 258ms/step - loss: 0.7199 - accuracy: 0.4448 - val_loss: 0.7532 - val_accuracy: 0.3333\n",
            "Epoch 66/1000\n",
            "3/3 [==============================] - 1s 264ms/step - loss: 0.7119 - accuracy: 0.4682 - val_loss: 0.7527 - val_accuracy: 0.3333\n",
            "Epoch 67/1000\n",
            "3/3 [==============================] - 1s 260ms/step - loss: 0.7121 - accuracy: 0.4692 - val_loss: 0.7521 - val_accuracy: 0.3333\n",
            "Epoch 68/1000\n",
            "3/3 [==============================] - 1s 264ms/step - loss: 0.7181 - accuracy: 0.4477 - val_loss: 0.7515 - val_accuracy: 0.3333\n",
            "Epoch 69/1000\n",
            "3/3 [==============================] - 1s 255ms/step - loss: 0.7070 - accuracy: 0.4819 - val_loss: 0.7510 - val_accuracy: 0.3333\n",
            "Epoch 70/1000\n",
            "3/3 [==============================] - 1s 260ms/step - loss: 0.7143 - accuracy: 0.4595 - val_loss: 0.7504 - val_accuracy: 0.3333\n",
            "Epoch 71/1000\n",
            "3/3 [==============================] - 1s 253ms/step - loss: 0.7082 - accuracy: 0.4790 - val_loss: 0.7499 - val_accuracy: 0.3333\n",
            "Epoch 72/1000\n",
            "3/3 [==============================] - 1s 259ms/step - loss: 0.7059 - accuracy: 0.4927 - val_loss: 0.7494 - val_accuracy: 0.3333\n",
            "Epoch 73/1000\n",
            "3/3 [==============================] - 1s 261ms/step - loss: 0.7062 - accuracy: 0.4819 - val_loss: 0.7488 - val_accuracy: 0.3333\n",
            "Epoch 74/1000\n",
            "3/3 [==============================] - 1s 253ms/step - loss: 0.7125 - accuracy: 0.4624 - val_loss: 0.7483 - val_accuracy: 0.3333\n",
            "Epoch 75/1000\n",
            "3/3 [==============================] - 1s 615ms/step - loss: 0.7144 - accuracy: 0.4546 - val_loss: 0.7477 - val_accuracy: 0.3333\n",
            "Epoch 76/1000\n",
            "3/3 [==============================] - 1s 257ms/step - loss: 0.7070 - accuracy: 0.4780 - val_loss: 0.7472 - val_accuracy: 0.3333\n",
            "Epoch 77/1000\n",
            "3/3 [==============================] - 1s 266ms/step - loss: 0.7055 - accuracy: 0.4829 - val_loss: 0.7467 - val_accuracy: 0.3333\n",
            "Epoch 78/1000\n",
            "3/3 [==============================] - 1s 265ms/step - loss: 0.7078 - accuracy: 0.4731 - val_loss: 0.7462 - val_accuracy: 0.3333\n",
            "Epoch 79/1000\n",
            "3/3 [==============================] - 1s 265ms/step - loss: 0.7122 - accuracy: 0.4536 - val_loss: 0.7457 - val_accuracy: 0.3333\n",
            "Epoch 80/1000\n",
            "3/3 [==============================] - 1s 256ms/step - loss: 0.7067 - accuracy: 0.4770 - val_loss: 0.7451 - val_accuracy: 0.3333\n",
            "Epoch 81/1000\n",
            "3/3 [==============================] - 1s 262ms/step - loss: 0.7137 - accuracy: 0.4497 - val_loss: 0.7446 - val_accuracy: 0.3333\n",
            "Epoch 82/1000\n",
            "3/3 [==============================] - 1s 265ms/step - loss: 0.7062 - accuracy: 0.4751 - val_loss: 0.7441 - val_accuracy: 0.3333\n",
            "Epoch 83/1000\n",
            "3/3 [==============================] - 1s 265ms/step - loss: 0.7079 - accuracy: 0.4702 - val_loss: 0.7436 - val_accuracy: 0.3333\n",
            "Epoch 84/1000\n",
            "3/3 [==============================] - 1s 275ms/step - loss: 0.7070 - accuracy: 0.4731 - val_loss: 0.7431 - val_accuracy: 0.3333\n",
            "Epoch 85/1000\n",
            "3/3 [==============================] - 1s 268ms/step - loss: 0.7077 - accuracy: 0.4682 - val_loss: 0.7426 - val_accuracy: 0.3333\n",
            "Epoch 86/1000\n",
            "3/3 [==============================] - 1s 274ms/step - loss: 0.7097 - accuracy: 0.4595 - val_loss: 0.7421 - val_accuracy: 0.3333\n",
            "Epoch 87/1000\n",
            "3/3 [==============================] - 1s 279ms/step - loss: 0.7085 - accuracy: 0.4634 - val_loss: 0.7416 - val_accuracy: 0.3333\n",
            "Epoch 88/1000\n",
            "3/3 [==============================] - 1s 259ms/step - loss: 0.7097 - accuracy: 0.4595 - val_loss: 0.7411 - val_accuracy: 0.3333\n",
            "Epoch 89/1000\n",
            "3/3 [==============================] - 1s 265ms/step - loss: 0.7072 - accuracy: 0.4682 - val_loss: 0.7406 - val_accuracy: 0.3333\n",
            "Epoch 90/1000\n",
            "3/3 [==============================] - 1s 266ms/step - loss: 0.7074 - accuracy: 0.4673 - val_loss: 0.7401 - val_accuracy: 0.3333\n",
            "Epoch 91/1000\n",
            "3/3 [==============================] - 1s 281ms/step - loss: 0.7114 - accuracy: 0.4497 - val_loss: 0.7396 - val_accuracy: 0.3333\n",
            "Epoch 92/1000\n",
            "3/3 [==============================] - 1s 278ms/step - loss: 0.7091 - accuracy: 0.4575 - val_loss: 0.7392 - val_accuracy: 0.3333\n",
            "Epoch 93/1000\n",
            "3/3 [==============================] - 1s 276ms/step - loss: 0.7079 - accuracy: 0.4614 - val_loss: 0.7387 - val_accuracy: 0.3333\n",
            "Epoch 94/1000\n",
            "3/3 [==============================] - 1s 265ms/step - loss: 0.7095 - accuracy: 0.4497 - val_loss: 0.7382 - val_accuracy: 0.3333\n",
            "Epoch 95/1000\n",
            "3/3 [==============================] - 1s 262ms/step - loss: 0.7083 - accuracy: 0.4565 - val_loss: 0.7378 - val_accuracy: 0.3333\n",
            "Epoch 96/1000\n",
            "3/3 [==============================] - 1s 258ms/step - loss: 0.7073 - accuracy: 0.4614 - val_loss: 0.7373 - val_accuracy: 0.3333\n",
            "Epoch 97/1000\n",
            "3/3 [==============================] - 1s 265ms/step - loss: 0.7086 - accuracy: 0.4585 - val_loss: 0.7369 - val_accuracy: 0.3333\n",
            "Epoch 98/1000\n",
            "3/3 [==============================] - 1s 264ms/step - loss: 0.7048 - accuracy: 0.4653 - val_loss: 0.7364 - val_accuracy: 0.3333\n",
            "Epoch 99/1000\n",
            "3/3 [==============================] - 1s 275ms/step - loss: 0.7054 - accuracy: 0.4614 - val_loss: 0.7360 - val_accuracy: 0.3333\n",
            "Epoch 100/1000\n",
            "3/3 [==============================] - 1s 268ms/step - loss: 0.7106 - accuracy: 0.4389 - val_loss: 0.7355 - val_accuracy: 0.3333\n",
            "Epoch 101/1000\n",
            "3/3 [==============================] - 1s 256ms/step - loss: 0.7052 - accuracy: 0.4643 - val_loss: 0.7350 - val_accuracy: 0.3333\n",
            "Epoch 102/1000\n",
            "3/3 [==============================] - 1s 260ms/step - loss: 0.7027 - accuracy: 0.4751 - val_loss: 0.7346 - val_accuracy: 0.3333\n",
            "Epoch 103/1000\n",
            "3/3 [==============================] - 1s 273ms/step - loss: 0.7050 - accuracy: 0.4624 - val_loss: 0.7341 - val_accuracy: 0.3333\n",
            "Epoch 104/1000\n",
            "3/3 [==============================] - 1s 276ms/step - loss: 0.7007 - accuracy: 0.4858 - val_loss: 0.7337 - val_accuracy: 0.3333\n",
            "Epoch 105/1000\n",
            "3/3 [==============================] - 1s 264ms/step - loss: 0.7025 - accuracy: 0.4702 - val_loss: 0.7333 - val_accuracy: 0.3333\n",
            "Epoch 106/1000\n",
            "3/3 [==============================] - 1s 275ms/step - loss: 0.7052 - accuracy: 0.4614 - val_loss: 0.7328 - val_accuracy: 0.3333\n",
            "Epoch 107/1000\n",
            "3/3 [==============================] - 1s 267ms/step - loss: 0.7061 - accuracy: 0.4624 - val_loss: 0.7324 - val_accuracy: 0.3333\n",
            "Epoch 108/1000\n",
            "3/3 [==============================] - 1s 256ms/step - loss: 0.7037 - accuracy: 0.4663 - val_loss: 0.7319 - val_accuracy: 0.3333\n",
            "Epoch 109/1000\n",
            "3/3 [==============================] - 1s 272ms/step - loss: 0.7048 - accuracy: 0.4595 - val_loss: 0.7315 - val_accuracy: 0.3333\n",
            "Epoch 110/1000\n",
            "3/3 [==============================] - 1s 255ms/step - loss: 0.7053 - accuracy: 0.4575 - val_loss: 0.7311 - val_accuracy: 0.3333\n",
            "Epoch 111/1000\n",
            "3/3 [==============================] - 1s 284ms/step - loss: 0.7009 - accuracy: 0.4770 - val_loss: 0.7307 - val_accuracy: 0.3333\n",
            "Epoch 112/1000\n",
            "3/3 [==============================] - 1s 268ms/step - loss: 0.7056 - accuracy: 0.4526 - val_loss: 0.7303 - val_accuracy: 0.3333\n",
            "Epoch 113/1000\n",
            "3/3 [==============================] - 1s 270ms/step - loss: 0.7037 - accuracy: 0.4604 - val_loss: 0.7298 - val_accuracy: 0.3333\n",
            "Epoch 114/1000\n",
            "3/3 [==============================] - 1s 269ms/step - loss: 0.7031 - accuracy: 0.4595 - val_loss: 0.7294 - val_accuracy: 0.3333\n",
            "Epoch 115/1000\n",
            "3/3 [==============================] - 1s 253ms/step - loss: 0.7011 - accuracy: 0.4790 - val_loss: 0.7290 - val_accuracy: 0.3333\n",
            "Epoch 116/1000\n",
            "3/3 [==============================] - 1s 660ms/step - loss: 0.7010 - accuracy: 0.4741 - val_loss: 0.7286 - val_accuracy: 0.3333\n",
            "Epoch 117/1000\n",
            "3/3 [==============================] - 1s 274ms/step - loss: 0.6991 - accuracy: 0.4809 - val_loss: 0.7282 - val_accuracy: 0.3333\n",
            "Epoch 118/1000\n",
            "3/3 [==============================] - 1s 286ms/step - loss: 0.6998 - accuracy: 0.4819 - val_loss: 0.7278 - val_accuracy: 0.3333\n",
            "Epoch 119/1000\n",
            "3/3 [==============================] - 1s 269ms/step - loss: 0.7050 - accuracy: 0.4438 - val_loss: 0.7274 - val_accuracy: 0.3333\n",
            "Epoch 120/1000\n",
            "3/3 [==============================] - 1s 264ms/step - loss: 0.6999 - accuracy: 0.4731 - val_loss: 0.7270 - val_accuracy: 0.3333\n",
            "Epoch 121/1000\n",
            "3/3 [==============================] - 1s 270ms/step - loss: 0.7018 - accuracy: 0.4634 - val_loss: 0.7266 - val_accuracy: 0.3333\n",
            "Epoch 122/1000\n",
            "3/3 [==============================] - 1s 269ms/step - loss: 0.7017 - accuracy: 0.4643 - val_loss: 0.7262 - val_accuracy: 0.3333\n",
            "Epoch 123/1000\n",
            "3/3 [==============================] - 1s 267ms/step - loss: 0.6994 - accuracy: 0.4751 - val_loss: 0.7258 - val_accuracy: 0.3333\n",
            "Epoch 124/1000\n",
            "3/3 [==============================] - 1s 265ms/step - loss: 0.6992 - accuracy: 0.4770 - val_loss: 0.7254 - val_accuracy: 0.3333\n",
            "Epoch 125/1000\n",
            "3/3 [==============================] - 1s 253ms/step - loss: 0.7013 - accuracy: 0.4682 - val_loss: 0.7250 - val_accuracy: 0.3333\n",
            "Epoch 126/1000\n",
            "3/3 [==============================] - 1s 258ms/step - loss: 0.6979 - accuracy: 0.4839 - val_loss: 0.7246 - val_accuracy: 0.3333\n",
            "Epoch 127/1000\n",
            "3/3 [==============================] - 1s 264ms/step - loss: 0.7001 - accuracy: 0.4712 - val_loss: 0.7243 - val_accuracy: 0.3333\n",
            "Epoch 128/1000\n",
            "3/3 [==============================] - 1s 279ms/step - loss: 0.7008 - accuracy: 0.4653 - val_loss: 0.7239 - val_accuracy: 0.3333\n",
            "Epoch 129/1000\n",
            "3/3 [==============================] - 1s 263ms/step - loss: 0.7001 - accuracy: 0.4663 - val_loss: 0.7235 - val_accuracy: 0.3333\n",
            "Epoch 130/1000\n",
            "3/3 [==============================] - 1s 263ms/step - loss: 0.7012 - accuracy: 0.4604 - val_loss: 0.7231 - val_accuracy: 0.3333\n",
            "Epoch 131/1000\n",
            "3/3 [==============================] - 1s 270ms/step - loss: 0.6983 - accuracy: 0.4770 - val_loss: 0.7227 - val_accuracy: 0.3333\n",
            "Epoch 132/1000\n",
            "3/3 [==============================] - 1s 263ms/step - loss: 0.6997 - accuracy: 0.4624 - val_loss: 0.7223 - val_accuracy: 0.3333\n",
            "Epoch 133/1000\n",
            "3/3 [==============================] - 1s 256ms/step - loss: 0.7005 - accuracy: 0.4634 - val_loss: 0.7219 - val_accuracy: 0.3333\n",
            "Epoch 134/1000\n",
            "3/3 [==============================] - 1s 267ms/step - loss: 0.6998 - accuracy: 0.4682 - val_loss: 0.7216 - val_accuracy: 0.3333\n",
            "Epoch 135/1000\n",
            "3/3 [==============================] - 1s 274ms/step - loss: 0.6977 - accuracy: 0.4731 - val_loss: 0.7212 - val_accuracy: 0.3333\n",
            "Epoch 136/1000\n",
            "3/3 [==============================] - 1s 277ms/step - loss: 0.6987 - accuracy: 0.4653 - val_loss: 0.7209 - val_accuracy: 0.3333\n",
            "Epoch 137/1000\n",
            "3/3 [==============================] - 1s 264ms/step - loss: 0.7019 - accuracy: 0.4507 - val_loss: 0.7205 - val_accuracy: 0.3333\n",
            "Epoch 138/1000\n",
            "3/3 [==============================] - 1s 268ms/step - loss: 0.6970 - accuracy: 0.4780 - val_loss: 0.7201 - val_accuracy: 0.3333\n",
            "Epoch 139/1000\n",
            "3/3 [==============================] - 1s 284ms/step - loss: 0.6994 - accuracy: 0.4634 - val_loss: 0.7198 - val_accuracy: 0.3333\n",
            "Epoch 140/1000\n",
            "3/3 [==============================] - 1s 268ms/step - loss: 0.6965 - accuracy: 0.4702 - val_loss: 0.7194 - val_accuracy: 0.3333\n",
            "Epoch 141/1000\n",
            "3/3 [==============================] - 1s 263ms/step - loss: 0.6968 - accuracy: 0.4682 - val_loss: 0.7191 - val_accuracy: 0.3333\n",
            "Epoch 142/1000\n",
            "3/3 [==============================] - 1s 267ms/step - loss: 0.6987 - accuracy: 0.4643 - val_loss: 0.7188 - val_accuracy: 0.3333\n",
            "Epoch 143/1000\n",
            "3/3 [==============================] - 1s 262ms/step - loss: 0.6961 - accuracy: 0.4780 - val_loss: 0.7184 - val_accuracy: 0.3333\n",
            "Epoch 144/1000\n",
            "3/3 [==============================] - 1s 272ms/step - loss: 0.6952 - accuracy: 0.4858 - val_loss: 0.7181 - val_accuracy: 0.3333\n",
            "Epoch 145/1000\n",
            "3/3 [==============================] - 1s 259ms/step - loss: 0.6966 - accuracy: 0.4770 - val_loss: 0.7178 - val_accuracy: 0.3333\n",
            "Epoch 146/1000\n",
            "3/3 [==============================] - 1s 264ms/step - loss: 0.6972 - accuracy: 0.4722 - val_loss: 0.7175 - val_accuracy: 0.3333\n",
            "Epoch 147/1000\n",
            "3/3 [==============================] - 1s 270ms/step - loss: 0.6936 - accuracy: 0.4888 - val_loss: 0.7171 - val_accuracy: 0.3333\n",
            "Epoch 148/1000\n",
            "3/3 [==============================] - 1s 261ms/step - loss: 0.6968 - accuracy: 0.4673 - val_loss: 0.7168 - val_accuracy: 0.3333\n",
            "Epoch 149/1000\n",
            "3/3 [==============================] - 1s 274ms/step - loss: 0.6966 - accuracy: 0.4702 - val_loss: 0.7164 - val_accuracy: 0.3333\n",
            "Epoch 150/1000\n",
            "3/3 [==============================] - 1s 263ms/step - loss: 0.6970 - accuracy: 0.4643 - val_loss: 0.7161 - val_accuracy: 0.3333\n",
            "Epoch 151/1000\n",
            "3/3 [==============================] - 1s 249ms/step - loss: 0.6977 - accuracy: 0.4575 - val_loss: 0.7157 - val_accuracy: 0.3333\n",
            "Epoch 152/1000\n",
            "3/3 [==============================] - 1s 258ms/step - loss: 0.6979 - accuracy: 0.4624 - val_loss: 0.7154 - val_accuracy: 0.3333\n",
            "Epoch 153/1000\n",
            "3/3 [==============================] - 1s 257ms/step - loss: 0.6997 - accuracy: 0.4429 - val_loss: 0.7151 - val_accuracy: 0.3333\n",
            "Epoch 154/1000\n",
            "3/3 [==============================] - 1s 628ms/step - loss: 0.6984 - accuracy: 0.4468 - val_loss: 0.7147 - val_accuracy: 0.3333\n",
            "Epoch 155/1000\n",
            "3/3 [==============================] - 1s 263ms/step - loss: 0.6959 - accuracy: 0.4829 - val_loss: 0.7145 - val_accuracy: 0.3333\n",
            "Epoch 156/1000\n",
            "3/3 [==============================] - 1s 260ms/step - loss: 0.6972 - accuracy: 0.4575 - val_loss: 0.7141 - val_accuracy: 0.3333\n",
            "Epoch 157/1000\n",
            "3/3 [==============================] - 1s 263ms/step - loss: 0.6968 - accuracy: 0.4748 - val_loss: 0.7138 - val_accuracy: 0.3333\n",
            "Epoch 158/1000\n",
            "3/3 [==============================] - 1s 275ms/step - loss: 0.6979 - accuracy: 0.4538 - val_loss: 0.7135 - val_accuracy: 0.3333\n",
            "Epoch 159/1000\n",
            "3/3 [==============================] - 1s 272ms/step - loss: 0.6957 - accuracy: 0.4689 - val_loss: 0.7132 - val_accuracy: 0.3333\n",
            "Epoch 160/1000\n",
            "3/3 [==============================] - 1s 277ms/step - loss: 0.6984 - accuracy: 0.4455 - val_loss: 0.7129 - val_accuracy: 0.3333\n",
            "Epoch 161/1000\n",
            "3/3 [==============================] - 1s 260ms/step - loss: 0.6971 - accuracy: 0.4556 - val_loss: 0.7126 - val_accuracy: 0.3333\n",
            "Epoch 162/1000\n",
            "3/3 [==============================] - 1s 262ms/step - loss: 0.6963 - accuracy: 0.4552 - val_loss: 0.7123 - val_accuracy: 0.3333\n",
            "Epoch 163/1000\n",
            "3/3 [==============================] - 1s 265ms/step - loss: 0.6950 - accuracy: 0.4725 - val_loss: 0.7120 - val_accuracy: 0.3333\n",
            "Epoch 164/1000\n",
            "3/3 [==============================] - 1s 286ms/step - loss: 0.6943 - accuracy: 0.4778 - val_loss: 0.7117 - val_accuracy: 0.3333\n",
            "Epoch 165/1000\n",
            "3/3 [==============================] - 1s 275ms/step - loss: 0.6953 - accuracy: 0.4762 - val_loss: 0.7114 - val_accuracy: 0.3333\n",
            "Epoch 166/1000\n",
            "3/3 [==============================] - 1s 256ms/step - loss: 0.6959 - accuracy: 0.4670 - val_loss: 0.7112 - val_accuracy: 0.3333\n",
            "Epoch 167/1000\n",
            "3/3 [==============================] - 1s 278ms/step - loss: 0.6963 - accuracy: 0.4717 - val_loss: 0.7109 - val_accuracy: 0.3333\n",
            "Epoch 168/1000\n",
            "3/3 [==============================] - 1s 271ms/step - loss: 0.6946 - accuracy: 0.4690 - val_loss: 0.7106 - val_accuracy: 0.3333\n",
            "Epoch 169/1000\n",
            "3/3 [==============================] - 1s 254ms/step - loss: 0.6949 - accuracy: 0.4880 - val_loss: 0.7103 - val_accuracy: 0.3333\n",
            "Epoch 170/1000\n",
            "3/3 [==============================] - 1s 260ms/step - loss: 0.6944 - accuracy: 0.4736 - val_loss: 0.7100 - val_accuracy: 0.3333\n",
            "Epoch 171/1000\n",
            "3/3 [==============================] - 1s 256ms/step - loss: 0.6970 - accuracy: 0.4524 - val_loss: 0.7097 - val_accuracy: 0.3333\n",
            "Epoch 172/1000\n",
            "3/3 [==============================] - 1s 259ms/step - loss: 0.6960 - accuracy: 0.4658 - val_loss: 0.7095 - val_accuracy: 0.3333\n",
            "Epoch 173/1000\n",
            "3/3 [==============================] - 1s 265ms/step - loss: 0.6947 - accuracy: 0.4847 - val_loss: 0.7092 - val_accuracy: 0.3333\n",
            "Epoch 174/1000\n",
            "3/3 [==============================] - 1s 257ms/step - loss: 0.6935 - accuracy: 0.4906 - val_loss: 0.7089 - val_accuracy: 0.3226\n",
            "Epoch 175/1000\n",
            "3/3 [==============================] - 1s 263ms/step - loss: 0.6953 - accuracy: 0.4789 - val_loss: 0.7086 - val_accuracy: 0.3226\n",
            "Epoch 176/1000\n",
            "3/3 [==============================] - 1s 270ms/step - loss: 0.6923 - accuracy: 0.5066 - val_loss: 0.7084 - val_accuracy: 0.3226\n",
            "Epoch 177/1000\n",
            "3/3 [==============================] - 1s 278ms/step - loss: 0.6948 - accuracy: 0.4912 - val_loss: 0.7081 - val_accuracy: 0.3226\n",
            "Epoch 178/1000\n",
            "3/3 [==============================] - 1s 266ms/step - loss: 0.6922 - accuracy: 0.5121 - val_loss: 0.7078 - val_accuracy: 0.3226\n",
            "Epoch 179/1000\n",
            "3/3 [==============================] - 1s 271ms/step - loss: 0.6941 - accuracy: 0.4945 - val_loss: 0.7076 - val_accuracy: 0.3226\n",
            "Epoch 180/1000\n",
            "3/3 [==============================] - 1s 277ms/step - loss: 0.6950 - accuracy: 0.4640 - val_loss: 0.7073 - val_accuracy: 0.3118\n",
            "Epoch 181/1000\n",
            "3/3 [==============================] - 1s 265ms/step - loss: 0.6943 - accuracy: 0.5072 - val_loss: 0.7070 - val_accuracy: 0.3118\n",
            "Epoch 182/1000\n",
            "3/3 [==============================] - 1s 262ms/step - loss: 0.6921 - accuracy: 0.5233 - val_loss: 0.7068 - val_accuracy: 0.3118\n",
            "Epoch 183/1000\n",
            "3/3 [==============================] - 1s 265ms/step - loss: 0.6926 - accuracy: 0.5029 - val_loss: 0.7065 - val_accuracy: 0.3118\n",
            "Epoch 184/1000\n",
            "3/3 [==============================] - 1s 274ms/step - loss: 0.6951 - accuracy: 0.4753 - val_loss: 0.7063 - val_accuracy: 0.3118\n",
            "Epoch 185/1000\n",
            "3/3 [==============================] - 1s 280ms/step - loss: 0.6940 - accuracy: 0.5165 - val_loss: 0.7060 - val_accuracy: 0.3118\n",
            "Epoch 186/1000\n",
            "3/3 [==============================] - 1s 261ms/step - loss: 0.6927 - accuracy: 0.4972 - val_loss: 0.7057 - val_accuracy: 0.3118\n",
            "Epoch 187/1000\n",
            "3/3 [==============================] - 1s 260ms/step - loss: 0.6930 - accuracy: 0.5064 - val_loss: 0.7055 - val_accuracy: 0.3118\n",
            "Epoch 188/1000\n",
            "3/3 [==============================] - 1s 265ms/step - loss: 0.6934 - accuracy: 0.5121 - val_loss: 0.7053 - val_accuracy: 0.3118\n",
            "Epoch 189/1000\n",
            "3/3 [==============================] - 1s 265ms/step - loss: 0.6948 - accuracy: 0.5032 - val_loss: 0.7050 - val_accuracy: 0.3118\n",
            "Epoch 190/1000\n",
            "3/3 [==============================] - 1s 257ms/step - loss: 0.6942 - accuracy: 0.5031 - val_loss: 0.7048 - val_accuracy: 0.3118\n",
            "Epoch 191/1000\n",
            "3/3 [==============================] - 1s 652ms/step - loss: 0.6934 - accuracy: 0.5122 - val_loss: 0.7045 - val_accuracy: 0.3226\n",
            "Epoch 192/1000\n",
            "3/3 [==============================] - 1s 274ms/step - loss: 0.6934 - accuracy: 0.4982 - val_loss: 0.7043 - val_accuracy: 0.3226\n",
            "Epoch 193/1000\n",
            "3/3 [==============================] - 1s 284ms/step - loss: 0.6934 - accuracy: 0.4922 - val_loss: 0.7041 - val_accuracy: 0.3333\n",
            "Epoch 194/1000\n",
            "3/3 [==============================] - 1s 265ms/step - loss: 0.6924 - accuracy: 0.5364 - val_loss: 0.7039 - val_accuracy: 0.3333\n",
            "Epoch 195/1000\n",
            "3/3 [==============================] - 1s 254ms/step - loss: 0.6925 - accuracy: 0.5215 - val_loss: 0.7036 - val_accuracy: 0.3333\n",
            "Epoch 196/1000\n",
            "3/3 [==============================] - 1s 277ms/step - loss: 0.6939 - accuracy: 0.4734 - val_loss: 0.7034 - val_accuracy: 0.3333\n",
            "Epoch 197/1000\n",
            "3/3 [==============================] - 1s 270ms/step - loss: 0.6929 - accuracy: 0.4984 - val_loss: 0.7032 - val_accuracy: 0.3333\n",
            "Epoch 198/1000\n",
            "3/3 [==============================] - 1s 265ms/step - loss: 0.6930 - accuracy: 0.5160 - val_loss: 0.7030 - val_accuracy: 0.3333\n",
            "Epoch 199/1000\n",
            "3/3 [==============================] - 1s 281ms/step - loss: 0.6922 - accuracy: 0.5167 - val_loss: 0.7028 - val_accuracy: 0.3333\n",
            "Epoch 200/1000\n",
            "3/3 [==============================] - 1s 269ms/step - loss: 0.6924 - accuracy: 0.5491 - val_loss: 0.7026 - val_accuracy: 0.3333\n",
            "Epoch 201/1000\n",
            "3/3 [==============================] - 1s 273ms/step - loss: 0.6921 - accuracy: 0.5134 - val_loss: 0.7024 - val_accuracy: 0.3333\n",
            "Epoch 202/1000\n",
            "3/3 [==============================] - 1s 263ms/step - loss: 0.6910 - accuracy: 0.5376 - val_loss: 0.7022 - val_accuracy: 0.3441\n",
            "Epoch 203/1000\n",
            "3/3 [==============================] - 1s 280ms/step - loss: 0.6916 - accuracy: 0.5547 - val_loss: 0.7019 - val_accuracy: 0.3441\n",
            "Epoch 204/1000\n",
            "3/3 [==============================] - 1s 285ms/step - loss: 0.6930 - accuracy: 0.5300 - val_loss: 0.7017 - val_accuracy: 0.3441\n",
            "Epoch 205/1000\n",
            "3/3 [==============================] - 1s 268ms/step - loss: 0.6921 - accuracy: 0.5136 - val_loss: 0.7015 - val_accuracy: 0.3548\n",
            "Epoch 206/1000\n",
            "3/3 [==============================] - 1s 262ms/step - loss: 0.6925 - accuracy: 0.5231 - val_loss: 0.7013 - val_accuracy: 0.3548\n",
            "Epoch 207/1000\n",
            "3/3 [==============================] - 1s 263ms/step - loss: 0.6916 - accuracy: 0.5239 - val_loss: 0.7010 - val_accuracy: 0.3548\n",
            "Epoch 208/1000\n",
            "3/3 [==============================] - 1s 269ms/step - loss: 0.6912 - accuracy: 0.5415 - val_loss: 0.7008 - val_accuracy: 0.3548\n",
            "Epoch 209/1000\n",
            "3/3 [==============================] - 1s 289ms/step - loss: 0.6911 - accuracy: 0.5226 - val_loss: 0.7006 - val_accuracy: 0.3548\n",
            "Epoch 210/1000\n",
            "3/3 [==============================] - 1s 295ms/step - loss: 0.6911 - accuracy: 0.5458 - val_loss: 0.7004 - val_accuracy: 0.3656\n",
            "Epoch 211/1000\n",
            "3/3 [==============================] - 1s 268ms/step - loss: 0.6910 - accuracy: 0.5510 - val_loss: 0.7002 - val_accuracy: 0.3763\n",
            "Epoch 212/1000\n",
            "3/3 [==============================] - 1s 269ms/step - loss: 0.6908 - accuracy: 0.5433 - val_loss: 0.7000 - val_accuracy: 0.3656\n",
            "Epoch 213/1000\n",
            "3/3 [==============================] - 1s 263ms/step - loss: 0.6903 - accuracy: 0.5729 - val_loss: 0.6998 - val_accuracy: 0.3763\n",
            "Epoch 214/1000\n",
            "3/3 [==============================] - 1s 269ms/step - loss: 0.6901 - accuracy: 0.5404 - val_loss: 0.6996 - val_accuracy: 0.3871\n",
            "Epoch 215/1000\n",
            "3/3 [==============================] - 1s 276ms/step - loss: 0.6915 - accuracy: 0.5172 - val_loss: 0.6994 - val_accuracy: 0.4194\n",
            "Epoch 216/1000\n",
            "3/3 [==============================] - 1s 275ms/step - loss: 0.6914 - accuracy: 0.5446 - val_loss: 0.6992 - val_accuracy: 0.4194\n",
            "Epoch 217/1000\n",
            "3/3 [==============================] - 1s 267ms/step - loss: 0.6909 - accuracy: 0.5263 - val_loss: 0.6990 - val_accuracy: 0.4194\n",
            "Epoch 218/1000\n",
            "3/3 [==============================] - 1s 269ms/step - loss: 0.6912 - accuracy: 0.5205 - val_loss: 0.6988 - val_accuracy: 0.4301\n",
            "Epoch 219/1000\n",
            "3/3 [==============================] - 1s 263ms/step - loss: 0.6911 - accuracy: 0.5583 - val_loss: 0.6986 - val_accuracy: 0.4409\n",
            "Epoch 220/1000\n",
            "3/3 [==============================] - 1s 278ms/step - loss: 0.6902 - accuracy: 0.5326 - val_loss: 0.6983 - val_accuracy: 0.4409\n",
            "Epoch 221/1000\n",
            "3/3 [==============================] - 1s 275ms/step - loss: 0.6924 - accuracy: 0.5236 - val_loss: 0.6981 - val_accuracy: 0.4409\n",
            "Epoch 222/1000\n",
            "3/3 [==============================] - 1s 279ms/step - loss: 0.6917 - accuracy: 0.5333 - val_loss: 0.6979 - val_accuracy: 0.4409\n",
            "Epoch 223/1000\n",
            "3/3 [==============================] - 1s 277ms/step - loss: 0.6904 - accuracy: 0.5607 - val_loss: 0.6977 - val_accuracy: 0.4301\n",
            "Epoch 224/1000\n",
            "3/3 [==============================] - 1s 267ms/step - loss: 0.6907 - accuracy: 0.5300 - val_loss: 0.6975 - val_accuracy: 0.4301\n",
            "Epoch 225/1000\n",
            "3/3 [==============================] - 1s 278ms/step - loss: 0.6899 - accuracy: 0.5612 - val_loss: 0.6973 - val_accuracy: 0.4301\n",
            "Epoch 226/1000\n",
            "3/3 [==============================] - 1s 284ms/step - loss: 0.6897 - accuracy: 0.5569 - val_loss: 0.6972 - val_accuracy: 0.4194\n",
            "Epoch 227/1000\n",
            "3/3 [==============================] - 1s 268ms/step - loss: 0.6908 - accuracy: 0.5456 - val_loss: 0.6970 - val_accuracy: 0.3871\n",
            "Epoch 228/1000\n",
            "3/3 [==============================] - 1s 276ms/step - loss: 0.6903 - accuracy: 0.5508 - val_loss: 0.6968 - val_accuracy: 0.4086\n",
            "Epoch 229/1000\n",
            "3/3 [==============================] - 1s 272ms/step - loss: 0.6901 - accuracy: 0.5481 - val_loss: 0.6967 - val_accuracy: 0.4086\n",
            "Epoch 230/1000\n",
            "3/3 [==============================] - 1s 258ms/step - loss: 0.6890 - accuracy: 0.5449 - val_loss: 0.6965 - val_accuracy: 0.4194\n",
            "Epoch 231/1000\n",
            "3/3 [==============================] - 1s 270ms/step - loss: 0.6895 - accuracy: 0.5469 - val_loss: 0.6963 - val_accuracy: 0.4194\n",
            "Epoch 232/1000\n",
            "3/3 [==============================] - 1s 286ms/step - loss: 0.6903 - accuracy: 0.5239 - val_loss: 0.6962 - val_accuracy: 0.4301\n",
            "Epoch 233/1000\n",
            "3/3 [==============================] - 1s 282ms/step - loss: 0.6891 - accuracy: 0.5510 - val_loss: 0.6960 - val_accuracy: 0.4301\n",
            "Epoch 234/1000\n",
            "3/3 [==============================] - 1s 282ms/step - loss: 0.6904 - accuracy: 0.5247 - val_loss: 0.6958 - val_accuracy: 0.4409\n",
            "Epoch 235/1000\n",
            "3/3 [==============================] - 1s 275ms/step - loss: 0.6892 - accuracy: 0.5601 - val_loss: 0.6956 - val_accuracy: 0.4624\n",
            "Epoch 236/1000\n",
            "3/3 [==============================] - 1s 270ms/step - loss: 0.6883 - accuracy: 0.6054 - val_loss: 0.6954 - val_accuracy: 0.4731\n",
            "Epoch 237/1000\n",
            "3/3 [==============================] - 1s 284ms/step - loss: 0.6898 - accuracy: 0.5523 - val_loss: 0.6953 - val_accuracy: 0.4624\n",
            "Epoch 238/1000\n",
            "3/3 [==============================] - 1s 285ms/step - loss: 0.6902 - accuracy: 0.5397 - val_loss: 0.6951 - val_accuracy: 0.4624\n",
            "Epoch 239/1000\n",
            "3/3 [==============================] - 1s 272ms/step - loss: 0.6908 - accuracy: 0.5369 - val_loss: 0.6949 - val_accuracy: 0.4624\n",
            "Epoch 240/1000\n",
            "3/3 [==============================] - 1s 262ms/step - loss: 0.6904 - accuracy: 0.5522 - val_loss: 0.6947 - val_accuracy: 0.4624\n",
            "Epoch 241/1000\n",
            "3/3 [==============================] - 1s 273ms/step - loss: 0.6906 - accuracy: 0.5443 - val_loss: 0.6946 - val_accuracy: 0.4731\n",
            "Epoch 242/1000\n",
            "3/3 [==============================] - 1s 277ms/step - loss: 0.6886 - accuracy: 0.5580 - val_loss: 0.6944 - val_accuracy: 0.4839\n",
            "Epoch 243/1000\n",
            "3/3 [==============================] - 1s 273ms/step - loss: 0.6886 - accuracy: 0.5453 - val_loss: 0.6943 - val_accuracy: 0.4839\n",
            "Epoch 244/1000\n",
            "3/3 [==============================] - 1s 276ms/step - loss: 0.6889 - accuracy: 0.5807 - val_loss: 0.6942 - val_accuracy: 0.4946\n",
            "Epoch 245/1000\n",
            "3/3 [==============================] - 1s 268ms/step - loss: 0.6895 - accuracy: 0.5694 - val_loss: 0.6940 - val_accuracy: 0.5054\n",
            "Epoch 246/1000\n",
            "3/3 [==============================] - 1s 270ms/step - loss: 0.6906 - accuracy: 0.5381 - val_loss: 0.6938 - val_accuracy: 0.5054\n",
            "Epoch 247/1000\n",
            "3/3 [==============================] - 1s 262ms/step - loss: 0.6890 - accuracy: 0.5562 - val_loss: 0.6936 - val_accuracy: 0.5376\n",
            "Epoch 248/1000\n",
            "3/3 [==============================] - 1s 265ms/step - loss: 0.6911 - accuracy: 0.5258 - val_loss: 0.6935 - val_accuracy: 0.5376\n",
            "Epoch 249/1000\n",
            "3/3 [==============================] - 1s 274ms/step - loss: 0.6885 - accuracy: 0.5673 - val_loss: 0.6934 - val_accuracy: 0.5484\n",
            "Epoch 250/1000\n",
            "3/3 [==============================] - 1s 261ms/step - loss: 0.6908 - accuracy: 0.5334 - val_loss: 0.6932 - val_accuracy: 0.5484\n",
            "Epoch 251/1000\n",
            "3/3 [==============================] - 1s 268ms/step - loss: 0.6886 - accuracy: 0.5514 - val_loss: 0.6931 - val_accuracy: 0.5484\n",
            "Epoch 252/1000\n",
            "3/3 [==============================] - 1s 271ms/step - loss: 0.6899 - accuracy: 0.5408 - val_loss: 0.6929 - val_accuracy: 0.5484\n",
            "Epoch 253/1000\n",
            "3/3 [==============================] - 1s 267ms/step - loss: 0.6896 - accuracy: 0.5376 - val_loss: 0.6927 - val_accuracy: 0.5484\n",
            "Epoch 254/1000\n",
            "3/3 [==============================] - 1s 270ms/step - loss: 0.6885 - accuracy: 0.5650 - val_loss: 0.6925 - val_accuracy: 0.5484\n",
            "Epoch 255/1000\n",
            "3/3 [==============================] - 1s 272ms/step - loss: 0.6892 - accuracy: 0.5518 - val_loss: 0.6924 - val_accuracy: 0.5591\n",
            "Epoch 256/1000\n",
            "3/3 [==============================] - 1s 269ms/step - loss: 0.6889 - accuracy: 0.5487 - val_loss: 0.6922 - val_accuracy: 0.5591\n",
            "Epoch 257/1000\n",
            "3/3 [==============================] - 1s 270ms/step - loss: 0.6890 - accuracy: 0.5354 - val_loss: 0.6921 - val_accuracy: 0.5699\n",
            "Epoch 258/1000\n",
            "3/3 [==============================] - 1s 282ms/step - loss: 0.6871 - accuracy: 0.5423 - val_loss: 0.6920 - val_accuracy: 0.5699\n",
            "Epoch 259/1000\n",
            "3/3 [==============================] - 1s 264ms/step - loss: 0.6886 - accuracy: 0.5442 - val_loss: 0.6918 - val_accuracy: 0.5699\n",
            "Epoch 260/1000\n",
            "3/3 [==============================] - 1s 275ms/step - loss: 0.6892 - accuracy: 0.5670 - val_loss: 0.6917 - val_accuracy: 0.5699\n",
            "Epoch 261/1000\n",
            "3/3 [==============================] - 1s 278ms/step - loss: 0.6894 - accuracy: 0.5480 - val_loss: 0.6915 - val_accuracy: 0.5591\n",
            "Epoch 262/1000\n",
            "3/3 [==============================] - 1s 273ms/step - loss: 0.6874 - accuracy: 0.5757 - val_loss: 0.6914 - val_accuracy: 0.5699\n",
            "Epoch 263/1000\n",
            "3/3 [==============================] - 1s 269ms/step - loss: 0.6893 - accuracy: 0.5491 - val_loss: 0.6912 - val_accuracy: 0.5699\n",
            "Epoch 264/1000\n",
            "3/3 [==============================] - 1s 268ms/step - loss: 0.6881 - accuracy: 0.5595 - val_loss: 0.6911 - val_accuracy: 0.5699\n",
            "Epoch 265/1000\n",
            "3/3 [==============================] - 1s 256ms/step - loss: 0.6880 - accuracy: 0.5734 - val_loss: 0.6909 - val_accuracy: 0.5699\n",
            "Epoch 266/1000\n",
            "3/3 [==============================] - 1s 264ms/step - loss: 0.6900 - accuracy: 0.5272 - val_loss: 0.6908 - val_accuracy: 0.5806\n",
            "Epoch 267/1000\n",
            "3/3 [==============================] - 1s 282ms/step - loss: 0.6893 - accuracy: 0.5575 - val_loss: 0.6907 - val_accuracy: 0.5806\n",
            "Epoch 268/1000\n",
            "3/3 [==============================] - 1s 279ms/step - loss: 0.6901 - accuracy: 0.5263 - val_loss: 0.6906 - val_accuracy: 0.5806\n",
            "Epoch 269/1000\n",
            "3/3 [==============================] - 1s 271ms/step - loss: 0.6868 - accuracy: 0.5647 - val_loss: 0.6904 - val_accuracy: 0.5806\n",
            "Epoch 270/1000\n",
            "3/3 [==============================] - 1s 281ms/step - loss: 0.6873 - accuracy: 0.5539 - val_loss: 0.6903 - val_accuracy: 0.5806\n",
            "Epoch 271/1000\n",
            "3/3 [==============================] - 1s 262ms/step - loss: 0.6897 - accuracy: 0.5623 - val_loss: 0.6901 - val_accuracy: 0.5806\n",
            "Epoch 272/1000\n",
            "3/3 [==============================] - 1s 275ms/step - loss: 0.6881 - accuracy: 0.5567 - val_loss: 0.6900 - val_accuracy: 0.5806\n",
            "Epoch 273/1000\n",
            "3/3 [==============================] - 1s 283ms/step - loss: 0.6897 - accuracy: 0.5357 - val_loss: 0.6899 - val_accuracy: 0.5806\n",
            "Epoch 274/1000\n",
            "3/3 [==============================] - 1s 273ms/step - loss: 0.6881 - accuracy: 0.5423 - val_loss: 0.6898 - val_accuracy: 0.5699\n",
            "Epoch 275/1000\n",
            "3/3 [==============================] - 1s 281ms/step - loss: 0.6894 - accuracy: 0.5299 - val_loss: 0.6896 - val_accuracy: 0.5699\n",
            "Epoch 276/1000\n",
            "3/3 [==============================] - 1s 275ms/step - loss: 0.6893 - accuracy: 0.5563 - val_loss: 0.6895 - val_accuracy: 0.5806\n",
            "Epoch 277/1000\n",
            "3/3 [==============================] - 1s 282ms/step - loss: 0.6887 - accuracy: 0.5587 - val_loss: 0.6894 - val_accuracy: 0.5806\n",
            "Epoch 278/1000\n",
            "3/3 [==============================] - 1s 282ms/step - loss: 0.6870 - accuracy: 0.5543 - val_loss: 0.6893 - val_accuracy: 0.5806\n",
            "Epoch 279/1000\n",
            "3/3 [==============================] - 1s 288ms/step - loss: 0.6876 - accuracy: 0.5723 - val_loss: 0.6891 - val_accuracy: 0.5806\n",
            "Epoch 280/1000\n",
            "3/3 [==============================] - 1s 285ms/step - loss: 0.6877 - accuracy: 0.5775 - val_loss: 0.6890 - val_accuracy: 0.5806\n",
            "Epoch 281/1000\n",
            "3/3 [==============================] - 1s 276ms/step - loss: 0.6853 - accuracy: 0.5894 - val_loss: 0.6889 - val_accuracy: 0.5914\n",
            "Epoch 282/1000\n",
            "3/3 [==============================] - 1s 273ms/step - loss: 0.6865 - accuracy: 0.5657 - val_loss: 0.6888 - val_accuracy: 0.5914\n",
            "Epoch 283/1000\n",
            "3/3 [==============================] - 1s 289ms/step - loss: 0.6874 - accuracy: 0.5608 - val_loss: 0.6887 - val_accuracy: 0.5914\n",
            "Epoch 284/1000\n",
            "3/3 [==============================] - 1s 288ms/step - loss: 0.6880 - accuracy: 0.5484 - val_loss: 0.6885 - val_accuracy: 0.6022\n",
            "Epoch 285/1000\n",
            "3/3 [==============================] - 1s 279ms/step - loss: 0.6847 - accuracy: 0.5862 - val_loss: 0.6884 - val_accuracy: 0.6022\n",
            "Epoch 286/1000\n",
            "3/3 [==============================] - 1s 275ms/step - loss: 0.6861 - accuracy: 0.5672 - val_loss: 0.6883 - val_accuracy: 0.6022\n",
            "Epoch 287/1000\n",
            "3/3 [==============================] - 1s 284ms/step - loss: 0.6860 - accuracy: 0.5683 - val_loss: 0.6882 - val_accuracy: 0.6022\n",
            "Epoch 288/1000\n",
            "3/3 [==============================] - 1s 274ms/step - loss: 0.6875 - accuracy: 0.5491 - val_loss: 0.6881 - val_accuracy: 0.6022\n",
            "Epoch 289/1000\n",
            "3/3 [==============================] - 1s 287ms/step - loss: 0.6881 - accuracy: 0.5326 - val_loss: 0.6880 - val_accuracy: 0.6022\n",
            "Epoch 290/1000\n",
            "3/3 [==============================] - 1s 300ms/step - loss: 0.6879 - accuracy: 0.5641 - val_loss: 0.6879 - val_accuracy: 0.6022\n",
            "Epoch 291/1000\n",
            "3/3 [==============================] - 1s 272ms/step - loss: 0.6872 - accuracy: 0.5678 - val_loss: 0.6878 - val_accuracy: 0.6022\n",
            "Epoch 292/1000\n",
            "3/3 [==============================] - 1s 267ms/step - loss: 0.6868 - accuracy: 0.5534 - val_loss: 0.6877 - val_accuracy: 0.6129\n",
            "Epoch 293/1000\n",
            "3/3 [==============================] - 1s 279ms/step - loss: 0.6875 - accuracy: 0.5645 - val_loss: 0.6876 - val_accuracy: 0.6129\n",
            "Epoch 294/1000\n",
            "3/3 [==============================] - 1s 294ms/step - loss: 0.6875 - accuracy: 0.5683 - val_loss: 0.6875 - val_accuracy: 0.6129\n",
            "Epoch 295/1000\n",
            "3/3 [==============================] - 1s 309ms/step - loss: 0.6880 - accuracy: 0.5638 - val_loss: 0.6874 - val_accuracy: 0.6129\n",
            "Epoch 296/1000\n",
            "3/3 [==============================] - 1s 296ms/step - loss: 0.6878 - accuracy: 0.5409 - val_loss: 0.6873 - val_accuracy: 0.6129\n",
            "Epoch 297/1000\n",
            "3/3 [==============================] - 1s 295ms/step - loss: 0.6892 - accuracy: 0.5325 - val_loss: 0.6872 - val_accuracy: 0.6129\n",
            "Epoch 298/1000\n",
            "3/3 [==============================] - 1s 297ms/step - loss: 0.6871 - accuracy: 0.5550 - val_loss: 0.6872 - val_accuracy: 0.6129\n",
            "Epoch 299/1000\n",
            "3/3 [==============================] - 1s 277ms/step - loss: 0.6849 - accuracy: 0.5954 - val_loss: 0.6870 - val_accuracy: 0.6129\n",
            "Epoch 300/1000\n",
            "3/3 [==============================] - 1s 648ms/step - loss: 0.6876 - accuracy: 0.5697 - val_loss: 0.6869 - val_accuracy: 0.6129\n",
            "Epoch 301/1000\n",
            "3/3 [==============================] - 1s 281ms/step - loss: 0.6882 - accuracy: 0.5536 - val_loss: 0.6868 - val_accuracy: 0.6129\n",
            "Epoch 302/1000\n",
            "3/3 [==============================] - 1s 286ms/step - loss: 0.6876 - accuracy: 0.5451 - val_loss: 0.6867 - val_accuracy: 0.6129\n",
            "Epoch 303/1000\n",
            "3/3 [==============================] - 1s 286ms/step - loss: 0.6838 - accuracy: 0.5812 - val_loss: 0.6866 - val_accuracy: 0.6022\n",
            "Epoch 304/1000\n",
            "3/3 [==============================] - 1s 288ms/step - loss: 0.6873 - accuracy: 0.5315 - val_loss: 0.6865 - val_accuracy: 0.5914\n",
            "Epoch 305/1000\n",
            "3/3 [==============================] - 1s 273ms/step - loss: 0.6861 - accuracy: 0.5717 - val_loss: 0.6864 - val_accuracy: 0.5914\n",
            "Epoch 306/1000\n",
            "3/3 [==============================] - 1s 269ms/step - loss: 0.6878 - accuracy: 0.5427 - val_loss: 0.6863 - val_accuracy: 0.5914\n",
            "Epoch 307/1000\n",
            "3/3 [==============================] - 1s 299ms/step - loss: 0.6861 - accuracy: 0.5653 - val_loss: 0.6862 - val_accuracy: 0.5914\n",
            "Epoch 308/1000\n",
            "3/3 [==============================] - 1s 281ms/step - loss: 0.6852 - accuracy: 0.5805 - val_loss: 0.6861 - val_accuracy: 0.6022\n",
            "Epoch 309/1000\n",
            "3/3 [==============================] - 1s 279ms/step - loss: 0.6850 - accuracy: 0.5790 - val_loss: 0.6860 - val_accuracy: 0.6022\n",
            "Epoch 310/1000\n",
            "3/3 [==============================] - 1s 274ms/step - loss: 0.6865 - accuracy: 0.5559 - val_loss: 0.6859 - val_accuracy: 0.6129\n",
            "Epoch 311/1000\n",
            "3/3 [==============================] - 1s 276ms/step - loss: 0.6874 - accuracy: 0.5522 - val_loss: 0.6858 - val_accuracy: 0.6129\n",
            "Epoch 312/1000\n",
            "3/3 [==============================] - 1s 290ms/step - loss: 0.6876 - accuracy: 0.5364 - val_loss: 0.6857 - val_accuracy: 0.6129\n",
            "Epoch 313/1000\n",
            "3/3 [==============================] - 1s 285ms/step - loss: 0.6850 - accuracy: 0.5954 - val_loss: 0.6856 - val_accuracy: 0.6237\n",
            "Epoch 314/1000\n",
            "3/3 [==============================] - 1s 283ms/step - loss: 0.6842 - accuracy: 0.5688 - val_loss: 0.6855 - val_accuracy: 0.6237\n",
            "Epoch 315/1000\n",
            "3/3 [==============================] - 1s 263ms/step - loss: 0.6884 - accuracy: 0.5501 - val_loss: 0.6855 - val_accuracy: 0.6237\n",
            "Epoch 316/1000\n",
            "3/3 [==============================] - 1s 274ms/step - loss: 0.6877 - accuracy: 0.5590 - val_loss: 0.6854 - val_accuracy: 0.6237\n",
            "Epoch 317/1000\n",
            "3/3 [==============================] - 1s 272ms/step - loss: 0.6854 - accuracy: 0.5778 - val_loss: 0.6853 - val_accuracy: 0.6129\n",
            "Epoch 318/1000\n",
            "3/3 [==============================] - 1s 285ms/step - loss: 0.6854 - accuracy: 0.5649 - val_loss: 0.6852 - val_accuracy: 0.6022\n",
            "Epoch 319/1000\n",
            "3/3 [==============================] - 1s 281ms/step - loss: 0.6869 - accuracy: 0.5515 - val_loss: 0.6851 - val_accuracy: 0.6022\n",
            "Epoch 320/1000\n",
            "3/3 [==============================] - 1s 269ms/step - loss: 0.6866 - accuracy: 0.5447 - val_loss: 0.6850 - val_accuracy: 0.6022\n",
            "Epoch 321/1000\n",
            "3/3 [==============================] - 1s 267ms/step - loss: 0.6858 - accuracy: 0.5705 - val_loss: 0.6849 - val_accuracy: 0.6022\n",
            "Epoch 322/1000\n",
            "3/3 [==============================] - 1s 267ms/step - loss: 0.6864 - accuracy: 0.5535 - val_loss: 0.6848 - val_accuracy: 0.6022\n",
            "Epoch 323/1000\n",
            "3/3 [==============================] - 1s 266ms/step - loss: 0.6872 - accuracy: 0.5586 - val_loss: 0.6847 - val_accuracy: 0.6022\n",
            "Epoch 324/1000\n",
            "3/3 [==============================] - 1s 278ms/step - loss: 0.6866 - accuracy: 0.5760 - val_loss: 0.6846 - val_accuracy: 0.6022\n",
            "Epoch 325/1000\n",
            "3/3 [==============================] - 1s 264ms/step - loss: 0.6859 - accuracy: 0.5679 - val_loss: 0.6846 - val_accuracy: 0.6022\n",
            "Epoch 326/1000\n",
            "3/3 [==============================] - 1s 259ms/step - loss: 0.6852 - accuracy: 0.5755 - val_loss: 0.6845 - val_accuracy: 0.6129\n",
            "Epoch 327/1000\n",
            "3/3 [==============================] - 1s 277ms/step - loss: 0.6865 - accuracy: 0.5435 - val_loss: 0.6844 - val_accuracy: 0.6022\n",
            "Epoch 328/1000\n",
            "3/3 [==============================] - 1s 284ms/step - loss: 0.6873 - accuracy: 0.5702 - val_loss: 0.6844 - val_accuracy: 0.6022\n",
            "Epoch 329/1000\n",
            "3/3 [==============================] - 1s 285ms/step - loss: 0.6859 - accuracy: 0.5734 - val_loss: 0.6843 - val_accuracy: 0.6129\n",
            "Epoch 330/1000\n",
            "3/3 [==============================] - 1s 276ms/step - loss: 0.6862 - accuracy: 0.5641 - val_loss: 0.6842 - val_accuracy: 0.6129\n",
            "Epoch 331/1000\n",
            "3/3 [==============================] - 1s 255ms/step - loss: 0.6882 - accuracy: 0.5558 - val_loss: 0.6841 - val_accuracy: 0.6129\n",
            "Epoch 332/1000\n",
            "3/3 [==============================] - 1s 264ms/step - loss: 0.6864 - accuracy: 0.5451 - val_loss: 0.6841 - val_accuracy: 0.6129\n",
            "Epoch 333/1000\n",
            "3/3 [==============================] - 1s 269ms/step - loss: 0.6865 - accuracy: 0.5617 - val_loss: 0.6840 - val_accuracy: 0.6129\n",
            "Epoch 334/1000\n",
            "3/3 [==============================] - 1s 280ms/step - loss: 0.6868 - accuracy: 0.5666 - val_loss: 0.6839 - val_accuracy: 0.6129\n",
            "Epoch 335/1000\n",
            "3/3 [==============================] - 1s 269ms/step - loss: 0.6859 - accuracy: 0.5590 - val_loss: 0.6838 - val_accuracy: 0.6129\n",
            "Epoch 336/1000\n",
            "3/3 [==============================] - 1s 266ms/step - loss: 0.6873 - accuracy: 0.5465 - val_loss: 0.6837 - val_accuracy: 0.6129\n",
            "Epoch 337/1000\n",
            "3/3 [==============================] - 1s 281ms/step - loss: 0.6861 - accuracy: 0.5431 - val_loss: 0.6836 - val_accuracy: 0.6237\n",
            "Epoch 338/1000\n",
            "3/3 [==============================] - 1s 265ms/step - loss: 0.6826 - accuracy: 0.5603 - val_loss: 0.6835 - val_accuracy: 0.6237\n",
            "Epoch 339/1000\n",
            "3/3 [==============================] - 1s 264ms/step - loss: 0.6845 - accuracy: 0.5669 - val_loss: 0.6834 - val_accuracy: 0.6344\n",
            "Epoch 340/1000\n",
            "3/3 [==============================] - 1s 280ms/step - loss: 0.6852 - accuracy: 0.5719 - val_loss: 0.6834 - val_accuracy: 0.6344\n",
            "Epoch 341/1000\n",
            "3/3 [==============================] - 1s 278ms/step - loss: 0.6821 - accuracy: 0.5791 - val_loss: 0.6833 - val_accuracy: 0.6344\n",
            "Epoch 342/1000\n",
            "3/3 [==============================] - 1s 275ms/step - loss: 0.6848 - accuracy: 0.5912 - val_loss: 0.6832 - val_accuracy: 0.6344\n",
            "Epoch 343/1000\n",
            "3/3 [==============================] - 1s 267ms/step - loss: 0.6853 - accuracy: 0.5705 - val_loss: 0.6832 - val_accuracy: 0.6344\n",
            "Epoch 344/1000\n",
            "3/3 [==============================] - 1s 263ms/step - loss: 0.6858 - accuracy: 0.5773 - val_loss: 0.6831 - val_accuracy: 0.6452\n",
            "Epoch 345/1000\n",
            "3/3 [==============================] - 1s 274ms/step - loss: 0.6848 - accuracy: 0.5796 - val_loss: 0.6831 - val_accuracy: 0.6452\n",
            "Epoch 346/1000\n",
            "3/3 [==============================] - 1s 270ms/step - loss: 0.6836 - accuracy: 0.5650 - val_loss: 0.6830 - val_accuracy: 0.6452\n",
            "Epoch 347/1000\n",
            "3/3 [==============================] - 1s 285ms/step - loss: 0.6846 - accuracy: 0.5812 - val_loss: 0.6829 - val_accuracy: 0.6452\n",
            "Epoch 348/1000\n",
            "3/3 [==============================] - 1s 267ms/step - loss: 0.6851 - accuracy: 0.5843 - val_loss: 0.6829 - val_accuracy: 0.6452\n",
            "Epoch 349/1000\n",
            "3/3 [==============================] - 1s 281ms/step - loss: 0.6849 - accuracy: 0.5552 - val_loss: 0.6828 - val_accuracy: 0.6452\n",
            "Epoch 350/1000\n",
            "3/3 [==============================] - 1s 270ms/step - loss: 0.6857 - accuracy: 0.5761 - val_loss: 0.6828 - val_accuracy: 0.6452\n",
            "Epoch 351/1000\n",
            "3/3 [==============================] - 1s 261ms/step - loss: 0.6889 - accuracy: 0.5242 - val_loss: 0.6827 - val_accuracy: 0.6452\n",
            "Epoch 352/1000\n",
            "3/3 [==============================] - 1s 292ms/step - loss: 0.6845 - accuracy: 0.5708 - val_loss: 0.6827 - val_accuracy: 0.6452\n",
            "Epoch 353/1000\n",
            "3/3 [==============================] - 1s 277ms/step - loss: 0.6848 - accuracy: 0.5667 - val_loss: 0.6826 - val_accuracy: 0.6452\n",
            "Epoch 354/1000\n",
            "3/3 [==============================] - 1s 283ms/step - loss: 0.6831 - accuracy: 0.5927 - val_loss: 0.6825 - val_accuracy: 0.6452\n",
            "Epoch 355/1000\n",
            "3/3 [==============================] - 1s 281ms/step - loss: 0.6856 - accuracy: 0.5592 - val_loss: 0.6825 - val_accuracy: 0.6452\n",
            "Epoch 356/1000\n",
            "3/3 [==============================] - 1s 273ms/step - loss: 0.6831 - accuracy: 0.5757 - val_loss: 0.6824 - val_accuracy: 0.6452\n",
            "Epoch 357/1000\n",
            "3/3 [==============================] - 1s 270ms/step - loss: 0.6842 - accuracy: 0.5701 - val_loss: 0.6823 - val_accuracy: 0.6452\n",
            "Epoch 358/1000\n",
            "3/3 [==============================] - 1s 278ms/step - loss: 0.6841 - accuracy: 0.5684 - val_loss: 0.6823 - val_accuracy: 0.6344\n",
            "Epoch 359/1000\n",
            "3/3 [==============================] - 1s 654ms/step - loss: 0.6834 - accuracy: 0.5949 - val_loss: 0.6822 - val_accuracy: 0.6344\n",
            "Epoch 360/1000\n",
            "3/3 [==============================] - 1s 268ms/step - loss: 0.6861 - accuracy: 0.5154 - val_loss: 0.6822 - val_accuracy: 0.6344\n",
            "Epoch 361/1000\n",
            "3/3 [==============================] - 1s 298ms/step - loss: 0.6863 - accuracy: 0.5359 - val_loss: 0.6821 - val_accuracy: 0.6344\n",
            "Epoch 362/1000\n",
            "3/3 [==============================] - 1s 297ms/step - loss: 0.6856 - accuracy: 0.5583 - val_loss: 0.6821 - val_accuracy: 0.6344\n",
            "Epoch 363/1000\n",
            "3/3 [==============================] - 1s 291ms/step - loss: 0.6859 - accuracy: 0.5710 - val_loss: 0.6820 - val_accuracy: 0.6344\n",
            "Epoch 364/1000\n",
            "3/3 [==============================] - 1s 300ms/step - loss: 0.6852 - accuracy: 0.5382 - val_loss: 0.6820 - val_accuracy: 0.6452\n",
            "Epoch 365/1000\n",
            "3/3 [==============================] - 1s 304ms/step - loss: 0.6848 - accuracy: 0.5484 - val_loss: 0.6819 - val_accuracy: 0.6452\n",
            "Epoch 366/1000\n",
            "3/3 [==============================] - 1s 269ms/step - loss: 0.6829 - accuracy: 0.5966 - val_loss: 0.6818 - val_accuracy: 0.6559\n",
            "Epoch 367/1000\n",
            "3/3 [==============================] - 1s 277ms/step - loss: 0.6830 - accuracy: 0.5808 - val_loss: 0.6818 - val_accuracy: 0.6559\n",
            "Epoch 368/1000\n",
            "3/3 [==============================] - 1s 280ms/step - loss: 0.6834 - accuracy: 0.5658 - val_loss: 0.6817 - val_accuracy: 0.6559\n",
            "Epoch 369/1000\n",
            "3/3 [==============================] - 1s 281ms/step - loss: 0.6818 - accuracy: 0.6108 - val_loss: 0.6817 - val_accuracy: 0.6559\n",
            "Epoch 370/1000\n",
            "3/3 [==============================] - 1s 273ms/step - loss: 0.6861 - accuracy: 0.5478 - val_loss: 0.6816 - val_accuracy: 0.6559\n",
            "Epoch 371/1000\n",
            "3/3 [==============================] - 1s 266ms/step - loss: 0.6842 - accuracy: 0.5701 - val_loss: 0.6815 - val_accuracy: 0.6667\n",
            "Epoch 372/1000\n",
            "3/3 [==============================] - 1s 274ms/step - loss: 0.6833 - accuracy: 0.5855 - val_loss: 0.6815 - val_accuracy: 0.6667\n",
            "Epoch 373/1000\n",
            "3/3 [==============================] - 1s 283ms/step - loss: 0.6840 - accuracy: 0.5739 - val_loss: 0.6814 - val_accuracy: 0.6667\n",
            "Epoch 374/1000\n",
            "3/3 [==============================] - 1s 280ms/step - loss: 0.6854 - accuracy: 0.5487 - val_loss: 0.6814 - val_accuracy: 0.6774\n",
            "Epoch 375/1000\n",
            "3/3 [==============================] - 1s 273ms/step - loss: 0.6836 - accuracy: 0.5662 - val_loss: 0.6813 - val_accuracy: 0.6774\n",
            "Epoch 376/1000\n",
            "3/3 [==============================] - 1s 283ms/step - loss: 0.6845 - accuracy: 0.5821 - val_loss: 0.6812 - val_accuracy: 0.6774\n",
            "Epoch 377/1000\n",
            "3/3 [==============================] - 1s 282ms/step - loss: 0.6859 - accuracy: 0.5609 - val_loss: 0.6812 - val_accuracy: 0.6774\n",
            "Epoch 378/1000\n",
            "3/3 [==============================] - 1s 285ms/step - loss: 0.6840 - accuracy: 0.5757 - val_loss: 0.6811 - val_accuracy: 0.6774\n",
            "Epoch 379/1000\n",
            "3/3 [==============================] - 1s 274ms/step - loss: 0.6845 - accuracy: 0.5618 - val_loss: 0.6811 - val_accuracy: 0.6774\n",
            "Epoch 380/1000\n",
            "3/3 [==============================] - 1s 268ms/step - loss: 0.6844 - accuracy: 0.5633 - val_loss: 0.6810 - val_accuracy: 0.6882\n",
            "Epoch 381/1000\n",
            "3/3 [==============================] - 1s 263ms/step - loss: 0.6857 - accuracy: 0.5636 - val_loss: 0.6810 - val_accuracy: 0.6882\n",
            "Epoch 382/1000\n",
            "3/3 [==============================] - 1s 295ms/step - loss: 0.6845 - accuracy: 0.5423 - val_loss: 0.6809 - val_accuracy: 0.6882\n",
            "Epoch 383/1000\n",
            "3/3 [==============================] - 1s 288ms/step - loss: 0.6857 - accuracy: 0.5575 - val_loss: 0.6808 - val_accuracy: 0.6882\n",
            "Epoch 384/1000\n",
            "3/3 [==============================] - 1s 267ms/step - loss: 0.6841 - accuracy: 0.5552 - val_loss: 0.6808 - val_accuracy: 0.6882\n",
            "Epoch 385/1000\n",
            "3/3 [==============================] - 1s 260ms/step - loss: 0.6840 - accuracy: 0.5701 - val_loss: 0.6807 - val_accuracy: 0.6882\n",
            "Epoch 386/1000\n",
            "3/3 [==============================] - 1s 270ms/step - loss: 0.6829 - accuracy: 0.5917 - val_loss: 0.6806 - val_accuracy: 0.6882\n",
            "Epoch 387/1000\n",
            "3/3 [==============================] - 1s 271ms/step - loss: 0.6844 - accuracy: 0.5758 - val_loss: 0.6806 - val_accuracy: 0.6882\n",
            "Epoch 388/1000\n",
            "3/3 [==============================] - 1s 260ms/step - loss: 0.6826 - accuracy: 0.5876 - val_loss: 0.6805 - val_accuracy: 0.6882\n",
            "Epoch 389/1000\n",
            "3/3 [==============================] - 1s 269ms/step - loss: 0.6841 - accuracy: 0.5537 - val_loss: 0.6805 - val_accuracy: 0.6882\n",
            "Epoch 390/1000\n",
            "3/3 [==============================] - 1s 264ms/step - loss: 0.6843 - accuracy: 0.5678 - val_loss: 0.6804 - val_accuracy: 0.6882\n",
            "Epoch 391/1000\n",
            "3/3 [==============================] - 1s 277ms/step - loss: 0.6843 - accuracy: 0.5639 - val_loss: 0.6804 - val_accuracy: 0.6882\n",
            "Epoch 392/1000\n",
            "3/3 [==============================] - 1s 269ms/step - loss: 0.6816 - accuracy: 0.6046 - val_loss: 0.6803 - val_accuracy: 0.6882\n",
            "Epoch 393/1000\n",
            "3/3 [==============================] - 1s 261ms/step - loss: 0.6812 - accuracy: 0.6025 - val_loss: 0.6802 - val_accuracy: 0.6882\n",
            "Epoch 394/1000\n",
            "3/3 [==============================] - 1s 265ms/step - loss: 0.6810 - accuracy: 0.5876 - val_loss: 0.6802 - val_accuracy: 0.6882\n",
            "Epoch 395/1000\n",
            "3/3 [==============================] - 1s 280ms/step - loss: 0.6865 - accuracy: 0.5567 - val_loss: 0.6802 - val_accuracy: 0.6882\n",
            "Epoch 396/1000\n",
            "3/3 [==============================] - 1s 264ms/step - loss: 0.6818 - accuracy: 0.5884 - val_loss: 0.6802 - val_accuracy: 0.6882\n",
            "Epoch 397/1000\n",
            "3/3 [==============================] - 1s 266ms/step - loss: 0.6861 - accuracy: 0.5667 - val_loss: 0.6801 - val_accuracy: 0.6882\n",
            "Epoch 398/1000\n",
            "3/3 [==============================] - 1s 276ms/step - loss: 0.6843 - accuracy: 0.5788 - val_loss: 0.6801 - val_accuracy: 0.6882\n",
            "Epoch 399/1000\n",
            "3/3 [==============================] - 1s 284ms/step - loss: 0.6810 - accuracy: 0.5783 - val_loss: 0.6801 - val_accuracy: 0.6882\n",
            "Epoch 400/1000\n",
            "3/3 [==============================] - 1s 272ms/step - loss: 0.6815 - accuracy: 0.6054 - val_loss: 0.6800 - val_accuracy: 0.6882\n",
            "Epoch 401/1000\n",
            "3/3 [==============================] - 1s 286ms/step - loss: 0.6831 - accuracy: 0.5732 - val_loss: 0.6800 - val_accuracy: 0.6882\n",
            "Epoch 402/1000\n",
            "3/3 [==============================] - 1s 268ms/step - loss: 0.6831 - accuracy: 0.5829 - val_loss: 0.6799 - val_accuracy: 0.6882\n",
            "Epoch 403/1000\n",
            "3/3 [==============================] - 1s 290ms/step - loss: 0.6827 - accuracy: 0.5934 - val_loss: 0.6799 - val_accuracy: 0.6882\n",
            "Epoch 404/1000\n",
            "3/3 [==============================] - 1s 271ms/step - loss: 0.6815 - accuracy: 0.5830 - val_loss: 0.6798 - val_accuracy: 0.6882\n",
            "Epoch 405/1000\n",
            "3/3 [==============================] - 1s 265ms/step - loss: 0.6839 - accuracy: 0.5721 - val_loss: 0.6798 - val_accuracy: 0.6882\n",
            "Epoch 406/1000\n",
            "3/3 [==============================] - 1s 280ms/step - loss: 0.6809 - accuracy: 0.5758 - val_loss: 0.6797 - val_accuracy: 0.6882\n",
            "Epoch 407/1000\n",
            "3/3 [==============================] - 1s 272ms/step - loss: 0.6817 - accuracy: 0.5628 - val_loss: 0.6797 - val_accuracy: 0.6882\n",
            "Epoch 408/1000\n",
            "3/3 [==============================] - 1s 262ms/step - loss: 0.6816 - accuracy: 0.6020 - val_loss: 0.6796 - val_accuracy: 0.6882\n",
            "Epoch 409/1000\n",
            "3/3 [==============================] - 1s 654ms/step - loss: 0.6821 - accuracy: 0.5865 - val_loss: 0.6796 - val_accuracy: 0.6882\n",
            "Epoch 410/1000\n",
            "3/3 [==============================] - 1s 270ms/step - loss: 0.6841 - accuracy: 0.5493 - val_loss: 0.6796 - val_accuracy: 0.6882\n",
            "Epoch 411/1000\n",
            "3/3 [==============================] - 1s 277ms/step - loss: 0.6830 - accuracy: 0.5789 - val_loss: 0.6795 - val_accuracy: 0.6882\n",
            "Epoch 412/1000\n",
            "3/3 [==============================] - 1s 265ms/step - loss: 0.6829 - accuracy: 0.5652 - val_loss: 0.6795 - val_accuracy: 0.6882\n",
            "Epoch 413/1000\n",
            "3/3 [==============================] - 1s 282ms/step - loss: 0.6828 - accuracy: 0.5819 - val_loss: 0.6795 - val_accuracy: 0.6882\n",
            "Epoch 414/1000\n",
            "3/3 [==============================] - 1s 285ms/step - loss: 0.6830 - accuracy: 0.5751 - val_loss: 0.6794 - val_accuracy: 0.6882\n",
            "Epoch 415/1000\n",
            "3/3 [==============================] - 1s 264ms/step - loss: 0.6799 - accuracy: 0.5846 - val_loss: 0.6794 - val_accuracy: 0.6882\n",
            "Epoch 416/1000\n",
            "3/3 [==============================] - 1s 285ms/step - loss: 0.6818 - accuracy: 0.5971 - val_loss: 0.6793 - val_accuracy: 0.6882\n",
            "Epoch 417/1000\n",
            "3/3 [==============================] - 1s 284ms/step - loss: 0.6834 - accuracy: 0.5699 - val_loss: 0.6793 - val_accuracy: 0.6882\n",
            "Epoch 418/1000\n",
            "3/3 [==============================] - 1s 283ms/step - loss: 0.6838 - accuracy: 0.5673 - val_loss: 0.6793 - val_accuracy: 0.6882\n",
            "Epoch 419/1000\n",
            "3/3 [==============================] - 1s 298ms/step - loss: 0.6859 - accuracy: 0.5607 - val_loss: 0.6793 - val_accuracy: 0.6882\n",
            "Epoch 420/1000\n",
            "3/3 [==============================] - 1s 290ms/step - loss: 0.6824 - accuracy: 0.5633 - val_loss: 0.6792 - val_accuracy: 0.6882\n",
            "Epoch 421/1000\n",
            "3/3 [==============================] - 1s 286ms/step - loss: 0.6825 - accuracy: 0.5789 - val_loss: 0.6792 - val_accuracy: 0.6882\n",
            "Epoch 422/1000\n",
            "3/3 [==============================] - 1s 271ms/step - loss: 0.6833 - accuracy: 0.5684 - val_loss: 0.6792 - val_accuracy: 0.6774\n",
            "Epoch 423/1000\n",
            "3/3 [==============================] - 1s 274ms/step - loss: 0.6845 - accuracy: 0.5611 - val_loss: 0.6791 - val_accuracy: 0.6774\n",
            "Epoch 424/1000\n",
            "3/3 [==============================] - 1s 277ms/step - loss: 0.6831 - accuracy: 0.5662 - val_loss: 0.6791 - val_accuracy: 0.6774\n",
            "Epoch 425/1000\n",
            "3/3 [==============================] - 1s 273ms/step - loss: 0.6823 - accuracy: 0.5752 - val_loss: 0.6791 - val_accuracy: 0.6774\n",
            "Epoch 426/1000\n",
            "3/3 [==============================] - 1s 271ms/step - loss: 0.6854 - accuracy: 0.5497 - val_loss: 0.6791 - val_accuracy: 0.6882\n",
            "Epoch 427/1000\n",
            "3/3 [==============================] - 1s 291ms/step - loss: 0.6830 - accuracy: 0.5761 - val_loss: 0.6790 - val_accuracy: 0.6882\n",
            "Epoch 428/1000\n",
            "3/3 [==============================] - 1s 290ms/step - loss: 0.6785 - accuracy: 0.6227 - val_loss: 0.6789 - val_accuracy: 0.6774\n",
            "Epoch 429/1000\n",
            "3/3 [==============================] - 1s 278ms/step - loss: 0.6824 - accuracy: 0.5718 - val_loss: 0.6789 - val_accuracy: 0.6774\n",
            "Epoch 430/1000\n",
            "3/3 [==============================] - 1s 273ms/step - loss: 0.6823 - accuracy: 0.5586 - val_loss: 0.6789 - val_accuracy: 0.6774\n",
            "Epoch 431/1000\n",
            "3/3 [==============================] - 1s 287ms/step - loss: 0.6841 - accuracy: 0.5644 - val_loss: 0.6788 - val_accuracy: 0.6774\n",
            "Epoch 432/1000\n",
            "3/3 [==============================] - 1s 294ms/step - loss: 0.6851 - accuracy: 0.5512 - val_loss: 0.6788 - val_accuracy: 0.6774\n",
            "Epoch 433/1000\n",
            "3/3 [==============================] - 1s 295ms/step - loss: 0.6793 - accuracy: 0.6042 - val_loss: 0.6788 - val_accuracy: 0.6774\n",
            "Epoch 434/1000\n",
            "3/3 [==============================] - 1s 271ms/step - loss: 0.6822 - accuracy: 0.5661 - val_loss: 0.6787 - val_accuracy: 0.6774\n",
            "Epoch 435/1000\n",
            "3/3 [==============================] - 1s 282ms/step - loss: 0.6809 - accuracy: 0.5841 - val_loss: 0.6787 - val_accuracy: 0.6774\n",
            "Epoch 436/1000\n",
            "3/3 [==============================] - 1s 270ms/step - loss: 0.6784 - accuracy: 0.5982 - val_loss: 0.6787 - val_accuracy: 0.6774\n",
            "Epoch 437/1000\n",
            "3/3 [==============================] - 1s 278ms/step - loss: 0.6836 - accuracy: 0.5666 - val_loss: 0.6787 - val_accuracy: 0.6774\n",
            "Epoch 438/1000\n",
            "3/3 [==============================] - 1s 268ms/step - loss: 0.6785 - accuracy: 0.6114 - val_loss: 0.6786 - val_accuracy: 0.6774\n",
            "Epoch 439/1000\n",
            "3/3 [==============================] - 1s 283ms/step - loss: 0.6841 - accuracy: 0.5601 - val_loss: 0.6786 - val_accuracy: 0.6774\n",
            "Epoch 440/1000\n",
            "3/3 [==============================] - 1s 297ms/step - loss: 0.6809 - accuracy: 0.5954 - val_loss: 0.6786 - val_accuracy: 0.6774\n",
            "Epoch 441/1000\n",
            "3/3 [==============================] - 1s 278ms/step - loss: 0.6809 - accuracy: 0.5699 - val_loss: 0.6785 - val_accuracy: 0.6774\n",
            "Epoch 442/1000\n",
            "3/3 [==============================] - 1s 278ms/step - loss: 0.6780 - accuracy: 0.6199 - val_loss: 0.6785 - val_accuracy: 0.6774\n",
            "Epoch 443/1000\n",
            "3/3 [==============================] - 1s 291ms/step - loss: 0.6798 - accuracy: 0.5909 - val_loss: 0.6785 - val_accuracy: 0.6774\n",
            "Epoch 444/1000\n",
            "3/3 [==============================] - 1s 265ms/step - loss: 0.6807 - accuracy: 0.5824 - val_loss: 0.6784 - val_accuracy: 0.6774\n",
            "Epoch 445/1000\n",
            "3/3 [==============================] - 1s 265ms/step - loss: 0.6828 - accuracy: 0.5636 - val_loss: 0.6784 - val_accuracy: 0.6774\n",
            "Epoch 446/1000\n",
            "3/3 [==============================] - 1s 276ms/step - loss: 0.6842 - accuracy: 0.5660 - val_loss: 0.6784 - val_accuracy: 0.6774\n",
            "Epoch 447/1000\n",
            "3/3 [==============================] - 1s 274ms/step - loss: 0.6831 - accuracy: 0.5656 - val_loss: 0.6784 - val_accuracy: 0.6774\n",
            "Epoch 448/1000\n",
            "3/3 [==============================] - 1s 281ms/step - loss: 0.6826 - accuracy: 0.5722 - val_loss: 0.6784 - val_accuracy: 0.6774\n",
            "Epoch 449/1000\n",
            "3/3 [==============================] - 1s 289ms/step - loss: 0.6814 - accuracy: 0.5783 - val_loss: 0.6784 - val_accuracy: 0.6774\n",
            "Epoch 450/1000\n",
            "3/3 [==============================] - 1s 278ms/step - loss: 0.6804 - accuracy: 0.5830 - val_loss: 0.6783 - val_accuracy: 0.6774\n",
            "Epoch 451/1000\n",
            "3/3 [==============================] - 1s 267ms/step - loss: 0.6799 - accuracy: 0.5713 - val_loss: 0.6783 - val_accuracy: 0.6774\n",
            "Epoch 452/1000\n",
            "3/3 [==============================] - 1s 258ms/step - loss: 0.6817 - accuracy: 0.5708 - val_loss: 0.6783 - val_accuracy: 0.6774\n",
            "Epoch 453/1000\n",
            "3/3 [==============================] - 1s 278ms/step - loss: 0.6801 - accuracy: 0.5926 - val_loss: 0.6782 - val_accuracy: 0.6774\n",
            "Epoch 454/1000\n",
            "3/3 [==============================] - 1s 625ms/step - loss: 0.6819 - accuracy: 0.5668 - val_loss: 0.6782 - val_accuracy: 0.6774\n",
            "Epoch 455/1000\n",
            "3/3 [==============================] - 1s 275ms/step - loss: 0.6799 - accuracy: 0.5895 - val_loss: 0.6782 - val_accuracy: 0.6774\n",
            "Epoch 456/1000\n",
            "3/3 [==============================] - 1s 276ms/step - loss: 0.6831 - accuracy: 0.5613 - val_loss: 0.6781 - val_accuracy: 0.6774\n",
            "Epoch 457/1000\n",
            "3/3 [==============================] - 1s 269ms/step - loss: 0.6818 - accuracy: 0.5846 - val_loss: 0.6781 - val_accuracy: 0.6774\n",
            "Epoch 458/1000\n",
            "3/3 [==============================] - 1s 284ms/step - loss: 0.6816 - accuracy: 0.5570 - val_loss: 0.6781 - val_accuracy: 0.6774\n",
            "Epoch 459/1000\n",
            "3/3 [==============================] - 1s 273ms/step - loss: 0.6839 - accuracy: 0.5581 - val_loss: 0.6780 - val_accuracy: 0.6774\n",
            "Epoch 460/1000\n",
            "3/3 [==============================] - 1s 289ms/step - loss: 0.6798 - accuracy: 0.5862 - val_loss: 0.6780 - val_accuracy: 0.6774\n",
            "Epoch 461/1000\n",
            "3/3 [==============================] - 1s 288ms/step - loss: 0.6786 - accuracy: 0.5806 - val_loss: 0.6780 - val_accuracy: 0.6774\n",
            "Epoch 462/1000\n",
            "3/3 [==============================] - 1s 288ms/step - loss: 0.6814 - accuracy: 0.5717 - val_loss: 0.6780 - val_accuracy: 0.6774\n",
            "Epoch 463/1000\n",
            "3/3 [==============================] - 1s 312ms/step - loss: 0.6830 - accuracy: 0.5756 - val_loss: 0.6779 - val_accuracy: 0.6774\n",
            "Epoch 464/1000\n",
            "3/3 [==============================] - 1s 270ms/step - loss: 0.6810 - accuracy: 0.5896 - val_loss: 0.6779 - val_accuracy: 0.6774\n",
            "Epoch 465/1000\n",
            "3/3 [==============================] - 1s 293ms/step - loss: 0.6831 - accuracy: 0.5432 - val_loss: 0.6779 - val_accuracy: 0.6774\n",
            "Epoch 466/1000\n",
            "3/3 [==============================] - 1s 315ms/step - loss: 0.6797 - accuracy: 0.5852 - val_loss: 0.6779 - val_accuracy: 0.6774\n",
            "Epoch 467/1000\n",
            "3/3 [==============================] - 1s 289ms/step - loss: 0.6808 - accuracy: 0.5852 - val_loss: 0.6778 - val_accuracy: 0.6774\n",
            "Epoch 468/1000\n",
            "3/3 [==============================] - 1s 292ms/step - loss: 0.6812 - accuracy: 0.5861 - val_loss: 0.6778 - val_accuracy: 0.6774\n",
            "Epoch 469/1000\n",
            "3/3 [==============================] - 1s 305ms/step - loss: 0.6827 - accuracy: 0.5794 - val_loss: 0.6778 - val_accuracy: 0.6774\n",
            "Epoch 470/1000\n",
            "3/3 [==============================] - 1s 294ms/step - loss: 0.6830 - accuracy: 0.5774 - val_loss: 0.6778 - val_accuracy: 0.6774\n",
            "Epoch 471/1000\n",
            "3/3 [==============================] - 1s 282ms/step - loss: 0.6807 - accuracy: 0.5728 - val_loss: 0.6778 - val_accuracy: 0.6774\n",
            "Epoch 472/1000\n",
            "3/3 [==============================] - 1s 292ms/step - loss: 0.6816 - accuracy: 0.5813 - val_loss: 0.6777 - val_accuracy: 0.6774\n",
            "Epoch 473/1000\n",
            "3/3 [==============================] - 1s 282ms/step - loss: 0.6844 - accuracy: 0.5620 - val_loss: 0.6777 - val_accuracy: 0.6774\n",
            "Epoch 474/1000\n",
            "3/3 [==============================] - 1s 266ms/step - loss: 0.6853 - accuracy: 0.5437 - val_loss: 0.6777 - val_accuracy: 0.6774\n",
            "Epoch 475/1000\n",
            "3/3 [==============================] - 1s 267ms/step - loss: 0.6788 - accuracy: 0.5878 - val_loss: 0.6777 - val_accuracy: 0.6774\n",
            "Epoch 476/1000\n",
            "3/3 [==============================] - 1s 275ms/step - loss: 0.6826 - accuracy: 0.5795 - val_loss: 0.6777 - val_accuracy: 0.6774\n",
            "Epoch 477/1000\n",
            "3/3 [==============================] - 1s 288ms/step - loss: 0.6818 - accuracy: 0.5860 - val_loss: 0.6776 - val_accuracy: 0.6774\n",
            "Epoch 478/1000\n",
            "3/3 [==============================] - 1s 281ms/step - loss: 0.6810 - accuracy: 0.5798 - val_loss: 0.6776 - val_accuracy: 0.6774\n",
            "Epoch 479/1000\n",
            "3/3 [==============================] - 1s 274ms/step - loss: 0.6832 - accuracy: 0.5629 - val_loss: 0.6776 - val_accuracy: 0.6774\n",
            "Epoch 480/1000\n",
            "3/3 [==============================] - 1s 285ms/step - loss: 0.6815 - accuracy: 0.5660 - val_loss: 0.6776 - val_accuracy: 0.6774\n",
            "Epoch 481/1000\n",
            "3/3 [==============================] - 1s 262ms/step - loss: 0.6812 - accuracy: 0.5689 - val_loss: 0.6776 - val_accuracy: 0.6774\n",
            "Epoch 482/1000\n",
            "3/3 [==============================] - 1s 252ms/step - loss: 0.6795 - accuracy: 0.6018 - val_loss: 0.6775 - val_accuracy: 0.6774\n",
            "Epoch 483/1000\n",
            "3/3 [==============================] - 1s 275ms/step - loss: 0.6792 - accuracy: 0.5832 - val_loss: 0.6775 - val_accuracy: 0.6774\n",
            "Epoch 484/1000\n",
            "3/3 [==============================] - 1s 288ms/step - loss: 0.6785 - accuracy: 0.6081 - val_loss: 0.6775 - val_accuracy: 0.6774\n",
            "Epoch 485/1000\n",
            "3/3 [==============================] - 1s 281ms/step - loss: 0.6791 - accuracy: 0.5586 - val_loss: 0.6774 - val_accuracy: 0.6774\n",
            "Epoch 486/1000\n",
            "3/3 [==============================] - 1s 290ms/step - loss: 0.6814 - accuracy: 0.5750 - val_loss: 0.6774 - val_accuracy: 0.6774\n",
            "Epoch 487/1000\n",
            "3/3 [==============================] - 1s 285ms/step - loss: 0.6826 - accuracy: 0.5769 - val_loss: 0.6774 - val_accuracy: 0.6774\n",
            "Epoch 488/1000\n",
            "3/3 [==============================] - 1s 279ms/step - loss: 0.6813 - accuracy: 0.5647 - val_loss: 0.6774 - val_accuracy: 0.6774\n",
            "Epoch 489/1000\n",
            "3/3 [==============================] - 1s 289ms/step - loss: 0.6841 - accuracy: 0.5716 - val_loss: 0.6773 - val_accuracy: 0.6774\n",
            "Epoch 490/1000\n",
            "3/3 [==============================] - 1s 280ms/step - loss: 0.6782 - accuracy: 0.5907 - val_loss: 0.6773 - val_accuracy: 0.6774\n",
            "Epoch 491/1000\n",
            "3/3 [==============================] - 1s 297ms/step - loss: 0.6813 - accuracy: 0.5835 - val_loss: 0.6773 - val_accuracy: 0.6774\n",
            "Epoch 492/1000\n",
            "3/3 [==============================] - 1s 286ms/step - loss: 0.6818 - accuracy: 0.5656 - val_loss: 0.6773 - val_accuracy: 0.6774\n",
            "Epoch 493/1000\n",
            "3/3 [==============================] - 1s 279ms/step - loss: 0.6804 - accuracy: 0.5829 - val_loss: 0.6772 - val_accuracy: 0.6774\n",
            "Epoch 494/1000\n",
            "3/3 [==============================] - 1s 281ms/step - loss: 0.6795 - accuracy: 0.5859 - val_loss: 0.6772 - val_accuracy: 0.6774\n",
            "Epoch 495/1000\n",
            "3/3 [==============================] - 1s 664ms/step - loss: 0.6774 - accuracy: 0.5933 - val_loss: 0.6772 - val_accuracy: 0.6774\n",
            "Epoch 496/1000\n",
            "3/3 [==============================] - 1s 266ms/step - loss: 0.6774 - accuracy: 0.6078 - val_loss: 0.6772 - val_accuracy: 0.6774\n",
            "Epoch 497/1000\n",
            "3/3 [==============================] - 1s 298ms/step - loss: 0.6821 - accuracy: 0.5713 - val_loss: 0.6772 - val_accuracy: 0.6774\n",
            "Epoch 498/1000\n",
            "3/3 [==============================] - 1s 297ms/step - loss: 0.6782 - accuracy: 0.5762 - val_loss: 0.6772 - val_accuracy: 0.6774\n",
            "Epoch 499/1000\n",
            "3/3 [==============================] - 1s 295ms/step - loss: 0.6787 - accuracy: 0.5796 - val_loss: 0.6772 - val_accuracy: 0.6774\n",
            "Epoch 500/1000\n",
            "3/3 [==============================] - 1s 279ms/step - loss: 0.6815 - accuracy: 0.5693 - val_loss: 0.6772 - val_accuracy: 0.6774\n",
            "Epoch 501/1000\n",
            "3/3 [==============================] - 1s 273ms/step - loss: 0.6797 - accuracy: 0.5909 - val_loss: 0.6772 - val_accuracy: 0.6774\n",
            "Epoch 502/1000\n",
            "3/3 [==============================] - 1s 272ms/step - loss: 0.6813 - accuracy: 0.5838 - val_loss: 0.6772 - val_accuracy: 0.6774\n",
            "Epoch 503/1000\n",
            "3/3 [==============================] - 1s 263ms/step - loss: 0.6776 - accuracy: 0.5904 - val_loss: 0.6771 - val_accuracy: 0.6774\n",
            "Epoch 504/1000\n",
            "3/3 [==============================] - 1s 281ms/step - loss: 0.6837 - accuracy: 0.5727 - val_loss: 0.6772 - val_accuracy: 0.6774\n",
            "Epoch 505/1000\n",
            "3/3 [==============================] - 1s 280ms/step - loss: 0.6769 - accuracy: 0.5945 - val_loss: 0.6771 - val_accuracy: 0.6774\n",
            "Epoch 506/1000\n",
            "3/3 [==============================] - 1s 281ms/step - loss: 0.6801 - accuracy: 0.5649 - val_loss: 0.6771 - val_accuracy: 0.6774\n",
            "Epoch 507/1000\n",
            "3/3 [==============================] - 1s 285ms/step - loss: 0.6767 - accuracy: 0.5982 - val_loss: 0.6771 - val_accuracy: 0.6774\n",
            "Epoch 508/1000\n",
            "3/3 [==============================] - 1s 289ms/step - loss: 0.6788 - accuracy: 0.5818 - val_loss: 0.6771 - val_accuracy: 0.6774\n",
            "Epoch 509/1000\n",
            "3/3 [==============================] - 1s 293ms/step - loss: 0.6760 - accuracy: 0.5961 - val_loss: 0.6770 - val_accuracy: 0.6774\n",
            "Epoch 510/1000\n",
            "3/3 [==============================] - 1s 289ms/step - loss: 0.6801 - accuracy: 0.5861 - val_loss: 0.6770 - val_accuracy: 0.6774\n",
            "Epoch 511/1000\n",
            "3/3 [==============================] - 1s 297ms/step - loss: 0.6811 - accuracy: 0.5782 - val_loss: 0.6770 - val_accuracy: 0.6774\n",
            "Epoch 512/1000\n",
            "3/3 [==============================] - 1s 304ms/step - loss: 0.6790 - accuracy: 0.5834 - val_loss: 0.6770 - val_accuracy: 0.6774\n",
            "Epoch 513/1000\n",
            "3/3 [==============================] - 1s 292ms/step - loss: 0.6773 - accuracy: 0.5934 - val_loss: 0.6770 - val_accuracy: 0.6774\n",
            "Epoch 514/1000\n",
            "3/3 [==============================] - 1s 273ms/step - loss: 0.6822 - accuracy: 0.5562 - val_loss: 0.6770 - val_accuracy: 0.6774\n",
            "Epoch 515/1000\n",
            "3/3 [==============================] - 1s 288ms/step - loss: 0.6793 - accuracy: 0.6082 - val_loss: 0.6770 - val_accuracy: 0.6774\n",
            "Epoch 516/1000\n",
            "3/3 [==============================] - 1s 302ms/step - loss: 0.6788 - accuracy: 0.5909 - val_loss: 0.6770 - val_accuracy: 0.6774\n",
            "Epoch 517/1000\n",
            "3/3 [==============================] - 1s 274ms/step - loss: 0.6821 - accuracy: 0.5594 - val_loss: 0.6770 - val_accuracy: 0.6667\n",
            "Epoch 518/1000\n",
            "3/3 [==============================] - 1s 288ms/step - loss: 0.6794 - accuracy: 0.5959 - val_loss: 0.6769 - val_accuracy: 0.6667\n",
            "Epoch 519/1000\n",
            "3/3 [==============================] - 1s 273ms/step - loss: 0.6824 - accuracy: 0.5607 - val_loss: 0.6769 - val_accuracy: 0.6667\n",
            "Epoch 520/1000\n",
            "3/3 [==============================] - 1s 281ms/step - loss: 0.6819 - accuracy: 0.5782 - val_loss: 0.6769 - val_accuracy: 0.6559\n",
            "Epoch 521/1000\n",
            "3/3 [==============================] - 1s 271ms/step - loss: 0.6780 - accuracy: 0.5718 - val_loss: 0.6769 - val_accuracy: 0.6667\n",
            "Epoch 522/1000\n",
            "3/3 [==============================] - 1s 278ms/step - loss: 0.6784 - accuracy: 0.5855 - val_loss: 0.6768 - val_accuracy: 0.6667\n",
            "Epoch 523/1000\n",
            "3/3 [==============================] - 1s 273ms/step - loss: 0.6794 - accuracy: 0.5880 - val_loss: 0.6768 - val_accuracy: 0.6667\n",
            "Epoch 524/1000\n",
            "3/3 [==============================] - 1s 272ms/step - loss: 0.6770 - accuracy: 0.6094 - val_loss: 0.6768 - val_accuracy: 0.6667\n",
            "Epoch 525/1000\n",
            "3/3 [==============================] - 1s 286ms/step - loss: 0.6802 - accuracy: 0.5747 - val_loss: 0.6767 - val_accuracy: 0.6667\n",
            "Epoch 526/1000\n",
            "3/3 [==============================] - 1s 269ms/step - loss: 0.6813 - accuracy: 0.5713 - val_loss: 0.6767 - val_accuracy: 0.6667\n",
            "Epoch 527/1000\n",
            "3/3 [==============================] - 1s 284ms/step - loss: 0.6788 - accuracy: 0.5738 - val_loss: 0.6767 - val_accuracy: 0.6559\n",
            "Epoch 528/1000\n",
            "3/3 [==============================] - 1s 270ms/step - loss: 0.6773 - accuracy: 0.5893 - val_loss: 0.6767 - val_accuracy: 0.6667\n",
            "Epoch 529/1000\n",
            "3/3 [==============================] - 1s 280ms/step - loss: 0.6794 - accuracy: 0.5738 - val_loss: 0.6767 - val_accuracy: 0.6667\n",
            "Epoch 530/1000\n",
            "3/3 [==============================] - 1s 284ms/step - loss: 0.6798 - accuracy: 0.5740 - val_loss: 0.6766 - val_accuracy: 0.6667\n",
            "Epoch 531/1000\n",
            "3/3 [==============================] - 1s 289ms/step - loss: 0.6791 - accuracy: 0.5718 - val_loss: 0.6766 - val_accuracy: 0.6559\n",
            "Epoch 532/1000\n",
            "3/3 [==============================] - 1s 283ms/step - loss: 0.6764 - accuracy: 0.6023 - val_loss: 0.6766 - val_accuracy: 0.6559\n",
            "Epoch 533/1000\n",
            "3/3 [==============================] - 1s 673ms/step - loss: 0.6809 - accuracy: 0.5657 - val_loss: 0.6766 - val_accuracy: 0.6559\n",
            "Epoch 534/1000\n",
            "3/3 [==============================] - 1s 282ms/step - loss: 0.6779 - accuracy: 0.5807 - val_loss: 0.6766 - val_accuracy: 0.6559\n",
            "Epoch 535/1000\n",
            "3/3 [==============================] - 1s 288ms/step - loss: 0.6815 - accuracy: 0.5570 - val_loss: 0.6766 - val_accuracy: 0.6559\n",
            "Epoch 536/1000\n",
            "3/3 [==============================] - 1s 298ms/step - loss: 0.6776 - accuracy: 0.5855 - val_loss: 0.6765 - val_accuracy: 0.6559\n",
            "Epoch 537/1000\n",
            "3/3 [==============================] - 1s 276ms/step - loss: 0.6786 - accuracy: 0.6026 - val_loss: 0.6765 - val_accuracy: 0.6559\n",
            "Epoch 538/1000\n",
            "3/3 [==============================] - 1s 285ms/step - loss: 0.6785 - accuracy: 0.5780 - val_loss: 0.6765 - val_accuracy: 0.6559\n",
            "Epoch 539/1000\n",
            "3/3 [==============================] - 1s 282ms/step - loss: 0.6798 - accuracy: 0.5906 - val_loss: 0.6765 - val_accuracy: 0.6559\n",
            "Epoch 540/1000\n",
            "3/3 [==============================] - 1s 260ms/step - loss: 0.6769 - accuracy: 0.6055 - val_loss: 0.6765 - val_accuracy: 0.6559\n",
            "Epoch 541/1000\n",
            "3/3 [==============================] - 1s 282ms/step - loss: 0.6780 - accuracy: 0.5846 - val_loss: 0.6764 - val_accuracy: 0.6559\n",
            "Epoch 542/1000\n",
            "3/3 [==============================] - 1s 292ms/step - loss: 0.6776 - accuracy: 0.5740 - val_loss: 0.6764 - val_accuracy: 0.6559\n",
            "Epoch 543/1000\n",
            "3/3 [==============================] - 1s 279ms/step - loss: 0.6792 - accuracy: 0.5762 - val_loss: 0.6764 - val_accuracy: 0.6559\n",
            "Epoch 544/1000\n",
            "3/3 [==============================] - 1s 267ms/step - loss: 0.6784 - accuracy: 0.5948 - val_loss: 0.6764 - val_accuracy: 0.6559\n",
            "Epoch 545/1000\n",
            "3/3 [==============================] - 1s 275ms/step - loss: 0.6804 - accuracy: 0.5704 - val_loss: 0.6764 - val_accuracy: 0.6559\n",
            "Epoch 546/1000\n",
            "3/3 [==============================] - 1s 270ms/step - loss: 0.6797 - accuracy: 0.5870 - val_loss: 0.6764 - val_accuracy: 0.6559\n",
            "Epoch 547/1000\n",
            "3/3 [==============================] - 1s 288ms/step - loss: 0.6777 - accuracy: 0.5691 - val_loss: 0.6764 - val_accuracy: 0.6559\n",
            "Epoch 548/1000\n",
            "3/3 [==============================] - 1s 294ms/step - loss: 0.6829 - accuracy: 0.5534 - val_loss: 0.6764 - val_accuracy: 0.6559\n",
            "Epoch 549/1000\n",
            "3/3 [==============================] - 1s 276ms/step - loss: 0.6765 - accuracy: 0.5978 - val_loss: 0.6764 - val_accuracy: 0.6559\n",
            "Epoch 550/1000\n",
            "3/3 [==============================] - 1s 260ms/step - loss: 0.6805 - accuracy: 0.5737 - val_loss: 0.6764 - val_accuracy: 0.6559\n",
            "Epoch 551/1000\n",
            "3/3 [==============================] - 1s 294ms/step - loss: 0.6767 - accuracy: 0.6051 - val_loss: 0.6763 - val_accuracy: 0.6559\n",
            "Epoch 552/1000\n",
            "3/3 [==============================] - 1s 322ms/step - loss: 0.6777 - accuracy: 0.5741 - val_loss: 0.6763 - val_accuracy: 0.6559\n",
            "Epoch 553/1000\n",
            "3/3 [==============================] - 1s 294ms/step - loss: 0.6778 - accuracy: 0.5876 - val_loss: 0.6763 - val_accuracy: 0.6559\n",
            "Epoch 554/1000\n",
            "3/3 [==============================] - 1s 286ms/step - loss: 0.6800 - accuracy: 0.5900 - val_loss: 0.6763 - val_accuracy: 0.6559\n",
            "Epoch 555/1000\n",
            "3/3 [==============================] - 1s 276ms/step - loss: 0.6776 - accuracy: 0.5911 - val_loss: 0.6763 - val_accuracy: 0.6452\n",
            "Epoch 556/1000\n",
            "3/3 [==============================] - 1s 279ms/step - loss: 0.6783 - accuracy: 0.5987 - val_loss: 0.6763 - val_accuracy: 0.6452\n",
            "Epoch 557/1000\n",
            "3/3 [==============================] - 1s 269ms/step - loss: 0.6783 - accuracy: 0.5691 - val_loss: 0.6763 - val_accuracy: 0.6452\n",
            "Epoch 558/1000\n",
            "3/3 [==============================] - 1s 255ms/step - loss: 0.6796 - accuracy: 0.5657 - val_loss: 0.6763 - val_accuracy: 0.6452\n",
            "Epoch 559/1000\n",
            "3/3 [==============================] - 1s 277ms/step - loss: 0.6762 - accuracy: 0.5898 - val_loss: 0.6763 - val_accuracy: 0.6452\n",
            "Epoch 560/1000\n",
            "3/3 [==============================] - 1s 289ms/step - loss: 0.6799 - accuracy: 0.5583 - val_loss: 0.6763 - val_accuracy: 0.6452\n",
            "Epoch 561/1000\n",
            "3/3 [==============================] - 1s 291ms/step - loss: 0.6805 - accuracy: 0.5690 - val_loss: 0.6763 - val_accuracy: 0.6452\n",
            "Epoch 562/1000\n",
            "3/3 [==============================] - 1s 302ms/step - loss: 0.6771 - accuracy: 0.5882 - val_loss: 0.6763 - val_accuracy: 0.6452\n",
            "Epoch 563/1000\n",
            "3/3 [==============================] - 1s 294ms/step - loss: 0.6774 - accuracy: 0.6060 - val_loss: 0.6762 - val_accuracy: 0.6452\n",
            "Epoch 564/1000\n",
            "3/3 [==============================] - 1s 289ms/step - loss: 0.6761 - accuracy: 0.5931 - val_loss: 0.6762 - val_accuracy: 0.6452\n",
            "Epoch 565/1000\n",
            "3/3 [==============================] - 1s 292ms/step - loss: 0.6809 - accuracy: 0.5826 - val_loss: 0.6762 - val_accuracy: 0.6559\n",
            "Epoch 566/1000\n",
            "3/3 [==============================] - 1s 272ms/step - loss: 0.6788 - accuracy: 0.5755 - val_loss: 0.6762 - val_accuracy: 0.6559\n",
            "Epoch 567/1000\n",
            "3/3 [==============================] - 1s 287ms/step - loss: 0.6767 - accuracy: 0.6043 - val_loss: 0.6762 - val_accuracy: 0.6559\n",
            "Epoch 568/1000\n",
            "3/3 [==============================] - 1s 280ms/step - loss: 0.6776 - accuracy: 0.5863 - val_loss: 0.6762 - val_accuracy: 0.6559\n",
            "Epoch 569/1000\n",
            "3/3 [==============================] - 1s 273ms/step - loss: 0.6775 - accuracy: 0.5666 - val_loss: 0.6762 - val_accuracy: 0.6559\n",
            "Epoch 570/1000\n",
            "3/3 [==============================] - 1s 679ms/step - loss: 0.6797 - accuracy: 0.5833 - val_loss: 0.6762 - val_accuracy: 0.6559\n",
            "Epoch 571/1000\n",
            "3/3 [==============================] - 1s 308ms/step - loss: 0.6771 - accuracy: 0.5903 - val_loss: 0.6761 - val_accuracy: 0.6559\n",
            "Epoch 572/1000\n",
            "3/3 [==============================] - 1s 284ms/step - loss: 0.6762 - accuracy: 0.6044 - val_loss: 0.6761 - val_accuracy: 0.6559\n",
            "Epoch 573/1000\n",
            "3/3 [==============================] - 1s 274ms/step - loss: 0.6809 - accuracy: 0.5737 - val_loss: 0.6761 - val_accuracy: 0.6559\n",
            "Epoch 574/1000\n",
            "3/3 [==============================] - 1s 288ms/step - loss: 0.6787 - accuracy: 0.5892 - val_loss: 0.6761 - val_accuracy: 0.6559\n",
            "Epoch 575/1000\n",
            "3/3 [==============================] - 1s 290ms/step - loss: 0.6757 - accuracy: 0.5927 - val_loss: 0.6761 - val_accuracy: 0.6559\n",
            "Epoch 576/1000\n",
            "3/3 [==============================] - 1s 275ms/step - loss: 0.6767 - accuracy: 0.5912 - val_loss: 0.6761 - val_accuracy: 0.6559\n",
            "Epoch 577/1000\n",
            "3/3 [==============================] - 1s 288ms/step - loss: 0.6816 - accuracy: 0.5723 - val_loss: 0.6761 - val_accuracy: 0.6559\n",
            "Epoch 578/1000\n",
            "3/3 [==============================] - 1s 275ms/step - loss: 0.6782 - accuracy: 0.5947 - val_loss: 0.6761 - val_accuracy: 0.6559\n",
            "Epoch 579/1000\n",
            "3/3 [==============================] - 1s 281ms/step - loss: 0.6790 - accuracy: 0.6001 - val_loss: 0.6761 - val_accuracy: 0.6559\n",
            "Epoch 580/1000\n",
            "3/3 [==============================] - 1s 276ms/step - loss: 0.6781 - accuracy: 0.5821 - val_loss: 0.6760 - val_accuracy: 0.6559\n",
            "Epoch 581/1000\n",
            "3/3 [==============================] - 1s 269ms/step - loss: 0.6794 - accuracy: 0.5729 - val_loss: 0.6760 - val_accuracy: 0.6559\n",
            "Epoch 582/1000\n",
            "3/3 [==============================] - 1s 275ms/step - loss: 0.6746 - accuracy: 0.5979 - val_loss: 0.6759 - val_accuracy: 0.6559\n",
            "Epoch 583/1000\n",
            "3/3 [==============================] - 1s 298ms/step - loss: 0.6767 - accuracy: 0.5800 - val_loss: 0.6759 - val_accuracy: 0.6559\n",
            "Epoch 584/1000\n",
            "3/3 [==============================] - 1s 288ms/step - loss: 0.6783 - accuracy: 0.5804 - val_loss: 0.6759 - val_accuracy: 0.6559\n",
            "Epoch 585/1000\n",
            "3/3 [==============================] - 1s 283ms/step - loss: 0.6763 - accuracy: 0.5909 - val_loss: 0.6759 - val_accuracy: 0.6559\n",
            "Epoch 586/1000\n",
            "3/3 [==============================] - 1s 293ms/step - loss: 0.6809 - accuracy: 0.5713 - val_loss: 0.6759 - val_accuracy: 0.6559\n",
            "Epoch 587/1000\n",
            "3/3 [==============================] - 1s 284ms/step - loss: 0.6765 - accuracy: 0.5874 - val_loss: 0.6759 - val_accuracy: 0.6559\n",
            "Epoch 588/1000\n",
            "3/3 [==============================] - 1s 264ms/step - loss: 0.6743 - accuracy: 0.6125 - val_loss: 0.6759 - val_accuracy: 0.6559\n",
            "Epoch 589/1000\n",
            "3/3 [==============================] - 1s 289ms/step - loss: 0.6759 - accuracy: 0.5884 - val_loss: 0.6759 - val_accuracy: 0.6559\n",
            "Epoch 590/1000\n",
            "3/3 [==============================] - 1s 273ms/step - loss: 0.6784 - accuracy: 0.5815 - val_loss: 0.6759 - val_accuracy: 0.6559\n",
            "Epoch 591/1000\n",
            "3/3 [==============================] - 1s 298ms/step - loss: 0.6751 - accuracy: 0.5965 - val_loss: 0.6759 - val_accuracy: 0.6559\n",
            "Epoch 592/1000\n",
            "3/3 [==============================] - 1s 283ms/step - loss: 0.6772 - accuracy: 0.5903 - val_loss: 0.6759 - val_accuracy: 0.6559\n"
          ],
          "name": "stdout"
        },
        {
          "output_type": "stream",
          "text": [
            "/usr/local/lib/python3.7/dist-packages/keras/engine/sequential.py:450: UserWarning: `model.predict_classes()` is deprecated and will be removed after 2021-01-01. Please use instead:* `np.argmax(model.predict(x), axis=-1)`,   if your model does multi-class classification   (e.g. if it uses a `softmax` last-layer activation).* `(model.predict(x) > 0.5).astype(\"int32\")`,   if your model does binary classification   (e.g. if it uses a `sigmoid` last-layer activation).\n",
            "  warnings.warn('`model.predict_classes()` is deprecated and '\n",
            "INFO:absl:TPU has inputs with dynamic shapes: [<tf.Tensor 'Const:0' shape=() dtype=int32>, <tf.Tensor 'cond_8/Identity:0' shape=(None, 40) dtype=int32>]\n"
          ],
          "name": "stderr"
        }
      ]
    },
    {
      "cell_type": "markdown",
      "metadata": {
        "id": "2ZLP6RznrEyX"
      },
      "source": [
        "#### Training using RNN"
      ]
    },
    {
      "cell_type": "code",
      "metadata": {
        "colab": {
          "base_uri": "https://localhost:8080/"
        },
        "id": "gM8I_MfMgRAz",
        "outputId": "617adb03-8811-4125-fa31-4f25a1068d4c"
      },
      "source": [
        "model_names = [\"conf_mat_rnn_01_IE\", \n",
        "               \"conf_mat_rnn_01_NS\", \n",
        "               \"conf_mat_rnn_01_FT\",\n",
        "               \"conf_mat_rnn_01_PJ\"]\n",
        "if not os.path.exists(\"personality_analysis_results/rnn\"): os.mkdir(\"personality_analysis_results/rnn\")\n",
        "\n",
        "for i in range (4):\n",
        "  data = copy.deepcopy(DATA_IMMUTE)\n",
        "  run_model(i+1, \"rnn\", model_names[i],LEARNING_RATE=0.01)\n"
      ],
      "execution_count": null,
      "outputs": [
        {
          "output_type": "stream",
          "text": [
            "Model: \"sequential_28\"\n",
            "_________________________________________________________________\n",
            "Layer (type)                 Output Shape              Param #   \n",
            "=================================================================\n",
            "embedding_28 (Embedding)     (None, 40, 50)            125000    \n",
            "_________________________________________________________________\n",
            "simple_rnn (SimpleRNN)       (None, 50)                5050      \n",
            "_________________________________________________________________\n",
            "dense_28 (Dense)             (None, 1)                 51        \n",
            "=================================================================\n",
            "Total params: 130,101\n",
            "Trainable params: 130,101\n",
            "Non-trainable params: 0\n",
            "_________________________________________________________________\n",
            "Model id: 1\n",
            "   type  ...                                       cleaned_text\n",
            "0  ISTJ  ...  newton universal gravity law mean seriously wo...\n",
            "1  ISTJ  ...  never understood long time people often told s...\n",
            "2  ISTJ  ...  expected try brown instead definitely prefer b...\n",
            "3  ISTJ  ...  cant see keep secret fact could gone either wa...\n",
            "\n",
            "[4 rows x 3 columns]\n",
            "Train shape: (372, 3)\n",
            "Validation shape: (93, 3)\n",
            "Categorial split:\n",
            "   type  ...                                       cleaned_text\n",
            "0     1  ...  newton universal gravity law mean seriously wo...\n",
            "1     1  ...  never understood long time people often told s...\n",
            "2     1  ...  expected try brown instead definitely prefer b...\n",
            "3     1  ...  cant see keep secret fact could gone either wa...\n",
            "\n",
            "[4 rows x 3 columns]\n",
            "Epoch 1/1000\n"
          ],
          "name": "stdout"
        },
        {
          "output_type": "stream",
          "text": [
            "INFO:absl:TPU has inputs with dynamic shapes: [<tf.Tensor 'Const:0' shape=() dtype=int32>, <tf.Tensor 'cond_8/Identity:0' shape=(None, 40) dtype=int32>, <tf.Tensor 'cond_8/Identity_1:0' shape=(None,) dtype=int64>]\n",
            "INFO:absl:TPU has inputs with dynamic shapes: [<tf.Tensor 'Const:0' shape=() dtype=int32>, <tf.Tensor 'cond_8/Identity:0' shape=(None, 40) dtype=int32>, <tf.Tensor 'cond_8/Identity_1:0' shape=(None,) dtype=int64>]\n"
          ],
          "name": "stderr"
        },
        {
          "output_type": "stream",
          "text": [
            "3/3 [==============================] - ETA: 0s - loss: 0.8808 - accuracy: 0.5319 "
          ],
          "name": "stdout"
        },
        {
          "output_type": "stream",
          "text": [
            "INFO:absl:TPU has inputs with dynamic shapes: [<tf.Tensor 'Const:0' shape=() dtype=int32>, <tf.Tensor 'cond_8/Identity:0' shape=(None, 40) dtype=int32>, <tf.Tensor 'cond_8/Identity_1:0' shape=(None,) dtype=int64>]\n"
          ],
          "name": "stderr"
        },
        {
          "output_type": "stream",
          "text": [
            "3/3 [==============================] - 10s 2s/step - loss: 0.8641 - accuracy: 0.5293 - val_loss: 0.7376 - val_accuracy: 0.5161\n",
            "Epoch 2/1000\n",
            "3/3 [==============================] - 1s 278ms/step - loss: 0.7837 - accuracy: 0.4822 - val_loss: 0.7145 - val_accuracy: 0.5161\n",
            "Epoch 3/1000\n",
            "3/3 [==============================] - 1s 278ms/step - loss: 0.6964 - accuracy: 0.5120 - val_loss: 0.6958 - val_accuracy: 0.5054\n",
            "Epoch 4/1000\n",
            "3/3 [==============================] - 1s 274ms/step - loss: 0.6560 - accuracy: 0.5890 - val_loss: 0.7356 - val_accuracy: 0.4839\n",
            "Epoch 5/1000\n",
            "3/3 [==============================] - 1s 267ms/step - loss: 0.6367 - accuracy: 0.5570 - val_loss: 0.7080 - val_accuracy: 0.4839\n",
            "Epoch 6/1000\n",
            "3/3 [==============================] - 1s 272ms/step - loss: 0.5855 - accuracy: 0.6907 - val_loss: 0.6889 - val_accuracy: 0.5484\n",
            "Epoch 7/1000\n",
            "3/3 [==============================] - 1s 279ms/step - loss: 0.5278 - accuracy: 0.7709 - val_loss: 0.6998 - val_accuracy: 0.5591\n",
            "Epoch 8/1000\n",
            "3/3 [==============================] - 1s 310ms/step - loss: 0.4645 - accuracy: 0.8267 - val_loss: 0.7172 - val_accuracy: 0.5484\n",
            "Epoch 9/1000\n",
            "3/3 [==============================] - 1s 280ms/step - loss: 0.4120 - accuracy: 0.8372 - val_loss: 0.7492 - val_accuracy: 0.5806\n"
          ],
          "name": "stdout"
        },
        {
          "output_type": "stream",
          "text": [
            "/usr/local/lib/python3.7/dist-packages/keras/engine/sequential.py:450: UserWarning: `model.predict_classes()` is deprecated and will be removed after 2021-01-01. Please use instead:* `np.argmax(model.predict(x), axis=-1)`,   if your model does multi-class classification   (e.g. if it uses a `softmax` last-layer activation).* `(model.predict(x) > 0.5).astype(\"int32\")`,   if your model does binary classification   (e.g. if it uses a `sigmoid` last-layer activation).\n",
            "  warnings.warn('`model.predict_classes()` is deprecated and '\n",
            "INFO:absl:TPU has inputs with dynamic shapes: [<tf.Tensor 'Const:0' shape=() dtype=int32>, <tf.Tensor 'cond_8/Identity:0' shape=(None, 40) dtype=int32>]\n"
          ],
          "name": "stderr"
        },
        {
          "output_type": "stream",
          "text": [
            "Model: \"sequential_29\"\n",
            "_________________________________________________________________\n",
            "Layer (type)                 Output Shape              Param #   \n",
            "=================================================================\n",
            "embedding_29 (Embedding)     (None, 40, 50)            125000    \n",
            "_________________________________________________________________\n",
            "simple_rnn_1 (SimpleRNN)     (None, 50)                5050      \n",
            "_________________________________________________________________\n",
            "dense_29 (Dense)             (None, 1)                 51        \n",
            "=================================================================\n",
            "Total params: 130,101\n",
            "Trainable params: 130,101\n",
            "Non-trainable params: 0\n",
            "_________________________________________________________________\n",
            "Model id: 2\n",
            "   type  ...                                       cleaned_text\n",
            "0  ISTJ  ...  newton universal gravity law mean seriously wo...\n",
            "1  ISTJ  ...  never understood long time people often told s...\n",
            "2  ISTJ  ...  expected try brown instead definitely prefer b...\n",
            "3  ISTJ  ...  cant see keep secret fact could gone either wa...\n",
            "\n",
            "[4 rows x 3 columns]\n",
            "Train shape: (372, 3)\n",
            "Validation shape: (93, 3)\n",
            "Categorial split:\n",
            "   type  ...                                       cleaned_text\n",
            "0     1  ...  newton universal gravity law mean seriously wo...\n",
            "1     1  ...  never understood long time people often told s...\n",
            "2     1  ...  expected try brown instead definitely prefer b...\n",
            "3     1  ...  cant see keep secret fact could gone either wa...\n",
            "\n",
            "[4 rows x 3 columns]\n",
            "Epoch 1/1000\n"
          ],
          "name": "stdout"
        },
        {
          "output_type": "stream",
          "text": [
            "INFO:absl:TPU has inputs with dynamic shapes: [<tf.Tensor 'Const:0' shape=() dtype=int32>, <tf.Tensor 'cond_8/Identity:0' shape=(None, 40) dtype=int32>, <tf.Tensor 'cond_8/Identity_1:0' shape=(None,) dtype=int64>]\n",
            "INFO:absl:TPU has inputs with dynamic shapes: [<tf.Tensor 'Const:0' shape=() dtype=int32>, <tf.Tensor 'cond_8/Identity:0' shape=(None, 40) dtype=int32>, <tf.Tensor 'cond_8/Identity_1:0' shape=(None,) dtype=int64>]\n"
          ],
          "name": "stderr"
        },
        {
          "output_type": "stream",
          "text": [
            "3/3 [==============================] - ETA: 0s - loss: 0.7016 - accuracy: 0.5208 "
          ],
          "name": "stdout"
        },
        {
          "output_type": "stream",
          "text": [
            "INFO:absl:TPU has inputs with dynamic shapes: [<tf.Tensor 'Const:0' shape=() dtype=int32>, <tf.Tensor 'cond_8/Identity:0' shape=(None, 40) dtype=int32>, <tf.Tensor 'cond_8/Identity_1:0' shape=(None,) dtype=int64>]\n"
          ],
          "name": "stderr"
        },
        {
          "output_type": "stream",
          "text": [
            "3/3 [==============================] - 9s 2s/step - loss: 0.7018 - accuracy: 0.5243 - val_loss: 0.6942 - val_accuracy: 0.5161\n",
            "Epoch 2/1000\n",
            "3/3 [==============================] - 1s 273ms/step - loss: 0.6782 - accuracy: 0.5707 - val_loss: 0.6920 - val_accuracy: 0.5914\n",
            "Epoch 3/1000\n",
            "3/3 [==============================] - 1s 287ms/step - loss: 0.6532 - accuracy: 0.6415 - val_loss: 0.6875 - val_accuracy: 0.5806\n",
            "Epoch 4/1000\n",
            "3/3 [==============================] - 1s 269ms/step - loss: 0.6318 - accuracy: 0.6289 - val_loss: 0.7061 - val_accuracy: 0.4946\n",
            "Epoch 5/1000\n",
            "3/3 [==============================] - 1s 269ms/step - loss: 0.5872 - accuracy: 0.7141 - val_loss: 0.7056 - val_accuracy: 0.5914\n",
            "Epoch 6/1000\n",
            "3/3 [==============================] - 1s 270ms/step - loss: 0.5420 - accuracy: 0.7406 - val_loss: 0.7214 - val_accuracy: 0.5914\n"
          ],
          "name": "stdout"
        },
        {
          "output_type": "stream",
          "text": [
            "/usr/local/lib/python3.7/dist-packages/keras/engine/sequential.py:450: UserWarning: `model.predict_classes()` is deprecated and will be removed after 2021-01-01. Please use instead:* `np.argmax(model.predict(x), axis=-1)`,   if your model does multi-class classification   (e.g. if it uses a `softmax` last-layer activation).* `(model.predict(x) > 0.5).astype(\"int32\")`,   if your model does binary classification   (e.g. if it uses a `sigmoid` last-layer activation).\n",
            "  warnings.warn('`model.predict_classes()` is deprecated and '\n",
            "INFO:absl:TPU has inputs with dynamic shapes: [<tf.Tensor 'Const:0' shape=() dtype=int32>, <tf.Tensor 'cond_8/Identity:0' shape=(None, 40) dtype=int32>]\n"
          ],
          "name": "stderr"
        },
        {
          "output_type": "stream",
          "text": [
            "Model: \"sequential_30\"\n",
            "_________________________________________________________________\n",
            "Layer (type)                 Output Shape              Param #   \n",
            "=================================================================\n",
            "embedding_30 (Embedding)     (None, 40, 50)            125000    \n",
            "_________________________________________________________________\n",
            "simple_rnn_2 (SimpleRNN)     (None, 50)                5050      \n",
            "_________________________________________________________________\n",
            "dense_30 (Dense)             (None, 1)                 51        \n",
            "=================================================================\n",
            "Total params: 130,101\n",
            "Trainable params: 130,101\n",
            "Non-trainable params: 0\n",
            "_________________________________________________________________\n",
            "Model id: 3\n",
            "   type  ...                                       cleaned_text\n",
            "0  ISTJ  ...  newton universal gravity law mean seriously wo...\n",
            "1  ISTJ  ...  never understood long time people often told s...\n",
            "2  ISTJ  ...  expected try brown instead definitely prefer b...\n",
            "3  ISTJ  ...  cant see keep secret fact could gone either wa...\n",
            "\n",
            "[4 rows x 3 columns]\n",
            "Train shape: (372, 3)\n",
            "Validation shape: (93, 3)\n",
            "Categorial split:\n",
            "   type  ...                                       cleaned_text\n",
            "0     1  ...  newton universal gravity law mean seriously wo...\n",
            "1     1  ...  never understood long time people often told s...\n",
            "2     1  ...  expected try brown instead definitely prefer b...\n",
            "3     1  ...  cant see keep secret fact could gone either wa...\n",
            "\n",
            "[4 rows x 3 columns]\n",
            "Epoch 1/1000\n"
          ],
          "name": "stdout"
        },
        {
          "output_type": "stream",
          "text": [
            "INFO:absl:TPU has inputs with dynamic shapes: [<tf.Tensor 'Const:0' shape=() dtype=int32>, <tf.Tensor 'cond_8/Identity:0' shape=(None, 40) dtype=int32>, <tf.Tensor 'cond_8/Identity_1:0' shape=(None,) dtype=int64>]\n",
            "INFO:absl:TPU has inputs with dynamic shapes: [<tf.Tensor 'Const:0' shape=() dtype=int32>, <tf.Tensor 'cond_8/Identity:0' shape=(None, 40) dtype=int32>, <tf.Tensor 'cond_8/Identity_1:0' shape=(None,) dtype=int64>]\n"
          ],
          "name": "stderr"
        },
        {
          "output_type": "stream",
          "text": [
            "3/3 [==============================] - ETA: 0s - loss: 0.7257 - accuracy: 0.5000 "
          ],
          "name": "stdout"
        },
        {
          "output_type": "stream",
          "text": [
            "INFO:absl:TPU has inputs with dynamic shapes: [<tf.Tensor 'Const:0' shape=() dtype=int32>, <tf.Tensor 'cond_8/Identity:0' shape=(None, 40) dtype=int32>, <tf.Tensor 'cond_8/Identity_1:0' shape=(None,) dtype=int64>]\n"
          ],
          "name": "stderr"
        },
        {
          "output_type": "stream",
          "text": [
            "3/3 [==============================] - 9s 2s/step - loss: 0.7263 - accuracy: 0.5000 - val_loss: 0.7000 - val_accuracy: 0.4731\n",
            "Epoch 2/1000\n",
            "3/3 [==============================] - 1s 268ms/step - loss: 0.6887 - accuracy: 0.5600 - val_loss: 0.7001 - val_accuracy: 0.4946\n",
            "Epoch 3/1000\n",
            "3/3 [==============================] - 1s 277ms/step - loss: 0.6718 - accuracy: 0.5651 - val_loss: 0.7132 - val_accuracy: 0.4516\n",
            "Epoch 4/1000\n",
            "3/3 [==============================] - 1s 275ms/step - loss: 0.6413 - accuracy: 0.6753 - val_loss: 0.7162 - val_accuracy: 0.4839\n"
          ],
          "name": "stdout"
        },
        {
          "output_type": "stream",
          "text": [
            "/usr/local/lib/python3.7/dist-packages/keras/engine/sequential.py:450: UserWarning: `model.predict_classes()` is deprecated and will be removed after 2021-01-01. Please use instead:* `np.argmax(model.predict(x), axis=-1)`,   if your model does multi-class classification   (e.g. if it uses a `softmax` last-layer activation).* `(model.predict(x) > 0.5).astype(\"int32\")`,   if your model does binary classification   (e.g. if it uses a `sigmoid` last-layer activation).\n",
            "  warnings.warn('`model.predict_classes()` is deprecated and '\n",
            "INFO:absl:TPU has inputs with dynamic shapes: [<tf.Tensor 'Const:0' shape=() dtype=int32>, <tf.Tensor 'cond_8/Identity:0' shape=(None, 40) dtype=int32>]\n"
          ],
          "name": "stderr"
        },
        {
          "output_type": "stream",
          "text": [
            "Model: \"sequential_31\"\n",
            "_________________________________________________________________\n",
            "Layer (type)                 Output Shape              Param #   \n",
            "=================================================================\n",
            "embedding_31 (Embedding)     (None, 40, 50)            125000    \n",
            "_________________________________________________________________\n",
            "simple_rnn_3 (SimpleRNN)     (None, 50)                5050      \n",
            "_________________________________________________________________\n",
            "dense_31 (Dense)             (None, 1)                 51        \n",
            "=================================================================\n",
            "Total params: 130,101\n",
            "Trainable params: 130,101\n",
            "Non-trainable params: 0\n",
            "_________________________________________________________________\n",
            "Model id: 4\n",
            "   type  ...                                       cleaned_text\n",
            "0  ISTJ  ...  newton universal gravity law mean seriously wo...\n",
            "1  ISTJ  ...  never understood long time people often told s...\n",
            "2  ISTJ  ...  expected try brown instead definitely prefer b...\n",
            "3  ISTJ  ...  cant see keep secret fact could gone either wa...\n",
            "\n",
            "[4 rows x 3 columns]\n",
            "Train shape: (372, 3)\n",
            "Validation shape: (93, 3)\n",
            "Categorial split:\n",
            "   type  ...                                       cleaned_text\n",
            "0     0  ...  newton universal gravity law mean seriously wo...\n",
            "1     0  ...  never understood long time people often told s...\n",
            "2     0  ...  expected try brown instead definitely prefer b...\n",
            "3     0  ...  cant see keep secret fact could gone either wa...\n",
            "\n",
            "[4 rows x 3 columns]\n",
            "Epoch 1/1000\n"
          ],
          "name": "stdout"
        },
        {
          "output_type": "stream",
          "text": [
            "INFO:absl:TPU has inputs with dynamic shapes: [<tf.Tensor 'Const:0' shape=() dtype=int32>, <tf.Tensor 'cond_8/Identity:0' shape=(None, 40) dtype=int32>, <tf.Tensor 'cond_8/Identity_1:0' shape=(None,) dtype=int64>]\n",
            "INFO:absl:TPU has inputs with dynamic shapes: [<tf.Tensor 'Const:0' shape=() dtype=int32>, <tf.Tensor 'cond_8/Identity:0' shape=(None, 40) dtype=int32>, <tf.Tensor 'cond_8/Identity_1:0' shape=(None,) dtype=int64>]\n"
          ],
          "name": "stderr"
        },
        {
          "output_type": "stream",
          "text": [
            "3/3 [==============================] - ETA: 0s - loss: 0.8519 - accuracy: 0.4586 "
          ],
          "name": "stdout"
        },
        {
          "output_type": "stream",
          "text": [
            "INFO:absl:TPU has inputs with dynamic shapes: [<tf.Tensor 'Const:0' shape=() dtype=int32>, <tf.Tensor 'cond_8/Identity:0' shape=(None, 40) dtype=int32>, <tf.Tensor 'cond_8/Identity_1:0' shape=(None,) dtype=int64>]\n"
          ],
          "name": "stderr"
        },
        {
          "output_type": "stream",
          "text": [
            "3/3 [==============================] - 9s 2s/step - loss: 0.8375 - accuracy: 0.4642 - val_loss: 0.6421 - val_accuracy: 0.6667\n",
            "Epoch 2/1000\n",
            "3/3 [==============================] - 1s 269ms/step - loss: 0.7272 - accuracy: 0.5484 - val_loss: 0.6453 - val_accuracy: 0.6667\n",
            "Epoch 3/1000\n",
            "3/3 [==============================] - 1s 279ms/step - loss: 0.6526 - accuracy: 0.5912 - val_loss: 0.7233 - val_accuracy: 0.4301\n",
            "Epoch 4/1000\n",
            "3/3 [==============================] - 1s 300ms/step - loss: 0.6569 - accuracy: 0.6034 - val_loss: 0.7693 - val_accuracy: 0.3871\n"
          ],
          "name": "stdout"
        },
        {
          "output_type": "stream",
          "text": [
            "/usr/local/lib/python3.7/dist-packages/keras/engine/sequential.py:450: UserWarning: `model.predict_classes()` is deprecated and will be removed after 2021-01-01. Please use instead:* `np.argmax(model.predict(x), axis=-1)`,   if your model does multi-class classification   (e.g. if it uses a `softmax` last-layer activation).* `(model.predict(x) > 0.5).astype(\"int32\")`,   if your model does binary classification   (e.g. if it uses a `sigmoid` last-layer activation).\n",
            "  warnings.warn('`model.predict_classes()` is deprecated and '\n",
            "INFO:absl:TPU has inputs with dynamic shapes: [<tf.Tensor 'Const:0' shape=() dtype=int32>, <tf.Tensor 'cond_8/Identity:0' shape=(None, 40) dtype=int32>]\n"
          ],
          "name": "stderr"
        }
      ]
    },
    {
      "cell_type": "code",
      "metadata": {
        "colab": {
          "base_uri": "https://localhost:8080/"
        },
        "id": "7Gq8PuiDoojN",
        "outputId": "7a7a4a04-b8ba-4067-fdcb-84b9334054ee"
      },
      "source": [
        "model_names = [\"conf_mat_rnn_001_IE\", \n",
        "               \"conf_mat_rnn_001_NS\", \n",
        "               \"conf_mat_rnn_001_FT\",\n",
        "               \"conf_mat_rnn_001_PJ\"]\n",
        "if not os.path.exists(\"personality_analysis_results/rnn\"): os.mkdir(\"personality_analysis_results/rnn\")\n",
        "\n",
        "for i in range (4):\n",
        "  data = copy.deepcopy(DATA_IMMUTE)\n",
        "  run_model(i+1, \"rnn\", model_names[i],LEARNING_RATE=0.001)"
      ],
      "execution_count": null,
      "outputs": [
        {
          "output_type": "stream",
          "text": [
            "Model: \"sequential_32\"\n",
            "_________________________________________________________________\n",
            "Layer (type)                 Output Shape              Param #   \n",
            "=================================================================\n",
            "embedding_32 (Embedding)     (None, 40, 50)            125000    \n",
            "_________________________________________________________________\n",
            "simple_rnn_4 (SimpleRNN)     (None, 50)                5050      \n",
            "_________________________________________________________________\n",
            "dense_32 (Dense)             (None, 1)                 51        \n",
            "=================================================================\n",
            "Total params: 130,101\n",
            "Trainable params: 130,101\n",
            "Non-trainable params: 0\n",
            "_________________________________________________________________\n",
            "Model id: 1\n",
            "   type  ...                                       cleaned_text\n",
            "0  ISTJ  ...  newton universal gravity law mean seriously wo...\n",
            "1  ISTJ  ...  never understood long time people often told s...\n",
            "2  ISTJ  ...  expected try brown instead definitely prefer b...\n",
            "3  ISTJ  ...  cant see keep secret fact could gone either wa...\n",
            "\n",
            "[4 rows x 3 columns]\n",
            "Train shape: (372, 3)\n",
            "Validation shape: (93, 3)\n",
            "Categorial split:\n",
            "   type  ...                                       cleaned_text\n",
            "0     1  ...  newton universal gravity law mean seriously wo...\n",
            "1     1  ...  never understood long time people often told s...\n",
            "2     1  ...  expected try brown instead definitely prefer b...\n",
            "3     1  ...  cant see keep secret fact could gone either wa...\n",
            "\n",
            "[4 rows x 3 columns]\n",
            "Epoch 1/1000\n"
          ],
          "name": "stdout"
        },
        {
          "output_type": "stream",
          "text": [
            "INFO:absl:TPU has inputs with dynamic shapes: [<tf.Tensor 'Const:0' shape=() dtype=int32>, <tf.Tensor 'cond_8/Identity:0' shape=(None, 40) dtype=int32>, <tf.Tensor 'cond_8/Identity_1:0' shape=(None,) dtype=int64>]\n",
            "INFO:absl:TPU has inputs with dynamic shapes: [<tf.Tensor 'Const:0' shape=() dtype=int32>, <tf.Tensor 'cond_8/Identity:0' shape=(None, 40) dtype=int32>, <tf.Tensor 'cond_8/Identity_1:0' shape=(None,) dtype=int64>]\n"
          ],
          "name": "stderr"
        },
        {
          "output_type": "stream",
          "text": [
            "3/3 [==============================] - ETA: 0s - loss: 0.6953 - accuracy: 0.5249 "
          ],
          "name": "stdout"
        },
        {
          "output_type": "stream",
          "text": [
            "INFO:absl:TPU has inputs with dynamic shapes: [<tf.Tensor 'Const:0' shape=() dtype=int32>, <tf.Tensor 'cond_8/Identity:0' shape=(None, 40) dtype=int32>, <tf.Tensor 'cond_8/Identity_1:0' shape=(None,) dtype=int64>]\n"
          ],
          "name": "stderr"
        },
        {
          "output_type": "stream",
          "text": [
            "3/3 [==============================] - 9s 2s/step - loss: 0.6955 - accuracy: 0.5227 - val_loss: 0.6946 - val_accuracy: 0.4086\n",
            "Epoch 2/1000\n",
            "3/3 [==============================] - 1s 268ms/step - loss: 0.6914 - accuracy: 0.4924 - val_loss: 0.6944 - val_accuracy: 0.4731\n",
            "Epoch 3/1000\n",
            "3/3 [==============================] - 1s 284ms/step - loss: 0.6911 - accuracy: 0.5393 - val_loss: 0.6959 - val_accuracy: 0.4624\n",
            "Epoch 4/1000\n",
            "3/3 [==============================] - 1s 280ms/step - loss: 0.6896 - accuracy: 0.5453 - val_loss: 0.6998 - val_accuracy: 0.4946\n",
            "Epoch 5/1000\n",
            "3/3 [==============================] - 1s 279ms/step - loss: 0.6838 - accuracy: 0.5662 - val_loss: 0.6995 - val_accuracy: 0.4839\n"
          ],
          "name": "stdout"
        },
        {
          "output_type": "stream",
          "text": [
            "/usr/local/lib/python3.7/dist-packages/keras/engine/sequential.py:450: UserWarning: `model.predict_classes()` is deprecated and will be removed after 2021-01-01. Please use instead:* `np.argmax(model.predict(x), axis=-1)`,   if your model does multi-class classification   (e.g. if it uses a `softmax` last-layer activation).* `(model.predict(x) > 0.5).astype(\"int32\")`,   if your model does binary classification   (e.g. if it uses a `sigmoid` last-layer activation).\n",
            "  warnings.warn('`model.predict_classes()` is deprecated and '\n",
            "INFO:absl:TPU has inputs with dynamic shapes: [<tf.Tensor 'Const:0' shape=() dtype=int32>, <tf.Tensor 'cond_8/Identity:0' shape=(None, 40) dtype=int32>]\n"
          ],
          "name": "stderr"
        },
        {
          "output_type": "stream",
          "text": [
            "Model: \"sequential_33\"\n",
            "_________________________________________________________________\n",
            "Layer (type)                 Output Shape              Param #   \n",
            "=================================================================\n",
            "embedding_33 (Embedding)     (None, 40, 50)            125000    \n",
            "_________________________________________________________________\n",
            "simple_rnn_5 (SimpleRNN)     (None, 50)                5050      \n",
            "_________________________________________________________________\n",
            "dense_33 (Dense)             (None, 1)                 51        \n",
            "=================================================================\n",
            "Total params: 130,101\n",
            "Trainable params: 130,101\n",
            "Non-trainable params: 0\n",
            "_________________________________________________________________\n",
            "Model id: 2\n",
            "   type  ...                                       cleaned_text\n",
            "0  ISTJ  ...  newton universal gravity law mean seriously wo...\n",
            "1  ISTJ  ...  never understood long time people often told s...\n",
            "2  ISTJ  ...  expected try brown instead definitely prefer b...\n",
            "3  ISTJ  ...  cant see keep secret fact could gone either wa...\n",
            "\n",
            "[4 rows x 3 columns]\n",
            "Train shape: (372, 3)\n",
            "Validation shape: (93, 3)\n",
            "Categorial split:\n",
            "   type  ...                                       cleaned_text\n",
            "0     1  ...  newton universal gravity law mean seriously wo...\n",
            "1     1  ...  never understood long time people often told s...\n",
            "2     1  ...  expected try brown instead definitely prefer b...\n",
            "3     1  ...  cant see keep secret fact could gone either wa...\n",
            "\n",
            "[4 rows x 3 columns]\n",
            "Epoch 1/1000\n"
          ],
          "name": "stdout"
        },
        {
          "output_type": "stream",
          "text": [
            "INFO:absl:TPU has inputs with dynamic shapes: [<tf.Tensor 'Const:0' shape=() dtype=int32>, <tf.Tensor 'cond_8/Identity:0' shape=(None, 40) dtype=int32>, <tf.Tensor 'cond_8/Identity_1:0' shape=(None,) dtype=int64>]\n",
            "INFO:absl:TPU has inputs with dynamic shapes: [<tf.Tensor 'Const:0' shape=() dtype=int32>, <tf.Tensor 'cond_8/Identity:0' shape=(None, 40) dtype=int32>, <tf.Tensor 'cond_8/Identity_1:0' shape=(None,) dtype=int64>]\n"
          ],
          "name": "stderr"
        },
        {
          "output_type": "stream",
          "text": [
            "3/3 [==============================] - ETA: 0s - loss: 0.8209 - accuracy: 0.5317 "
          ],
          "name": "stdout"
        },
        {
          "output_type": "stream",
          "text": [
            "INFO:absl:TPU has inputs with dynamic shapes: [<tf.Tensor 'Const:0' shape=() dtype=int32>, <tf.Tensor 'cond_8/Identity:0' shape=(None, 40) dtype=int32>, <tf.Tensor 'cond_8/Identity_1:0' shape=(None,) dtype=int64>]\n"
          ],
          "name": "stderr"
        },
        {
          "output_type": "stream",
          "text": [
            "3/3 [==============================] - 9s 2s/step - loss: 0.8158 - accuracy: 0.5338 - val_loss: 0.7103 - val_accuracy: 0.5914\n",
            "Epoch 2/1000\n",
            "3/3 [==============================] - 1s 263ms/step - loss: 0.7263 - accuracy: 0.5573 - val_loss: 0.6826 - val_accuracy: 0.5914\n",
            "Epoch 3/1000\n",
            "3/3 [==============================] - 1s 273ms/step - loss: 0.7121 - accuracy: 0.5387 - val_loss: 0.6747 - val_accuracy: 0.5914\n",
            "Epoch 4/1000\n",
            "3/3 [==============================] - 1s 276ms/step - loss: 0.6941 - accuracy: 0.5408 - val_loss: 0.6810 - val_accuracy: 0.5806\n",
            "Epoch 5/1000\n",
            "3/3 [==============================] - 1s 275ms/step - loss: 0.6858 - accuracy: 0.5523 - val_loss: 0.6902 - val_accuracy: 0.5269\n",
            "Epoch 6/1000\n",
            "3/3 [==============================] - 1s 269ms/step - loss: 0.6920 - accuracy: 0.5076 - val_loss: 0.6961 - val_accuracy: 0.4946\n"
          ],
          "name": "stdout"
        },
        {
          "output_type": "stream",
          "text": [
            "/usr/local/lib/python3.7/dist-packages/keras/engine/sequential.py:450: UserWarning: `model.predict_classes()` is deprecated and will be removed after 2021-01-01. Please use instead:* `np.argmax(model.predict(x), axis=-1)`,   if your model does multi-class classification   (e.g. if it uses a `softmax` last-layer activation).* `(model.predict(x) > 0.5).astype(\"int32\")`,   if your model does binary classification   (e.g. if it uses a `sigmoid` last-layer activation).\n",
            "  warnings.warn('`model.predict_classes()` is deprecated and '\n",
            "INFO:absl:TPU has inputs with dynamic shapes: [<tf.Tensor 'Const:0' shape=() dtype=int32>, <tf.Tensor 'cond_8/Identity:0' shape=(None, 40) dtype=int32>]\n"
          ],
          "name": "stderr"
        },
        {
          "output_type": "stream",
          "text": [
            "Model: \"sequential_34\"\n",
            "_________________________________________________________________\n",
            "Layer (type)                 Output Shape              Param #   \n",
            "=================================================================\n",
            "embedding_34 (Embedding)     (None, 40, 50)            125000    \n",
            "_________________________________________________________________\n",
            "simple_rnn_6 (SimpleRNN)     (None, 50)                5050      \n",
            "_________________________________________________________________\n",
            "dense_34 (Dense)             (None, 1)                 51        \n",
            "=================================================================\n",
            "Total params: 130,101\n",
            "Trainable params: 130,101\n",
            "Non-trainable params: 0\n",
            "_________________________________________________________________\n",
            "Model id: 3\n",
            "   type  ...                                       cleaned_text\n",
            "0  ISTJ  ...  newton universal gravity law mean seriously wo...\n",
            "1  ISTJ  ...  never understood long time people often told s...\n",
            "2  ISTJ  ...  expected try brown instead definitely prefer b...\n",
            "3  ISTJ  ...  cant see keep secret fact could gone either wa...\n",
            "\n",
            "[4 rows x 3 columns]\n",
            "Train shape: (372, 3)\n",
            "Validation shape: (93, 3)\n",
            "Categorial split:\n",
            "   type  ...                                       cleaned_text\n",
            "0     1  ...  newton universal gravity law mean seriously wo...\n",
            "1     1  ...  never understood long time people often told s...\n",
            "2     1  ...  expected try brown instead definitely prefer b...\n",
            "3     1  ...  cant see keep secret fact could gone either wa...\n",
            "\n",
            "[4 rows x 3 columns]\n",
            "Epoch 1/1000\n"
          ],
          "name": "stdout"
        },
        {
          "output_type": "stream",
          "text": [
            "INFO:absl:TPU has inputs with dynamic shapes: [<tf.Tensor 'Const:0' shape=() dtype=int32>, <tf.Tensor 'cond_8/Identity:0' shape=(None, 40) dtype=int32>, <tf.Tensor 'cond_8/Identity_1:0' shape=(None,) dtype=int64>]\n",
            "INFO:absl:TPU has inputs with dynamic shapes: [<tf.Tensor 'Const:0' shape=() dtype=int32>, <tf.Tensor 'cond_8/Identity:0' shape=(None, 40) dtype=int32>, <tf.Tensor 'cond_8/Identity_1:0' shape=(None,) dtype=int64>]\n"
          ],
          "name": "stderr"
        },
        {
          "output_type": "stream",
          "text": [
            "3/3 [==============================] - ETA: 0s - loss: 0.8269 - accuracy: 0.5018 "
          ],
          "name": "stdout"
        },
        {
          "output_type": "stream",
          "text": [
            "INFO:absl:TPU has inputs with dynamic shapes: [<tf.Tensor 'Const:0' shape=() dtype=int32>, <tf.Tensor 'cond_8/Identity:0' shape=(None, 40) dtype=int32>, <tf.Tensor 'cond_8/Identity_1:0' shape=(None,) dtype=int64>]\n"
          ],
          "name": "stderr"
        },
        {
          "output_type": "stream",
          "text": [
            "3/3 [==============================] - 9s 2s/step - loss: 0.8231 - accuracy: 0.5027 - val_loss: 0.7924 - val_accuracy: 0.4731\n",
            "Epoch 2/1000\n",
            "3/3 [==============================] - 1s 292ms/step - loss: 0.7578 - accuracy: 0.5027 - val_loss: 0.7381 - val_accuracy: 0.4731\n",
            "Epoch 3/1000\n",
            "3/3 [==============================] - 1s 292ms/step - loss: 0.7101 - accuracy: 0.5046 - val_loss: 0.7074 - val_accuracy: 0.4624\n",
            "Epoch 4/1000\n",
            "3/3 [==============================] - 1s 284ms/step - loss: 0.6890 - accuracy: 0.5443 - val_loss: 0.6960 - val_accuracy: 0.4624\n",
            "Epoch 5/1000\n",
            "3/3 [==============================] - 1s 271ms/step - loss: 0.6835 - accuracy: 0.5553 - val_loss: 0.6952 - val_accuracy: 0.5484\n",
            "Epoch 6/1000\n",
            "3/3 [==============================] - 1s 268ms/step - loss: 0.6864 - accuracy: 0.5576 - val_loss: 0.6971 - val_accuracy: 0.5484\n",
            "Epoch 7/1000\n",
            "3/3 [==============================] - 1s 293ms/step - loss: 0.6898 - accuracy: 0.5501 - val_loss: 0.6972 - val_accuracy: 0.5484\n",
            "Epoch 8/1000\n",
            "3/3 [==============================] - 1s 284ms/step - loss: 0.6842 - accuracy: 0.5468 - val_loss: 0.6959 - val_accuracy: 0.5484\n"
          ],
          "name": "stdout"
        },
        {
          "output_type": "stream",
          "text": [
            "/usr/local/lib/python3.7/dist-packages/keras/engine/sequential.py:450: UserWarning: `model.predict_classes()` is deprecated and will be removed after 2021-01-01. Please use instead:* `np.argmax(model.predict(x), axis=-1)`,   if your model does multi-class classification   (e.g. if it uses a `softmax` last-layer activation).* `(model.predict(x) > 0.5).astype(\"int32\")`,   if your model does binary classification   (e.g. if it uses a `sigmoid` last-layer activation).\n",
            "  warnings.warn('`model.predict_classes()` is deprecated and '\n",
            "INFO:absl:TPU has inputs with dynamic shapes: [<tf.Tensor 'Const:0' shape=() dtype=int32>, <tf.Tensor 'cond_8/Identity:0' shape=(None, 40) dtype=int32>]\n"
          ],
          "name": "stderr"
        },
        {
          "output_type": "stream",
          "text": [
            "Model: \"sequential_35\"\n",
            "_________________________________________________________________\n",
            "Layer (type)                 Output Shape              Param #   \n",
            "=================================================================\n",
            "embedding_35 (Embedding)     (None, 40, 50)            125000    \n",
            "_________________________________________________________________\n",
            "simple_rnn_7 (SimpleRNN)     (None, 50)                5050      \n",
            "_________________________________________________________________\n",
            "dense_35 (Dense)             (None, 1)                 51        \n",
            "=================================================================\n",
            "Total params: 130,101\n",
            "Trainable params: 130,101\n",
            "Non-trainable params: 0\n",
            "_________________________________________________________________\n",
            "Model id: 4\n",
            "   type  ...                                       cleaned_text\n",
            "0  ISTJ  ...  newton universal gravity law mean seriously wo...\n",
            "1  ISTJ  ...  never understood long time people often told s...\n",
            "2  ISTJ  ...  expected try brown instead definitely prefer b...\n",
            "3  ISTJ  ...  cant see keep secret fact could gone either wa...\n",
            "\n",
            "[4 rows x 3 columns]\n",
            "Train shape: (372, 3)\n",
            "Validation shape: (93, 3)\n",
            "Categorial split:\n",
            "   type  ...                                       cleaned_text\n",
            "0     0  ...  newton universal gravity law mean seriously wo...\n",
            "1     0  ...  never understood long time people often told s...\n",
            "2     0  ...  expected try brown instead definitely prefer b...\n",
            "3     0  ...  cant see keep secret fact could gone either wa...\n",
            "\n",
            "[4 rows x 3 columns]\n",
            "Epoch 1/1000\n"
          ],
          "name": "stdout"
        },
        {
          "output_type": "stream",
          "text": [
            "INFO:absl:TPU has inputs with dynamic shapes: [<tf.Tensor 'Const:0' shape=() dtype=int32>, <tf.Tensor 'cond_8/Identity:0' shape=(None, 40) dtype=int32>, <tf.Tensor 'cond_8/Identity_1:0' shape=(None,) dtype=int64>]\n",
            "INFO:absl:TPU has inputs with dynamic shapes: [<tf.Tensor 'Const:0' shape=() dtype=int32>, <tf.Tensor 'cond_8/Identity:0' shape=(None, 40) dtype=int32>, <tf.Tensor 'cond_8/Identity_1:0' shape=(None,) dtype=int64>]\n"
          ],
          "name": "stderr"
        },
        {
          "output_type": "stream",
          "text": [
            "3/3 [==============================] - ETA: 0s - loss: 0.6982 - accuracy: 0.5407 "
          ],
          "name": "stdout"
        },
        {
          "output_type": "stream",
          "text": [
            "INFO:absl:TPU has inputs with dynamic shapes: [<tf.Tensor 'Const:0' shape=() dtype=int32>, <tf.Tensor 'cond_8/Identity:0' shape=(None, 40) dtype=int32>, <tf.Tensor 'cond_8/Identity_1:0' shape=(None,) dtype=int64>]\n"
          ],
          "name": "stderr"
        },
        {
          "output_type": "stream",
          "text": [
            "3/3 [==============================] - 9s 2s/step - loss: 0.6987 - accuracy: 0.5386 - val_loss: 0.6606 - val_accuracy: 0.6667\n",
            "Epoch 2/1000\n",
            "3/3 [==============================] - 1s 287ms/step - loss: 0.6905 - accuracy: 0.5311 - val_loss: 0.6844 - val_accuracy: 0.6237\n",
            "Epoch 3/1000\n",
            "3/3 [==============================] - 1s 288ms/step - loss: 0.6899 - accuracy: 0.5485 - val_loss: 0.6911 - val_accuracy: 0.5269\n",
            "Epoch 4/1000\n",
            "3/3 [==============================] - 1s 304ms/step - loss: 0.6870 - accuracy: 0.5796 - val_loss: 0.6886 - val_accuracy: 0.5806\n"
          ],
          "name": "stdout"
        },
        {
          "output_type": "stream",
          "text": [
            "/usr/local/lib/python3.7/dist-packages/keras/engine/sequential.py:450: UserWarning: `model.predict_classes()` is deprecated and will be removed after 2021-01-01. Please use instead:* `np.argmax(model.predict(x), axis=-1)`,   if your model does multi-class classification   (e.g. if it uses a `softmax` last-layer activation).* `(model.predict(x) > 0.5).astype(\"int32\")`,   if your model does binary classification   (e.g. if it uses a `sigmoid` last-layer activation).\n",
            "  warnings.warn('`model.predict_classes()` is deprecated and '\n",
            "INFO:absl:TPU has inputs with dynamic shapes: [<tf.Tensor 'Const:0' shape=() dtype=int32>, <tf.Tensor 'cond_8/Identity:0' shape=(None, 40) dtype=int32>]\n"
          ],
          "name": "stderr"
        }
      ]
    },
    {
      "cell_type": "markdown",
      "metadata": {
        "id": "5ZS2FdlJrt6k"
      },
      "source": [
        "#### Training using BID using learning rate 0.01\n",
        "\n"
      ]
    },
    {
      "cell_type": "code",
      "metadata": {
        "colab": {
          "base_uri": "https://localhost:8080/"
        },
        "id": "Rr3zzO97qW0x",
        "outputId": "299ac007-0e0e-44f4-b6bf-e8de56eff24a"
      },
      "source": [
        "model_names = [\"conf_mat_bid_01_IE\", \n",
        "               \"conf_mat_bid_01_NS\", \n",
        "               \"conf_mat_bid_01_FT\",\n",
        "               \"conf_mat_bid_01_PJ\"]\n",
        "if not os.path.exists(\"personality_analysis_results/bid\"): os.mkdir(\"personality_analysis_results/bid\")\n",
        "\n",
        "for i in range (4):\n",
        "  data = copy.deepcopy(DATA_IMMUTE)\n",
        "  run_model(i+1, \"bid\", model_names[i],LEARNING_RATE=0.01)"
      ],
      "execution_count": null,
      "outputs": [
        {
          "output_type": "stream",
          "text": [
            "Model: \"sequential_40\"\n",
            "_________________________________________________________________\n",
            "Layer (type)                 Output Shape              Param #   \n",
            "=================================================================\n",
            "embedding_40 (Embedding)     (None, 40, 50)            125000    \n",
            "_________________________________________________________________\n",
            "bidirectional_4 (Bidirection (None, 100)               40400     \n",
            "_________________________________________________________________\n",
            "dense_40 (Dense)             (None, 1)                 101       \n",
            "=================================================================\n",
            "Total params: 165,501\n",
            "Trainable params: 165,501\n",
            "Non-trainable params: 0\n",
            "_________________________________________________________________\n",
            "Model id: 1\n",
            "   type  ...                                       cleaned_text\n",
            "0  ISTJ  ...  newton universal gravity law mean seriously wo...\n",
            "1  ISTJ  ...  never understood long time people often told s...\n",
            "2  ISTJ  ...  expected try brown instead definitely prefer b...\n",
            "3  ISTJ  ...  cant see keep secret fact could gone either wa...\n",
            "\n",
            "[4 rows x 3 columns]\n",
            "Train shape: (372, 3)\n",
            "Validation shape: (93, 3)\n",
            "Categorial split:\n",
            "   type  ...                                       cleaned_text\n",
            "0     1  ...  newton universal gravity law mean seriously wo...\n",
            "1     1  ...  never understood long time people often told s...\n",
            "2     1  ...  expected try brown instead definitely prefer b...\n",
            "3     1  ...  cant see keep secret fact could gone either wa...\n",
            "\n",
            "[4 rows x 3 columns]\n",
            "Epoch 1/1000\n"
          ],
          "name": "stdout"
        },
        {
          "output_type": "stream",
          "text": [
            "INFO:absl:TPU has inputs with dynamic shapes: [<tf.Tensor 'Const:0' shape=() dtype=int32>, <tf.Tensor 'cond_8/Identity:0' shape=(None, 40) dtype=int32>, <tf.Tensor 'cond_8/Identity_1:0' shape=(None,) dtype=int64>]\n",
            "INFO:absl:TPU has inputs with dynamic shapes: [<tf.Tensor 'Const:0' shape=() dtype=int32>, <tf.Tensor 'cond_8/Identity:0' shape=(None, 40) dtype=int32>, <tf.Tensor 'cond_8/Identity_1:0' shape=(None,) dtype=int64>]\n"
          ],
          "name": "stderr"
        },
        {
          "output_type": "stream",
          "text": [
            "3/3 [==============================] - ETA: 0s - loss: 0.8094 - accuracy: 0.4669 "
          ],
          "name": "stdout"
        },
        {
          "output_type": "stream",
          "text": [
            "INFO:absl:TPU has inputs with dynamic shapes: [<tf.Tensor 'Const:0' shape=() dtype=int32>, <tf.Tensor 'cond_8/Identity:0' shape=(None, 40) dtype=int32>, <tf.Tensor 'cond_8/Identity_1:0' shape=(None,) dtype=int64>]\n"
          ],
          "name": "stderr"
        },
        {
          "output_type": "stream",
          "text": [
            "3/3 [==============================] - 22s 4s/step - loss: 0.8146 - accuracy: 0.4718 - val_loss: 0.6979 - val_accuracy: 0.5161\n",
            "Epoch 2/1000\n",
            "3/3 [==============================] - 1s 277ms/step - loss: 0.7138 - accuracy: 0.4923 - val_loss: 0.7119 - val_accuracy: 0.5161\n",
            "Epoch 3/1000\n",
            "3/3 [==============================] - 1s 283ms/step - loss: 0.6771 - accuracy: 0.5568 - val_loss: 0.7141 - val_accuracy: 0.4194\n",
            "Epoch 4/1000\n",
            "3/3 [==============================] - 1s 280ms/step - loss: 0.6414 - accuracy: 0.6071 - val_loss: 0.7384 - val_accuracy: 0.4301\n"
          ],
          "name": "stdout"
        },
        {
          "output_type": "stream",
          "text": [
            "/usr/local/lib/python3.7/dist-packages/keras/engine/sequential.py:450: UserWarning: `model.predict_classes()` is deprecated and will be removed after 2021-01-01. Please use instead:* `np.argmax(model.predict(x), axis=-1)`,   if your model does multi-class classification   (e.g. if it uses a `softmax` last-layer activation).* `(model.predict(x) > 0.5).astype(\"int32\")`,   if your model does binary classification   (e.g. if it uses a `sigmoid` last-layer activation).\n",
            "  warnings.warn('`model.predict_classes()` is deprecated and '\n",
            "INFO:absl:TPU has inputs with dynamic shapes: [<tf.Tensor 'Const:0' shape=() dtype=int32>, <tf.Tensor 'cond_8/Identity:0' shape=(None, 40) dtype=int32>]\n"
          ],
          "name": "stderr"
        },
        {
          "output_type": "stream",
          "text": [
            "Model: \"sequential_41\"\n",
            "_________________________________________________________________\n",
            "Layer (type)                 Output Shape              Param #   \n",
            "=================================================================\n",
            "embedding_41 (Embedding)     (None, 40, 50)            125000    \n",
            "_________________________________________________________________\n",
            "bidirectional_5 (Bidirection (None, 100)               40400     \n",
            "_________________________________________________________________\n",
            "dense_41 (Dense)             (None, 1)                 101       \n",
            "=================================================================\n",
            "Total params: 165,501\n",
            "Trainable params: 165,501\n",
            "Non-trainable params: 0\n",
            "_________________________________________________________________\n",
            "Model id: 2\n",
            "   type  ...                                       cleaned_text\n",
            "0  ISTJ  ...  newton universal gravity law mean seriously wo...\n",
            "1  ISTJ  ...  never understood long time people often told s...\n",
            "2  ISTJ  ...  expected try brown instead definitely prefer b...\n",
            "3  ISTJ  ...  cant see keep secret fact could gone either wa...\n",
            "\n",
            "[4 rows x 3 columns]\n",
            "Train shape: (372, 3)\n",
            "Validation shape: (93, 3)\n",
            "Categorial split:\n",
            "   type  ...                                       cleaned_text\n",
            "0     1  ...  newton universal gravity law mean seriously wo...\n",
            "1     1  ...  never understood long time people often told s...\n",
            "2     1  ...  expected try brown instead definitely prefer b...\n",
            "3     1  ...  cant see keep secret fact could gone either wa...\n",
            "\n",
            "[4 rows x 3 columns]\n",
            "Epoch 1/1000\n"
          ],
          "name": "stdout"
        },
        {
          "output_type": "stream",
          "text": [
            "INFO:absl:TPU has inputs with dynamic shapes: [<tf.Tensor 'Const:0' shape=() dtype=int32>, <tf.Tensor 'cond_8/Identity:0' shape=(None, 40) dtype=int32>, <tf.Tensor 'cond_8/Identity_1:0' shape=(None,) dtype=int64>]\n",
            "INFO:absl:TPU has inputs with dynamic shapes: [<tf.Tensor 'Const:0' shape=() dtype=int32>, <tf.Tensor 'cond_8/Identity:0' shape=(None, 40) dtype=int32>, <tf.Tensor 'cond_8/Identity_1:0' shape=(None,) dtype=int64>]\n"
          ],
          "name": "stderr"
        },
        {
          "output_type": "stream",
          "text": [
            "3/3 [==============================] - ETA: 0s - loss: 0.7522 - accuracy: 0.4757 "
          ],
          "name": "stdout"
        },
        {
          "output_type": "stream",
          "text": [
            "INFO:absl:TPU has inputs with dynamic shapes: [<tf.Tensor 'Const:0' shape=() dtype=int32>, <tf.Tensor 'cond_8/Identity:0' shape=(None, 40) dtype=int32>, <tf.Tensor 'cond_8/Identity_1:0' shape=(None,) dtype=int64>]\n"
          ],
          "name": "stderr"
        },
        {
          "output_type": "stream",
          "text": [
            "3/3 [==============================] - 24s 4s/step - loss: 0.7552 - accuracy: 0.4811 - val_loss: 0.6793 - val_accuracy: 0.6129\n",
            "Epoch 2/1000\n",
            "3/3 [==============================] - 1s 257ms/step - loss: 0.6967 - accuracy: 0.5023 - val_loss: 0.7390 - val_accuracy: 0.4086\n",
            "Epoch 3/1000\n",
            "3/3 [==============================] - 1s 270ms/step - loss: 0.6812 - accuracy: 0.5392 - val_loss: 0.6750 - val_accuracy: 0.6344\n",
            "Epoch 4/1000\n",
            "3/3 [==============================] - 1s 288ms/step - loss: 0.6397 - accuracy: 0.6266 - val_loss: 0.6768 - val_accuracy: 0.6022\n",
            "Epoch 5/1000\n",
            "3/3 [==============================] - 1s 299ms/step - loss: 0.6275 - accuracy: 0.6060 - val_loss: 0.6763 - val_accuracy: 0.6559\n",
            "Epoch 6/1000\n",
            "3/3 [==============================] - 1s 289ms/step - loss: 0.5866 - accuracy: 0.7101 - val_loss: 0.6935 - val_accuracy: 0.4839\n"
          ],
          "name": "stdout"
        },
        {
          "output_type": "stream",
          "text": [
            "/usr/local/lib/python3.7/dist-packages/keras/engine/sequential.py:450: UserWarning: `model.predict_classes()` is deprecated and will be removed after 2021-01-01. Please use instead:* `np.argmax(model.predict(x), axis=-1)`,   if your model does multi-class classification   (e.g. if it uses a `softmax` last-layer activation).* `(model.predict(x) > 0.5).astype(\"int32\")`,   if your model does binary classification   (e.g. if it uses a `sigmoid` last-layer activation).\n",
            "  warnings.warn('`model.predict_classes()` is deprecated and '\n",
            "INFO:absl:TPU has inputs with dynamic shapes: [<tf.Tensor 'Const:0' shape=() dtype=int32>, <tf.Tensor 'cond_8/Identity:0' shape=(None, 40) dtype=int32>]\n"
          ],
          "name": "stderr"
        },
        {
          "output_type": "stream",
          "text": [
            "Model: \"sequential_42\"\n",
            "_________________________________________________________________\n",
            "Layer (type)                 Output Shape              Param #   \n",
            "=================================================================\n",
            "embedding_42 (Embedding)     (None, 40, 50)            125000    \n",
            "_________________________________________________________________\n",
            "bidirectional_6 (Bidirection (None, 100)               40400     \n",
            "_________________________________________________________________\n",
            "dense_42 (Dense)             (None, 1)                 101       \n",
            "=================================================================\n",
            "Total params: 165,501\n",
            "Trainable params: 165,501\n",
            "Non-trainable params: 0\n",
            "_________________________________________________________________\n",
            "Model id: 3\n",
            "   type  ...                                       cleaned_text\n",
            "0  ISTJ  ...  newton universal gravity law mean seriously wo...\n",
            "1  ISTJ  ...  never understood long time people often told s...\n",
            "2  ISTJ  ...  expected try brown instead definitely prefer b...\n",
            "3  ISTJ  ...  cant see keep secret fact could gone either wa...\n",
            "\n",
            "[4 rows x 3 columns]\n",
            "Train shape: (372, 3)\n",
            "Validation shape: (93, 3)\n",
            "Categorial split:\n",
            "   type  ...                                       cleaned_text\n",
            "0     1  ...  newton universal gravity law mean seriously wo...\n",
            "1     1  ...  never understood long time people often told s...\n",
            "2     1  ...  expected try brown instead definitely prefer b...\n",
            "3     1  ...  cant see keep secret fact could gone either wa...\n",
            "\n",
            "[4 rows x 3 columns]\n",
            "Epoch 1/1000\n"
          ],
          "name": "stdout"
        },
        {
          "output_type": "stream",
          "text": [
            "INFO:absl:TPU has inputs with dynamic shapes: [<tf.Tensor 'Const:0' shape=() dtype=int32>, <tf.Tensor 'cond_8/Identity:0' shape=(None, 40) dtype=int32>, <tf.Tensor 'cond_8/Identity_1:0' shape=(None,) dtype=int64>]\n",
            "INFO:absl:TPU has inputs with dynamic shapes: [<tf.Tensor 'Const:0' shape=() dtype=int32>, <tf.Tensor 'cond_8/Identity:0' shape=(None, 40) dtype=int32>, <tf.Tensor 'cond_8/Identity_1:0' shape=(None,) dtype=int64>]\n"
          ],
          "name": "stderr"
        },
        {
          "output_type": "stream",
          "text": [
            "3/3 [==============================] - ETA: 0s - loss: 0.7421 - accuracy: 0.5215 "
          ],
          "name": "stdout"
        },
        {
          "output_type": "stream",
          "text": [
            "INFO:absl:TPU has inputs with dynamic shapes: [<tf.Tensor 'Const:0' shape=() dtype=int32>, <tf.Tensor 'cond_8/Identity:0' shape=(None, 40) dtype=int32>, <tf.Tensor 'cond_8/Identity_1:0' shape=(None,) dtype=int64>]\n"
          ],
          "name": "stderr"
        },
        {
          "output_type": "stream",
          "text": [
            "3/3 [==============================] - 24s 4s/step - loss: 0.7448 - accuracy: 0.5215 - val_loss: 0.7163 - val_accuracy: 0.5269\n",
            "Epoch 2/1000\n",
            "3/3 [==============================] - 1s 276ms/step - loss: 0.7246 - accuracy: 0.5168 - val_loss: 0.6977 - val_accuracy: 0.5269\n",
            "Epoch 3/1000\n",
            "3/3 [==============================] - 1s 269ms/step - loss: 0.6739 - accuracy: 0.5313 - val_loss: 0.7481 - val_accuracy: 0.4731\n",
            "Epoch 4/1000\n",
            "3/3 [==============================] - 1s 284ms/step - loss: 0.6664 - accuracy: 0.5210 - val_loss: 0.7336 - val_accuracy: 0.4516\n",
            "Epoch 5/1000\n",
            "3/3 [==============================] - 1s 284ms/step - loss: 0.6054 - accuracy: 0.6696 - val_loss: 0.7051 - val_accuracy: 0.5054\n"
          ],
          "name": "stdout"
        },
        {
          "output_type": "stream",
          "text": [
            "/usr/local/lib/python3.7/dist-packages/keras/engine/sequential.py:450: UserWarning: `model.predict_classes()` is deprecated and will be removed after 2021-01-01. Please use instead:* `np.argmax(model.predict(x), axis=-1)`,   if your model does multi-class classification   (e.g. if it uses a `softmax` last-layer activation).* `(model.predict(x) > 0.5).astype(\"int32\")`,   if your model does binary classification   (e.g. if it uses a `sigmoid` last-layer activation).\n",
            "  warnings.warn('`model.predict_classes()` is deprecated and '\n",
            "INFO:absl:TPU has inputs with dynamic shapes: [<tf.Tensor 'Const:0' shape=() dtype=int32>, <tf.Tensor 'cond_8/Identity:0' shape=(None, 40) dtype=int32>]\n"
          ],
          "name": "stderr"
        },
        {
          "output_type": "stream",
          "text": [
            "Model: \"sequential_43\"\n",
            "_________________________________________________________________\n",
            "Layer (type)                 Output Shape              Param #   \n",
            "=================================================================\n",
            "embedding_43 (Embedding)     (None, 40, 50)            125000    \n",
            "_________________________________________________________________\n",
            "bidirectional_7 (Bidirection (None, 100)               40400     \n",
            "_________________________________________________________________\n",
            "dense_43 (Dense)             (None, 1)                 101       \n",
            "=================================================================\n",
            "Total params: 165,501\n",
            "Trainable params: 165,501\n",
            "Non-trainable params: 0\n",
            "_________________________________________________________________\n",
            "Model id: 4\n",
            "   type  ...                                       cleaned_text\n",
            "0  ISTJ  ...  newton universal gravity law mean seriously wo...\n",
            "1  ISTJ  ...  never understood long time people often told s...\n",
            "2  ISTJ  ...  expected try brown instead definitely prefer b...\n",
            "3  ISTJ  ...  cant see keep secret fact could gone either wa...\n",
            "\n",
            "[4 rows x 3 columns]\n",
            "Train shape: (372, 3)\n",
            "Validation shape: (93, 3)\n",
            "Categorial split:\n",
            "   type  ...                                       cleaned_text\n",
            "0     0  ...  newton universal gravity law mean seriously wo...\n",
            "1     0  ...  never understood long time people often told s...\n",
            "2     0  ...  expected try brown instead definitely prefer b...\n",
            "3     0  ...  cant see keep secret fact could gone either wa...\n",
            "\n",
            "[4 rows x 3 columns]\n",
            "Epoch 1/1000\n"
          ],
          "name": "stdout"
        },
        {
          "output_type": "stream",
          "text": [
            "INFO:absl:TPU has inputs with dynamic shapes: [<tf.Tensor 'Const:0' shape=() dtype=int32>, <tf.Tensor 'cond_8/Identity:0' shape=(None, 40) dtype=int32>, <tf.Tensor 'cond_8/Identity_1:0' shape=(None,) dtype=int64>]\n",
            "INFO:absl:TPU has inputs with dynamic shapes: [<tf.Tensor 'Const:0' shape=() dtype=int32>, <tf.Tensor 'cond_8/Identity:0' shape=(None, 40) dtype=int32>, <tf.Tensor 'cond_8/Identity_1:0' shape=(None,) dtype=int64>]\n"
          ],
          "name": "stderr"
        },
        {
          "output_type": "stream",
          "text": [
            "3/3 [==============================] - ETA: 0s - loss: 0.7422 - accuracy: 0.5365 "
          ],
          "name": "stdout"
        },
        {
          "output_type": "stream",
          "text": [
            "INFO:absl:TPU has inputs with dynamic shapes: [<tf.Tensor 'Const:0' shape=() dtype=int32>, <tf.Tensor 'cond_8/Identity:0' shape=(None, 40) dtype=int32>, <tf.Tensor 'cond_8/Identity_1:0' shape=(None,) dtype=int64>]\n"
          ],
          "name": "stderr"
        },
        {
          "output_type": "stream",
          "text": [
            "3/3 [==============================] - 23s 4s/step - loss: 0.7428 - accuracy: 0.5381 - val_loss: 0.6396 - val_accuracy: 0.6667\n",
            "Epoch 2/1000\n",
            "3/3 [==============================] - 1s 285ms/step - loss: 0.6751 - accuracy: 0.5541 - val_loss: 0.7706 - val_accuracy: 0.3333\n",
            "Epoch 3/1000\n",
            "3/3 [==============================] - 1s 276ms/step - loss: 0.6904 - accuracy: 0.4795 - val_loss: 0.6987 - val_accuracy: 0.5376\n",
            "Epoch 4/1000\n",
            "3/3 [==============================] - 1s 291ms/step - loss: 0.6286 - accuracy: 0.7135 - val_loss: 0.6490 - val_accuracy: 0.6129\n"
          ],
          "name": "stdout"
        },
        {
          "output_type": "stream",
          "text": [
            "/usr/local/lib/python3.7/dist-packages/keras/engine/sequential.py:450: UserWarning: `model.predict_classes()` is deprecated and will be removed after 2021-01-01. Please use instead:* `np.argmax(model.predict(x), axis=-1)`,   if your model does multi-class classification   (e.g. if it uses a `softmax` last-layer activation).* `(model.predict(x) > 0.5).astype(\"int32\")`,   if your model does binary classification   (e.g. if it uses a `sigmoid` last-layer activation).\n",
            "  warnings.warn('`model.predict_classes()` is deprecated and '\n",
            "INFO:absl:TPU has inputs with dynamic shapes: [<tf.Tensor 'Const:0' shape=() dtype=int32>, <tf.Tensor 'cond_8/Identity:0' shape=(None, 40) dtype=int32>]\n"
          ],
          "name": "stderr"
        }
      ]
    },
    {
      "cell_type": "markdown",
      "metadata": {
        "id": "-pshISyHrzvv"
      },
      "source": [
        "#### Training using BID using learning rate 0.001\n",
        "\n"
      ]
    },
    {
      "cell_type": "code",
      "metadata": {
        "colab": {
          "base_uri": "https://localhost:8080/"
        },
        "id": "VmZlO1X7pLGm",
        "outputId": "660e3ea8-dd7a-4eff-f068-a119b7f43a59"
      },
      "source": [
        "model_names = [\"conf_mat_bid_001_IE\", \n",
        "               \"conf_mat_bid_001_NS\", \n",
        "               \"conf_mat_bid_001_FT\",\n",
        "               \"conf_mat_bid_001_PJ\"]\n",
        "if not os.path.exists(\"personality_analysis_results/bid\"): os.mkdir(\"personality_analysis_results/bid\")\n",
        "\n",
        "for i in range (4):\n",
        "  data = copy.deepcopy(DATA_IMMUTE)\n",
        "  run_model(i+1, \"bid\", model_names[i],LEARNING_RATE=0.001)"
      ],
      "execution_count": null,
      "outputs": [
        {
          "output_type": "stream",
          "text": [
            "Model: \"sequential_36\"\n",
            "_________________________________________________________________\n",
            "Layer (type)                 Output Shape              Param #   \n",
            "=================================================================\n",
            "embedding_36 (Embedding)     (None, 40, 50)            125000    \n",
            "_________________________________________________________________\n",
            "bidirectional (Bidirectional (None, 100)               40400     \n",
            "_________________________________________________________________\n",
            "dense_36 (Dense)             (None, 1)                 101       \n",
            "=================================================================\n",
            "Total params: 165,501\n",
            "Trainable params: 165,501\n",
            "Non-trainable params: 0\n",
            "_________________________________________________________________\n",
            "Model id: 1\n",
            "   type  ...                                       cleaned_text\n",
            "0  ISTJ  ...  newton universal gravity law mean seriously wo...\n",
            "1  ISTJ  ...  never understood long time people often told s...\n",
            "2  ISTJ  ...  expected try brown instead definitely prefer b...\n",
            "3  ISTJ  ...  cant see keep secret fact could gone either wa...\n",
            "\n",
            "[4 rows x 3 columns]\n",
            "Train shape: (372, 3)\n",
            "Validation shape: (93, 3)\n",
            "Categorial split:\n",
            "   type  ...                                       cleaned_text\n",
            "0     1  ...  newton universal gravity law mean seriously wo...\n",
            "1     1  ...  never understood long time people often told s...\n",
            "2     1  ...  expected try brown instead definitely prefer b...\n",
            "3     1  ...  cant see keep secret fact could gone either wa...\n",
            "\n",
            "[4 rows x 3 columns]\n",
            "Epoch 1/1000\n"
          ],
          "name": "stdout"
        },
        {
          "output_type": "stream",
          "text": [
            "INFO:absl:TPU has inputs with dynamic shapes: [<tf.Tensor 'Const:0' shape=() dtype=int32>, <tf.Tensor 'cond_8/Identity:0' shape=(None, 40) dtype=int32>, <tf.Tensor 'cond_8/Identity_1:0' shape=(None,) dtype=int64>]\n",
            "INFO:absl:TPU has inputs with dynamic shapes: [<tf.Tensor 'Const:0' shape=() dtype=int32>, <tf.Tensor 'cond_8/Identity:0' shape=(None, 40) dtype=int32>, <tf.Tensor 'cond_8/Identity_1:0' shape=(None,) dtype=int64>]\n"
          ],
          "name": "stderr"
        },
        {
          "output_type": "stream",
          "text": [
            "3/3 [==============================] - ETA: 0s - loss: 0.6931 - accuracy: 0.5127 "
          ],
          "name": "stdout"
        },
        {
          "output_type": "stream",
          "text": [
            "INFO:absl:TPU has inputs with dynamic shapes: [<tf.Tensor 'Const:0' shape=() dtype=int32>, <tf.Tensor 'cond_8/Identity:0' shape=(None, 40) dtype=int32>, <tf.Tensor 'cond_8/Identity_1:0' shape=(None,) dtype=int64>]\n"
          ],
          "name": "stderr"
        },
        {
          "output_type": "stream",
          "text": [
            "3/3 [==============================] - 24s 4s/step - loss: 0.6937 - accuracy: 0.5122 - val_loss: 0.7004 - val_accuracy: 0.4839\n",
            "Epoch 2/1000\n",
            "3/3 [==============================] - 1s 267ms/step - loss: 0.6930 - accuracy: 0.5082 - val_loss: 0.6940 - val_accuracy: 0.4946\n",
            "Epoch 3/1000\n",
            "3/3 [==============================] - 1s 276ms/step - loss: 0.6877 - accuracy: 0.6475 - val_loss: 0.6945 - val_accuracy: 0.5054\n",
            "Epoch 4/1000\n",
            "3/3 [==============================] - 1s 275ms/step - loss: 0.6850 - accuracy: 0.6004 - val_loss: 0.6970 - val_accuracy: 0.4624\n",
            "Epoch 5/1000\n",
            "3/3 [==============================] - 1s 283ms/step - loss: 0.6810 - accuracy: 0.5652 - val_loss: 0.6982 - val_accuracy: 0.4409\n"
          ],
          "name": "stdout"
        },
        {
          "output_type": "stream",
          "text": [
            "/usr/local/lib/python3.7/dist-packages/keras/engine/sequential.py:450: UserWarning: `model.predict_classes()` is deprecated and will be removed after 2021-01-01. Please use instead:* `np.argmax(model.predict(x), axis=-1)`,   if your model does multi-class classification   (e.g. if it uses a `softmax` last-layer activation).* `(model.predict(x) > 0.5).astype(\"int32\")`,   if your model does binary classification   (e.g. if it uses a `sigmoid` last-layer activation).\n",
            "  warnings.warn('`model.predict_classes()` is deprecated and '\n",
            "INFO:absl:TPU has inputs with dynamic shapes: [<tf.Tensor 'Const:0' shape=() dtype=int32>, <tf.Tensor 'cond_8/Identity:0' shape=(None, 40) dtype=int32>]\n"
          ],
          "name": "stderr"
        },
        {
          "output_type": "stream",
          "text": [
            "Model: \"sequential_37\"\n",
            "_________________________________________________________________\n",
            "Layer (type)                 Output Shape              Param #   \n",
            "=================================================================\n",
            "embedding_37 (Embedding)     (None, 40, 50)            125000    \n",
            "_________________________________________________________________\n",
            "bidirectional_1 (Bidirection (None, 100)               40400     \n",
            "_________________________________________________________________\n",
            "dense_37 (Dense)             (None, 1)                 101       \n",
            "=================================================================\n",
            "Total params: 165,501\n",
            "Trainable params: 165,501\n",
            "Non-trainable params: 0\n",
            "_________________________________________________________________\n",
            "Model id: 2\n",
            "   type  ...                                       cleaned_text\n",
            "0  ISTJ  ...  newton universal gravity law mean seriously wo...\n",
            "1  ISTJ  ...  never understood long time people often told s...\n",
            "2  ISTJ  ...  expected try brown instead definitely prefer b...\n",
            "3  ISTJ  ...  cant see keep secret fact could gone either wa...\n",
            "\n",
            "[4 rows x 3 columns]\n",
            "Train shape: (372, 3)\n",
            "Validation shape: (93, 3)\n",
            "Categorial split:\n",
            "   type  ...                                       cleaned_text\n",
            "0     1  ...  newton universal gravity law mean seriously wo...\n",
            "1     1  ...  never understood long time people often told s...\n",
            "2     1  ...  expected try brown instead definitely prefer b...\n",
            "3     1  ...  cant see keep secret fact could gone either wa...\n",
            "\n",
            "[4 rows x 3 columns]\n",
            "Epoch 1/1000\n"
          ],
          "name": "stdout"
        },
        {
          "output_type": "stream",
          "text": [
            "INFO:absl:TPU has inputs with dynamic shapes: [<tf.Tensor 'Const:0' shape=() dtype=int32>, <tf.Tensor 'cond_8/Identity:0' shape=(None, 40) dtype=int32>, <tf.Tensor 'cond_8/Identity_1:0' shape=(None,) dtype=int64>]\n",
            "INFO:absl:TPU has inputs with dynamic shapes: [<tf.Tensor 'Const:0' shape=() dtype=int32>, <tf.Tensor 'cond_8/Identity:0' shape=(None, 40) dtype=int32>, <tf.Tensor 'cond_8/Identity_1:0' shape=(None,) dtype=int64>]\n"
          ],
          "name": "stderr"
        },
        {
          "output_type": "stream",
          "text": [
            "3/3 [==============================] - ETA: 0s - loss: 0.6919 - accuracy: 0.5382 "
          ],
          "name": "stdout"
        },
        {
          "output_type": "stream",
          "text": [
            "INFO:absl:TPU has inputs with dynamic shapes: [<tf.Tensor 'Const:0' shape=() dtype=int32>, <tf.Tensor 'cond_8/Identity:0' shape=(None, 40) dtype=int32>, <tf.Tensor 'cond_8/Identity_1:0' shape=(None,) dtype=int64>]\n"
          ],
          "name": "stderr"
        },
        {
          "output_type": "stream",
          "text": [
            "3/3 [==============================] - 23s 4s/step - loss: 0.6921 - accuracy: 0.5387 - val_loss: 0.6842 - val_accuracy: 0.5914\n",
            "Epoch 2/1000\n",
            "3/3 [==============================] - 1s 271ms/step - loss: 0.6876 - accuracy: 0.5456 - val_loss: 0.6829 - val_accuracy: 0.5914\n",
            "Epoch 3/1000\n",
            "3/3 [==============================] - 1s 282ms/step - loss: 0.6870 - accuracy: 0.5319 - val_loss: 0.6819 - val_accuracy: 0.5914\n",
            "Epoch 4/1000\n",
            "3/3 [==============================] - 1s 268ms/step - loss: 0.6855 - accuracy: 0.5237 - val_loss: 0.6811 - val_accuracy: 0.5914\n",
            "Epoch 5/1000\n",
            "3/3 [==============================] - 1s 272ms/step - loss: 0.6775 - accuracy: 0.5658 - val_loss: 0.6786 - val_accuracy: 0.5914\n",
            "Epoch 6/1000\n",
            "3/3 [==============================] - 1s 271ms/step - loss: 0.6859 - accuracy: 0.5150 - val_loss: 0.6809 - val_accuracy: 0.5914\n",
            "Epoch 7/1000\n",
            "3/3 [==============================] - 1s 269ms/step - loss: 0.6745 - accuracy: 0.5667 - val_loss: 0.6807 - val_accuracy: 0.5914\n",
            "Epoch 8/1000\n",
            "3/3 [==============================] - 1s 273ms/step - loss: 0.6729 - accuracy: 0.5735 - val_loss: 0.6809 - val_accuracy: 0.6022\n"
          ],
          "name": "stdout"
        },
        {
          "output_type": "stream",
          "text": [
            "/usr/local/lib/python3.7/dist-packages/keras/engine/sequential.py:450: UserWarning: `model.predict_classes()` is deprecated and will be removed after 2021-01-01. Please use instead:* `np.argmax(model.predict(x), axis=-1)`,   if your model does multi-class classification   (e.g. if it uses a `softmax` last-layer activation).* `(model.predict(x) > 0.5).astype(\"int32\")`,   if your model does binary classification   (e.g. if it uses a `sigmoid` last-layer activation).\n",
            "  warnings.warn('`model.predict_classes()` is deprecated and '\n",
            "INFO:absl:TPU has inputs with dynamic shapes: [<tf.Tensor 'Const:0' shape=() dtype=int32>, <tf.Tensor 'cond_8/Identity:0' shape=(None, 40) dtype=int32>]\n"
          ],
          "name": "stderr"
        },
        {
          "output_type": "stream",
          "text": [
            "Model: \"sequential_38\"\n",
            "_________________________________________________________________\n",
            "Layer (type)                 Output Shape              Param #   \n",
            "=================================================================\n",
            "embedding_38 (Embedding)     (None, 40, 50)            125000    \n",
            "_________________________________________________________________\n",
            "bidirectional_2 (Bidirection (None, 100)               40400     \n",
            "_________________________________________________________________\n",
            "dense_38 (Dense)             (None, 1)                 101       \n",
            "=================================================================\n",
            "Total params: 165,501\n",
            "Trainable params: 165,501\n",
            "Non-trainable params: 0\n",
            "_________________________________________________________________\n",
            "Model id: 3\n",
            "   type  ...                                       cleaned_text\n",
            "0  ISTJ  ...  newton universal gravity law mean seriously wo...\n",
            "1  ISTJ  ...  never understood long time people often told s...\n",
            "2  ISTJ  ...  expected try brown instead definitely prefer b...\n",
            "3  ISTJ  ...  cant see keep secret fact could gone either wa...\n",
            "\n",
            "[4 rows x 3 columns]\n",
            "Train shape: (372, 3)\n",
            "Validation shape: (93, 3)\n",
            "Categorial split:\n",
            "   type  ...                                       cleaned_text\n",
            "0     1  ...  newton universal gravity law mean seriously wo...\n",
            "1     1  ...  never understood long time people often told s...\n",
            "2     1  ...  expected try brown instead definitely prefer b...\n",
            "3     1  ...  cant see keep secret fact could gone either wa...\n",
            "\n",
            "[4 rows x 3 columns]\n",
            "Epoch 1/1000\n"
          ],
          "name": "stdout"
        },
        {
          "output_type": "stream",
          "text": [
            "INFO:absl:TPU has inputs with dynamic shapes: [<tf.Tensor 'Const:0' shape=() dtype=int32>, <tf.Tensor 'cond_8/Identity:0' shape=(None, 40) dtype=int32>, <tf.Tensor 'cond_8/Identity_1:0' shape=(None,) dtype=int64>]\n",
            "INFO:absl:TPU has inputs with dynamic shapes: [<tf.Tensor 'Const:0' shape=() dtype=int32>, <tf.Tensor 'cond_8/Identity:0' shape=(None, 40) dtype=int32>, <tf.Tensor 'cond_8/Identity_1:0' shape=(None,) dtype=int64>]\n"
          ],
          "name": "stderr"
        },
        {
          "output_type": "stream",
          "text": [
            "3/3 [==============================] - ETA: 0s - loss: 0.6987 - accuracy: 0.4781 "
          ],
          "name": "stdout"
        },
        {
          "output_type": "stream",
          "text": [
            "INFO:absl:TPU has inputs with dynamic shapes: [<tf.Tensor 'Const:0' shape=() dtype=int32>, <tf.Tensor 'cond_8/Identity:0' shape=(None, 40) dtype=int32>, <tf.Tensor 'cond_8/Identity_1:0' shape=(None,) dtype=int64>]\n"
          ],
          "name": "stderr"
        },
        {
          "output_type": "stream",
          "text": [
            "3/3 [==============================] - 23s 4s/step - loss: 0.6983 - accuracy: 0.4789 - val_loss: 0.6925 - val_accuracy: 0.5269\n",
            "Epoch 2/1000\n",
            "3/3 [==============================] - 1s 283ms/step - loss: 0.6903 - accuracy: 0.5156 - val_loss: 0.6939 - val_accuracy: 0.4731\n",
            "Epoch 3/1000\n",
            "3/3 [==============================] - 1s 280ms/step - loss: 0.6899 - accuracy: 0.5078 - val_loss: 0.6968 - val_accuracy: 0.4839\n",
            "Epoch 4/1000\n",
            "3/3 [==============================] - 1s 292ms/step - loss: 0.6860 - accuracy: 0.5473 - val_loss: 0.6965 - val_accuracy: 0.4624\n"
          ],
          "name": "stdout"
        },
        {
          "output_type": "stream",
          "text": [
            "/usr/local/lib/python3.7/dist-packages/keras/engine/sequential.py:450: UserWarning: `model.predict_classes()` is deprecated and will be removed after 2021-01-01. Please use instead:* `np.argmax(model.predict(x), axis=-1)`,   if your model does multi-class classification   (e.g. if it uses a `softmax` last-layer activation).* `(model.predict(x) > 0.5).astype(\"int32\")`,   if your model does binary classification   (e.g. if it uses a `sigmoid` last-layer activation).\n",
            "  warnings.warn('`model.predict_classes()` is deprecated and '\n",
            "INFO:absl:TPU has inputs with dynamic shapes: [<tf.Tensor 'Const:0' shape=() dtype=int32>, <tf.Tensor 'cond_8/Identity:0' shape=(None, 40) dtype=int32>]\n"
          ],
          "name": "stderr"
        },
        {
          "output_type": "stream",
          "text": [
            "Model: \"sequential_39\"\n",
            "_________________________________________________________________\n",
            "Layer (type)                 Output Shape              Param #   \n",
            "=================================================================\n",
            "embedding_39 (Embedding)     (None, 40, 50)            125000    \n",
            "_________________________________________________________________\n",
            "bidirectional_3 (Bidirection (None, 100)               40400     \n",
            "_________________________________________________________________\n",
            "dense_39 (Dense)             (None, 1)                 101       \n",
            "=================================================================\n",
            "Total params: 165,501\n",
            "Trainable params: 165,501\n",
            "Non-trainable params: 0\n",
            "_________________________________________________________________\n",
            "Model id: 4\n",
            "   type  ...                                       cleaned_text\n",
            "0  ISTJ  ...  newton universal gravity law mean seriously wo...\n",
            "1  ISTJ  ...  never understood long time people often told s...\n",
            "2  ISTJ  ...  expected try brown instead definitely prefer b...\n",
            "3  ISTJ  ...  cant see keep secret fact could gone either wa...\n",
            "\n",
            "[4 rows x 3 columns]\n",
            "Train shape: (372, 3)\n",
            "Validation shape: (93, 3)\n",
            "Categorial split:\n",
            "   type  ...                                       cleaned_text\n",
            "0     0  ...  newton universal gravity law mean seriously wo...\n",
            "1     0  ...  never understood long time people often told s...\n",
            "2     0  ...  expected try brown instead definitely prefer b...\n",
            "3     0  ...  cant see keep secret fact could gone either wa...\n",
            "\n",
            "[4 rows x 3 columns]\n",
            "Epoch 1/1000\n"
          ],
          "name": "stdout"
        },
        {
          "output_type": "stream",
          "text": [
            "INFO:absl:TPU has inputs with dynamic shapes: [<tf.Tensor 'Const:0' shape=() dtype=int32>, <tf.Tensor 'cond_8/Identity:0' shape=(None, 40) dtype=int32>, <tf.Tensor 'cond_8/Identity_1:0' shape=(None,) dtype=int64>]\n",
            "INFO:absl:TPU has inputs with dynamic shapes: [<tf.Tensor 'Const:0' shape=() dtype=int32>, <tf.Tensor 'cond_8/Identity:0' shape=(None, 40) dtype=int32>, <tf.Tensor 'cond_8/Identity_1:0' shape=(None,) dtype=int64>]\n"
          ],
          "name": "stderr"
        },
        {
          "output_type": "stream",
          "text": [
            "3/3 [==============================] - ETA: 0s - loss: 0.7222 - accuracy: 0.5524 "
          ],
          "name": "stdout"
        },
        {
          "output_type": "stream",
          "text": [
            "INFO:absl:TPU has inputs with dynamic shapes: [<tf.Tensor 'Const:0' shape=() dtype=int32>, <tf.Tensor 'cond_8/Identity:0' shape=(None, 40) dtype=int32>, <tf.Tensor 'cond_8/Identity_1:0' shape=(None,) dtype=int64>]\n"
          ],
          "name": "stderr"
        },
        {
          "output_type": "stream",
          "text": [
            "3/3 [==============================] - 23s 4s/step - loss: 0.7232 - accuracy: 0.5474 - val_loss: 0.6480 - val_accuracy: 0.6667\n",
            "Epoch 2/1000\n",
            "3/3 [==============================] - 1s 272ms/step - loss: 0.6966 - accuracy: 0.5275 - val_loss: 0.6902 - val_accuracy: 0.4839\n",
            "Epoch 3/1000\n",
            "3/3 [==============================] - 1s 259ms/step - loss: 0.6895 - accuracy: 0.5563 - val_loss: 0.7128 - val_accuracy: 0.4086\n",
            "Epoch 4/1000\n",
            "3/3 [==============================] - 1s 264ms/step - loss: 0.6956 - accuracy: 0.4980 - val_loss: 0.7061 - val_accuracy: 0.3763\n"
          ],
          "name": "stdout"
        },
        {
          "output_type": "stream",
          "text": [
            "/usr/local/lib/python3.7/dist-packages/keras/engine/sequential.py:450: UserWarning: `model.predict_classes()` is deprecated and will be removed after 2021-01-01. Please use instead:* `np.argmax(model.predict(x), axis=-1)`,   if your model does multi-class classification   (e.g. if it uses a `softmax` last-layer activation).* `(model.predict(x) > 0.5).astype(\"int32\")`,   if your model does binary classification   (e.g. if it uses a `sigmoid` last-layer activation).\n",
            "  warnings.warn('`model.predict_classes()` is deprecated and '\n",
            "INFO:absl:TPU has inputs with dynamic shapes: [<tf.Tensor 'Const:0' shape=() dtype=int32>, <tf.Tensor 'cond_8/Identity:0' shape=(None, 40) dtype=int32>]\n"
          ],
          "name": "stderr"
        }
      ]
    },
    {
      "cell_type": "code",
      "metadata": {
        "id": "0XiPrhvHqc9m"
      },
      "source": [
        ""
      ],
      "execution_count": null,
      "outputs": []
    },
    {
      "cell_type": "code",
      "metadata": {
        "id": "wo11CEogwbSE"
      },
      "source": [
        ""
      ],
      "execution_count": null,
      "outputs": []
    }
  ]
}