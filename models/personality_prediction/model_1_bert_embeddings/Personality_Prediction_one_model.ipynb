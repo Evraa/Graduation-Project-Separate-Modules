{
  "nbformat": 4,
  "nbformat_minor": 0,
  "metadata": {
    "kernelspec": {
      "display_name": "Python 3",
      "language": "python",
      "name": "python3"
    },
    "language_info": {
      "codemirror_mode": {
        "name": "ipython",
        "version": 3
      },
      "file_extension": ".py",
      "mimetype": "text/x-python",
      "name": "python",
      "nbconvert_exporter": "python",
      "pygments_lexer": "ipython3",
      "version": "3.7.6"
    },
    "colab": {
      "name": "Personality_Prediction_one_model.ipynb",
      "provenance": [],
      "collapsed_sections": []
    },
    "widgets": {
      "application/vnd.jupyter.widget-state+json": {
        "d5e2621582c7401cbea057b909c1fd8e": {
          "model_module": "@jupyter-widgets/controls",
          "model_name": "HBoxModel",
          "state": {
            "_view_name": "HBoxView",
            "_dom_classes": [],
            "_model_name": "HBoxModel",
            "_view_module": "@jupyter-widgets/controls",
            "_model_module_version": "1.5.0",
            "_view_count": null,
            "_view_module_version": "1.5.0",
            "box_style": "",
            "layout": "IPY_MODEL_babdb415c14b4baaa114786d2937ad29",
            "_model_module": "@jupyter-widgets/controls",
            "children": [
              "IPY_MODEL_4b493e1fc2d64d8d8af2d9bf73842f95",
              "IPY_MODEL_a1f63a4d47354f749b524bd73332f316"
            ]
          }
        },
        "babdb415c14b4baaa114786d2937ad29": {
          "model_module": "@jupyter-widgets/base",
          "model_name": "LayoutModel",
          "state": {
            "_view_name": "LayoutView",
            "grid_template_rows": null,
            "right": null,
            "justify_content": null,
            "_view_module": "@jupyter-widgets/base",
            "overflow": null,
            "_model_module_version": "1.2.0",
            "_view_count": null,
            "flex_flow": null,
            "width": null,
            "min_width": null,
            "border": null,
            "align_items": null,
            "bottom": null,
            "_model_module": "@jupyter-widgets/base",
            "top": null,
            "grid_column": null,
            "overflow_y": null,
            "overflow_x": null,
            "grid_auto_flow": null,
            "grid_area": null,
            "grid_template_columns": null,
            "flex": null,
            "_model_name": "LayoutModel",
            "justify_items": null,
            "grid_row": null,
            "max_height": null,
            "align_content": null,
            "visibility": null,
            "align_self": null,
            "height": null,
            "min_height": null,
            "padding": null,
            "grid_auto_rows": null,
            "grid_gap": null,
            "max_width": null,
            "order": null,
            "_view_module_version": "1.2.0",
            "grid_template_areas": null,
            "object_position": null,
            "object_fit": null,
            "grid_auto_columns": null,
            "margin": null,
            "display": null,
            "left": null
          }
        },
        "4b493e1fc2d64d8d8af2d9bf73842f95": {
          "model_module": "@jupyter-widgets/controls",
          "model_name": "FloatProgressModel",
          "state": {
            "_view_name": "ProgressView",
            "style": "IPY_MODEL_7743bab3eb1c46a4a2db1899ebdb0e71",
            "_dom_classes": [],
            "description": "Downloading: 100%",
            "_model_name": "FloatProgressModel",
            "bar_style": "success",
            "max": 28,
            "_view_module": "@jupyter-widgets/controls",
            "_model_module_version": "1.5.0",
            "value": 28,
            "_view_count": null,
            "_view_module_version": "1.5.0",
            "orientation": "horizontal",
            "min": 0,
            "description_tooltip": null,
            "_model_module": "@jupyter-widgets/controls",
            "layout": "IPY_MODEL_11377c2b9a1445c0ac6717fa0ea54dab"
          }
        },
        "a1f63a4d47354f749b524bd73332f316": {
          "model_module": "@jupyter-widgets/controls",
          "model_name": "HTMLModel",
          "state": {
            "_view_name": "HTMLView",
            "style": "IPY_MODEL_1be579392c0543baa4910f353a344608",
            "_dom_classes": [],
            "description": "",
            "_model_name": "HTMLModel",
            "placeholder": "​",
            "_view_module": "@jupyter-widgets/controls",
            "_model_module_version": "1.5.0",
            "value": " 28.0/28.0 [00:08&lt;00:00, 3.28B/s]",
            "_view_count": null,
            "_view_module_version": "1.5.0",
            "description_tooltip": null,
            "_model_module": "@jupyter-widgets/controls",
            "layout": "IPY_MODEL_db4d97bd365949b49a6fae7b9ff3b5a3"
          }
        },
        "7743bab3eb1c46a4a2db1899ebdb0e71": {
          "model_module": "@jupyter-widgets/controls",
          "model_name": "ProgressStyleModel",
          "state": {
            "_view_name": "StyleView",
            "_model_name": "ProgressStyleModel",
            "description_width": "initial",
            "_view_module": "@jupyter-widgets/base",
            "_model_module_version": "1.5.0",
            "_view_count": null,
            "_view_module_version": "1.2.0",
            "bar_color": null,
            "_model_module": "@jupyter-widgets/controls"
          }
        },
        "11377c2b9a1445c0ac6717fa0ea54dab": {
          "model_module": "@jupyter-widgets/base",
          "model_name": "LayoutModel",
          "state": {
            "_view_name": "LayoutView",
            "grid_template_rows": null,
            "right": null,
            "justify_content": null,
            "_view_module": "@jupyter-widgets/base",
            "overflow": null,
            "_model_module_version": "1.2.0",
            "_view_count": null,
            "flex_flow": null,
            "width": null,
            "min_width": null,
            "border": null,
            "align_items": null,
            "bottom": null,
            "_model_module": "@jupyter-widgets/base",
            "top": null,
            "grid_column": null,
            "overflow_y": null,
            "overflow_x": null,
            "grid_auto_flow": null,
            "grid_area": null,
            "grid_template_columns": null,
            "flex": null,
            "_model_name": "LayoutModel",
            "justify_items": null,
            "grid_row": null,
            "max_height": null,
            "align_content": null,
            "visibility": null,
            "align_self": null,
            "height": null,
            "min_height": null,
            "padding": null,
            "grid_auto_rows": null,
            "grid_gap": null,
            "max_width": null,
            "order": null,
            "_view_module_version": "1.2.0",
            "grid_template_areas": null,
            "object_position": null,
            "object_fit": null,
            "grid_auto_columns": null,
            "margin": null,
            "display": null,
            "left": null
          }
        },
        "1be579392c0543baa4910f353a344608": {
          "model_module": "@jupyter-widgets/controls",
          "model_name": "DescriptionStyleModel",
          "state": {
            "_view_name": "StyleView",
            "_model_name": "DescriptionStyleModel",
            "description_width": "",
            "_view_module": "@jupyter-widgets/base",
            "_model_module_version": "1.5.0",
            "_view_count": null,
            "_view_module_version": "1.2.0",
            "_model_module": "@jupyter-widgets/controls"
          }
        },
        "db4d97bd365949b49a6fae7b9ff3b5a3": {
          "model_module": "@jupyter-widgets/base",
          "model_name": "LayoutModel",
          "state": {
            "_view_name": "LayoutView",
            "grid_template_rows": null,
            "right": null,
            "justify_content": null,
            "_view_module": "@jupyter-widgets/base",
            "overflow": null,
            "_model_module_version": "1.2.0",
            "_view_count": null,
            "flex_flow": null,
            "width": null,
            "min_width": null,
            "border": null,
            "align_items": null,
            "bottom": null,
            "_model_module": "@jupyter-widgets/base",
            "top": null,
            "grid_column": null,
            "overflow_y": null,
            "overflow_x": null,
            "grid_auto_flow": null,
            "grid_area": null,
            "grid_template_columns": null,
            "flex": null,
            "_model_name": "LayoutModel",
            "justify_items": null,
            "grid_row": null,
            "max_height": null,
            "align_content": null,
            "visibility": null,
            "align_self": null,
            "height": null,
            "min_height": null,
            "padding": null,
            "grid_auto_rows": null,
            "grid_gap": null,
            "max_width": null,
            "order": null,
            "_view_module_version": "1.2.0",
            "grid_template_areas": null,
            "object_position": null,
            "object_fit": null,
            "grid_auto_columns": null,
            "margin": null,
            "display": null,
            "left": null
          }
        },
        "c5b4228a3b7f4bbeab083f162dd0a427": {
          "model_module": "@jupyter-widgets/controls",
          "model_name": "HBoxModel",
          "state": {
            "_view_name": "HBoxView",
            "_dom_classes": [],
            "_model_name": "HBoxModel",
            "_view_module": "@jupyter-widgets/controls",
            "_model_module_version": "1.5.0",
            "_view_count": null,
            "_view_module_version": "1.5.0",
            "box_style": "",
            "layout": "IPY_MODEL_ea00c00454eb4f14a51c018dc78779a6",
            "_model_module": "@jupyter-widgets/controls",
            "children": [
              "IPY_MODEL_974feb846006471bb3b8b3ee673b7e0f",
              "IPY_MODEL_e5b81782cab9442cabe587a5b24b3397"
            ]
          }
        },
        "ea00c00454eb4f14a51c018dc78779a6": {
          "model_module": "@jupyter-widgets/base",
          "model_name": "LayoutModel",
          "state": {
            "_view_name": "LayoutView",
            "grid_template_rows": null,
            "right": null,
            "justify_content": null,
            "_view_module": "@jupyter-widgets/base",
            "overflow": null,
            "_model_module_version": "1.2.0",
            "_view_count": null,
            "flex_flow": null,
            "width": null,
            "min_width": null,
            "border": null,
            "align_items": null,
            "bottom": null,
            "_model_module": "@jupyter-widgets/base",
            "top": null,
            "grid_column": null,
            "overflow_y": null,
            "overflow_x": null,
            "grid_auto_flow": null,
            "grid_area": null,
            "grid_template_columns": null,
            "flex": null,
            "_model_name": "LayoutModel",
            "justify_items": null,
            "grid_row": null,
            "max_height": null,
            "align_content": null,
            "visibility": null,
            "align_self": null,
            "height": null,
            "min_height": null,
            "padding": null,
            "grid_auto_rows": null,
            "grid_gap": null,
            "max_width": null,
            "order": null,
            "_view_module_version": "1.2.0",
            "grid_template_areas": null,
            "object_position": null,
            "object_fit": null,
            "grid_auto_columns": null,
            "margin": null,
            "display": null,
            "left": null
          }
        },
        "974feb846006471bb3b8b3ee673b7e0f": {
          "model_module": "@jupyter-widgets/controls",
          "model_name": "FloatProgressModel",
          "state": {
            "_view_name": "ProgressView",
            "style": "IPY_MODEL_8184464ffaf04ad8a353e4d80228280b",
            "_dom_classes": [],
            "description": "Downloading: 100%",
            "_model_name": "FloatProgressModel",
            "bar_style": "success",
            "max": 570,
            "_view_module": "@jupyter-widgets/controls",
            "_model_module_version": "1.5.0",
            "value": 570,
            "_view_count": null,
            "_view_module_version": "1.5.0",
            "orientation": "horizontal",
            "min": 0,
            "description_tooltip": null,
            "_model_module": "@jupyter-widgets/controls",
            "layout": "IPY_MODEL_241f535a976e40b79ea35574da0c83b0"
          }
        },
        "e5b81782cab9442cabe587a5b24b3397": {
          "model_module": "@jupyter-widgets/controls",
          "model_name": "HTMLModel",
          "state": {
            "_view_name": "HTMLView",
            "style": "IPY_MODEL_92d693fa21cd42ecb4d43ce0b32552e2",
            "_dom_classes": [],
            "description": "",
            "_model_name": "HTMLModel",
            "placeholder": "​",
            "_view_module": "@jupyter-widgets/controls",
            "_model_module_version": "1.5.0",
            "value": " 570/570 [00:08&lt;00:00, 70.3B/s]",
            "_view_count": null,
            "_view_module_version": "1.5.0",
            "description_tooltip": null,
            "_model_module": "@jupyter-widgets/controls",
            "layout": "IPY_MODEL_da8c9ea6736c459b8863285a87f0f5a7"
          }
        },
        "8184464ffaf04ad8a353e4d80228280b": {
          "model_module": "@jupyter-widgets/controls",
          "model_name": "ProgressStyleModel",
          "state": {
            "_view_name": "StyleView",
            "_model_name": "ProgressStyleModel",
            "description_width": "initial",
            "_view_module": "@jupyter-widgets/base",
            "_model_module_version": "1.5.0",
            "_view_count": null,
            "_view_module_version": "1.2.0",
            "bar_color": null,
            "_model_module": "@jupyter-widgets/controls"
          }
        },
        "241f535a976e40b79ea35574da0c83b0": {
          "model_module": "@jupyter-widgets/base",
          "model_name": "LayoutModel",
          "state": {
            "_view_name": "LayoutView",
            "grid_template_rows": null,
            "right": null,
            "justify_content": null,
            "_view_module": "@jupyter-widgets/base",
            "overflow": null,
            "_model_module_version": "1.2.0",
            "_view_count": null,
            "flex_flow": null,
            "width": null,
            "min_width": null,
            "border": null,
            "align_items": null,
            "bottom": null,
            "_model_module": "@jupyter-widgets/base",
            "top": null,
            "grid_column": null,
            "overflow_y": null,
            "overflow_x": null,
            "grid_auto_flow": null,
            "grid_area": null,
            "grid_template_columns": null,
            "flex": null,
            "_model_name": "LayoutModel",
            "justify_items": null,
            "grid_row": null,
            "max_height": null,
            "align_content": null,
            "visibility": null,
            "align_self": null,
            "height": null,
            "min_height": null,
            "padding": null,
            "grid_auto_rows": null,
            "grid_gap": null,
            "max_width": null,
            "order": null,
            "_view_module_version": "1.2.0",
            "grid_template_areas": null,
            "object_position": null,
            "object_fit": null,
            "grid_auto_columns": null,
            "margin": null,
            "display": null,
            "left": null
          }
        },
        "92d693fa21cd42ecb4d43ce0b32552e2": {
          "model_module": "@jupyter-widgets/controls",
          "model_name": "DescriptionStyleModel",
          "state": {
            "_view_name": "StyleView",
            "_model_name": "DescriptionStyleModel",
            "description_width": "",
            "_view_module": "@jupyter-widgets/base",
            "_model_module_version": "1.5.0",
            "_view_count": null,
            "_view_module_version": "1.2.0",
            "_model_module": "@jupyter-widgets/controls"
          }
        },
        "da8c9ea6736c459b8863285a87f0f5a7": {
          "model_module": "@jupyter-widgets/base",
          "model_name": "LayoutModel",
          "state": {
            "_view_name": "LayoutView",
            "grid_template_rows": null,
            "right": null,
            "justify_content": null,
            "_view_module": "@jupyter-widgets/base",
            "overflow": null,
            "_model_module_version": "1.2.0",
            "_view_count": null,
            "flex_flow": null,
            "width": null,
            "min_width": null,
            "border": null,
            "align_items": null,
            "bottom": null,
            "_model_module": "@jupyter-widgets/base",
            "top": null,
            "grid_column": null,
            "overflow_y": null,
            "overflow_x": null,
            "grid_auto_flow": null,
            "grid_area": null,
            "grid_template_columns": null,
            "flex": null,
            "_model_name": "LayoutModel",
            "justify_items": null,
            "grid_row": null,
            "max_height": null,
            "align_content": null,
            "visibility": null,
            "align_self": null,
            "height": null,
            "min_height": null,
            "padding": null,
            "grid_auto_rows": null,
            "grid_gap": null,
            "max_width": null,
            "order": null,
            "_view_module_version": "1.2.0",
            "grid_template_areas": null,
            "object_position": null,
            "object_fit": null,
            "grid_auto_columns": null,
            "margin": null,
            "display": null,
            "left": null
          }
        },
        "ff94d2137f5d4a6cb832b1a3efdacc00": {
          "model_module": "@jupyter-widgets/controls",
          "model_name": "HBoxModel",
          "state": {
            "_view_name": "HBoxView",
            "_dom_classes": [],
            "_model_name": "HBoxModel",
            "_view_module": "@jupyter-widgets/controls",
            "_model_module_version": "1.5.0",
            "_view_count": null,
            "_view_module_version": "1.5.0",
            "box_style": "",
            "layout": "IPY_MODEL_d56c4d3581c14dd781b8f191749ac6d3",
            "_model_module": "@jupyter-widgets/controls",
            "children": [
              "IPY_MODEL_b8280ae303624c2fb60bf2ae7cf55f6d",
              "IPY_MODEL_281bc02b99f641b88f6b98e96d17eb2d"
            ]
          }
        },
        "d56c4d3581c14dd781b8f191749ac6d3": {
          "model_module": "@jupyter-widgets/base",
          "model_name": "LayoutModel",
          "state": {
            "_view_name": "LayoutView",
            "grid_template_rows": null,
            "right": null,
            "justify_content": null,
            "_view_module": "@jupyter-widgets/base",
            "overflow": null,
            "_model_module_version": "1.2.0",
            "_view_count": null,
            "flex_flow": null,
            "width": null,
            "min_width": null,
            "border": null,
            "align_items": null,
            "bottom": null,
            "_model_module": "@jupyter-widgets/base",
            "top": null,
            "grid_column": null,
            "overflow_y": null,
            "overflow_x": null,
            "grid_auto_flow": null,
            "grid_area": null,
            "grid_template_columns": null,
            "flex": null,
            "_model_name": "LayoutModel",
            "justify_items": null,
            "grid_row": null,
            "max_height": null,
            "align_content": null,
            "visibility": null,
            "align_self": null,
            "height": null,
            "min_height": null,
            "padding": null,
            "grid_auto_rows": null,
            "grid_gap": null,
            "max_width": null,
            "order": null,
            "_view_module_version": "1.2.0",
            "grid_template_areas": null,
            "object_position": null,
            "object_fit": null,
            "grid_auto_columns": null,
            "margin": null,
            "display": null,
            "left": null
          }
        },
        "b8280ae303624c2fb60bf2ae7cf55f6d": {
          "model_module": "@jupyter-widgets/controls",
          "model_name": "FloatProgressModel",
          "state": {
            "_view_name": "ProgressView",
            "style": "IPY_MODEL_f83f79e2e6594ec682d13d23e740ca29",
            "_dom_classes": [],
            "description": "Downloading: 100%",
            "_model_name": "FloatProgressModel",
            "bar_style": "success",
            "max": 231508,
            "_view_module": "@jupyter-widgets/controls",
            "_model_module_version": "1.5.0",
            "value": 231508,
            "_view_count": null,
            "_view_module_version": "1.5.0",
            "orientation": "horizontal",
            "min": 0,
            "description_tooltip": null,
            "_model_module": "@jupyter-widgets/controls",
            "layout": "IPY_MODEL_14bfc4ccb80f490b991e25feb54477bc"
          }
        },
        "281bc02b99f641b88f6b98e96d17eb2d": {
          "model_module": "@jupyter-widgets/controls",
          "model_name": "HTMLModel",
          "state": {
            "_view_name": "HTMLView",
            "style": "IPY_MODEL_29af69e5b1e44d5c9c951242d6ad3fb4",
            "_dom_classes": [],
            "description": "",
            "_model_name": "HTMLModel",
            "placeholder": "​",
            "_view_module": "@jupyter-widgets/controls",
            "_model_module_version": "1.5.0",
            "value": " 232k/232k [00:00&lt;00:00, 609kB/s]",
            "_view_count": null,
            "_view_module_version": "1.5.0",
            "description_tooltip": null,
            "_model_module": "@jupyter-widgets/controls",
            "layout": "IPY_MODEL_62ad2f0ef88f430e81bd73dd6cd91f64"
          }
        },
        "f83f79e2e6594ec682d13d23e740ca29": {
          "model_module": "@jupyter-widgets/controls",
          "model_name": "ProgressStyleModel",
          "state": {
            "_view_name": "StyleView",
            "_model_name": "ProgressStyleModel",
            "description_width": "initial",
            "_view_module": "@jupyter-widgets/base",
            "_model_module_version": "1.5.0",
            "_view_count": null,
            "_view_module_version": "1.2.0",
            "bar_color": null,
            "_model_module": "@jupyter-widgets/controls"
          }
        },
        "14bfc4ccb80f490b991e25feb54477bc": {
          "model_module": "@jupyter-widgets/base",
          "model_name": "LayoutModel",
          "state": {
            "_view_name": "LayoutView",
            "grid_template_rows": null,
            "right": null,
            "justify_content": null,
            "_view_module": "@jupyter-widgets/base",
            "overflow": null,
            "_model_module_version": "1.2.0",
            "_view_count": null,
            "flex_flow": null,
            "width": null,
            "min_width": null,
            "border": null,
            "align_items": null,
            "bottom": null,
            "_model_module": "@jupyter-widgets/base",
            "top": null,
            "grid_column": null,
            "overflow_y": null,
            "overflow_x": null,
            "grid_auto_flow": null,
            "grid_area": null,
            "grid_template_columns": null,
            "flex": null,
            "_model_name": "LayoutModel",
            "justify_items": null,
            "grid_row": null,
            "max_height": null,
            "align_content": null,
            "visibility": null,
            "align_self": null,
            "height": null,
            "min_height": null,
            "padding": null,
            "grid_auto_rows": null,
            "grid_gap": null,
            "max_width": null,
            "order": null,
            "_view_module_version": "1.2.0",
            "grid_template_areas": null,
            "object_position": null,
            "object_fit": null,
            "grid_auto_columns": null,
            "margin": null,
            "display": null,
            "left": null
          }
        },
        "29af69e5b1e44d5c9c951242d6ad3fb4": {
          "model_module": "@jupyter-widgets/controls",
          "model_name": "DescriptionStyleModel",
          "state": {
            "_view_name": "StyleView",
            "_model_name": "DescriptionStyleModel",
            "description_width": "",
            "_view_module": "@jupyter-widgets/base",
            "_model_module_version": "1.5.0",
            "_view_count": null,
            "_view_module_version": "1.2.0",
            "_model_module": "@jupyter-widgets/controls"
          }
        },
        "62ad2f0ef88f430e81bd73dd6cd91f64": {
          "model_module": "@jupyter-widgets/base",
          "model_name": "LayoutModel",
          "state": {
            "_view_name": "LayoutView",
            "grid_template_rows": null,
            "right": null,
            "justify_content": null,
            "_view_module": "@jupyter-widgets/base",
            "overflow": null,
            "_model_module_version": "1.2.0",
            "_view_count": null,
            "flex_flow": null,
            "width": null,
            "min_width": null,
            "border": null,
            "align_items": null,
            "bottom": null,
            "_model_module": "@jupyter-widgets/base",
            "top": null,
            "grid_column": null,
            "overflow_y": null,
            "overflow_x": null,
            "grid_auto_flow": null,
            "grid_area": null,
            "grid_template_columns": null,
            "flex": null,
            "_model_name": "LayoutModel",
            "justify_items": null,
            "grid_row": null,
            "max_height": null,
            "align_content": null,
            "visibility": null,
            "align_self": null,
            "height": null,
            "min_height": null,
            "padding": null,
            "grid_auto_rows": null,
            "grid_gap": null,
            "max_width": null,
            "order": null,
            "_view_module_version": "1.2.0",
            "grid_template_areas": null,
            "object_position": null,
            "object_fit": null,
            "grid_auto_columns": null,
            "margin": null,
            "display": null,
            "left": null
          }
        },
        "7041c4d7f11145389bbebb1fe6dc0994": {
          "model_module": "@jupyter-widgets/controls",
          "model_name": "HBoxModel",
          "state": {
            "_view_name": "HBoxView",
            "_dom_classes": [],
            "_model_name": "HBoxModel",
            "_view_module": "@jupyter-widgets/controls",
            "_model_module_version": "1.5.0",
            "_view_count": null,
            "_view_module_version": "1.5.0",
            "box_style": "",
            "layout": "IPY_MODEL_c2304707d95943bfb65c2ce2f3180e42",
            "_model_module": "@jupyter-widgets/controls",
            "children": [
              "IPY_MODEL_2b8768570ece45088fa2117e7aebcc5b",
              "IPY_MODEL_02225e6546014ce0a820a843e30937fd"
            ]
          }
        },
        "c2304707d95943bfb65c2ce2f3180e42": {
          "model_module": "@jupyter-widgets/base",
          "model_name": "LayoutModel",
          "state": {
            "_view_name": "LayoutView",
            "grid_template_rows": null,
            "right": null,
            "justify_content": null,
            "_view_module": "@jupyter-widgets/base",
            "overflow": null,
            "_model_module_version": "1.2.0",
            "_view_count": null,
            "flex_flow": null,
            "width": null,
            "min_width": null,
            "border": null,
            "align_items": null,
            "bottom": null,
            "_model_module": "@jupyter-widgets/base",
            "top": null,
            "grid_column": null,
            "overflow_y": null,
            "overflow_x": null,
            "grid_auto_flow": null,
            "grid_area": null,
            "grid_template_columns": null,
            "flex": null,
            "_model_name": "LayoutModel",
            "justify_items": null,
            "grid_row": null,
            "max_height": null,
            "align_content": null,
            "visibility": null,
            "align_self": null,
            "height": null,
            "min_height": null,
            "padding": null,
            "grid_auto_rows": null,
            "grid_gap": null,
            "max_width": null,
            "order": null,
            "_view_module_version": "1.2.0",
            "grid_template_areas": null,
            "object_position": null,
            "object_fit": null,
            "grid_auto_columns": null,
            "margin": null,
            "display": null,
            "left": null
          }
        },
        "2b8768570ece45088fa2117e7aebcc5b": {
          "model_module": "@jupyter-widgets/controls",
          "model_name": "FloatProgressModel",
          "state": {
            "_view_name": "ProgressView",
            "style": "IPY_MODEL_817d0ea4c96849079c61e19b196de66e",
            "_dom_classes": [],
            "description": "Downloading: 100%",
            "_model_name": "FloatProgressModel",
            "bar_style": "success",
            "max": 466062,
            "_view_module": "@jupyter-widgets/controls",
            "_model_module_version": "1.5.0",
            "value": 466062,
            "_view_count": null,
            "_view_module_version": "1.5.0",
            "orientation": "horizontal",
            "min": 0,
            "description_tooltip": null,
            "_model_module": "@jupyter-widgets/controls",
            "layout": "IPY_MODEL_a929d706cc0a4438beffbee9667c26ac"
          }
        },
        "02225e6546014ce0a820a843e30937fd": {
          "model_module": "@jupyter-widgets/controls",
          "model_name": "HTMLModel",
          "state": {
            "_view_name": "HTMLView",
            "style": "IPY_MODEL_16464cdd64cf421593c26c93346e5747",
            "_dom_classes": [],
            "description": "",
            "_model_name": "HTMLModel",
            "placeholder": "​",
            "_view_module": "@jupyter-widgets/controls",
            "_model_module_version": "1.5.0",
            "value": " 466k/466k [00:07&lt;00:00, 64.7kB/s]",
            "_view_count": null,
            "_view_module_version": "1.5.0",
            "description_tooltip": null,
            "_model_module": "@jupyter-widgets/controls",
            "layout": "IPY_MODEL_0020c447d6f94fdebb73f98ba62e2617"
          }
        },
        "817d0ea4c96849079c61e19b196de66e": {
          "model_module": "@jupyter-widgets/controls",
          "model_name": "ProgressStyleModel",
          "state": {
            "_view_name": "StyleView",
            "_model_name": "ProgressStyleModel",
            "description_width": "initial",
            "_view_module": "@jupyter-widgets/base",
            "_model_module_version": "1.5.0",
            "_view_count": null,
            "_view_module_version": "1.2.0",
            "bar_color": null,
            "_model_module": "@jupyter-widgets/controls"
          }
        },
        "a929d706cc0a4438beffbee9667c26ac": {
          "model_module": "@jupyter-widgets/base",
          "model_name": "LayoutModel",
          "state": {
            "_view_name": "LayoutView",
            "grid_template_rows": null,
            "right": null,
            "justify_content": null,
            "_view_module": "@jupyter-widgets/base",
            "overflow": null,
            "_model_module_version": "1.2.0",
            "_view_count": null,
            "flex_flow": null,
            "width": null,
            "min_width": null,
            "border": null,
            "align_items": null,
            "bottom": null,
            "_model_module": "@jupyter-widgets/base",
            "top": null,
            "grid_column": null,
            "overflow_y": null,
            "overflow_x": null,
            "grid_auto_flow": null,
            "grid_area": null,
            "grid_template_columns": null,
            "flex": null,
            "_model_name": "LayoutModel",
            "justify_items": null,
            "grid_row": null,
            "max_height": null,
            "align_content": null,
            "visibility": null,
            "align_self": null,
            "height": null,
            "min_height": null,
            "padding": null,
            "grid_auto_rows": null,
            "grid_gap": null,
            "max_width": null,
            "order": null,
            "_view_module_version": "1.2.0",
            "grid_template_areas": null,
            "object_position": null,
            "object_fit": null,
            "grid_auto_columns": null,
            "margin": null,
            "display": null,
            "left": null
          }
        },
        "16464cdd64cf421593c26c93346e5747": {
          "model_module": "@jupyter-widgets/controls",
          "model_name": "DescriptionStyleModel",
          "state": {
            "_view_name": "StyleView",
            "_model_name": "DescriptionStyleModel",
            "description_width": "",
            "_view_module": "@jupyter-widgets/base",
            "_model_module_version": "1.5.0",
            "_view_count": null,
            "_view_module_version": "1.2.0",
            "_model_module": "@jupyter-widgets/controls"
          }
        },
        "0020c447d6f94fdebb73f98ba62e2617": {
          "model_module": "@jupyter-widgets/base",
          "model_name": "LayoutModel",
          "state": {
            "_view_name": "LayoutView",
            "grid_template_rows": null,
            "right": null,
            "justify_content": null,
            "_view_module": "@jupyter-widgets/base",
            "overflow": null,
            "_model_module_version": "1.2.0",
            "_view_count": null,
            "flex_flow": null,
            "width": null,
            "min_width": null,
            "border": null,
            "align_items": null,
            "bottom": null,
            "_model_module": "@jupyter-widgets/base",
            "top": null,
            "grid_column": null,
            "overflow_y": null,
            "overflow_x": null,
            "grid_auto_flow": null,
            "grid_area": null,
            "grid_template_columns": null,
            "flex": null,
            "_model_name": "LayoutModel",
            "justify_items": null,
            "grid_row": null,
            "max_height": null,
            "align_content": null,
            "visibility": null,
            "align_self": null,
            "height": null,
            "min_height": null,
            "padding": null,
            "grid_auto_rows": null,
            "grid_gap": null,
            "max_width": null,
            "order": null,
            "_view_module_version": "1.2.0",
            "grid_template_areas": null,
            "object_position": null,
            "object_fit": null,
            "grid_auto_columns": null,
            "margin": null,
            "display": null,
            "left": null
          }
        },
        "909ce0ad62d546ce8eb0f3a5a893dc4c": {
          "model_module": "@jupyter-widgets/controls",
          "model_name": "HBoxModel",
          "state": {
            "_view_name": "HBoxView",
            "_dom_classes": [],
            "_model_name": "HBoxModel",
            "_view_module": "@jupyter-widgets/controls",
            "_model_module_version": "1.5.0",
            "_view_count": null,
            "_view_module_version": "1.5.0",
            "box_style": "",
            "layout": "IPY_MODEL_f8bba8899f9d4967a181c5a923c1cc64",
            "_model_module": "@jupyter-widgets/controls",
            "children": [
              "IPY_MODEL_61478d2cde0949f9addeb9ea28581374",
              "IPY_MODEL_51f4653e3b38406890ccdf66bcd93b96"
            ]
          }
        },
        "f8bba8899f9d4967a181c5a923c1cc64": {
          "model_module": "@jupyter-widgets/base",
          "model_name": "LayoutModel",
          "state": {
            "_view_name": "LayoutView",
            "grid_template_rows": null,
            "right": null,
            "justify_content": null,
            "_view_module": "@jupyter-widgets/base",
            "overflow": null,
            "_model_module_version": "1.2.0",
            "_view_count": null,
            "flex_flow": null,
            "width": null,
            "min_width": null,
            "border": null,
            "align_items": null,
            "bottom": null,
            "_model_module": "@jupyter-widgets/base",
            "top": null,
            "grid_column": null,
            "overflow_y": null,
            "overflow_x": null,
            "grid_auto_flow": null,
            "grid_area": null,
            "grid_template_columns": null,
            "flex": null,
            "_model_name": "LayoutModel",
            "justify_items": null,
            "grid_row": null,
            "max_height": null,
            "align_content": null,
            "visibility": null,
            "align_self": null,
            "height": null,
            "min_height": null,
            "padding": null,
            "grid_auto_rows": null,
            "grid_gap": null,
            "max_width": null,
            "order": null,
            "_view_module_version": "1.2.0",
            "grid_template_areas": null,
            "object_position": null,
            "object_fit": null,
            "grid_auto_columns": null,
            "margin": null,
            "display": null,
            "left": null
          }
        },
        "61478d2cde0949f9addeb9ea28581374": {
          "model_module": "@jupyter-widgets/controls",
          "model_name": "FloatProgressModel",
          "state": {
            "_view_name": "ProgressView",
            "style": "IPY_MODEL_86460d150f4d491a904dfca8dd40ed35",
            "_dom_classes": [],
            "description": "Downloading: 100%",
            "_model_name": "FloatProgressModel",
            "bar_style": "success",
            "max": 536063208,
            "_view_module": "@jupyter-widgets/controls",
            "_model_module_version": "1.5.0",
            "value": 536063208,
            "_view_count": null,
            "_view_module_version": "1.5.0",
            "orientation": "horizontal",
            "min": 0,
            "description_tooltip": null,
            "_model_module": "@jupyter-widgets/controls",
            "layout": "IPY_MODEL_3ddeebf1b4b84215afa910fc9bfb531e"
          }
        },
        "51f4653e3b38406890ccdf66bcd93b96": {
          "model_module": "@jupyter-widgets/controls",
          "model_name": "HTMLModel",
          "state": {
            "_view_name": "HTMLView",
            "style": "IPY_MODEL_69b3bc2552d9471a9f5a2f37972b1e0d",
            "_dom_classes": [],
            "description": "",
            "_model_name": "HTMLModel",
            "placeholder": "​",
            "_view_module": "@jupyter-widgets/controls",
            "_model_module_version": "1.5.0",
            "value": " 536M/536M [00:17&lt;00:00, 31.3MB/s]",
            "_view_count": null,
            "_view_module_version": "1.5.0",
            "description_tooltip": null,
            "_model_module": "@jupyter-widgets/controls",
            "layout": "IPY_MODEL_ed69f4d113aa4e45bc1ecef70601e3fc"
          }
        },
        "86460d150f4d491a904dfca8dd40ed35": {
          "model_module": "@jupyter-widgets/controls",
          "model_name": "ProgressStyleModel",
          "state": {
            "_view_name": "StyleView",
            "_model_name": "ProgressStyleModel",
            "description_width": "initial",
            "_view_module": "@jupyter-widgets/base",
            "_model_module_version": "1.5.0",
            "_view_count": null,
            "_view_module_version": "1.2.0",
            "bar_color": null,
            "_model_module": "@jupyter-widgets/controls"
          }
        },
        "3ddeebf1b4b84215afa910fc9bfb531e": {
          "model_module": "@jupyter-widgets/base",
          "model_name": "LayoutModel",
          "state": {
            "_view_name": "LayoutView",
            "grid_template_rows": null,
            "right": null,
            "justify_content": null,
            "_view_module": "@jupyter-widgets/base",
            "overflow": null,
            "_model_module_version": "1.2.0",
            "_view_count": null,
            "flex_flow": null,
            "width": null,
            "min_width": null,
            "border": null,
            "align_items": null,
            "bottom": null,
            "_model_module": "@jupyter-widgets/base",
            "top": null,
            "grid_column": null,
            "overflow_y": null,
            "overflow_x": null,
            "grid_auto_flow": null,
            "grid_area": null,
            "grid_template_columns": null,
            "flex": null,
            "_model_name": "LayoutModel",
            "justify_items": null,
            "grid_row": null,
            "max_height": null,
            "align_content": null,
            "visibility": null,
            "align_self": null,
            "height": null,
            "min_height": null,
            "padding": null,
            "grid_auto_rows": null,
            "grid_gap": null,
            "max_width": null,
            "order": null,
            "_view_module_version": "1.2.0",
            "grid_template_areas": null,
            "object_position": null,
            "object_fit": null,
            "grid_auto_columns": null,
            "margin": null,
            "display": null,
            "left": null
          }
        },
        "69b3bc2552d9471a9f5a2f37972b1e0d": {
          "model_module": "@jupyter-widgets/controls",
          "model_name": "DescriptionStyleModel",
          "state": {
            "_view_name": "StyleView",
            "_model_name": "DescriptionStyleModel",
            "description_width": "",
            "_view_module": "@jupyter-widgets/base",
            "_model_module_version": "1.5.0",
            "_view_count": null,
            "_view_module_version": "1.2.0",
            "_model_module": "@jupyter-widgets/controls"
          }
        },
        "ed69f4d113aa4e45bc1ecef70601e3fc": {
          "model_module": "@jupyter-widgets/base",
          "model_name": "LayoutModel",
          "state": {
            "_view_name": "LayoutView",
            "grid_template_rows": null,
            "right": null,
            "justify_content": null,
            "_view_module": "@jupyter-widgets/base",
            "overflow": null,
            "_model_module_version": "1.2.0",
            "_view_count": null,
            "flex_flow": null,
            "width": null,
            "min_width": null,
            "border": null,
            "align_items": null,
            "bottom": null,
            "_model_module": "@jupyter-widgets/base",
            "top": null,
            "grid_column": null,
            "overflow_y": null,
            "overflow_x": null,
            "grid_auto_flow": null,
            "grid_area": null,
            "grid_template_columns": null,
            "flex": null,
            "_model_name": "LayoutModel",
            "justify_items": null,
            "grid_row": null,
            "max_height": null,
            "align_content": null,
            "visibility": null,
            "align_self": null,
            "height": null,
            "min_height": null,
            "padding": null,
            "grid_auto_rows": null,
            "grid_gap": null,
            "max_width": null,
            "order": null,
            "_view_module_version": "1.2.0",
            "grid_template_areas": null,
            "object_position": null,
            "object_fit": null,
            "grid_auto_columns": null,
            "margin": null,
            "display": null,
            "left": null
          }
        }
      }
    },
    "accelerator": "TPU"
  },
  "cells": [
    {
      "cell_type": "markdown",
      "metadata": {
        "id": "HIxF333isRkV"
      },
      "source": [
        "# this notebook covers personlity analysis based on text using (MBTI) psychological model by making 1 models for all spectrum/field.\n",
        "# it consists of 2 models, one made from scratch and the other using pretrained model."
      ]
    },
    {
      "cell_type": "markdown",
      "metadata": {
        "id": "tJNKENx9twrG"
      },
      "source": [
        "### the notebook goes through:\n",
        "- #### Discovering data, cleaning it.\n",
        "- #### Constucting models.\n",
        "- #### Training models.\n",
        "- #### Testing  models and evaluating their results.\n",
        "- #### Calculating some metrics like confusion matrix."
      ]
    },
    {
      "cell_type": "code",
      "metadata": {
        "id": "RIpx8Coek1iz",
        "colab": {
          "base_uri": "https://localhost:8080/"
        },
        "outputId": "d3f0004b-704d-4df0-c561-81f13dc8b7b9"
      },
      "source": [
        "import numpy as np\n",
        "import pandas as pd\n",
        "import os\n",
        "import nltk\n",
        "!pip install transformers\n",
        "import transformers"
      ],
      "execution_count": null,
      "outputs": [
        {
          "output_type": "stream",
          "text": [
            "Requirement already satisfied: transformers in /usr/local/lib/python3.7/dist-packages (4.9.0)\n",
            "Requirement already satisfied: pyyaml>=5.1 in /usr/local/lib/python3.7/dist-packages (from transformers) (5.4.1)\n",
            "Requirement already satisfied: sacremoses in /usr/local/lib/python3.7/dist-packages (from transformers) (0.0.45)\n",
            "Requirement already satisfied: importlib-metadata in /usr/local/lib/python3.7/dist-packages (from transformers) (4.6.1)\n",
            "Requirement already satisfied: tokenizers<0.11,>=0.10.1 in /usr/local/lib/python3.7/dist-packages (from transformers) (0.10.3)\n",
            "Requirement already satisfied: numpy>=1.17 in /usr/local/lib/python3.7/dist-packages (from transformers) (1.19.5)\n",
            "Requirement already satisfied: huggingface-hub==0.0.12 in /usr/local/lib/python3.7/dist-packages (from transformers) (0.0.12)\n",
            "Requirement already satisfied: regex!=2019.12.17 in /usr/local/lib/python3.7/dist-packages (from transformers) (2019.12.20)\n",
            "Requirement already satisfied: packaging in /usr/local/lib/python3.7/dist-packages (from transformers) (21.0)\n",
            "Requirement already satisfied: requests in /usr/local/lib/python3.7/dist-packages (from transformers) (2.23.0)\n",
            "Requirement already satisfied: filelock in /usr/local/lib/python3.7/dist-packages (from transformers) (3.0.12)\n",
            "Requirement already satisfied: tqdm>=4.27 in /usr/local/lib/python3.7/dist-packages (from transformers) (4.41.1)\n",
            "Requirement already satisfied: typing-extensions in /usr/local/lib/python3.7/dist-packages (from huggingface-hub==0.0.12->transformers) (3.7.4.3)\n",
            "Requirement already satisfied: pyparsing>=2.0.2 in /usr/local/lib/python3.7/dist-packages (from packaging->transformers) (2.4.7)\n",
            "Requirement already satisfied: zipp>=0.5 in /usr/local/lib/python3.7/dist-packages (from importlib-metadata->transformers) (3.5.0)\n",
            "Requirement already satisfied: chardet<4,>=3.0.2 in /usr/local/lib/python3.7/dist-packages (from requests->transformers) (3.0.4)\n",
            "Requirement already satisfied: urllib3!=1.25.0,!=1.25.1,<1.26,>=1.21.1 in /usr/local/lib/python3.7/dist-packages (from requests->transformers) (1.24.3)\n",
            "Requirement already satisfied: certifi>=2017.4.17 in /usr/local/lib/python3.7/dist-packages (from requests->transformers) (2021.5.30)\n",
            "Requirement already satisfied: idna<3,>=2.5 in /usr/local/lib/python3.7/dist-packages (from requests->transformers) (2.10)\n",
            "Requirement already satisfied: click in /usr/local/lib/python3.7/dist-packages (from sacremoses->transformers) (7.1.2)\n",
            "Requirement already satisfied: six in /usr/local/lib/python3.7/dist-packages (from sacremoses->transformers) (1.15.0)\n",
            "Requirement already satisfied: joblib in /usr/local/lib/python3.7/dist-packages (from sacremoses->transformers) (1.0.1)\n"
          ],
          "name": "stdout"
        }
      ]
    },
    {
      "cell_type": "markdown",
      "metadata": {
        "id": "XJ9dl6UHtgjT"
      },
      "source": [
        "#### listing class types to be used later when indexing"
      ]
    },
    {
      "cell_type": "code",
      "metadata": {
        "id": "b-SvRgNck1i1"
      },
      "source": [
        "per_types = ['ENFJ','ENFP','ENTJ','ENTP','ESFJ','ESFP','ESTJ','ESTP','INFJ','INFP','INTJ','INTP','ISFJ','ISFP','ISTJ','ISTP']"
      ],
      "execution_count": null,
      "outputs": []
    },
    {
      "cell_type": "markdown",
      "metadata": {
        "id": "0EmVeKDJtetd"
      },
      "source": [
        "#### making google colab accesses google drive"
      ]
    },
    {
      "cell_type": "code",
      "metadata": {
        "colab": {
          "base_uri": "https://localhost:8080/"
        },
        "id": "0MRoHv_SnlMi",
        "outputId": "961f6dd3-2761-4b94-8db6-920b8627e48e"
      },
      "source": [
        "from google.colab import drive\n",
        "drive.mount('/content/drive')"
      ],
      "execution_count": null,
      "outputs": [
        {
          "output_type": "stream",
          "text": [
            "Drive already mounted at /content/drive; to attempt to forcibly remount, call drive.mount(\"/content/drive\", force_remount=True).\n"
          ],
          "name": "stdout"
        }
      ]
    },
    {
      "cell_type": "markdown",
      "metadata": {
        "id": "EIoBunpGuKVs"
      },
      "source": [
        "##### reading the data"
      ]
    },
    {
      "cell_type": "code",
      "metadata": {
        "id": "N--8XE9vk1i1"
      },
      "source": [
        "data = pd.read_csv(\"drive/MyDrive/kaggle.csv\")\n",
        "data = data.iloc[:,:2]"
      ],
      "execution_count": null,
      "outputs": []
    },
    {
      "cell_type": "markdown",
      "metadata": {
        "id": "0dQfMqijuNcl"
      },
      "source": [
        "##### listing the data classes"
      ]
    },
    {
      "cell_type": "code",
      "metadata": {
        "colab": {
          "base_uri": "https://localhost:8080/"
        },
        "id": "ckVjVe3fk1i2",
        "outputId": "60f6dc89-276a-4ea3-a80f-11044685bd87"
      },
      "source": [
        "types = np.unique(data.type.values)\n",
        "types"
      ],
      "execution_count": null,
      "outputs": [
        {
          "output_type": "execute_result",
          "data": {
            "text/plain": [
              "array(['ENFJ', 'ENFP', 'ENTJ', 'ENTP', 'ESFJ', 'ESFP', 'ESTJ', 'ESTP',\n",
              "       'INFJ', 'INFP', 'INTJ', 'INTP', 'ISFJ', 'ISFP', 'ISTJ', 'ISTP'],\n",
              "      dtype=object)"
            ]
          },
          "metadata": {
            "tags": []
          },
          "execution_count": 42
        }
      ]
    },
    {
      "cell_type": "markdown",
      "metadata": {
        "id": "7MAnHlk4uSsg"
      },
      "source": [
        "#### adding index for each data class type"
      ]
    },
    {
      "cell_type": "code",
      "metadata": {
        "id": "3pLcvjCgk1i3"
      },
      "source": [
        "def get_type_index(string):\n",
        "    return list(types).index(string)\n",
        "data['type_index'] = data['type'].apply(get_type_index)"
      ],
      "execution_count": null,
      "outputs": []
    },
    {
      "cell_type": "markdown",
      "metadata": {
        "id": "C8egmgLcuYuS"
      },
      "source": [
        "#### showing first 16 sample of the data"
      ]
    },
    {
      "cell_type": "code",
      "metadata": {
        "colab": {
          "base_uri": "https://localhost:8080/",
          "height": 542
        },
        "id": "yvK5PKWuk1i3",
        "outputId": "d3f83177-3fe9-4b58-d714-4ac491a1f911"
      },
      "source": [
        "data.head(16)"
      ],
      "execution_count": null,
      "outputs": [
        {
          "output_type": "execute_result",
          "data": {
            "text/html": [
              "<div>\n",
              "<style scoped>\n",
              "    .dataframe tbody tr th:only-of-type {\n",
              "        vertical-align: middle;\n",
              "    }\n",
              "\n",
              "    .dataframe tbody tr th {\n",
              "        vertical-align: top;\n",
              "    }\n",
              "\n",
              "    .dataframe thead th {\n",
              "        text-align: right;\n",
              "    }\n",
              "</style>\n",
              "<table border=\"1\" class=\"dataframe\">\n",
              "  <thead>\n",
              "    <tr style=\"text-align: right;\">\n",
              "      <th></th>\n",
              "      <th>type</th>\n",
              "      <th>text</th>\n",
              "      <th>type_index</th>\n",
              "    </tr>\n",
              "  </thead>\n",
              "  <tbody>\n",
              "    <tr>\n",
              "      <th>0</th>\n",
              "      <td>INFJ</td>\n",
              "      <td>'http://www.youtube.com/watch?v=qsXHcwe3krw|||...</td>\n",
              "      <td>8</td>\n",
              "    </tr>\n",
              "    <tr>\n",
              "      <th>1</th>\n",
              "      <td>ENTP</td>\n",
              "      <td>'I'm finding the lack of me in these posts ver...</td>\n",
              "      <td>3</td>\n",
              "    </tr>\n",
              "    <tr>\n",
              "      <th>2</th>\n",
              "      <td>INTP</td>\n",
              "      <td>'Good one  _____   https://www.youtube.com/wat...</td>\n",
              "      <td>11</td>\n",
              "    </tr>\n",
              "    <tr>\n",
              "      <th>3</th>\n",
              "      <td>INTJ</td>\n",
              "      <td>'Dear INTP,   I enjoyed our conversation the o...</td>\n",
              "      <td>10</td>\n",
              "    </tr>\n",
              "    <tr>\n",
              "      <th>4</th>\n",
              "      <td>ENTJ</td>\n",
              "      <td>'You're fired.|||That's another silly misconce...</td>\n",
              "      <td>2</td>\n",
              "    </tr>\n",
              "    <tr>\n",
              "      <th>5</th>\n",
              "      <td>INTJ</td>\n",
              "      <td>'18/37 @.@|||Science  is not perfect. No scien...</td>\n",
              "      <td>10</td>\n",
              "    </tr>\n",
              "    <tr>\n",
              "      <th>6</th>\n",
              "      <td>INFJ</td>\n",
              "      <td>'No, I can't draw on my own nails (haha). Thos...</td>\n",
              "      <td>8</td>\n",
              "    </tr>\n",
              "    <tr>\n",
              "      <th>7</th>\n",
              "      <td>INTJ</td>\n",
              "      <td>'I tend to build up a collection of things on ...</td>\n",
              "      <td>10</td>\n",
              "    </tr>\n",
              "    <tr>\n",
              "      <th>8</th>\n",
              "      <td>INFJ</td>\n",
              "      <td>I'm not sure, that's a good question. The dist...</td>\n",
              "      <td>8</td>\n",
              "    </tr>\n",
              "    <tr>\n",
              "      <th>9</th>\n",
              "      <td>INTP</td>\n",
              "      <td>'https://www.youtube.com/watch?v=w8-egj0y8Qs||...</td>\n",
              "      <td>11</td>\n",
              "    </tr>\n",
              "    <tr>\n",
              "      <th>10</th>\n",
              "      <td>INFJ</td>\n",
              "      <td>'One time my parents were fighting over my dad...</td>\n",
              "      <td>8</td>\n",
              "    </tr>\n",
              "    <tr>\n",
              "      <th>11</th>\n",
              "      <td>ENFJ</td>\n",
              "      <td>'https://www.youtube.com/watch?v=PLAaiKvHvZs||...</td>\n",
              "      <td>0</td>\n",
              "    </tr>\n",
              "    <tr>\n",
              "      <th>12</th>\n",
              "      <td>INFJ</td>\n",
              "      <td>'Joe santagato - ENTP|||ENFJ or  ENTP?   I'm n...</td>\n",
              "      <td>8</td>\n",
              "    </tr>\n",
              "    <tr>\n",
              "      <th>13</th>\n",
              "      <td>INTJ</td>\n",
              "      <td>'Fair enough, if that's how you want to look a...</td>\n",
              "      <td>10</td>\n",
              "    </tr>\n",
              "    <tr>\n",
              "      <th>14</th>\n",
              "      <td>INTP</td>\n",
              "      <td>'Basically this...  https://youtu.be/1pH5c1Jkh...</td>\n",
              "      <td>11</td>\n",
              "    </tr>\n",
              "    <tr>\n",
              "      <th>15</th>\n",
              "      <td>INTP</td>\n",
              "      <td>'Your comment screams INTJ, bro. Especially th...</td>\n",
              "      <td>11</td>\n",
              "    </tr>\n",
              "  </tbody>\n",
              "</table>\n",
              "</div>"
            ],
            "text/plain": [
              "    type                                               text  type_index\n",
              "0   INFJ  'http://www.youtube.com/watch?v=qsXHcwe3krw|||...           8\n",
              "1   ENTP  'I'm finding the lack of me in these posts ver...           3\n",
              "2   INTP  'Good one  _____   https://www.youtube.com/wat...          11\n",
              "3   INTJ  'Dear INTP,   I enjoyed our conversation the o...          10\n",
              "4   ENTJ  'You're fired.|||That's another silly misconce...           2\n",
              "5   INTJ  '18/37 @.@|||Science  is not perfect. No scien...          10\n",
              "6   INFJ  'No, I can't draw on my own nails (haha). Thos...           8\n",
              "7   INTJ  'I tend to build up a collection of things on ...          10\n",
              "8   INFJ  I'm not sure, that's a good question. The dist...           8\n",
              "9   INTP  'https://www.youtube.com/watch?v=w8-egj0y8Qs||...          11\n",
              "10  INFJ  'One time my parents were fighting over my dad...           8\n",
              "11  ENFJ  'https://www.youtube.com/watch?v=PLAaiKvHvZs||...           0\n",
              "12  INFJ  'Joe santagato - ENTP|||ENFJ or  ENTP?   I'm n...           8\n",
              "13  INTJ  'Fair enough, if that's how you want to look a...          10\n",
              "14  INTP  'Basically this...  https://youtu.be/1pH5c1Jkh...          11\n",
              "15  INTP  'Your comment screams INTJ, bro. Especially th...          11"
            ]
          },
          "metadata": {
            "tags": []
          },
          "execution_count": 7
        }
      ]
    },
    {
      "cell_type": "markdown",
      "metadata": {
        "id": "1fprWnopudGK"
      },
      "source": [
        "##### showing data before any preprocessing or cleaning"
      ]
    },
    {
      "cell_type": "code",
      "metadata": {
        "colab": {
          "base_uri": "https://localhost:8080/",
          "height": 142
        },
        "id": "6Rdlf6yhk1i3",
        "outputId": "29e243c6-b4ea-47e2-bc43-84a8552c0521"
      },
      "source": [
        "data.text.values[0]"
      ],
      "execution_count": null,
      "outputs": [
        {
          "output_type": "execute_result",
          "data": {
            "application/vnd.google.colaboratory.intrinsic+json": {
              "type": "string"
            },
            "text/plain": [
              "\"'http://www.youtube.com/watch?v=qsXHcwe3krw|||http://41.media.tumblr.com/tumblr_lfouy03PMA1qa1rooo1_500.jpg|||enfp and intj moments  https://www.youtube.com/watch?v=iz7lE1g4XM4  sportscenter not top ten plays  https://www.youtube.com/watch?v=uCdfze1etec  pranks|||What has been the most life-changing experience in your life?|||http://www.youtube.com/watch?v=vXZeYwwRDw8   http://www.youtube.com/watch?v=u8ejam5DP3E  On repeat for most of today.|||May the PerC Experience immerse you.|||The last thing my INFJ friend posted on his facebook before committing suicide the next day. Rest in peace~   http://vimeo.com/22842206|||Hello ENFJ7. Sorry to hear of your distress. It's only natural for a relationship to not be perfection all the time in every moment of existence. Try to figure the hard times as times of growth, as...|||84389  84390  http://wallpaperpassion.com/upload/23700/friendship-boy-and-girl-wallpaper.jpg  http://assets.dornob.com/wp-content/uploads/2010/04/round-home-design.jpg ...|||Welcome and stuff.|||http://playeressence.com/wp-content/uploads/2013/08/RED-red-the-pokemon-master-32560474-450-338.jpg  Game. Set. Match.|||Prozac, wellbrutin, at least thirty minutes of moving your legs (and I don't mean moving them while sitting in your same desk chair), weed in moderation (maybe try edibles as a healthier alternative...|||Basically come up with three items you've determined that each type (or whichever types you want to do) would more than likely use, given each types' cognitive functions and whatnot, when left by...|||All things in moderation.  Sims is indeed a video game, and a good one at that. Note: a good one at that is somewhat subjective in that I am not completely promoting the death of any given Sim...|||Dear ENFP:  What were your favorite video games growing up and what are your now, current favorite video games? :cool:|||https://www.youtube.com/watch?v=QyPqT8umzmY|||It appears to be too late. :sad:|||There's someone out there for everyone.|||Wait... I thought confidence was a good thing.|||I just cherish the time of solitude b/c i revel within my inner world more whereas most other time i'd be workin... just enjoy the me time while you can. Don't worry, people will always be around to...|||Yo entp ladies... if you're into a complimentary personality,well, hey.|||... when your main social outlet is xbox live conversations and even then you verbally fatigue quickly.|||http://www.youtube.com/watch?v=gDhy7rdfm14  I really dig the part from 1:46 to 2:50|||http://www.youtube.com/watch?v=msqXffgh7b8|||Banned because this thread requires it of me.|||Get high in backyard, roast and eat marshmellows in backyard while conversing over something intellectual, followed by massages and kisses.|||http://www.youtube.com/watch?v=Mw7eoU3BMbE|||http://www.youtube.com/watch?v=4V2uYORhQOk|||http://www.youtube.com/watch?v=SlVmgFQQ0TI|||Banned for too many b's in that sentence. How could you! Think of the B!|||Banned for watching movies in the corner with the dunces.|||Banned because Health class clearly taught you nothing about peer pressure.|||Banned for a whole host of reasons!|||http://www.youtube.com/watch?v=IRcrv41hgz4|||1) Two baby deer on left and right munching on a beetle in the middle.  2) Using their own blood, two cavemen diary today's latest happenings on their designated cave diary wall.  3) I see it as...|||a pokemon world  an infj society  everyone becomes an optimist|||49142|||http://www.youtube.com/watch?v=ZRCEq_JFeFM|||http://discovermagazine.com/2012/jul-aug/20-things-you-didnt-know-about-deserts/desert.jpg|||http://oyster.ignimgs.com/mediawiki/apis.ign.com/pokemon-silver-version/d/dd/Ditto.gif|||http://www.serebii.net/potw-dp/Scizor.jpg|||Not all artists are artists because they draw. It's the idea that counts in forming something of your own... like a signature.|||Welcome to the robot ranks, person who downed my self-esteem cuz I'm not an avid signature artist like herself. :proud:|||Banned for taking all the room under my bed. Ya gotta learn to share with the roaches.|||http://www.youtube.com/watch?v=w8IgImn57aQ|||Banned for being too much of a thundering, grumbling kind of storm... yep.|||Ahh... old high school music I haven't heard in ages.   http://www.youtube.com/watch?v=dcCRUPCdB1w|||I failed a public speaking class a few years ago and I've sort of learned what I could do better were I to be in that position again. A big part of my failure was just overloading myself with too...|||I like this person's mentality. He's a confirmed INTJ by the way. http://www.youtube.com/watch?v=hGKLI-GEc6M|||Move to the Denver area and start a new life for myself.'\""
            ]
          },
          "metadata": {
            "tags": []
          },
          "execution_count": 8
        }
      ]
    },
    {
      "cell_type": "markdown",
      "metadata": {
        "id": "X5palJJwuiJ7"
      },
      "source": [
        "#### importing some packages and libraries used in data cleaning and preprocessing"
      ]
    },
    {
      "cell_type": "code",
      "metadata": {
        "colab": {
          "base_uri": "https://localhost:8080/"
        },
        "id": "srKJwLjrk1i4",
        "outputId": "8ec034bd-47ed-4b0c-c32b-fe818e0e5eef"
      },
      "source": [
        "import nltk\n",
        "\n",
        "# Packages needed to be downloaded once\n",
        "nltk.download('punkt')\n",
        "nltk.download('averaged_perceptron_tagger')\n",
        "nltk.download('maxent_ne_chunker')\n",
        "nltk.download('words')\n",
        "nltk.download('stopwords')\n",
        "\n",
        "# lists of words needed to be loaded once\n",
        "stop_words = set(nltk.corpus.stopwords.words('english'))\n",
        "stop_words = [w for w in stop_words if 't' not in w or 'n' not in w]\n",
        "stop_words.append(\"between\")\n",
        "stop_words.append(\"into\")\n",
        "\n",
        "print(stop_words)\n",
        "# porter = nltk.PorterStemmer()\n",
        "# lancaster = nltk.LancasterStemmer()\n",
        "# wnl = nltk.WordNetLemmatizer()"
      ],
      "execution_count": null,
      "outputs": [
        {
          "output_type": "stream",
          "text": [
            "[nltk_data] Downloading package punkt to /root/nltk_data...\n",
            "[nltk_data]   Package punkt is already up-to-date!\n",
            "[nltk_data] Downloading package averaged_perceptron_tagger to\n",
            "[nltk_data]     /root/nltk_data...\n",
            "[nltk_data]   Package averaged_perceptron_tagger is already up-to-\n",
            "[nltk_data]       date!\n",
            "[nltk_data] Downloading package maxent_ne_chunker to\n",
            "[nltk_data]     /root/nltk_data...\n",
            "[nltk_data]   Package maxent_ne_chunker is already up-to-date!\n",
            "[nltk_data] Downloading package words to /root/nltk_data...\n",
            "[nltk_data]   Package words is already up-to-date!\n",
            "[nltk_data] Downloading package stopwords to /root/nltk_data...\n",
            "[nltk_data]   Package stopwords is already up-to-date!\n",
            "['such', 'isn', 'with', 'being', 's', 'am', 'off', 'most', 'over', 't', 'any', 'haven', 'up', 'itself', 'aren', 'him', 'why', \"you'll\", 'll', 'shan', 'above', \"you'd\", 'below', 'themselves', 've', \"that'll\", 'o', 'yours', 'i', 'how', \"you're\", 'will', 'their', 'that', 'if', 'yourselves', 'ain', 'each', 'herself', 're', 'doesn', 'won', 'can', 'from', 'this', 'weren', 'were', 'own', 'hadn', 'are', 'both', 'down', 'those', 'doing', 'hasn', 'needn', 'more', 'as', \"it's\", 'didn', 'an', 'is', 'its', 'through', 'a', 'you', 'very', 'some', 'did', 'again', 'too', 'ours', 'd', 'before', 'but', 'all', 'wouldn', 'there', 'does', 'by', 'who', 'here', 'our', 'your', 'was', 'about', 'yourself', 'they', 'just', 'theirs', 'when', 'do', 'where', 'whom', 'of', \"should've\", 'now', 'because', 'only', 'at', 'for', \"you've\", 'while', 'or', 'the', 'and', \"she's\", 'to', 'once', 'her', 'don', 'during', 'y', 'wasn', 'these', 'me', 'further', 'he', 'after', 'on', 'couldn', 'them', 'has', 'same', 'no', 'which', 'few', 'other', 'it', 'have', 'she', 'ma', 'm', 'hers', 'myself', 'in', 'so', 'should', 'what', 'himself', 'out', 'nor', 'be', 'shouldn', 'been', 'ourselves', 'under', 'having', 'his', 'had', 'we', 'my', 'between', 'into']\n"
          ],
          "name": "stdout"
        }
      ]
    },
    {
      "cell_type": "markdown",
      "metadata": {
        "id": "Mql3V4t8upw5"
      },
      "source": [
        "#### preprocessing function that cleans data(removes symbols,unwanted words,etc...)"
      ]
    },
    {
      "cell_type": "code",
      "metadata": {
        "id": "RhniJxKWk1i5"
      },
      "source": [
        "import string\n",
        "import re\n",
        "\n",
        "def clean_text(text):\n",
        "    regex = re.compile('[%s]' % re.escape('|'))\n",
        "    text = regex.sub(\" \", text)\n",
        "    words = str(text).split()\n",
        "    words = [i.lower() + \" \" for i in words]\n",
        "    words = [i for i in words if not \"http\" in i]\n",
        "    words = \" \".join(words)\n",
        "    words = words.translate(words.maketrans('', '', string.punctuation))\n",
        "    #remove digits\n",
        "    words = re.sub(\" \\d+\", \" \", words)\n",
        "    \n",
        "    words_tokens =  nltk.tokenize.word_tokenize(words)\n",
        "    # remove the stop words\n",
        "    filtered_tokens = [w for w in words_tokens if w not in stop_words]\n",
        "    # remove redundent words\n",
        "    filtered_tokens = list(dict.fromkeys(filtered_tokens))\n",
        "    # remove single characters\n",
        "    filtered_tokens = [w for w in filtered_tokens if len(w)>2]\n",
        "    \n",
        "    #combine words\n",
        "    words = \" \".join(filtered_tokens)\n",
        "\n",
        "    return words"
      ],
      "execution_count": null,
      "outputs": []
    },
    {
      "cell_type": "markdown",
      "metadata": {
        "id": "duVZatYBu0Xo"
      },
      "source": [
        "#### apply cleaning function on data to be cleaned"
      ]
    },
    {
      "cell_type": "code",
      "metadata": {
        "colab": {
          "base_uri": "https://localhost:8080/"
        },
        "id": "QaPNFtdJk1i5",
        "outputId": "04ba8ad2-adb3-4107-fa7a-f175bc7c9793"
      },
      "source": [
        "data['cleaned_text'] = data['text'].apply(clean_text)\n",
        "print(f'Data shape: {data.shape}')"
      ],
      "execution_count": null,
      "outputs": [
        {
          "output_type": "stream",
          "text": [
            "Data shape: (8675, 4)\n"
          ],
          "name": "stdout"
        }
      ]
    },
    {
      "cell_type": "markdown",
      "metadata": {
        "id": "ytOT0EYiu5Yp"
      },
      "source": [
        "#### showing sample of cleaned data"
      ]
    },
    {
      "cell_type": "code",
      "metadata": {
        "colab": {
          "base_uri": "https://localhost:8080/",
          "height": 142
        },
        "id": "TDxdocXGk1i5",
        "outputId": "e2b0b48d-054a-4b30-83ef-2e58d461259a"
      },
      "source": [
        "data['cleaned_text'][0]"
      ],
      "execution_count": null,
      "outputs": [
        {
          "output_type": "execute_result",
          "data": {
            "application/vnd.google.colaboratory.intrinsic+json": {
              "type": "string"
            },
            "text/plain": [
              "'enfp intj moments sportscenter not top ten plays pranks lifechanging experience life repeat today may perc immerse last thing infj friend posted facebook committing suicide next day rest peace hello enfj7 sorry hear distress natural relationship perfection time every moment existence try figure hard times growth welcome stuff game set match prozac wellbrutin least thirty minutes moving legs dont mean sitting desk chair weed moderation maybe edibles healthier alternative basically come three items youve determined type whichever types want would than likely use given cognitive functions whatnot left things sims indeed video good one note somewhat subjective completely promoting death sim dear favorite games growing current cool appears late sad theres someone everyone wait thought confidence cherish solitude revel within inner world whereas workin enjoy worry people always around entp ladies youre complimentary personalitywell hey main social outlet xbox live conversations even then verbally fatigue quickly really dig part banned thread requires get high backyard roast eat marshmellows conversing something intellectual followed massages kisses many sentence could think watching movies corner dunces health class clearly taught nothing peer pressure whole host reasons two baby deer right munching beetle middle using blood cavemen diary todays latest happenings designated cave wall see pokemon society becomes optimist artists draw idea counts forming like signature robot ranks person downed selfesteem cuz avid artist proud taking room bed got learn share roaches much thundering grumbling kind storm yep ahh old school music havent heard ages failed public speaking years ago ive sort learned better position big failure overloading persons mentality hes confirmed way move denver area start new'"
            ]
          },
          "metadata": {
            "tags": []
          },
          "execution_count": 14
        }
      ]
    },
    {
      "cell_type": "markdown",
      "metadata": {
        "id": "sy0ntiL6u8CS"
      },
      "source": [
        "#### splitting data into 80% training and 20% validation"
      ]
    },
    {
      "cell_type": "code",
      "metadata": {
        "id": "egq65rIik1i6"
      },
      "source": [
        "from sklearn.model_selection import train_test_split\n",
        "\n",
        "train, val = train_test_split(data,test_size=0.2, random_state=42)"
      ],
      "execution_count": null,
      "outputs": []
    },
    {
      "cell_type": "markdown",
      "metadata": {
        "id": "9R6pLqurvDFR"
      },
      "source": [
        "#### showing some of trained data and validation data and their shapes"
      ]
    },
    {
      "cell_type": "code",
      "metadata": {
        "colab": {
          "base_uri": "https://localhost:8080/",
          "height": 417
        },
        "id": "pbdotabJk1i6",
        "outputId": "d7d25edc-91ff-4c8d-8be3-a8c3cf44b184"
      },
      "source": [
        "train"
      ],
      "execution_count": null,
      "outputs": [
        {
          "output_type": "execute_result",
          "data": {
            "text/html": [
              "<div>\n",
              "<style scoped>\n",
              "    .dataframe tbody tr th:only-of-type {\n",
              "        vertical-align: middle;\n",
              "    }\n",
              "\n",
              "    .dataframe tbody tr th {\n",
              "        vertical-align: top;\n",
              "    }\n",
              "\n",
              "    .dataframe thead th {\n",
              "        text-align: right;\n",
              "    }\n",
              "</style>\n",
              "<table border=\"1\" class=\"dataframe\">\n",
              "  <thead>\n",
              "    <tr style=\"text-align: right;\">\n",
              "      <th></th>\n",
              "      <th>type</th>\n",
              "      <th>text</th>\n",
              "      <th>type_index</th>\n",
              "      <th>cleaned_text</th>\n",
              "    </tr>\n",
              "  </thead>\n",
              "  <tbody>\n",
              "    <tr>\n",
              "      <th>4080</th>\n",
              "      <td>INFJ</td>\n",
              "      <td>'I loved All the Light We Cannot See by Anthon...</td>\n",
              "      <td>8</td>\n",
              "      <td>loved light not see anthony doerr pretty recen...</td>\n",
              "    </tr>\n",
              "    <tr>\n",
              "      <th>2614</th>\n",
              "      <td>ENFP</td>\n",
              "      <td>'It depends. If I care about it, I fight and g...</td>\n",
              "      <td>1</td>\n",
              "      <td>depends care fight get really aggressive thing...</td>\n",
              "    </tr>\n",
              "    <tr>\n",
              "      <th>5414</th>\n",
              "      <td>ENTP</td>\n",
              "      <td>'Welcome home, sonny :laughing:|||Just because...</td>\n",
              "      <td>3</td>\n",
              "      <td>welcome home sonny laughing strong tendency to...</td>\n",
              "    </tr>\n",
              "    <tr>\n",
              "      <th>1039</th>\n",
              "      <td>ENFP</td>\n",
              "      <td>That's really cool of you. I like it when anyo...</td>\n",
              "      <td>1</td>\n",
              "      <td>thats really cool like anyone anything help ot...</td>\n",
              "    </tr>\n",
              "    <tr>\n",
              "      <th>8294</th>\n",
              "      <td>ENTP</td>\n",
              "      <td>'The duck is named Zeus.|||http://www.youtube....</td>\n",
              "      <td>3</td>\n",
              "      <td>duck named zeus nope see traits mammalian pred...</td>\n",
              "    </tr>\n",
              "    <tr>\n",
              "      <th>...</th>\n",
              "      <td>...</td>\n",
              "      <td>...</td>\n",
              "      <td>...</td>\n",
              "      <td>...</td>\n",
              "    </tr>\n",
              "    <tr>\n",
              "      <th>5734</th>\n",
              "      <td>INFP</td>\n",
              "      <td>'I have 2 cats and a chihuahua/pug mix. It's r...</td>\n",
              "      <td>9</td>\n",
              "      <td>cats chihuahuapug mix really hard say prefer k...</td>\n",
              "    </tr>\n",
              "    <tr>\n",
              "      <th>5191</th>\n",
              "      <td>INFP</td>\n",
              "      <td>Ever since I can remember I have suffered/live...</td>\n",
              "      <td>9</td>\n",
              "      <td>ever since remember sufferedlived anxiety neve...</td>\n",
              "    </tr>\n",
              "    <tr>\n",
              "      <th>5390</th>\n",
              "      <td>INFJ</td>\n",
              "      <td>'I've known a couple of INFJ guys and they see...</td>\n",
              "      <td>8</td>\n",
              "      <td>ive known couple infj guys seem lack better te...</td>\n",
              "    </tr>\n",
              "    <tr>\n",
              "      <th>860</th>\n",
              "      <td>INFP</td>\n",
              "      <td>'Even the loner gets lonely. I feel like it's ...</td>\n",
              "      <td>9</td>\n",
              "      <td>even loner gets lonely feel like hard relation...</td>\n",
              "    </tr>\n",
              "    <tr>\n",
              "      <th>7270</th>\n",
              "      <td>INTJ</td>\n",
              "      <td>Before reading the responses to this thread, I...</td>\n",
              "      <td>10</td>\n",
              "      <td>reading responses thread wouldve said yes seem...</td>\n",
              "    </tr>\n",
              "  </tbody>\n",
              "</table>\n",
              "<p>6940 rows × 4 columns</p>\n",
              "</div>"
            ],
            "text/plain": [
              "      type  ...                                       cleaned_text\n",
              "4080  INFJ  ...  loved light not see anthony doerr pretty recen...\n",
              "2614  ENFP  ...  depends care fight get really aggressive thing...\n",
              "5414  ENTP  ...  welcome home sonny laughing strong tendency to...\n",
              "1039  ENFP  ...  thats really cool like anyone anything help ot...\n",
              "8294  ENTP  ...  duck named zeus nope see traits mammalian pred...\n",
              "...    ...  ...                                                ...\n",
              "5734  INFP  ...  cats chihuahuapug mix really hard say prefer k...\n",
              "5191  INFP  ...  ever since remember sufferedlived anxiety neve...\n",
              "5390  INFJ  ...  ive known couple infj guys seem lack better te...\n",
              "860   INFP  ...  even loner gets lonely feel like hard relation...\n",
              "7270  INTJ  ...  reading responses thread wouldve said yes seem...\n",
              "\n",
              "[6940 rows x 4 columns]"
            ]
          },
          "metadata": {
            "tags": []
          },
          "execution_count": 104
        }
      ]
    },
    {
      "cell_type": "code",
      "metadata": {
        "colab": {
          "base_uri": "https://localhost:8080/",
          "height": 417
        },
        "id": "U62ueslCk1i7",
        "outputId": "290e63a9-6470-4f1e-a7cf-516f4a6586a9"
      },
      "source": [
        "val"
      ],
      "execution_count": null,
      "outputs": [
        {
          "output_type": "execute_result",
          "data": {
            "text/html": [
              "<div>\n",
              "<style scoped>\n",
              "    .dataframe tbody tr th:only-of-type {\n",
              "        vertical-align: middle;\n",
              "    }\n",
              "\n",
              "    .dataframe tbody tr th {\n",
              "        vertical-align: top;\n",
              "    }\n",
              "\n",
              "    .dataframe thead th {\n",
              "        text-align: right;\n",
              "    }\n",
              "</style>\n",
              "<table border=\"1\" class=\"dataframe\">\n",
              "  <thead>\n",
              "    <tr style=\"text-align: right;\">\n",
              "      <th></th>\n",
              "      <th>type</th>\n",
              "      <th>text</th>\n",
              "      <th>type_index</th>\n",
              "      <th>cleaned_text</th>\n",
              "    </tr>\n",
              "  </thead>\n",
              "  <tbody>\n",
              "    <tr>\n",
              "      <th>2802</th>\n",
              "      <td>INTP</td>\n",
              "      <td>'This. When I lie it's to avoid an unreasonabl...</td>\n",
              "      <td>11</td>\n",
              "      <td>lie avoid unreasonable response something comp...</td>\n",
              "    </tr>\n",
              "    <tr>\n",
              "      <th>2166</th>\n",
              "      <td>INTJ</td>\n",
              "      <td>'I said zero flexibility and little time for d...</td>\n",
              "      <td>10</td>\n",
              "      <td>said zero flexibility little time dating going...</td>\n",
              "    </tr>\n",
              "    <tr>\n",
              "      <th>1919</th>\n",
              "      <td>INTP</td>\n",
              "      <td>'This has to be written with bias or something...</td>\n",
              "      <td>11</td>\n",
              "      <td>written bias something not sure could even say...</td>\n",
              "    </tr>\n",
              "    <tr>\n",
              "      <th>360</th>\n",
              "      <td>ENFP</td>\n",
              "      <td>'HAuhuHAuh You might be right Muhicz. I'm just...</td>\n",
              "      <td>1</td>\n",
              "      <td>hauhuhauh might right muhicz wondering steps c...</td>\n",
              "    </tr>\n",
              "    <tr>\n",
              "      <th>1115</th>\n",
              "      <td>ENTJ</td>\n",
              "      <td>'Her parents are kind of the go to college = g...</td>\n",
              "      <td>2</td>\n",
              "      <td>parents kind college good job people want stab...</td>\n",
              "    </tr>\n",
              "    <tr>\n",
              "      <th>...</th>\n",
              "      <td>...</td>\n",
              "      <td>...</td>\n",
              "      <td>...</td>\n",
              "      <td>...</td>\n",
              "    </tr>\n",
              "    <tr>\n",
              "      <th>7023</th>\n",
              "      <td>ISFJ</td>\n",
              "      <td>'What did I say?|||Then you don't understand. ...</td>\n",
              "      <td>12</td>\n",
              "      <td>say then dont understand opinion appreciated n...</td>\n",
              "    </tr>\n",
              "    <tr>\n",
              "      <th>6696</th>\n",
              "      <td>INTP</td>\n",
              "      <td>'https://www.youtube.com/watch?v=HRRUXaElOf0||...</td>\n",
              "      <td>11</td>\n",
              "      <td>could find niche making rated comic book movie...</td>\n",
              "    </tr>\n",
              "    <tr>\n",
              "      <th>6746</th>\n",
              "      <td>INFJ</td>\n",
              "      <td>'SCENARIO 1  FOCUS ON YOUR FEELING PROCESS HER...</td>\n",
              "      <td>8</td>\n",
              "      <td>scenario focus feeling process significant end...</td>\n",
              "    </tr>\n",
              "    <tr>\n",
              "      <th>7966</th>\n",
              "      <td>ISTJ</td>\n",
              "      <td>'Nuclear|||Since other folks have mentioned it...</td>\n",
              "      <td>14</td>\n",
              "      <td>nuclear since folks mentioned not like new fas...</td>\n",
              "    </tr>\n",
              "    <tr>\n",
              "      <th>6515</th>\n",
              "      <td>INTP</td>\n",
              "      <td>'Here's a short documentary about life as a Ca...</td>\n",
              "      <td>11</td>\n",
              "      <td>heres short documentary life canadian many peo...</td>\n",
              "    </tr>\n",
              "  </tbody>\n",
              "</table>\n",
              "<p>1735 rows × 4 columns</p>\n",
              "</div>"
            ],
            "text/plain": [
              "      type  ...                                       cleaned_text\n",
              "2802  INTP  ...  lie avoid unreasonable response something comp...\n",
              "2166  INTJ  ...  said zero flexibility little time dating going...\n",
              "1919  INTP  ...  written bias something not sure could even say...\n",
              "360   ENFP  ...  hauhuhauh might right muhicz wondering steps c...\n",
              "1115  ENTJ  ...  parents kind college good job people want stab...\n",
              "...    ...  ...                                                ...\n",
              "7023  ISFJ  ...  say then dont understand opinion appreciated n...\n",
              "6696  INTP  ...  could find niche making rated comic book movie...\n",
              "6746  INFJ  ...  scenario focus feeling process significant end...\n",
              "7966  ISTJ  ...  nuclear since folks mentioned not like new fas...\n",
              "6515  INTP  ...  heres short documentary life canadian many peo...\n",
              "\n",
              "[1735 rows x 4 columns]"
            ]
          },
          "metadata": {
            "tags": []
          },
          "execution_count": 106
        }
      ]
    },
    {
      "cell_type": "code",
      "metadata": {
        "colab": {
          "base_uri": "https://localhost:8080/"
        },
        "id": "9aY-Mypjk1i7",
        "outputId": "ae1c570b-2503-463f-9d7c-973a67665990"
      },
      "source": [
        "print (train.shape)\n",
        "print (val.shape)"
      ],
      "execution_count": null,
      "outputs": [
        {
          "output_type": "stream",
          "text": [
            "(6940, 4)\n",
            "(1735, 4)\n"
          ],
          "name": "stdout"
        }
      ]
    },
    {
      "cell_type": "markdown",
      "metadata": {
        "id": "WMfJFrV_vOiZ"
      },
      "source": [
        "#### applying one hot encoding to data for training process"
      ]
    },
    {
      "cell_type": "code",
      "metadata": {
        "id": "hwO_gRlVk1i9"
      },
      "source": [
        "import tensorflow as tf\n",
        "one_hot_labels = tf.keras.utils.to_categorical(train.type_index.values, num_classes=16)\n",
        "val_labels= tf.keras.utils.to_categorical(val.type_index.values, num_classes=16)"
      ],
      "execution_count": null,
      "outputs": []
    },
    {
      "cell_type": "code",
      "metadata": {
        "id": "y1c8H1xIk1i9",
        "colab": {
          "base_uri": "https://localhost:8080/"
        },
        "outputId": "347b346d-b65f-475f-ba30-70698d0c5d29"
      },
      "source": [
        "one_hot_labels[0]"
      ],
      "execution_count": null,
      "outputs": [
        {
          "output_type": "execute_result",
          "data": {
            "text/plain": [
              "array([0., 0., 0., 0., 0., 0., 0., 0., 1., 0., 0., 0., 0., 0., 0., 0.],\n",
              "      dtype=float32)"
            ]
          },
          "metadata": {
            "tags": []
          },
          "execution_count": 50
        }
      ]
    },
    {
      "cell_type": "markdown",
      "metadata": {
        "id": "iT95RnAWwMuG"
      },
      "source": [
        "**PART[1]** **LSTM MODEL**"
      ]
    },
    {
      "cell_type": "markdown",
      "metadata": {
        "id": "PGV62imQvU5A"
      },
      "source": [
        "#### model architecutre creation"
      ]
    },
    {
      "cell_type": "code",
      "metadata": {
        "id": "6PARqj5qk1i7"
      },
      "source": [
        "from tensorflow.keras.models import Sequential\n",
        "from tensorflow.keras.layers import Embedding, LSTM, Dense, Bidirectional, Flatten, Dropout, Conv1D, GlobalMaxPooling1D\n",
        "\n",
        "def create_model(lr, maxlen=120, vocab_size=10000):\n",
        "    op = tf.keras.optimizers.Adam(learning_rate=lr)\n",
        "\n",
        "    model = Sequential()\n",
        "    model.add(Embedding(vocab_size, 50, input_length=maxlen))\n",
        "    # model.add(Dropout(0.3))\n",
        "    model.add(Bidirectional(LSTM(16, return_sequences=False)))\n",
        "    # model.add(Dropout(0.3))\n",
        "    # model.add(Bidirectional(LSTM(100,return_sequences=True)))\n",
        "    # model.add(Dropout(0.3))\n",
        "    # model.add(Bidirectional(LSTM(50)))\n",
        "    # model.add(Dense(64, activation='relu'))\n",
        "    model.add(Dense(16, activation='softmax'))\n",
        "    model.compile(loss='categorical_crossentropy', optimizer=op, metrics=['accuracy'])\n",
        "    return model"
      ],
      "execution_count": null,
      "outputs": []
    },
    {
      "cell_type": "markdown",
      "metadata": {
        "id": "eAja4TqsvZyI"
      },
      "source": [
        "#### choosing some settings for data to be applied during training"
      ]
    },
    {
      "cell_type": "code",
      "metadata": {
        "id": "PohIbAGAk1i8"
      },
      "source": [
        "import tensorflow as tf\n",
        "from tensorflow.keras.preprocessing.text import Tokenizer\n",
        "from tensorflow.keras.preprocessing.sequence import pad_sequences\n",
        "\n",
        "vocab_size = 10000\n",
        "trunc_type = \"post\"\n",
        "pad_type = \"post\"\n",
        "oov_tok = \"<OOV>\"\n",
        "tokenizer = Tokenizer(num_words = vocab_size, oov_token=oov_tok)\n",
        "tokenizer.fit_on_texts(data.cleaned_text.values)"
      ],
      "execution_count": null,
      "outputs": []
    },
    {
      "cell_type": "markdown",
      "metadata": {
        "id": "ZNEPw7AsvlG6"
      },
      "source": [
        "#### convert data into tokens to be used for training"
      ]
    },
    {
      "cell_type": "code",
      "metadata": {
        "id": "UqrIUMJck1i8"
      },
      "source": [
        "maxlen = 120\n",
        "train_sequences = tokenizer.texts_to_sequences(train.cleaned_text.values)\n",
        "train_padded = pad_sequences(train_sequences, maxlen = maxlen, truncating = trunc_type, padding = pad_type)\n",
        "\n",
        "val_sequences = tokenizer.texts_to_sequences(val.cleaned_text.values)\n",
        "val_padded = pad_sequences(val_sequences, maxlen = maxlen, truncating = trunc_type, padding = pad_type)"
      ],
      "execution_count": null,
      "outputs": []
    },
    {
      "cell_type": "code",
      "metadata": {
        "colab": {
          "base_uri": "https://localhost:8080/"
        },
        "id": "ntQSyrbsk1i8",
        "outputId": "fde6b33c-e6ca-4ad0-ef33-31300a3aac4d"
      },
      "source": [
        "print (train_padded.shape)\n",
        "print (val_padded.shape)"
      ],
      "execution_count": null,
      "outputs": [
        {
          "output_type": "stream",
          "text": [
            "(6940, 120)\n",
            "(1735, 120)\n"
          ],
          "name": "stdout"
        }
      ]
    },
    {
      "cell_type": "markdown",
      "metadata": {
        "id": "_VRlfXe-vuRR"
      },
      "source": [
        "#### check for tpu to use it or not"
      ]
    },
    {
      "cell_type": "code",
      "metadata": {
        "colab": {
          "base_uri": "https://localhost:8080/"
        },
        "id": "hwsiPt0Zk1i8",
        "outputId": "4f9a829f-8e3f-4018-e913-ca238a8d560e"
      },
      "source": [
        "use_tpu = True\n",
        "lr, maxlen, vocab_size = 0.001, 120, 10000\n",
        "strategy = None\n",
        "if use_tpu:\n",
        "    # Create distribution strategy\n",
        "    tpu = tf.distribute.cluster_resolver.TPUClusterResolver()\n",
        "    tf.config.experimental_connect_to_cluster(tpu)\n",
        "    tf.tpu.experimental.initialize_tpu_system(tpu)\n",
        "    strategy = tf.distribute.experimental.TPUStrategy(tpu)\n",
        "\n",
        "    # Create model\n",
        "    with strategy.scope():\n",
        "        model = create_model(lr, maxlen, vocab_size)\n",
        "else:\n",
        "    model = create_model(lr, maxlen, vocab_size)\n",
        "\n",
        "model.summary()"
      ],
      "execution_count": null,
      "outputs": [
        {
          "output_type": "stream",
          "text": [
            "WARNING:tensorflow:TPU system grpc://10.94.236.106:8470 has already been initialized. Reinitializing the TPU can cause previously created variables on TPU to be lost.\n"
          ],
          "name": "stdout"
        },
        {
          "output_type": "stream",
          "text": [
            "WARNING:tensorflow:TPU system grpc://10.94.236.106:8470 has already been initialized. Reinitializing the TPU can cause previously created variables on TPU to be lost.\n"
          ],
          "name": "stderr"
        },
        {
          "output_type": "stream",
          "text": [
            "INFO:tensorflow:Initializing the TPU system: grpc://10.94.236.106:8470\n"
          ],
          "name": "stdout"
        },
        {
          "output_type": "stream",
          "text": [
            "INFO:tensorflow:Initializing the TPU system: grpc://10.94.236.106:8470\n"
          ],
          "name": "stderr"
        },
        {
          "output_type": "stream",
          "text": [
            "INFO:tensorflow:Clearing out eager caches\n"
          ],
          "name": "stdout"
        },
        {
          "output_type": "stream",
          "text": [
            "INFO:tensorflow:Clearing out eager caches\n"
          ],
          "name": "stderr"
        },
        {
          "output_type": "stream",
          "text": [
            "INFO:tensorflow:Finished initializing TPU system.\n"
          ],
          "name": "stdout"
        },
        {
          "output_type": "stream",
          "text": [
            "INFO:tensorflow:Finished initializing TPU system.\n",
            "WARNING:absl:`tf.distribute.experimental.TPUStrategy` is deprecated, please use  the non experimental symbol `tf.distribute.TPUStrategy` instead.\n"
          ],
          "name": "stderr"
        },
        {
          "output_type": "stream",
          "text": [
            "INFO:tensorflow:Found TPU system:\n"
          ],
          "name": "stdout"
        },
        {
          "output_type": "stream",
          "text": [
            "INFO:tensorflow:Found TPU system:\n"
          ],
          "name": "stderr"
        },
        {
          "output_type": "stream",
          "text": [
            "INFO:tensorflow:*** Num TPU Cores: 8\n"
          ],
          "name": "stdout"
        },
        {
          "output_type": "stream",
          "text": [
            "INFO:tensorflow:*** Num TPU Cores: 8\n"
          ],
          "name": "stderr"
        },
        {
          "output_type": "stream",
          "text": [
            "INFO:tensorflow:*** Num TPU Workers: 1\n"
          ],
          "name": "stdout"
        },
        {
          "output_type": "stream",
          "text": [
            "INFO:tensorflow:*** Num TPU Workers: 1\n"
          ],
          "name": "stderr"
        },
        {
          "output_type": "stream",
          "text": [
            "INFO:tensorflow:*** Num TPU Cores Per Worker: 8\n"
          ],
          "name": "stdout"
        },
        {
          "output_type": "stream",
          "text": [
            "INFO:tensorflow:*** Num TPU Cores Per Worker: 8\n"
          ],
          "name": "stderr"
        },
        {
          "output_type": "stream",
          "text": [
            "INFO:tensorflow:*** Available Device: _DeviceAttributes(/job:localhost/replica:0/task:0/device:CPU:0, CPU, 0, 0)\n"
          ],
          "name": "stdout"
        },
        {
          "output_type": "stream",
          "text": [
            "INFO:tensorflow:*** Available Device: _DeviceAttributes(/job:localhost/replica:0/task:0/device:CPU:0, CPU, 0, 0)\n"
          ],
          "name": "stderr"
        },
        {
          "output_type": "stream",
          "text": [
            "INFO:tensorflow:*** Available Device: _DeviceAttributes(/job:worker/replica:0/task:0/device:CPU:0, CPU, 0, 0)\n"
          ],
          "name": "stdout"
        },
        {
          "output_type": "stream",
          "text": [
            "INFO:tensorflow:*** Available Device: _DeviceAttributes(/job:worker/replica:0/task:0/device:CPU:0, CPU, 0, 0)\n"
          ],
          "name": "stderr"
        },
        {
          "output_type": "stream",
          "text": [
            "INFO:tensorflow:*** Available Device: _DeviceAttributes(/job:worker/replica:0/task:0/device:TPU:0, TPU, 0, 0)\n"
          ],
          "name": "stdout"
        },
        {
          "output_type": "stream",
          "text": [
            "INFO:tensorflow:*** Available Device: _DeviceAttributes(/job:worker/replica:0/task:0/device:TPU:0, TPU, 0, 0)\n"
          ],
          "name": "stderr"
        },
        {
          "output_type": "stream",
          "text": [
            "INFO:tensorflow:*** Available Device: _DeviceAttributes(/job:worker/replica:0/task:0/device:TPU:1, TPU, 0, 0)\n"
          ],
          "name": "stdout"
        },
        {
          "output_type": "stream",
          "text": [
            "INFO:tensorflow:*** Available Device: _DeviceAttributes(/job:worker/replica:0/task:0/device:TPU:1, TPU, 0, 0)\n"
          ],
          "name": "stderr"
        },
        {
          "output_type": "stream",
          "text": [
            "INFO:tensorflow:*** Available Device: _DeviceAttributes(/job:worker/replica:0/task:0/device:TPU:2, TPU, 0, 0)\n"
          ],
          "name": "stdout"
        },
        {
          "output_type": "stream",
          "text": [
            "INFO:tensorflow:*** Available Device: _DeviceAttributes(/job:worker/replica:0/task:0/device:TPU:2, TPU, 0, 0)\n"
          ],
          "name": "stderr"
        },
        {
          "output_type": "stream",
          "text": [
            "INFO:tensorflow:*** Available Device: _DeviceAttributes(/job:worker/replica:0/task:0/device:TPU:3, TPU, 0, 0)\n"
          ],
          "name": "stdout"
        },
        {
          "output_type": "stream",
          "text": [
            "INFO:tensorflow:*** Available Device: _DeviceAttributes(/job:worker/replica:0/task:0/device:TPU:3, TPU, 0, 0)\n"
          ],
          "name": "stderr"
        },
        {
          "output_type": "stream",
          "text": [
            "INFO:tensorflow:*** Available Device: _DeviceAttributes(/job:worker/replica:0/task:0/device:TPU:4, TPU, 0, 0)\n"
          ],
          "name": "stdout"
        },
        {
          "output_type": "stream",
          "text": [
            "INFO:tensorflow:*** Available Device: _DeviceAttributes(/job:worker/replica:0/task:0/device:TPU:4, TPU, 0, 0)\n"
          ],
          "name": "stderr"
        },
        {
          "output_type": "stream",
          "text": [
            "INFO:tensorflow:*** Available Device: _DeviceAttributes(/job:worker/replica:0/task:0/device:TPU:5, TPU, 0, 0)\n"
          ],
          "name": "stdout"
        },
        {
          "output_type": "stream",
          "text": [
            "INFO:tensorflow:*** Available Device: _DeviceAttributes(/job:worker/replica:0/task:0/device:TPU:5, TPU, 0, 0)\n"
          ],
          "name": "stderr"
        },
        {
          "output_type": "stream",
          "text": [
            "INFO:tensorflow:*** Available Device: _DeviceAttributes(/job:worker/replica:0/task:0/device:TPU:6, TPU, 0, 0)\n"
          ],
          "name": "stdout"
        },
        {
          "output_type": "stream",
          "text": [
            "INFO:tensorflow:*** Available Device: _DeviceAttributes(/job:worker/replica:0/task:0/device:TPU:6, TPU, 0, 0)\n"
          ],
          "name": "stderr"
        },
        {
          "output_type": "stream",
          "text": [
            "INFO:tensorflow:*** Available Device: _DeviceAttributes(/job:worker/replica:0/task:0/device:TPU:7, TPU, 0, 0)\n"
          ],
          "name": "stdout"
        },
        {
          "output_type": "stream",
          "text": [
            "INFO:tensorflow:*** Available Device: _DeviceAttributes(/job:worker/replica:0/task:0/device:TPU:7, TPU, 0, 0)\n"
          ],
          "name": "stderr"
        },
        {
          "output_type": "stream",
          "text": [
            "INFO:tensorflow:*** Available Device: _DeviceAttributes(/job:worker/replica:0/task:0/device:TPU_SYSTEM:0, TPU_SYSTEM, 0, 0)\n"
          ],
          "name": "stdout"
        },
        {
          "output_type": "stream",
          "text": [
            "INFO:tensorflow:*** Available Device: _DeviceAttributes(/job:worker/replica:0/task:0/device:TPU_SYSTEM:0, TPU_SYSTEM, 0, 0)\n"
          ],
          "name": "stderr"
        },
        {
          "output_type": "stream",
          "text": [
            "INFO:tensorflow:*** Available Device: _DeviceAttributes(/job:worker/replica:0/task:0/device:XLA_CPU:0, XLA_CPU, 0, 0)\n"
          ],
          "name": "stdout"
        },
        {
          "output_type": "stream",
          "text": [
            "INFO:tensorflow:*** Available Device: _DeviceAttributes(/job:worker/replica:0/task:0/device:XLA_CPU:0, XLA_CPU, 0, 0)\n"
          ],
          "name": "stderr"
        },
        {
          "output_type": "stream",
          "text": [
            "Model: \"sequential\"\n",
            "_________________________________________________________________\n",
            "Layer (type)                 Output Shape              Param #   \n",
            "=================================================================\n",
            "embedding (Embedding)        (None, 120, 50)           500000    \n",
            "_________________________________________________________________\n",
            "bidirectional (Bidirectional (None, 32)                8576      \n",
            "_________________________________________________________________\n",
            "dense (Dense)                (None, 16)                528       \n",
            "=================================================================\n",
            "Total params: 509,104\n",
            "Trainable params: 509,104\n",
            "Non-trainable params: 0\n",
            "_________________________________________________________________\n"
          ],
          "name": "stdout"
        }
      ]
    },
    {
      "cell_type": "markdown",
      "metadata": {
        "id": "LvmCm6Mcvx4n"
      },
      "source": [
        "#### traing model with certain batch size"
      ]
    },
    {
      "cell_type": "code",
      "metadata": {
        "colab": {
          "base_uri": "https://localhost:8080/"
        },
        "id": "deKkB1cAk1i9",
        "outputId": "930b351b-d6ca-4599-dbfd-c15bb7807f19"
      },
      "source": [
        "batch_size = 16\n",
        "tf.keras.backend.clear_session()\n",
        "\n",
        "history = model.fit(train_padded, one_hot_labels, epochs =50, verbose = 1, \n",
        "          validation_data = (val_padded, val_labels),  batch_size = batch_size)"
      ],
      "execution_count": null,
      "outputs": [
        {
          "output_type": "stream",
          "text": [
            "Epoch 1/50\n"
          ],
          "name": "stdout"
        },
        {
          "output_type": "stream",
          "text": [
            "INFO:absl:TPU has inputs with dynamic shapes: [<tf.Tensor 'Const:0' shape=() dtype=int32>, <tf.Tensor 'cond_8/Identity:0' shape=(None, 120) dtype=int32>, <tf.Tensor 'cond_8/Identity_1:0' shape=(None, 16) dtype=float32>]\n",
            "INFO:absl:TPU has inputs with dynamic shapes: [<tf.Tensor 'Const:0' shape=() dtype=int32>, <tf.Tensor 'cond_8/Identity:0' shape=(None, 120) dtype=int32>, <tf.Tensor 'cond_8/Identity_1:0' shape=(None, 16) dtype=float32>]\n"
          ],
          "name": "stderr"
        },
        {
          "output_type": "stream",
          "text": [
            "433/434 [============================>.] - ETA: 0s - loss: 2.3288 - accuracy: 0.2099"
          ],
          "name": "stdout"
        },
        {
          "output_type": "stream",
          "text": [
            "INFO:absl:TPU has inputs with dynamic shapes: [<tf.Tensor 'Const:0' shape=() dtype=int32>, <tf.Tensor 'cond_8/Identity:0' shape=(None, 120) dtype=int32>, <tf.Tensor 'cond_8/Identity_1:0' shape=(None, 16) dtype=float32>]\n"
          ],
          "name": "stderr"
        },
        {
          "output_type": "stream",
          "text": [
            "434/434 [==============================] - 20s 30ms/step - loss: 2.3284 - accuracy: 0.2098 - val_loss: 2.2793 - val_accuracy: 0.2133\n",
            "Epoch 2/50\n",
            "434/434 [==============================] - 11s 25ms/step - loss: 2.1742 - accuracy: 0.2491 - val_loss: 2.2708 - val_accuracy: 0.2288\n",
            "Epoch 3/50\n",
            "434/434 [==============================] - 11s 25ms/step - loss: 1.6823 - accuracy: 0.4716 - val_loss: 2.3935 - val_accuracy: 0.2311\n",
            "Epoch 4/50\n",
            "434/434 [==============================] - 12s 27ms/step - loss: 1.0850 - accuracy: 0.6733 - val_loss: 2.6840 - val_accuracy: 0.2046\n",
            "Epoch 5/50\n",
            "434/434 [==============================] - 12s 27ms/step - loss: 0.6550 - accuracy: 0.8220 - val_loss: 3.1012 - val_accuracy: 0.1908\n",
            "Epoch 6/50\n",
            "434/434 [==============================] - 12s 27ms/step - loss: 0.4088 - accuracy: 0.9030 - val_loss: 3.3460 - val_accuracy: 0.1890\n",
            "Epoch 7/50\n",
            "434/434 [==============================] - 12s 27ms/step - loss: 0.2639 - accuracy: 0.9445 - val_loss: 3.7804 - val_accuracy: 0.2052\n",
            "Epoch 8/50\n",
            "434/434 [==============================] - 11s 25ms/step - loss: 0.1764 - accuracy: 0.9667 - val_loss: 4.0149 - val_accuracy: 0.2040\n",
            "Epoch 9/50\n",
            "434/434 [==============================] - 11s 25ms/step - loss: 0.1135 - accuracy: 0.9816 - val_loss: 4.2832 - val_accuracy: 0.1988\n",
            "Epoch 10/50\n",
            "434/434 [==============================] - 11s 26ms/step - loss: 0.0824 - accuracy: 0.9869 - val_loss: 4.4437 - val_accuracy: 0.1971\n",
            "Epoch 11/50\n",
            "434/434 [==============================] - 12s 27ms/step - loss: 0.0592 - accuracy: 0.9927 - val_loss: 4.6781 - val_accuracy: 0.1942\n",
            "Epoch 12/50\n",
            "434/434 [==============================] - 12s 27ms/step - loss: 0.0411 - accuracy: 0.9961 - val_loss: 4.7664 - val_accuracy: 0.1942\n",
            "Epoch 13/50\n",
            "434/434 [==============================] - 11s 26ms/step - loss: 0.0486 - accuracy: 0.9929 - val_loss: 4.8698 - val_accuracy: 0.1850\n",
            "Epoch 14/50\n",
            "434/434 [==============================] - 11s 26ms/step - loss: 0.0481 - accuracy: 0.9928 - val_loss: 5.1725 - val_accuracy: 0.1827\n",
            "Epoch 15/50\n",
            "434/434 [==============================] - 11s 26ms/step - loss: 0.0307 - accuracy: 0.9961 - val_loss: 5.3594 - val_accuracy: 0.1810\n",
            "Epoch 16/50\n",
            "434/434 [==============================] - 12s 27ms/step - loss: 0.0124 - accuracy: 0.9991 - val_loss: 5.4702 - val_accuracy: 0.1862\n",
            "Epoch 17/50\n",
            "434/434 [==============================] - 12s 27ms/step - loss: 0.0079 - accuracy: 0.9996 - val_loss: 5.6063 - val_accuracy: 0.1821\n",
            "Epoch 18/50\n",
            "434/434 [==============================] - 12s 27ms/step - loss: 0.0054 - accuracy: 0.9997 - val_loss: 5.7111 - val_accuracy: 0.1833\n",
            "Epoch 19/50\n",
            "434/434 [==============================] - 11s 26ms/step - loss: 0.0040 - accuracy: 0.9999 - val_loss: 5.8295 - val_accuracy: 0.1850\n",
            "Epoch 20/50\n",
            "434/434 [==============================] - 11s 25ms/step - loss: 0.0031 - accuracy: 0.9999 - val_loss: 5.9345 - val_accuracy: 0.1885\n",
            "Epoch 21/50\n",
            "434/434 [==============================] - 11s 26ms/step - loss: 0.0027 - accuracy: 0.9999 - val_loss: 6.0507 - val_accuracy: 0.1873\n",
            "Epoch 22/50\n",
            "434/434 [==============================] - 12s 27ms/step - loss: 0.0021 - accuracy: 0.9999 - val_loss: 6.1562 - val_accuracy: 0.1839\n",
            "Epoch 23/50\n",
            "434/434 [==============================] - 12s 27ms/step - loss: 0.0017 - accuracy: 0.9999 - val_loss: 6.2671 - val_accuracy: 0.1850\n",
            "Epoch 24/50\n",
            "434/434 [==============================] - 12s 27ms/step - loss: 0.0027 - accuracy: 0.9996 - val_loss: 6.2693 - val_accuracy: 0.1844\n",
            "Epoch 25/50\n",
            "434/434 [==============================] - 11s 26ms/step - loss: 0.2584 - accuracy: 0.9154 - val_loss: 5.6761 - val_accuracy: 0.1948\n",
            "Epoch 26/50\n",
            "434/434 [==============================] - 11s 26ms/step - loss: 0.0542 - accuracy: 0.9873 - val_loss: 5.7197 - val_accuracy: 0.1965\n",
            "Epoch 27/50\n",
            "434/434 [==============================] - 11s 26ms/step - loss: 0.0094 - accuracy: 0.9994 - val_loss: 5.8610 - val_accuracy: 0.1960\n",
            "Epoch 28/50\n",
            "434/434 [==============================] - 11s 26ms/step - loss: 0.0045 - accuracy: 1.0000 - val_loss: 5.9915 - val_accuracy: 0.2017\n",
            "Epoch 29/50\n",
            "434/434 [==============================] - 11s 25ms/step - loss: 0.0033 - accuracy: 1.0000 - val_loss: 6.0720 - val_accuracy: 0.1994\n",
            "Epoch 30/50\n",
            "434/434 [==============================] - 11s 26ms/step - loss: 0.0026 - accuracy: 1.0000 - val_loss: 6.1478 - val_accuracy: 0.1977\n",
            "Epoch 31/50\n",
            "434/434 [==============================] - 12s 27ms/step - loss: 0.0021 - accuracy: 1.0000 - val_loss: 6.2282 - val_accuracy: 0.2000\n",
            "Epoch 32/50\n",
            "434/434 [==============================] - 12s 28ms/step - loss: 0.0018 - accuracy: 1.0000 - val_loss: 6.3045 - val_accuracy: 0.1977\n",
            "Epoch 33/50\n",
            "434/434 [==============================] - 12s 27ms/step - loss: 0.0015 - accuracy: 1.0000 - val_loss: 6.3687 - val_accuracy: 0.2000\n",
            "Epoch 34/50\n",
            "434/434 [==============================] - 11s 26ms/step - loss: 0.0012 - accuracy: 1.0000 - val_loss: 6.4556 - val_accuracy: 0.1977\n",
            "Epoch 35/50\n",
            "434/434 [==============================] - 11s 26ms/step - loss: 0.0010 - accuracy: 1.0000 - val_loss: 6.5298 - val_accuracy: 0.1977\n",
            "Epoch 36/50\n",
            "434/434 [==============================] - 12s 27ms/step - loss: 8.7418e-04 - accuracy: 1.0000 - val_loss: 6.6214 - val_accuracy: 0.1983\n",
            "Epoch 37/50\n",
            "434/434 [==============================] - 12s 27ms/step - loss: 7.0728e-04 - accuracy: 1.0000 - val_loss: 6.7016 - val_accuracy: 0.1965\n",
            "Epoch 38/50\n",
            "434/434 [==============================] - 12s 27ms/step - loss: 6.1626e-04 - accuracy: 1.0000 - val_loss: 6.7885 - val_accuracy: 0.1954\n",
            "Epoch 39/50\n",
            "434/434 [==============================] - 11s 26ms/step - loss: 5.0437e-04 - accuracy: 1.0000 - val_loss: 6.8656 - val_accuracy: 0.1965\n",
            "Epoch 40/50\n",
            "434/434 [==============================] - 11s 26ms/step - loss: 4.1896e-04 - accuracy: 1.0000 - val_loss: 6.9808 - val_accuracy: 0.1983\n",
            "Epoch 41/50\n",
            "434/434 [==============================] - 11s 26ms/step - loss: 3.5253e-04 - accuracy: 1.0000 - val_loss: 7.0600 - val_accuracy: 0.1965\n",
            "Epoch 42/50\n",
            "434/434 [==============================] - 12s 27ms/step - loss: 2.9158e-04 - accuracy: 1.0000 - val_loss: 7.1582 - val_accuracy: 0.1971\n",
            "Epoch 43/50\n",
            "434/434 [==============================] - 12s 27ms/step - loss: 2.3833e-04 - accuracy: 1.0000 - val_loss: 7.2497 - val_accuracy: 0.1977\n",
            "Epoch 44/50\n",
            "434/434 [==============================] - 11s 26ms/step - loss: 1.9402e-04 - accuracy: 1.0000 - val_loss: 7.3587 - val_accuracy: 0.1977\n",
            "Epoch 45/50\n",
            "434/434 [==============================] - 11s 26ms/step - loss: 1.5879e-04 - accuracy: 1.0000 - val_loss: 7.4656 - val_accuracy: 0.1931\n",
            "Epoch 46/50\n",
            "434/434 [==============================] - 11s 26ms/step - loss: 1.3454e-04 - accuracy: 1.0000 - val_loss: 7.5754 - val_accuracy: 0.1931\n",
            "Epoch 47/50\n",
            "434/434 [==============================] - 11s 26ms/step - loss: 0.1137 - accuracy: 0.9651 - val_loss: 6.7449 - val_accuracy: 0.1890\n",
            "Epoch 48/50\n",
            "434/434 [==============================] - 12s 27ms/step - loss: 0.1015 - accuracy: 0.9680 - val_loss: 6.7506 - val_accuracy: 0.1787\n",
            "Epoch 49/50\n",
            "434/434 [==============================] - 12s 27ms/step - loss: 0.0122 - accuracy: 0.9974 - val_loss: 6.7634 - val_accuracy: 0.1741\n",
            "Epoch 50/50\n",
            "434/434 [==============================] - 12s 27ms/step - loss: 0.0023 - accuracy: 1.0000 - val_loss: 6.9347 - val_accuracy: 0.1816\n"
          ],
          "name": "stdout"
        }
      ]
    },
    {
      "cell_type": "code",
      "metadata": {
        "id": "oXOQx4zxuexx"
      },
      "source": [
        "path = \"drive/MyDrive/personality_model_lr_\"+str(lr)+\".h5\"\n",
        "model.save(path)"
      ],
      "execution_count": null,
      "outputs": []
    },
    {
      "cell_type": "markdown",
      "metadata": {
        "id": "zSS7_nKAv34D"
      },
      "source": [
        "##### plotting results of training and validation"
      ]
    },
    {
      "cell_type": "code",
      "metadata": {
        "colab": {
          "base_uri": "https://localhost:8080/",
          "height": 573
        },
        "id": "Vy__9BJQ0Ys4",
        "outputId": "081f9b1b-000d-44b0-a5cb-4e97777c18d2"
      },
      "source": [
        "import matplotlib.pyplot as plt\n",
        "\n",
        "# model: drop out, two layers, 64-400-200-64-16\n",
        "# model_1: no drop out, 64-400-200-64-16\n",
        "# model_2: three layers: 256-400-200-100-64-16\n",
        "\n",
        "file_name = \"model_1_lr_\"+str(lr)\n",
        "# plot accuracy\n",
        "# print(history.history.keys())\n",
        "# summarize history for accuracy\n",
        "plt.plot(history.history['accuracy'])\n",
        "plt.plot(history.history['val_accuracy'])\n",
        "plt.title('model accuracy')\n",
        "plt.ylabel('accuracy')\n",
        "plt.xlabel('epoch')\n",
        "plt.legend(['train', 'test'], loc='upper left')\n",
        "path = \"drive/MyDrive/\"+file_name+\"_acc.jpg\"\n",
        "plt.savefig(dpi=200, fname=path)\n",
        "plt.show()\n",
        "# summarize history for loss\n",
        "plt.plot(history.history['loss'])\n",
        "plt.plot(history.history['val_loss'])\n",
        "plt.title('model loss')\n",
        "plt.ylabel('loss')\n",
        "plt.xlabel('epoch')\n",
        "plt.legend(['train', 'test'], loc='upper left')\n",
        "path = \"drive/MyDrive/\"+file_name+\"_loss.jpg\"\n",
        "plt.savefig(dpi=200, fname=path)\n",
        "plt.show()"
      ],
      "execution_count": null,
      "outputs": [
        {
          "output_type": "display_data",
          "data": {
            "image/png": "[encoded data removed]",
            "text/plain": [
              "<Figure size 432x288 with 1 Axes>"
            ]
          },
          "metadata": {
            "tags": [],
            "needs_background": "light"
          }
        },
        {
          "output_type": "display_data",
          "data": {
            "image/png": "[encoded data removed]",
            "text/plain": [
              "<Figure size 432x288 with 1 Axes>"
            ]
          },
          "metadata": {
            "tags": [],
            "needs_background": "light"
          }
        }
      ]
    },
    {
      "cell_type": "markdown",
      "metadata": {
        "id": "57XbrOHRbpIS"
      },
      "source": [
        "**PART[2]** **BERT PRETRAINED MODEL**"
      ]
    },
    {
      "cell_type": "markdown",
      "metadata": {
        "id": "r3WlFPxhv-N8"
      },
      "source": [
        "#### Model architecutre creation"
      ]
    },
    {
      "cell_type": "code",
      "metadata": {
        "id": "EEM_iY2RhHBi"
      },
      "source": [
        "# applying bert model\n",
        "maxlen = 512\n",
        "def create_model_bert(): \n",
        "    input_word_ids = tf.keras.layers.Input(shape=(maxlen,), dtype=tf.int32,\n",
        "                                           name=\"input_word_ids\")\n",
        "    bert_layer = transformers.TFBertModel.from_pretrained('bert-base-uncased')\n",
        "    bert_outputs = bert_layer(input_word_ids)[0]\n",
        "    reduce = tf.keras.layers.Dense(50, activation='relu')(bert_outputs[:,0,:])\n",
        "    pred = tf.keras.layers.Dense(16, activation='softmax')(reduce)\n",
        "    \n",
        "    model = tf.keras.models.Model(inputs=input_word_ids, outputs=pred)\n",
        "    loss = tf.keras.losses.SparseCategoricalCrossentropy(from_logits=True)\n",
        "    model.compile(loss='categorical_crossentropy', optimizer=tf.keras.optimizers.Adam(\n",
        "    learning_rate=0.00001), metrics=['accuracy'])\n",
        "    return model"
      ],
      "execution_count": null,
      "outputs": []
    },
    {
      "cell_type": "markdown",
      "metadata": {
        "id": "r4hK6iBvwXsi"
      },
      "source": [
        "#### tokenize data into same model tokenizer (bert-base-uncased)"
      ]
    },
    {
      "cell_type": "code",
      "metadata": {
        "colab": {
          "base_uri": "https://localhost:8080/",
          "height": 288,
          "referenced_widgets": [
            "d5e2621582c7401cbea057b909c1fd8e",
            "babdb415c14b4baaa114786d2937ad29",
            "4b493e1fc2d64d8d8af2d9bf73842f95",
            "a1f63a4d47354f749b524bd73332f316",
            "7743bab3eb1c46a4a2db1899ebdb0e71",
            "11377c2b9a1445c0ac6717fa0ea54dab",
            "1be579392c0543baa4910f353a344608",
            "db4d97bd365949b49a6fae7b9ff3b5a3",
            "c5b4228a3b7f4bbeab083f162dd0a427",
            "ea00c00454eb4f14a51c018dc78779a6",
            "974feb846006471bb3b8b3ee673b7e0f",
            "e5b81782cab9442cabe587a5b24b3397",
            "8184464ffaf04ad8a353e4d80228280b",
            "241f535a976e40b79ea35574da0c83b0",
            "92d693fa21cd42ecb4d43ce0b32552e2",
            "da8c9ea6736c459b8863285a87f0f5a7",
            "ff94d2137f5d4a6cb832b1a3efdacc00",
            "d56c4d3581c14dd781b8f191749ac6d3",
            "b8280ae303624c2fb60bf2ae7cf55f6d",
            "281bc02b99f641b88f6b98e96d17eb2d",
            "f83f79e2e6594ec682d13d23e740ca29",
            "14bfc4ccb80f490b991e25feb54477bc",
            "29af69e5b1e44d5c9c951242d6ad3fb4",
            "62ad2f0ef88f430e81bd73dd6cd91f64",
            "7041c4d7f11145389bbebb1fe6dc0994",
            "c2304707d95943bfb65c2ce2f3180e42",
            "2b8768570ece45088fa2117e7aebcc5b",
            "02225e6546014ce0a820a843e30937fd",
            "817d0ea4c96849079c61e19b196de66e",
            "a929d706cc0a4438beffbee9667c26ac",
            "16464cdd64cf421593c26c93346e5747",
            "0020c447d6f94fdebb73f98ba62e2617"
          ]
        },
        "id": "iWB3Fpglt5EC",
        "outputId": "2c63b83a-50d0-4bb2-8888-9bd30e5f84ee"
      },
      "source": [
        "tokenizer = transformers.AutoTokenizer.from_pretrained('bert-base-uncased')\n",
        "\n",
        "train_input_ids = [tokenizer.encode(str(i), max_length = maxlen , pad_to_max_length = True) for i in train.cleaned_text.values]\n",
        "val_input_ids = [tokenizer.encode(str(i), max_length = maxlen , pad_to_max_length = True) for i in val.cleaned_text.values]"
      ],
      "execution_count": null,
      "outputs": [
        {
          "output_type": "display_data",
          "data": {
            "application/vnd.jupyter.widget-view+json": {
              "model_id": "d5e2621582c7401cbea057b909c1fd8e",
              "version_minor": 0,
              "version_major": 2
            },
            "text/plain": [
              "HBox(children=(FloatProgress(value=0.0, description='Downloading', max=28.0, style=ProgressStyle(description_w…"
            ]
          },
          "metadata": {
            "tags": []
          }
        },
        {
          "output_type": "stream",
          "text": [
            "\n"
          ],
          "name": "stdout"
        },
        {
          "output_type": "display_data",
          "data": {
            "application/vnd.jupyter.widget-view+json": {
              "model_id": "c5b4228a3b7f4bbeab083f162dd0a427",
              "version_minor": 0,
              "version_major": 2
            },
            "text/plain": [
              "HBox(children=(FloatProgress(value=0.0, description='Downloading', max=570.0, style=ProgressStyle(description_…"
            ]
          },
          "metadata": {
            "tags": []
          }
        },
        {
          "output_type": "stream",
          "text": [
            "\n"
          ],
          "name": "stdout"
        },
        {
          "output_type": "display_data",
          "data": {
            "application/vnd.jupyter.widget-view+json": {
              "model_id": "ff94d2137f5d4a6cb832b1a3efdacc00",
              "version_minor": 0,
              "version_major": 2
            },
            "text/plain": [
              "HBox(children=(FloatProgress(value=0.0, description='Downloading', max=231508.0, style=ProgressStyle(descripti…"
            ]
          },
          "metadata": {
            "tags": []
          }
        },
        {
          "output_type": "stream",
          "text": [
            "\n"
          ],
          "name": "stdout"
        },
        {
          "output_type": "display_data",
          "data": {
            "application/vnd.jupyter.widget-view+json": {
              "model_id": "7041c4d7f11145389bbebb1fe6dc0994",
              "version_minor": 0,
              "version_major": 2
            },
            "text/plain": [
              "HBox(children=(FloatProgress(value=0.0, description='Downloading', max=466062.0, style=ProgressStyle(descripti…"
            ]
          },
          "metadata": {
            "tags": []
          }
        },
        {
          "output_type": "stream",
          "text": [
            "\n"
          ],
          "name": "stdout"
        },
        {
          "output_type": "stream",
          "text": [
            "Truncation was not explicitly activated but `max_length` is provided a specific value, please use `truncation=True` to explicitly truncate examples to max length. Defaulting to 'longest_first' truncation strategy. If you encode pairs of sequences (GLUE-style) with the tokenizer you can select this strategy more precisely by providing a specific strategy to `truncation`.\n",
            "/usr/local/lib/python3.7/dist-packages/transformers/tokenization_utils_base.py:2190: FutureWarning: The `pad_to_max_length` argument is deprecated and will be removed in a future version, use `padding=True` or `padding='longest'` to pad to the longest sequence in the batch, or use `padding='max_length'` to pad to a max length. In this case, you can give a specific length with `max_length` (e.g. `max_length=45`) or leave max_length to None to pad to the maximal input size of the model (e.g. 512 for Bert).\n",
            "  FutureWarning,\n"
          ],
          "name": "stderr"
        }
      ]
    },
    {
      "cell_type": "markdown",
      "metadata": {
        "id": "U3Pr1s9vwgop"
      },
      "source": [
        "#### check to use tpu or not"
      ]
    },
    {
      "cell_type": "code",
      "metadata": {
        "colab": {
          "base_uri": "https://localhost:8080/",
          "height": 1000,
          "referenced_widgets": [
            "909ce0ad62d546ce8eb0f3a5a893dc4c",
            "f8bba8899f9d4967a181c5a923c1cc64",
            "61478d2cde0949f9addeb9ea28581374",
            "51f4653e3b38406890ccdf66bcd93b96",
            "86460d150f4d491a904dfca8dd40ed35",
            "3ddeebf1b4b84215afa910fc9bfb531e",
            "69b3bc2552d9471a9f5a2f37972b1e0d",
            "ed69f4d113aa4e45bc1ecef70601e3fc"
          ]
        },
        "id": "Jy-KriL3tJFo",
        "outputId": "839e511a-447d-4bcb-b74b-86ce848ce6c2"
      },
      "source": [
        "use_tpu = True\n",
        "if use_tpu:\n",
        "    # Create distribution strategy\n",
        "    tpu = tf.distribute.cluster_resolver.TPUClusterResolver()\n",
        "    tf.config.experimental_connect_to_cluster(tpu)\n",
        "    tf.tpu.experimental.initialize_tpu_system(tpu)\n",
        "    strategy = tf.distribute.experimental.TPUStrategy(tpu)\n",
        "\n",
        "    # Create model\n",
        "    with strategy.scope():\n",
        "        model = create_model_bert()\n",
        "else:\n",
        "    model = create_model_bert()\n",
        "    \n",
        "model.summary()"
      ],
      "execution_count": null,
      "outputs": [
        {
          "output_type": "stream",
          "text": [
            "WARNING:tensorflow:TPU system grpc://10.94.236.106:8470 has already been initialized. Reinitializing the TPU can cause previously created variables on TPU to be lost.\n"
          ],
          "name": "stdout"
        },
        {
          "output_type": "stream",
          "text": [
            "WARNING:tensorflow:TPU system grpc://10.94.236.106:8470 has already been initialized. Reinitializing the TPU can cause previously created variables on TPU to be lost.\n"
          ],
          "name": "stderr"
        },
        {
          "output_type": "stream",
          "text": [
            "INFO:tensorflow:Initializing the TPU system: grpc://10.94.236.106:8470\n"
          ],
          "name": "stdout"
        },
        {
          "output_type": "stream",
          "text": [
            "INFO:tensorflow:Initializing the TPU system: grpc://10.94.236.106:8470\n"
          ],
          "name": "stderr"
        },
        {
          "output_type": "stream",
          "text": [
            "INFO:tensorflow:Clearing out eager caches\n"
          ],
          "name": "stdout"
        },
        {
          "output_type": "stream",
          "text": [
            "INFO:tensorflow:Clearing out eager caches\n"
          ],
          "name": "stderr"
        },
        {
          "output_type": "stream",
          "text": [
            "INFO:tensorflow:Finished initializing TPU system.\n"
          ],
          "name": "stdout"
        },
        {
          "output_type": "stream",
          "text": [
            "INFO:tensorflow:Finished initializing TPU system.\n",
            "WARNING:absl:`tf.distribute.experimental.TPUStrategy` is deprecated, please use  the non experimental symbol `tf.distribute.TPUStrategy` instead.\n"
          ],
          "name": "stderr"
        },
        {
          "output_type": "stream",
          "text": [
            "INFO:tensorflow:Found TPU system:\n"
          ],
          "name": "stdout"
        },
        {
          "output_type": "stream",
          "text": [
            "INFO:tensorflow:Found TPU system:\n"
          ],
          "name": "stderr"
        },
        {
          "output_type": "stream",
          "text": [
            "INFO:tensorflow:*** Num TPU Cores: 8\n"
          ],
          "name": "stdout"
        },
        {
          "output_type": "stream",
          "text": [
            "INFO:tensorflow:*** Num TPU Cores: 8\n"
          ],
          "name": "stderr"
        },
        {
          "output_type": "stream",
          "text": [
            "INFO:tensorflow:*** Num TPU Workers: 1\n"
          ],
          "name": "stdout"
        },
        {
          "output_type": "stream",
          "text": [
            "INFO:tensorflow:*** Num TPU Workers: 1\n"
          ],
          "name": "stderr"
        },
        {
          "output_type": "stream",
          "text": [
            "INFO:tensorflow:*** Num TPU Cores Per Worker: 8\n"
          ],
          "name": "stdout"
        },
        {
          "output_type": "stream",
          "text": [
            "INFO:tensorflow:*** Num TPU Cores Per Worker: 8\n"
          ],
          "name": "stderr"
        },
        {
          "output_type": "stream",
          "text": [
            "INFO:tensorflow:*** Available Device: _DeviceAttributes(/job:localhost/replica:0/task:0/device:CPU:0, CPU, 0, 0)\n"
          ],
          "name": "stdout"
        },
        {
          "output_type": "stream",
          "text": [
            "INFO:tensorflow:*** Available Device: _DeviceAttributes(/job:localhost/replica:0/task:0/device:CPU:0, CPU, 0, 0)\n"
          ],
          "name": "stderr"
        },
        {
          "output_type": "stream",
          "text": [
            "INFO:tensorflow:*** Available Device: _DeviceAttributes(/job:worker/replica:0/task:0/device:CPU:0, CPU, 0, 0)\n"
          ],
          "name": "stdout"
        },
        {
          "output_type": "stream",
          "text": [
            "INFO:tensorflow:*** Available Device: _DeviceAttributes(/job:worker/replica:0/task:0/device:CPU:0, CPU, 0, 0)\n"
          ],
          "name": "stderr"
        },
        {
          "output_type": "stream",
          "text": [
            "INFO:tensorflow:*** Available Device: _DeviceAttributes(/job:worker/replica:0/task:0/device:TPU:0, TPU, 0, 0)\n"
          ],
          "name": "stdout"
        },
        {
          "output_type": "stream",
          "text": [
            "INFO:tensorflow:*** Available Device: _DeviceAttributes(/job:worker/replica:0/task:0/device:TPU:0, TPU, 0, 0)\n"
          ],
          "name": "stderr"
        },
        {
          "output_type": "stream",
          "text": [
            "INFO:tensorflow:*** Available Device: _DeviceAttributes(/job:worker/replica:0/task:0/device:TPU:1, TPU, 0, 0)\n"
          ],
          "name": "stdout"
        },
        {
          "output_type": "stream",
          "text": [
            "INFO:tensorflow:*** Available Device: _DeviceAttributes(/job:worker/replica:0/task:0/device:TPU:1, TPU, 0, 0)\n"
          ],
          "name": "stderr"
        },
        {
          "output_type": "stream",
          "text": [
            "INFO:tensorflow:*** Available Device: _DeviceAttributes(/job:worker/replica:0/task:0/device:TPU:2, TPU, 0, 0)\n"
          ],
          "name": "stdout"
        },
        {
          "output_type": "stream",
          "text": [
            "INFO:tensorflow:*** Available Device: _DeviceAttributes(/job:worker/replica:0/task:0/device:TPU:2, TPU, 0, 0)\n"
          ],
          "name": "stderr"
        },
        {
          "output_type": "stream",
          "text": [
            "INFO:tensorflow:*** Available Device: _DeviceAttributes(/job:worker/replica:0/task:0/device:TPU:3, TPU, 0, 0)\n"
          ],
          "name": "stdout"
        },
        {
          "output_type": "stream",
          "text": [
            "INFO:tensorflow:*** Available Device: _DeviceAttributes(/job:worker/replica:0/task:0/device:TPU:3, TPU, 0, 0)\n"
          ],
          "name": "stderr"
        },
        {
          "output_type": "stream",
          "text": [
            "INFO:tensorflow:*** Available Device: _DeviceAttributes(/job:worker/replica:0/task:0/device:TPU:4, TPU, 0, 0)\n"
          ],
          "name": "stdout"
        },
        {
          "output_type": "stream",
          "text": [
            "INFO:tensorflow:*** Available Device: _DeviceAttributes(/job:worker/replica:0/task:0/device:TPU:4, TPU, 0, 0)\n"
          ],
          "name": "stderr"
        },
        {
          "output_type": "stream",
          "text": [
            "INFO:tensorflow:*** Available Device: _DeviceAttributes(/job:worker/replica:0/task:0/device:TPU:5, TPU, 0, 0)\n"
          ],
          "name": "stdout"
        },
        {
          "output_type": "stream",
          "text": [
            "INFO:tensorflow:*** Available Device: _DeviceAttributes(/job:worker/replica:0/task:0/device:TPU:5, TPU, 0, 0)\n"
          ],
          "name": "stderr"
        },
        {
          "output_type": "stream",
          "text": [
            "INFO:tensorflow:*** Available Device: _DeviceAttributes(/job:worker/replica:0/task:0/device:TPU:6, TPU, 0, 0)\n"
          ],
          "name": "stdout"
        },
        {
          "output_type": "stream",
          "text": [
            "INFO:tensorflow:*** Available Device: _DeviceAttributes(/job:worker/replica:0/task:0/device:TPU:6, TPU, 0, 0)\n"
          ],
          "name": "stderr"
        },
        {
          "output_type": "stream",
          "text": [
            "INFO:tensorflow:*** Available Device: _DeviceAttributes(/job:worker/replica:0/task:0/device:TPU:7, TPU, 0, 0)\n"
          ],
          "name": "stdout"
        },
        {
          "output_type": "stream",
          "text": [
            "INFO:tensorflow:*** Available Device: _DeviceAttributes(/job:worker/replica:0/task:0/device:TPU:7, TPU, 0, 0)\n"
          ],
          "name": "stderr"
        },
        {
          "output_type": "stream",
          "text": [
            "INFO:tensorflow:*** Available Device: _DeviceAttributes(/job:worker/replica:0/task:0/device:TPU_SYSTEM:0, TPU_SYSTEM, 0, 0)\n"
          ],
          "name": "stdout"
        },
        {
          "output_type": "stream",
          "text": [
            "INFO:tensorflow:*** Available Device: _DeviceAttributes(/job:worker/replica:0/task:0/device:TPU_SYSTEM:0, TPU_SYSTEM, 0, 0)\n"
          ],
          "name": "stderr"
        },
        {
          "output_type": "stream",
          "text": [
            "INFO:tensorflow:*** Available Device: _DeviceAttributes(/job:worker/replica:0/task:0/device:XLA_CPU:0, XLA_CPU, 0, 0)\n"
          ],
          "name": "stdout"
        },
        {
          "output_type": "stream",
          "text": [
            "INFO:tensorflow:*** Available Device: _DeviceAttributes(/job:worker/replica:0/task:0/device:XLA_CPU:0, XLA_CPU, 0, 0)\n"
          ],
          "name": "stderr"
        },
        {
          "output_type": "display_data",
          "data": {
            "application/vnd.jupyter.widget-view+json": {
              "model_id": "909ce0ad62d546ce8eb0f3a5a893dc4c",
              "version_minor": 0,
              "version_major": 2
            },
            "text/plain": [
              "HBox(children=(FloatProgress(value=0.0, description='Downloading', max=536063208.0, style=ProgressStyle(descri…"
            ]
          },
          "metadata": {
            "tags": []
          }
        },
        {
          "output_type": "stream",
          "text": [
            "\n"
          ],
          "name": "stdout"
        },
        {
          "output_type": "stream",
          "text": [
            "Some layers from the model checkpoint at bert-base-uncased were not used when initializing TFBertModel: ['mlm___cls', 'nsp___cls']\n",
            "- This IS expected if you are initializing TFBertModel from the checkpoint of a model trained on another task or with another architecture (e.g. initializing a BertForSequenceClassification model from a BertForPreTraining model).\n",
            "- This IS NOT expected if you are initializing TFBertModel from the checkpoint of a model that you expect to be exactly identical (initializing a BertForSequenceClassification model from a BertForSequenceClassification model).\n",
            "All the layers of TFBertModel were initialized from the model checkpoint at bert-base-uncased.\n",
            "If your task is similar to the task the model of the checkpoint was trained on, you can already use TFBertModel for predictions without further training.\n"
          ],
          "name": "stderr"
        },
        {
          "output_type": "stream",
          "text": [
            "WARNING:tensorflow:The parameters `output_attentions`, `output_hidden_states` and `use_cache` cannot be updated when calling a model.They have to be set to True/False in the config object (i.e.: `config=XConfig.from_pretrained('name', output_attentions=True)`).\n",
            "WARNING:tensorflow:AutoGraph could not transform <bound method Socket.send of <zmq.sugar.socket.Socket object at 0x7f34adc01d70>> and will run it as-is.\n",
            "Please report this to the TensorFlow team. When filing the bug, set the verbosity to 10 (on Linux, `export AUTOGRAPH_VERBOSITY=10`) and attach the full output.\n",
            "Cause: module, class, method, function, traceback, frame, or code object was expected, got cython_function_or_method\n",
            "To silence this warning, decorate the function with @tf.autograph.experimental.do_not_convert\n"
          ],
          "name": "stdout"
        },
        {
          "output_type": "stream",
          "text": [
            "WARNING:tensorflow:AutoGraph could not transform <bound method Socket.send of <zmq.sugar.socket.Socket object at 0x7f34adc01d70>> and will run it as-is.\n",
            "Please report this to the TensorFlow team. When filing the bug, set the verbosity to 10 (on Linux, `export AUTOGRAPH_VERBOSITY=10`) and attach the full output.\n",
            "Cause: module, class, method, function, traceback, frame, or code object was expected, got cython_function_or_method\n",
            "To silence this warning, decorate the function with @tf.autograph.experimental.do_not_convert\n"
          ],
          "name": "stderr"
        },
        {
          "output_type": "stream",
          "text": [
            "WARNING: AutoGraph could not transform <bound method Socket.send of <zmq.sugar.socket.Socket object at 0x7f34adc01d70>> and will run it as-is.\n",
            "Please report this to the TensorFlow team. When filing the bug, set the verbosity to 10 (on Linux, `export AUTOGRAPH_VERBOSITY=10`) and attach the full output.\n",
            "Cause: module, class, method, function, traceback, frame, or code object was expected, got cython_function_or_method\n",
            "To silence this warning, decorate the function with @tf.autograph.experimental.do_not_convert\n",
            "WARNING:tensorflow:AutoGraph could not transform <function wrap at 0x7f34c8db4170> and will run it as-is.\n",
            "Cause: while/else statement not yet supported\n",
            "To silence this warning, decorate the function with @tf.autograph.experimental.do_not_convert\n"
          ],
          "name": "stdout"
        },
        {
          "output_type": "stream",
          "text": [
            "WARNING:tensorflow:The parameters `output_attentions`, `output_hidden_states` and `use_cache` cannot be updated when calling a model.They have to be set to True/False in the config object (i.e.: `config=XConfig.from_pretrained('name', output_attentions=True)`).\n",
            "WARNING:tensorflow:AutoGraph could not transform <function wrap at 0x7f34c8db4170> and will run it as-is.\n",
            "Cause: while/else statement not yet supported\n",
            "To silence this warning, decorate the function with @tf.autograph.experimental.do_not_convert\n"
          ],
          "name": "stderr"
        },
        {
          "output_type": "stream",
          "text": [
            "WARNING:tensorflow:The parameter `return_dict` cannot be set in graph mode and will always be set to `True`.\n",
            "WARNING: AutoGraph could not transform <function wrap at 0x7f34c8db4170> and will run it as-is.\n",
            "Cause: while/else statement not yet supported\n",
            "To silence this warning, decorate the function with @tf.autograph.experimental.do_not_convert\n"
          ],
          "name": "stdout"
        },
        {
          "output_type": "stream",
          "text": [
            "WARNING:tensorflow:The parameter `return_dict` cannot be set in graph mode and will always be set to `True`.\n"
          ],
          "name": "stderr"
        },
        {
          "output_type": "stream",
          "text": [
            "WARNING:tensorflow:From /usr/local/lib/python3.7/dist-packages/tensorflow/python/ops/array_ops.py:5049: calling gather (from tensorflow.python.ops.array_ops) with validate_indices is deprecated and will be removed in a future version.\n",
            "Instructions for updating:\n",
            "The `validate_indices` argument has no effect. Indices are always validated on CPU and never validated on GPU.\n"
          ],
          "name": "stdout"
        },
        {
          "output_type": "stream",
          "text": [
            "WARNING:tensorflow:From /usr/local/lib/python3.7/dist-packages/tensorflow/python/ops/array_ops.py:5049: calling gather (from tensorflow.python.ops.array_ops) with validate_indices is deprecated and will be removed in a future version.\n",
            "Instructions for updating:\n",
            "The `validate_indices` argument has no effect. Indices are always validated on CPU and never validated on GPU.\n"
          ],
          "name": "stderr"
        },
        {
          "output_type": "stream",
          "text": [
            "Model: \"model\"\n",
            "_________________________________________________________________\n",
            "Layer (type)                 Output Shape              Param #   \n",
            "=================================================================\n",
            "input_word_ids (InputLayer)  [(None, 512)]             0         \n",
            "_________________________________________________________________\n",
            "tf_bert_model (TFBertModel)  TFBaseModelOutputWithPool 109482240 \n",
            "_________________________________________________________________\n",
            "tf.__operators__.getitem (Sl (None, 768)               0         \n",
            "_________________________________________________________________\n",
            "dense_1 (Dense)              (None, 50)                38450     \n",
            "_________________________________________________________________\n",
            "dense_2 (Dense)              (None, 16)                816       \n",
            "=================================================================\n",
            "Total params: 109,521,506\n",
            "Trainable params: 109,521,506\n",
            "Non-trainable params: 0\n",
            "_________________________________________________________________\n"
          ],
          "name": "stdout"
        }
      ]
    },
    {
      "cell_type": "markdown",
      "metadata": {
        "id": "Cj58FU_mwlsb"
      },
      "source": [
        "#### model training with certian batch_size"
      ]
    },
    {
      "cell_type": "code",
      "metadata": {
        "colab": {
          "base_uri": "https://localhost:8080/"
        },
        "id": "i5foTNhKtW9G",
        "outputId": "9488f315-79fc-42d0-fbd5-ea74348520e5"
      },
      "source": [
        "batch_size = 64\n",
        "tf.keras.backend.clear_session()\n",
        "\n",
        "history = model.fit(np.array(train_input_ids), one_hot_labels,validation_data = (np.array(val_input_ids), val_labels),\n",
        "          verbose = 1, epochs = 100, batch_size = batch_size)"
      ],
      "execution_count": null,
      "outputs": [
        {
          "output_type": "stream",
          "text": [
            "Epoch 1/100\n"
          ],
          "name": "stdout"
        },
        {
          "output_type": "stream",
          "text": [
            "INFO:absl:TPU has inputs with dynamic shapes: [<tf.Tensor 'Const:0' shape=() dtype=int32>, <tf.Tensor 'cond_8/Identity:0' shape=(None, 512) dtype=int64>, <tf.Tensor 'cond_8/Identity_1:0' shape=(None, 16) dtype=float32>]\n"
          ],
          "name": "stderr"
        },
        {
          "output_type": "stream",
          "text": [
            "WARNING:tensorflow:The parameters `output_attentions`, `output_hidden_states` and `use_cache` cannot be updated when calling a model.They have to be set to True/False in the config object (i.e.: `config=XConfig.from_pretrained('name', output_attentions=True)`).\n"
          ],
          "name": "stdout"
        },
        {
          "output_type": "stream",
          "text": [
            "WARNING:tensorflow:The parameters `output_attentions`, `output_hidden_states` and `use_cache` cannot be updated when calling a model.They have to be set to True/False in the config object (i.e.: `config=XConfig.from_pretrained('name', output_attentions=True)`).\n"
          ],
          "name": "stderr"
        },
        {
          "output_type": "stream",
          "text": [
            "WARNING:tensorflow:The parameter `return_dict` cannot be set in graph mode and will always be set to `True`.\n"
          ],
          "name": "stdout"
        },
        {
          "output_type": "stream",
          "text": [
            "WARNING:tensorflow:The parameter `return_dict` cannot be set in graph mode and will always be set to `True`.\n"
          ],
          "name": "stderr"
        },
        {
          "output_type": "stream",
          "text": [
            "WARNING:tensorflow:Gradients do not exist for variables ['tf_bert_model/bert/pooler/dense/kernel:0', 'tf_bert_model/bert/pooler/dense/bias:0'] when minimizing the loss.\n"
          ],
          "name": "stdout"
        },
        {
          "output_type": "stream",
          "text": [
            "WARNING:tensorflow:Gradients do not exist for variables ['tf_bert_model/bert/pooler/dense/kernel:0', 'tf_bert_model/bert/pooler/dense/bias:0'] when minimizing the loss.\n",
            "INFO:absl:TPU has inputs with dynamic shapes: [<tf.Tensor 'Const:0' shape=() dtype=int32>, <tf.Tensor 'cond_8/Identity:0' shape=(None, 512) dtype=int64>, <tf.Tensor 'cond_8/Identity_1:0' shape=(None, 16) dtype=float32>]\n"
          ],
          "name": "stderr"
        },
        {
          "output_type": "stream",
          "text": [
            "WARNING:tensorflow:The parameters `output_attentions`, `output_hidden_states` and `use_cache` cannot be updated when calling a model.They have to be set to True/False in the config object (i.e.: `config=XConfig.from_pretrained('name', output_attentions=True)`).\n"
          ],
          "name": "stdout"
        },
        {
          "output_type": "stream",
          "text": [
            "WARNING:tensorflow:The parameters `output_attentions`, `output_hidden_states` and `use_cache` cannot be updated when calling a model.They have to be set to True/False in the config object (i.e.: `config=XConfig.from_pretrained('name', output_attentions=True)`).\n"
          ],
          "name": "stderr"
        },
        {
          "output_type": "stream",
          "text": [
            "WARNING:tensorflow:The parameter `return_dict` cannot be set in graph mode and will always be set to `True`.\n"
          ],
          "name": "stdout"
        },
        {
          "output_type": "stream",
          "text": [
            "WARNING:tensorflow:The parameter `return_dict` cannot be set in graph mode and will always be set to `True`.\n"
          ],
          "name": "stderr"
        },
        {
          "output_type": "stream",
          "text": [
            "WARNING:tensorflow:Gradients do not exist for variables ['tf_bert_model/bert/pooler/dense/kernel:0', 'tf_bert_model/bert/pooler/dense/bias:0'] when minimizing the loss.\n"
          ],
          "name": "stdout"
        },
        {
          "output_type": "stream",
          "text": [
            "WARNING:tensorflow:Gradients do not exist for variables ['tf_bert_model/bert/pooler/dense/kernel:0', 'tf_bert_model/bert/pooler/dense/bias:0'] when minimizing the loss.\n"
          ],
          "name": "stderr"
        },
        {
          "output_type": "stream",
          "text": [
            "109/109 [==============================] - ETA: 0s - loss: 2.3219 - accuracy: 0.2029"
          ],
          "name": "stdout"
        },
        {
          "output_type": "stream",
          "text": [
            "INFO:absl:TPU has inputs with dynamic shapes: [<tf.Tensor 'Const:0' shape=() dtype=int32>, <tf.Tensor 'cond_8/Identity:0' shape=(None, 512) dtype=int64>, <tf.Tensor 'cond_8/Identity_1:0' shape=(None, 16) dtype=float32>]\n"
          ],
          "name": "stderr"
        },
        {
          "output_type": "stream",
          "text": [
            "WARNING:tensorflow:The parameters `output_attentions`, `output_hidden_states` and `use_cache` cannot be updated when calling a model.They have to be set to True/False in the config object (i.e.: `config=XConfig.from_pretrained('name', output_attentions=True)`).\n"
          ],
          "name": "stdout"
        },
        {
          "output_type": "stream",
          "text": [
            "WARNING:tensorflow:The parameters `output_attentions`, `output_hidden_states` and `use_cache` cannot be updated when calling a model.They have to be set to True/False in the config object (i.e.: `config=XConfig.from_pretrained('name', output_attentions=True)`).\n"
          ],
          "name": "stderr"
        },
        {
          "output_type": "stream",
          "text": [
            "WARNING:tensorflow:The parameter `return_dict` cannot be set in graph mode and will always be set to `True`.\n"
          ],
          "name": "stdout"
        },
        {
          "output_type": "stream",
          "text": [
            "WARNING:tensorflow:The parameter `return_dict` cannot be set in graph mode and will always be set to `True`.\n"
          ],
          "name": "stderr"
        },
        {
          "output_type": "stream",
          "text": [
            "\b\b\b\b\b\b\b\b\b\b\b\b\b\b\b\b\b\b\b\b\b\b\b\b\b\b\b\b\b\b\b\b\b\b\b\b\b\b\b\b\b\b\b\b\b\b\b\b\b\b\b\b\b\b\b\b\b\b\b\b\b\b\b\b\b\b\b\b\b\b\b\b\b\b\b\b\b\b\b\b\b\b\b\b\r109/109 [==============================] - 177s 864ms/step - loss: 2.3219 - accuracy: 0.2029 - val_loss: 2.2531 - val_accuracy: 0.2588\n",
            "Epoch 2/100\n",
            "109/109 [==============================] - 30s 279ms/step - loss: 2.1157 - accuracy: 0.3097 - val_loss: 2.0796 - val_accuracy: 0.3562\n",
            "Epoch 3/100\n",
            "109/109 [==============================] - 30s 278ms/step - loss: 1.7027 - accuracy: 0.4811 - val_loss: 1.5442 - val_accuracy: 0.5452\n",
            "Epoch 4/100\n",
            "109/109 [==============================] - 30s 278ms/step - loss: 1.3604 - accuracy: 0.5971 - val_loss: 1.3461 - val_accuracy: 0.6029\n",
            "Epoch 5/100\n",
            "109/109 [==============================] - 30s 278ms/step - loss: 1.2031 - accuracy: 0.6435 - val_loss: 1.2476 - val_accuracy: 0.6277\n",
            "Epoch 6/100\n",
            "109/109 [==============================] - 30s 278ms/step - loss: 1.0778 - accuracy: 0.6787 - val_loss: 1.2757 - val_accuracy: 0.6231\n",
            "Epoch 7/100\n",
            "109/109 [==============================] - 30s 278ms/step - loss: 0.9778 - accuracy: 0.7059 - val_loss: 1.3038 - val_accuracy: 0.6271\n",
            "Epoch 8/100\n",
            "109/109 [==============================] - 31s 283ms/step - loss: 0.9085 - accuracy: 0.7258 - val_loss: 1.2397 - val_accuracy: 0.6450\n",
            "Epoch 9/100\n",
            "109/109 [==============================] - 30s 278ms/step - loss: 0.8235 - accuracy: 0.7558 - val_loss: 1.2539 - val_accuracy: 0.6403\n",
            "Epoch 10/100\n",
            "109/109 [==============================] - 30s 279ms/step - loss: 0.7413 - accuracy: 0.7790 - val_loss: 1.3692 - val_accuracy: 0.6340\n",
            "Epoch 11/100\n",
            "109/109 [==============================] - 30s 279ms/step - loss: 0.6568 - accuracy: 0.8107 - val_loss: 1.4725 - val_accuracy: 0.6317\n",
            "Epoch 12/100\n",
            "109/109 [==============================] - 30s 279ms/step - loss: 0.5939 - accuracy: 0.8267 - val_loss: 1.4543 - val_accuracy: 0.6305\n",
            "Epoch 13/100\n",
            "109/109 [==============================] - 30s 279ms/step - loss: 0.5152 - accuracy: 0.8522 - val_loss: 1.5036 - val_accuracy: 0.6271\n",
            "Epoch 14/100\n",
            "109/109 [==============================] - 30s 279ms/step - loss: 0.4619 - accuracy: 0.8679 - val_loss: 1.6325 - val_accuracy: 0.6167\n",
            "Epoch 15/100\n",
            "109/109 [==============================] - 30s 278ms/step - loss: 0.3808 - accuracy: 0.8955 - val_loss: 1.6086 - val_accuracy: 0.6380\n",
            "Epoch 16/100\n",
            "109/109 [==============================] - 30s 279ms/step - loss: 0.3571 - accuracy: 0.8999 - val_loss: 1.6107 - val_accuracy: 0.6386\n",
            "Epoch 17/100\n",
            "109/109 [==============================] - 30s 279ms/step - loss: 0.2993 - accuracy: 0.9160 - val_loss: 1.7089 - val_accuracy: 0.6254\n",
            "Epoch 18/100\n",
            "109/109 [==============================] - 30s 279ms/step - loss: 0.2656 - accuracy: 0.9248 - val_loss: 1.7848 - val_accuracy: 0.6265\n",
            "Epoch 19/100\n",
            "109/109 [==============================] - 30s 279ms/step - loss: 0.2409 - accuracy: 0.9300 - val_loss: 1.8758 - val_accuracy: 0.6259\n",
            "Epoch 20/100\n",
            "109/109 [==============================] - 30s 278ms/step - loss: 0.1921 - accuracy: 0.9464 - val_loss: 1.8741 - val_accuracy: 0.6271\n",
            "Epoch 21/100\n",
            "109/109 [==============================] - 30s 278ms/step - loss: 0.1727 - accuracy: 0.9526 - val_loss: 1.9200 - val_accuracy: 0.6213\n",
            "Epoch 22/100\n",
            "109/109 [==============================] - 30s 278ms/step - loss: 0.1571 - accuracy: 0.9573 - val_loss: 2.0450 - val_accuracy: 0.6179\n",
            "Epoch 23/100\n",
            "109/109 [==============================] - 30s 279ms/step - loss: 0.1250 - accuracy: 0.9664 - val_loss: 2.0705 - val_accuracy: 0.6190\n",
            "Epoch 24/100\n",
            "109/109 [==============================] - 30s 279ms/step - loss: 0.1151 - accuracy: 0.9686 - val_loss: 2.1382 - val_accuracy: 0.6173\n",
            "Epoch 25/100\n",
            "109/109 [==============================] - 30s 279ms/step - loss: 0.1039 - accuracy: 0.9723 - val_loss: 2.0788 - val_accuracy: 0.6277\n",
            "Epoch 26/100\n",
            "109/109 [==============================] - 30s 278ms/step - loss: 0.0929 - accuracy: 0.9758 - val_loss: 2.2139 - val_accuracy: 0.6127\n",
            "Epoch 27/100\n",
            "109/109 [==============================] - 30s 278ms/step - loss: 0.0920 - accuracy: 0.9736 - val_loss: 2.2538 - val_accuracy: 0.6144\n",
            "Epoch 28/100\n",
            "109/109 [==============================] - 30s 278ms/step - loss: 0.0670 - accuracy: 0.9826 - val_loss: 2.2004 - val_accuracy: 0.6184\n",
            "Epoch 29/100\n",
            "109/109 [==============================] - 30s 279ms/step - loss: 0.0591 - accuracy: 0.9839 - val_loss: 2.2522 - val_accuracy: 0.6248\n",
            "Epoch 30/100\n",
            "109/109 [==============================] - 30s 278ms/step - loss: 0.0585 - accuracy: 0.9846 - val_loss: 2.3336 - val_accuracy: 0.6133\n",
            "Epoch 31/100\n",
            "109/109 [==============================] - 30s 278ms/step - loss: 0.0593 - accuracy: 0.9823 - val_loss: 2.4932 - val_accuracy: 0.6081\n",
            "Epoch 32/100\n",
            "109/109 [==============================] - 30s 278ms/step - loss: 0.0466 - accuracy: 0.9885 - val_loss: 2.4061 - val_accuracy: 0.6133\n",
            "Epoch 33/100\n",
            "109/109 [==============================] - 30s 279ms/step - loss: 0.0390 - accuracy: 0.9905 - val_loss: 2.3882 - val_accuracy: 0.6213\n",
            "Epoch 34/100\n",
            "109/109 [==============================] - 30s 278ms/step - loss: 0.0359 - accuracy: 0.9918 - val_loss: 2.4803 - val_accuracy: 0.6110\n",
            "Epoch 35/100\n",
            "109/109 [==============================] - 30s 278ms/step - loss: 0.0436 - accuracy: 0.9873 - val_loss: 2.5120 - val_accuracy: 0.6115\n",
            "Epoch 36/100\n",
            "109/109 [==============================] - 30s 279ms/step - loss: 0.0325 - accuracy: 0.9918 - val_loss: 2.5129 - val_accuracy: 0.6190\n",
            "Epoch 37/100\n",
            "109/109 [==============================] - 30s 278ms/step - loss: 0.0247 - accuracy: 0.9945 - val_loss: 2.4966 - val_accuracy: 0.6277\n",
            "Epoch 38/100\n",
            "109/109 [==============================] - 30s 279ms/step - loss: 0.0287 - accuracy: 0.9915 - val_loss: 2.5578 - val_accuracy: 0.6248\n",
            "Epoch 39/100\n",
            "109/109 [==============================] - 30s 278ms/step - loss: 0.0299 - accuracy: 0.9921 - val_loss: 2.6435 - val_accuracy: 0.6081\n",
            "Epoch 40/100\n",
            "109/109 [==============================] - 30s 278ms/step - loss: 0.0367 - accuracy: 0.9898 - val_loss: 2.4767 - val_accuracy: 0.6259\n",
            "Epoch 41/100\n",
            "109/109 [==============================] - 30s 279ms/step - loss: 0.0207 - accuracy: 0.9947 - val_loss: 2.6730 - val_accuracy: 0.6104\n",
            "Epoch 42/100\n",
            "109/109 [==============================] - 30s 278ms/step - loss: 0.0327 - accuracy: 0.9908 - val_loss: 2.5726 - val_accuracy: 0.6305\n",
            "Epoch 43/100\n",
            "109/109 [==============================] - 30s 280ms/step - loss: 0.0351 - accuracy: 0.9893 - val_loss: 2.5997 - val_accuracy: 0.6265\n",
            "Epoch 44/100\n",
            "109/109 [==============================] - 31s 286ms/step - loss: 0.0280 - accuracy: 0.9919 - val_loss: 2.6024 - val_accuracy: 0.6346\n",
            "Epoch 45/100\n",
            "109/109 [==============================] - 30s 279ms/step - loss: 0.0380 - accuracy: 0.9880 - val_loss: 2.5577 - val_accuracy: 0.6133\n",
            "Epoch 46/100\n",
            "109/109 [==============================] - 30s 280ms/step - loss: 0.0195 - accuracy: 0.9951 - val_loss: 2.6431 - val_accuracy: 0.6323\n",
            "Epoch 47/100\n",
            "109/109 [==============================] - 30s 279ms/step - loss: 0.0150 - accuracy: 0.9955 - val_loss: 2.6846 - val_accuracy: 0.6236\n",
            "Epoch 48/100\n",
            "109/109 [==============================] - 30s 279ms/step - loss: 0.0229 - accuracy: 0.9935 - val_loss: 2.5628 - val_accuracy: 0.6317\n",
            "Epoch 49/100\n",
            "109/109 [==============================] - 30s 279ms/step - loss: 0.0121 - accuracy: 0.9976 - val_loss: 2.7235 - val_accuracy: 0.6259\n",
            "Epoch 50/100\n",
            "109/109 [==============================] - 30s 279ms/step - loss: 0.0113 - accuracy: 0.9973 - val_loss: 2.7626 - val_accuracy: 0.6259\n",
            "Epoch 51/100\n",
            "109/109 [==============================] - 30s 280ms/step - loss: 0.0163 - accuracy: 0.9958 - val_loss: 2.7323 - val_accuracy: 0.6207\n",
            "Epoch 52/100\n",
            "109/109 [==============================] - 31s 281ms/step - loss: 0.0219 - accuracy: 0.9941 - val_loss: 2.7221 - val_accuracy: 0.6207\n",
            "Epoch 53/100\n",
            "109/109 [==============================] - 30s 280ms/step - loss: 0.0170 - accuracy: 0.9955 - val_loss: 2.7849 - val_accuracy: 0.6150\n",
            "Epoch 54/100\n",
            "109/109 [==============================] - 30s 279ms/step - loss: 0.0378 - accuracy: 0.9908 - val_loss: 2.7271 - val_accuracy: 0.6156\n",
            "Epoch 55/100\n",
            "109/109 [==============================] - 30s 280ms/step - loss: 0.0147 - accuracy: 0.9964 - val_loss: 2.8544 - val_accuracy: 0.6063\n",
            "Epoch 56/100\n",
            "109/109 [==============================] - 30s 279ms/step - loss: 0.0177 - accuracy: 0.9948 - val_loss: 2.7722 - val_accuracy: 0.6300\n",
            "Epoch 57/100\n",
            "109/109 [==============================] - 30s 280ms/step - loss: 0.0219 - accuracy: 0.9939 - val_loss: 2.8886 - val_accuracy: 0.6069\n",
            "Epoch 58/100\n",
            "109/109 [==============================] - 30s 279ms/step - loss: 0.0155 - accuracy: 0.9958 - val_loss: 2.7539 - val_accuracy: 0.6225\n",
            "Epoch 59/100\n",
            "109/109 [==============================] - 30s 279ms/step - loss: 0.0147 - accuracy: 0.9957 - val_loss: 2.8003 - val_accuracy: 0.6288\n",
            "Epoch 60/100\n",
            "109/109 [==============================] - 30s 279ms/step - loss: 0.0165 - accuracy: 0.9958 - val_loss: 2.8299 - val_accuracy: 0.6248\n",
            "Epoch 61/100\n",
            "109/109 [==============================] - 30s 279ms/step - loss: 0.0275 - accuracy: 0.9919 - val_loss: 2.9550 - val_accuracy: 0.5983\n",
            "Epoch 62/100\n",
            "109/109 [==============================] - 30s 278ms/step - loss: 0.0155 - accuracy: 0.9955 - val_loss: 2.7797 - val_accuracy: 0.6173\n",
            "Epoch 63/100\n",
            "109/109 [==============================] - 31s 280ms/step - loss: 0.0131 - accuracy: 0.9958 - val_loss: 2.8515 - val_accuracy: 0.6242\n",
            "Epoch 64/100\n",
            "109/109 [==============================] - 30s 279ms/step - loss: 0.0196 - accuracy: 0.9938 - val_loss: 3.0194 - val_accuracy: 0.5862\n",
            "Epoch 65/100\n",
            "109/109 [==============================] - 30s 279ms/step - loss: 0.0113 - accuracy: 0.9971 - val_loss: 2.8351 - val_accuracy: 0.6179\n",
            "Epoch 66/100\n",
            "109/109 [==============================] - 30s 279ms/step - loss: 0.0127 - accuracy: 0.9964 - val_loss: 2.8255 - val_accuracy: 0.6225\n",
            "Epoch 67/100\n",
            "109/109 [==============================] - 30s 279ms/step - loss: 0.0055 - accuracy: 0.9990 - val_loss: 2.8752 - val_accuracy: 0.6323\n",
            "Epoch 68/100\n",
            "109/109 [==============================] - 30s 279ms/step - loss: 0.0168 - accuracy: 0.9945 - val_loss: 2.9454 - val_accuracy: 0.6098\n",
            "Epoch 69/100\n",
            "109/109 [==============================] - 30s 278ms/step - loss: 0.0198 - accuracy: 0.9937 - val_loss: 2.9789 - val_accuracy: 0.6161\n",
            "Epoch 70/100\n",
            "109/109 [==============================] - 30s 279ms/step - loss: 0.0076 - accuracy: 0.9978 - val_loss: 2.8501 - val_accuracy: 0.6231\n",
            "Epoch 71/100\n",
            "109/109 [==============================] - 30s 278ms/step - loss: 0.0073 - accuracy: 0.9980 - val_loss: 3.0377 - val_accuracy: 0.6173\n",
            "Epoch 72/100\n",
            "109/109 [==============================] - 30s 279ms/step - loss: 0.0173 - accuracy: 0.9937 - val_loss: 3.0361 - val_accuracy: 0.6167\n",
            "Epoch 73/100\n",
            "109/109 [==============================] - 30s 278ms/step - loss: 0.0186 - accuracy: 0.9950 - val_loss: 2.8996 - val_accuracy: 0.6236\n",
            "Epoch 74/100\n",
            "109/109 [==============================] - 30s 279ms/step - loss: 0.0111 - accuracy: 0.9964 - val_loss: 2.8614 - val_accuracy: 0.6352\n",
            "Epoch 75/100\n",
            "109/109 [==============================] - 30s 279ms/step - loss: 0.0065 - accuracy: 0.9991 - val_loss: 2.9807 - val_accuracy: 0.6040\n",
            "Epoch 76/100\n",
            "109/109 [==============================] - 30s 279ms/step - loss: 0.0301 - accuracy: 0.9922 - val_loss: 2.7814 - val_accuracy: 0.6248\n",
            "Epoch 77/100\n",
            "109/109 [==============================] - 30s 279ms/step - loss: 0.0046 - accuracy: 0.9988 - val_loss: 2.8436 - val_accuracy: 0.6265\n",
            "Epoch 78/100\n",
            "109/109 [==============================] - 30s 279ms/step - loss: 0.0056 - accuracy: 0.9986 - val_loss: 2.9890 - val_accuracy: 0.6231\n",
            "Epoch 79/100\n",
            "109/109 [==============================] - 31s 281ms/step - loss: 0.0144 - accuracy: 0.9954 - val_loss: 2.9224 - val_accuracy: 0.6161\n",
            "Epoch 80/100\n",
            "109/109 [==============================] - 31s 286ms/step - loss: 0.0173 - accuracy: 0.9950 - val_loss: 3.1137 - val_accuracy: 0.6133\n",
            "Epoch 81/100\n",
            "109/109 [==============================] - 30s 279ms/step - loss: 0.0301 - accuracy: 0.9912 - val_loss: 2.7871 - val_accuracy: 0.6334\n",
            "Epoch 82/100\n",
            "109/109 [==============================] - 30s 280ms/step - loss: 0.0100 - accuracy: 0.9974 - val_loss: 2.8743 - val_accuracy: 0.6196\n",
            "Epoch 83/100\n",
            "109/109 [==============================] - 30s 279ms/step - loss: 0.0074 - accuracy: 0.9983 - val_loss: 2.9024 - val_accuracy: 0.6219\n",
            "Epoch 84/100\n",
            "109/109 [==============================] - 30s 279ms/step - loss: 0.0088 - accuracy: 0.9983 - val_loss: 2.8192 - val_accuracy: 0.6340\n",
            "Epoch 85/100\n",
            "109/109 [==============================] - 30s 279ms/step - loss: 0.0038 - accuracy: 0.9991 - val_loss: 2.9385 - val_accuracy: 0.6288\n",
            "Epoch 86/100\n",
            "109/109 [==============================] - 30s 279ms/step - loss: 0.0038 - accuracy: 0.9996 - val_loss: 2.9759 - val_accuracy: 0.6288\n",
            "Epoch 87/100\n",
            "109/109 [==============================] - 30s 280ms/step - loss: 0.0047 - accuracy: 0.9984 - val_loss: 2.9553 - val_accuracy: 0.6294\n",
            "Epoch 88/100\n",
            "109/109 [==============================] - 30s 279ms/step - loss: 0.0057 - accuracy: 0.9987 - val_loss: 3.0334 - val_accuracy: 0.6156\n",
            "Epoch 89/100\n",
            "109/109 [==============================] - 30s 279ms/step - loss: 0.0032 - accuracy: 0.9993 - val_loss: 3.1393 - val_accuracy: 0.6179\n",
            "Epoch 90/100\n",
            "109/109 [==============================] - 30s 279ms/step - loss: 0.0166 - accuracy: 0.9951 - val_loss: 2.9908 - val_accuracy: 0.6207\n",
            "Epoch 91/100\n",
            "109/109 [==============================] - 30s 279ms/step - loss: 0.0105 - accuracy: 0.9976 - val_loss: 2.9316 - val_accuracy: 0.6271\n",
            "Epoch 92/100\n",
            "109/109 [==============================] - 30s 279ms/step - loss: 0.0098 - accuracy: 0.9961 - val_loss: 3.0156 - val_accuracy: 0.6352\n",
            "Epoch 93/100\n",
            "109/109 [==============================] - 30s 279ms/step - loss: 0.0170 - accuracy: 0.9958 - val_loss: 2.9556 - val_accuracy: 0.6161\n",
            "Epoch 94/100\n",
            "109/109 [==============================] - 30s 279ms/step - loss: 0.0140 - accuracy: 0.9960 - val_loss: 2.8830 - val_accuracy: 0.6231\n",
            "Epoch 95/100\n",
            "109/109 [==============================] - 30s 279ms/step - loss: 0.0093 - accuracy: 0.9971 - val_loss: 3.1002 - val_accuracy: 0.6207\n",
            "Epoch 96/100\n",
            "109/109 [==============================] - 30s 279ms/step - loss: 0.0058 - accuracy: 0.9981 - val_loss: 2.9841 - val_accuracy: 0.6300\n",
            "Epoch 97/100\n",
            "109/109 [==============================] - 30s 279ms/step - loss: 0.0044 - accuracy: 0.9988 - val_loss: 2.9663 - val_accuracy: 0.6300\n",
            "Epoch 98/100\n",
            "109/109 [==============================] - 30s 279ms/step - loss: 0.0051 - accuracy: 0.9983 - val_loss: 3.0626 - val_accuracy: 0.6323\n",
            "Epoch 99/100\n",
            "109/109 [==============================] - 30s 279ms/step - loss: 0.0068 - accuracy: 0.9977 - val_loss: 3.1095 - val_accuracy: 0.6173\n",
            "Epoch 100/100\n",
            "109/109 [==============================] - 30s 279ms/step - loss: 0.0108 - accuracy: 0.9964 - val_loss: 3.0880 - val_accuracy: 0.6167\n"
          ],
          "name": "stdout"
        }
      ]
    },
    {
      "cell_type": "markdown",
      "metadata": {
        "id": "kLe1a86ywo1B"
      },
      "source": [
        "#### plotting results of trainning and validation process"
      ]
    },
    {
      "cell_type": "code",
      "metadata": {
        "colab": {
          "base_uri": "https://localhost:8080/",
          "height": 573
        },
        "id": "31pCze35gjPi",
        "outputId": "721c9583-d123-410f-d81a-d03b5e601c60"
      },
      "source": [
        "import matplotlib.pyplot as plt\n",
        "\n",
        "file_name = \"model_overfit\"\n",
        "# plot accuracy\n",
        "# print(history.history.keys())\n",
        "# summarize history for accuracy\n",
        "plt.plot(history.history['accuracy'])\n",
        "plt.plot(history.history['val_accuracy'])\n",
        "plt.title('model accuracy')\n",
        "plt.ylabel('accuracy')\n",
        "plt.xlabel('epoch')\n",
        "plt.legend(['train', 'test'], loc='upper left')\n",
        "path = \"drive/MyDrive/\"+file_name+\"_acc.jpg\"\n",
        "plt.savefig(dpi=150, fname=path)\n",
        "plt.show()\n",
        "# summarize history for loss\n",
        "plt.plot(history.history['loss'])\n",
        "plt.plot(history.history['val_loss'])\n",
        "plt.title('model loss')\n",
        "plt.ylabel('loss')\n",
        "plt.xlabel('epoch')\n",
        "plt.legend(['train', 'test'], loc='upper left')\n",
        "path = \"drive/MyDrive/\"+file_name+\"_loss.jpg\"\n",
        "plt.savefig(dpi=150, fname=path)\n",
        "plt.show()\n",
        "\n"
      ],
      "execution_count": null,
      "outputs": [
        {
          "output_type": "display_data",
          "data": {
            "image/png": "[encoded data removed]",
            "text/plain": [
              "<Figure size 432x288 with 1 Axes>"
            ]
          },
          "metadata": {
            "tags": [],
            "needs_background": "light"
          }
        },
        {
          "output_type": "display_data",
          "data": {
            "image/png": "[encoded data removed]",
            "text/plain": [
              "<Figure size 432x288 with 1 Axes>"
            ]
          },
          "metadata": {
            "tags": [],
            "needs_background": "light"
          }
        }
      ]
    },
    {
      "cell_type": "markdown",
      "metadata": {
        "id": "6Qq5pxzwbwPO"
      },
      "source": [
        "**SMALLER BERT**"
      ]
    },
    {
      "cell_type": "markdown",
      "metadata": {
        "id": "49vbSxzYw5O7"
      },
      "source": [
        "#### model architecture creation"
      ]
    },
    {
      "cell_type": "code",
      "metadata": {
        "id": "-32eMS9RFPEh"
      },
      "source": [
        "# applying bert model\n",
        "maxlen = 512\n",
        "def create_model_bert_smaller(): \n",
        "    input_word_ids = tf.keras.layers.Input(shape=(maxlen,), dtype=tf.int32,\n",
        "                                           name=\"input_word_ids\")\n",
        "    bert_layer = transformers.TFBertModel.from_pretrained('bert-base-uncased')\n",
        "    bert_outputs = bert_layer(input_word_ids)[0]\n",
        "    pred = tf.keras.layers.Dense(16, activation='softmax')(bert_outputs[:,0,:])\n",
        "    \n",
        "    model = tf.keras.models.Model(inputs=input_word_ids, outputs=pred)\n",
        "    loss = tf.keras.losses.SparseCategoricalCrossentropy(from_logits=True)\n",
        "    model.compile(loss='categorical_crossentropy', optimizer=tf.keras.optimizers.Adam(\n",
        "    learning_rate=0.0001), metrics=['accuracy'])\n",
        "    return model"
      ],
      "execution_count": null,
      "outputs": []
    },
    {
      "cell_type": "markdown",
      "metadata": {
        "id": "NXHB1ea4w-Jr"
      },
      "source": [
        "#### check to use tpu or not"
      ]
    },
    {
      "cell_type": "code",
      "metadata": {
        "id": "svYCbmM5pryF",
        "colab": {
          "base_uri": "https://localhost:8080/"
        },
        "outputId": "536fdf0c-fcaf-48c6-f98c-fc9fc30ef62d"
      },
      "source": [
        "  use_tpu = True\n",
        "if use_tpu:\n",
        "    # Create distribution strategy\n",
        "    tpu = tf.distribute.cluster_resolver.TPUClusterResolver()\n",
        "    tf.config.experimental_connect_to_cluster(tpu)\n",
        "    tf.tpu.experimental.initialize_tpu_system(tpu)\n",
        "    strategy = tf.distribute.experimental.TPUStrategy(tpu)\n",
        "\n",
        "    # Create model\n",
        "    with strategy.scope():\n",
        "        model = create_model_bert_smaller()\n",
        "else:\n",
        "    model = create_model_bert()\n",
        "    \n",
        "model.summary()"
      ],
      "execution_count": null,
      "outputs": [
        {
          "output_type": "stream",
          "text": [
            "WARNING:tensorflow:TPU system grpc://10.94.236.106:8470 has already been initialized. Reinitializing the TPU can cause previously created variables on TPU to be lost.\n"
          ],
          "name": "stdout"
        },
        {
          "output_type": "stream",
          "text": [
            "WARNING:tensorflow:TPU system grpc://10.94.236.106:8470 has already been initialized. Reinitializing the TPU can cause previously created variables on TPU to be lost.\n"
          ],
          "name": "stderr"
        },
        {
          "output_type": "stream",
          "text": [
            "INFO:tensorflow:Initializing the TPU system: grpc://10.94.236.106:8470\n"
          ],
          "name": "stdout"
        },
        {
          "output_type": "stream",
          "text": [
            "INFO:tensorflow:Initializing the TPU system: grpc://10.94.236.106:8470\n"
          ],
          "name": "stderr"
        },
        {
          "output_type": "stream",
          "text": [
            "INFO:tensorflow:Clearing out eager caches\n"
          ],
          "name": "stdout"
        },
        {
          "output_type": "stream",
          "text": [
            "INFO:tensorflow:Clearing out eager caches\n"
          ],
          "name": "stderr"
        },
        {
          "output_type": "stream",
          "text": [
            "INFO:tensorflow:Finished initializing TPU system.\n"
          ],
          "name": "stdout"
        },
        {
          "output_type": "stream",
          "text": [
            "INFO:tensorflow:Finished initializing TPU system.\n",
            "WARNING:absl:`tf.distribute.experimental.TPUStrategy` is deprecated, please use  the non experimental symbol `tf.distribute.TPUStrategy` instead.\n"
          ],
          "name": "stderr"
        },
        {
          "output_type": "stream",
          "text": [
            "INFO:tensorflow:Found TPU system:\n"
          ],
          "name": "stdout"
        },
        {
          "output_type": "stream",
          "text": [
            "INFO:tensorflow:Found TPU system:\n"
          ],
          "name": "stderr"
        },
        {
          "output_type": "stream",
          "text": [
            "INFO:tensorflow:*** Num TPU Cores: 8\n"
          ],
          "name": "stdout"
        },
        {
          "output_type": "stream",
          "text": [
            "INFO:tensorflow:*** Num TPU Cores: 8\n"
          ],
          "name": "stderr"
        },
        {
          "output_type": "stream",
          "text": [
            "INFO:tensorflow:*** Num TPU Workers: 1\n"
          ],
          "name": "stdout"
        },
        {
          "output_type": "stream",
          "text": [
            "INFO:tensorflow:*** Num TPU Workers: 1\n"
          ],
          "name": "stderr"
        },
        {
          "output_type": "stream",
          "text": [
            "INFO:tensorflow:*** Num TPU Cores Per Worker: 8\n"
          ],
          "name": "stdout"
        },
        {
          "output_type": "stream",
          "text": [
            "INFO:tensorflow:*** Num TPU Cores Per Worker: 8\n"
          ],
          "name": "stderr"
        },
        {
          "output_type": "stream",
          "text": [
            "INFO:tensorflow:*** Available Device: _DeviceAttributes(/job:localhost/replica:0/task:0/device:CPU:0, CPU, 0, 0)\n"
          ],
          "name": "stdout"
        },
        {
          "output_type": "stream",
          "text": [
            "INFO:tensorflow:*** Available Device: _DeviceAttributes(/job:localhost/replica:0/task:0/device:CPU:0, CPU, 0, 0)\n"
          ],
          "name": "stderr"
        },
        {
          "output_type": "stream",
          "text": [
            "INFO:tensorflow:*** Available Device: _DeviceAttributes(/job:worker/replica:0/task:0/device:CPU:0, CPU, 0, 0)\n"
          ],
          "name": "stdout"
        },
        {
          "output_type": "stream",
          "text": [
            "INFO:tensorflow:*** Available Device: _DeviceAttributes(/job:worker/replica:0/task:0/device:CPU:0, CPU, 0, 0)\n"
          ],
          "name": "stderr"
        },
        {
          "output_type": "stream",
          "text": [
            "INFO:tensorflow:*** Available Device: _DeviceAttributes(/job:worker/replica:0/task:0/device:TPU:0, TPU, 0, 0)\n"
          ],
          "name": "stdout"
        },
        {
          "output_type": "stream",
          "text": [
            "INFO:tensorflow:*** Available Device: _DeviceAttributes(/job:worker/replica:0/task:0/device:TPU:0, TPU, 0, 0)\n"
          ],
          "name": "stderr"
        },
        {
          "output_type": "stream",
          "text": [
            "INFO:tensorflow:*** Available Device: _DeviceAttributes(/job:worker/replica:0/task:0/device:TPU:1, TPU, 0, 0)\n"
          ],
          "name": "stdout"
        },
        {
          "output_type": "stream",
          "text": [
            "INFO:tensorflow:*** Available Device: _DeviceAttributes(/job:worker/replica:0/task:0/device:TPU:1, TPU, 0, 0)\n"
          ],
          "name": "stderr"
        },
        {
          "output_type": "stream",
          "text": [
            "INFO:tensorflow:*** Available Device: _DeviceAttributes(/job:worker/replica:0/task:0/device:TPU:2, TPU, 0, 0)\n"
          ],
          "name": "stdout"
        },
        {
          "output_type": "stream",
          "text": [
            "INFO:tensorflow:*** Available Device: _DeviceAttributes(/job:worker/replica:0/task:0/device:TPU:2, TPU, 0, 0)\n"
          ],
          "name": "stderr"
        },
        {
          "output_type": "stream",
          "text": [
            "INFO:tensorflow:*** Available Device: _DeviceAttributes(/job:worker/replica:0/task:0/device:TPU:3, TPU, 0, 0)\n"
          ],
          "name": "stdout"
        },
        {
          "output_type": "stream",
          "text": [
            "INFO:tensorflow:*** Available Device: _DeviceAttributes(/job:worker/replica:0/task:0/device:TPU:3, TPU, 0, 0)\n"
          ],
          "name": "stderr"
        },
        {
          "output_type": "stream",
          "text": [
            "INFO:tensorflow:*** Available Device: _DeviceAttributes(/job:worker/replica:0/task:0/device:TPU:4, TPU, 0, 0)\n"
          ],
          "name": "stdout"
        },
        {
          "output_type": "stream",
          "text": [
            "INFO:tensorflow:*** Available Device: _DeviceAttributes(/job:worker/replica:0/task:0/device:TPU:4, TPU, 0, 0)\n"
          ],
          "name": "stderr"
        },
        {
          "output_type": "stream",
          "text": [
            "INFO:tensorflow:*** Available Device: _DeviceAttributes(/job:worker/replica:0/task:0/device:TPU:5, TPU, 0, 0)\n"
          ],
          "name": "stdout"
        },
        {
          "output_type": "stream",
          "text": [
            "INFO:tensorflow:*** Available Device: _DeviceAttributes(/job:worker/replica:0/task:0/device:TPU:5, TPU, 0, 0)\n"
          ],
          "name": "stderr"
        },
        {
          "output_type": "stream",
          "text": [
            "INFO:tensorflow:*** Available Device: _DeviceAttributes(/job:worker/replica:0/task:0/device:TPU:6, TPU, 0, 0)\n"
          ],
          "name": "stdout"
        },
        {
          "output_type": "stream",
          "text": [
            "INFO:tensorflow:*** Available Device: _DeviceAttributes(/job:worker/replica:0/task:0/device:TPU:6, TPU, 0, 0)\n"
          ],
          "name": "stderr"
        },
        {
          "output_type": "stream",
          "text": [
            "INFO:tensorflow:*** Available Device: _DeviceAttributes(/job:worker/replica:0/task:0/device:TPU:7, TPU, 0, 0)\n"
          ],
          "name": "stdout"
        },
        {
          "output_type": "stream",
          "text": [
            "INFO:tensorflow:*** Available Device: _DeviceAttributes(/job:worker/replica:0/task:0/device:TPU:7, TPU, 0, 0)\n"
          ],
          "name": "stderr"
        },
        {
          "output_type": "stream",
          "text": [
            "INFO:tensorflow:*** Available Device: _DeviceAttributes(/job:worker/replica:0/task:0/device:TPU_SYSTEM:0, TPU_SYSTEM, 0, 0)\n"
          ],
          "name": "stdout"
        },
        {
          "output_type": "stream",
          "text": [
            "INFO:tensorflow:*** Available Device: _DeviceAttributes(/job:worker/replica:0/task:0/device:TPU_SYSTEM:0, TPU_SYSTEM, 0, 0)\n"
          ],
          "name": "stderr"
        },
        {
          "output_type": "stream",
          "text": [
            "INFO:tensorflow:*** Available Device: _DeviceAttributes(/job:worker/replica:0/task:0/device:XLA_CPU:0, XLA_CPU, 0, 0)\n"
          ],
          "name": "stdout"
        },
        {
          "output_type": "stream",
          "text": [
            "INFO:tensorflow:*** Available Device: _DeviceAttributes(/job:worker/replica:0/task:0/device:XLA_CPU:0, XLA_CPU, 0, 0)\n",
            "Some layers from the model checkpoint at bert-base-uncased were not used when initializing TFBertModel: ['mlm___cls', 'nsp___cls']\n",
            "- This IS expected if you are initializing TFBertModel from the checkpoint of a model trained on another task or with another architecture (e.g. initializing a BertForSequenceClassification model from a BertForPreTraining model).\n",
            "- This IS NOT expected if you are initializing TFBertModel from the checkpoint of a model that you expect to be exactly identical (initializing a BertForSequenceClassification model from a BertForSequenceClassification model).\n",
            "All the layers of TFBertModel were initialized from the model checkpoint at bert-base-uncased.\n",
            "If your task is similar to the task the model of the checkpoint was trained on, you can already use TFBertModel for predictions without further training.\n"
          ],
          "name": "stderr"
        },
        {
          "output_type": "stream",
          "text": [
            "WARNING:tensorflow:The parameters `output_attentions`, `output_hidden_states` and `use_cache` cannot be updated when calling a model.They have to be set to True/False in the config object (i.e.: `config=XConfig.from_pretrained('name', output_attentions=True)`).\n"
          ],
          "name": "stdout"
        },
        {
          "output_type": "stream",
          "text": [
            "WARNING:tensorflow:The parameters `output_attentions`, `output_hidden_states` and `use_cache` cannot be updated when calling a model.They have to be set to True/False in the config object (i.e.: `config=XConfig.from_pretrained('name', output_attentions=True)`).\n"
          ],
          "name": "stderr"
        },
        {
          "output_type": "stream",
          "text": [
            "WARNING:tensorflow:The parameter `return_dict` cannot be set in graph mode and will always be set to `True`.\n"
          ],
          "name": "stdout"
        },
        {
          "output_type": "stream",
          "text": [
            "WARNING:tensorflow:The parameter `return_dict` cannot be set in graph mode and will always be set to `True`.\n"
          ],
          "name": "stderr"
        },
        {
          "output_type": "stream",
          "text": [
            "Model: \"model\"\n",
            "_________________________________________________________________\n",
            "Layer (type)                 Output Shape              Param #   \n",
            "=================================================================\n",
            "input_word_ids (InputLayer)  [(None, 512)]             0         \n",
            "_________________________________________________________________\n",
            "tf_bert_model (TFBertModel)  TFBaseModelOutputWithPool 109482240 \n",
            "_________________________________________________________________\n",
            "tf.__operators__.getitem (Sl (None, 768)               0         \n",
            "_________________________________________________________________\n",
            "dense (Dense)                (None, 16)                12304     \n",
            "=================================================================\n",
            "Total params: 109,494,544\n",
            "Trainable params: 109,494,544\n",
            "Non-trainable params: 0\n",
            "_________________________________________________________________\n"
          ],
          "name": "stdout"
        }
      ]
    },
    {
      "cell_type": "markdown",
      "metadata": {
        "id": "o-VTf1bBxCIt"
      },
      "source": [
        "#### model training with certain batch_size"
      ]
    },
    {
      "cell_type": "code",
      "metadata": {
        "colab": {
          "base_uri": "https://localhost:8080/"
        },
        "id": "AVCCURYHE1F1",
        "outputId": "bbad0f2e-5b40-47c6-c71d-e02d7b262c44"
      },
      "source": [
        "batch_size = 32\n",
        "tf.keras.backend.clear_session()\n",
        "\n",
        "history = model.fit(np.array(train_input_ids), one_hot_labels,validation_data = (np.array(val_input_ids), val_labels),\n",
        "          verbose = 1, epochs = 10, batch_size = batch_size)"
      ],
      "execution_count": null,
      "outputs": [
        {
          "output_type": "stream",
          "text": [
            "Epoch 1/10\n"
          ],
          "name": "stdout"
        },
        {
          "output_type": "stream",
          "text": [
            "INFO:absl:TPU has inputs with dynamic shapes: [<tf.Tensor 'Const:0' shape=() dtype=int32>, <tf.Tensor 'cond_8/Identity:0' shape=(None, 512) dtype=int64>, <tf.Tensor 'cond_8/Identity_1:0' shape=(None, 16) dtype=float32>]\n"
          ],
          "name": "stderr"
        },
        {
          "output_type": "stream",
          "text": [
            "WARNING:tensorflow:The parameters `output_attentions`, `output_hidden_states` and `use_cache` cannot be updated when calling a model.They have to be set to True/False in the config object (i.e.: `config=XConfig.from_pretrained('name', output_attentions=True)`).\n"
          ],
          "name": "stdout"
        },
        {
          "output_type": "stream",
          "text": [
            "WARNING:tensorflow:The parameters `output_attentions`, `output_hidden_states` and `use_cache` cannot be updated when calling a model.They have to be set to True/False in the config object (i.e.: `config=XConfig.from_pretrained('name', output_attentions=True)`).\n"
          ],
          "name": "stderr"
        },
        {
          "output_type": "stream",
          "text": [
            "WARNING:tensorflow:The parameter `return_dict` cannot be set in graph mode and will always be set to `True`.\n"
          ],
          "name": "stdout"
        },
        {
          "output_type": "stream",
          "text": [
            "WARNING:tensorflow:The parameter `return_dict` cannot be set in graph mode and will always be set to `True`.\n"
          ],
          "name": "stderr"
        },
        {
          "output_type": "stream",
          "text": [
            "WARNING:tensorflow:Gradients do not exist for variables ['tf_bert_model/bert/pooler/dense/kernel:0', 'tf_bert_model/bert/pooler/dense/bias:0'] when minimizing the loss.\n"
          ],
          "name": "stdout"
        },
        {
          "output_type": "stream",
          "text": [
            "WARNING:tensorflow:Gradients do not exist for variables ['tf_bert_model/bert/pooler/dense/kernel:0', 'tf_bert_model/bert/pooler/dense/bias:0'] when minimizing the loss.\n",
            "INFO:absl:TPU has inputs with dynamic shapes: [<tf.Tensor 'Const:0' shape=() dtype=int32>, <tf.Tensor 'cond_8/Identity:0' shape=(None, 512) dtype=int64>, <tf.Tensor 'cond_8/Identity_1:0' shape=(None, 16) dtype=float32>]\n"
          ],
          "name": "stderr"
        },
        {
          "output_type": "stream",
          "text": [
            "WARNING:tensorflow:The parameters `output_attentions`, `output_hidden_states` and `use_cache` cannot be updated when calling a model.They have to be set to True/False in the config object (i.e.: `config=XConfig.from_pretrained('name', output_attentions=True)`).\n"
          ],
          "name": "stdout"
        },
        {
          "output_type": "stream",
          "text": [
            "WARNING:tensorflow:The parameters `output_attentions`, `output_hidden_states` and `use_cache` cannot be updated when calling a model.They have to be set to True/False in the config object (i.e.: `config=XConfig.from_pretrained('name', output_attentions=True)`).\n"
          ],
          "name": "stderr"
        },
        {
          "output_type": "stream",
          "text": [
            "WARNING:tensorflow:The parameter `return_dict` cannot be set in graph mode and will always be set to `True`.\n"
          ],
          "name": "stdout"
        },
        {
          "output_type": "stream",
          "text": [
            "WARNING:tensorflow:The parameter `return_dict` cannot be set in graph mode and will always be set to `True`.\n"
          ],
          "name": "stderr"
        },
        {
          "output_type": "stream",
          "text": [
            "WARNING:tensorflow:Gradients do not exist for variables ['tf_bert_model/bert/pooler/dense/kernel:0', 'tf_bert_model/bert/pooler/dense/bias:0'] when minimizing the loss.\n"
          ],
          "name": "stdout"
        },
        {
          "output_type": "stream",
          "text": [
            "WARNING:tensorflow:Gradients do not exist for variables ['tf_bert_model/bert/pooler/dense/kernel:0', 'tf_bert_model/bert/pooler/dense/bias:0'] when minimizing the loss.\n"
          ],
          "name": "stderr"
        },
        {
          "output_type": "stream",
          "text": [
            "109/109 [==============================] - ETA: 0s - loss: 2.3271 - accuracy: 0.2107"
          ],
          "name": "stdout"
        },
        {
          "output_type": "stream",
          "text": [
            "INFO:absl:TPU has inputs with dynamic shapes: [<tf.Tensor 'Const:0' shape=() dtype=int32>, <tf.Tensor 'cond_8/Identity:0' shape=(None, 512) dtype=int64>, <tf.Tensor 'cond_8/Identity_1:0' shape=(None, 16) dtype=float32>]\n"
          ],
          "name": "stderr"
        },
        {
          "output_type": "stream",
          "text": [
            "WARNING:tensorflow:The parameters `output_attentions`, `output_hidden_states` and `use_cache` cannot be updated when calling a model.They have to be set to True/False in the config object (i.e.: `config=XConfig.from_pretrained('name', output_attentions=True)`).\n"
          ],
          "name": "stdout"
        },
        {
          "output_type": "stream",
          "text": [
            "WARNING:tensorflow:The parameters `output_attentions`, `output_hidden_states` and `use_cache` cannot be updated when calling a model.They have to be set to True/False in the config object (i.e.: `config=XConfig.from_pretrained('name', output_attentions=True)`).\n"
          ],
          "name": "stderr"
        },
        {
          "output_type": "stream",
          "text": [
            "WARNING:tensorflow:The parameter `return_dict` cannot be set in graph mode and will always be set to `True`.\n"
          ],
          "name": "stdout"
        },
        {
          "output_type": "stream",
          "text": [
            "WARNING:tensorflow:The parameter `return_dict` cannot be set in graph mode and will always be set to `True`.\n"
          ],
          "name": "stderr"
        },
        {
          "output_type": "stream",
          "text": [
            "\b\b\b\b\b\b\b\b\b\b\b\b\b\b\b\b\b\b\b\b\b\b\b\b\b\b\b\b\b\b\b\b\b\b\b\b\b\b\b\b\b\b\b\b\b\b\b\b\b\b\b\b\b\b\b\b\b\b\b\b\b\b\b\b\b\b\b\b\b\b\b\b\b\b\b\b\b\b\b\b\b\b\b\b\r109/109 [==============================] - 182s 855ms/step - loss: 2.3271 - accuracy: 0.2107 - val_loss: 2.1952 - val_accuracy: 0.2605\n",
            "Epoch 2/10\n",
            "109/109 [==============================] - 31s 280ms/step - loss: 1.9329 - accuracy: 0.3674 - val_loss: 1.5831 - val_accuracy: 0.5043\n",
            "Epoch 3/10\n",
            "109/109 [==============================] - 30s 279ms/step - loss: 1.3905 - accuracy: 0.5634 - val_loss: 1.4165 - val_accuracy: 0.5522\n",
            "Epoch 4/10\n",
            "109/109 [==============================] - 30s 279ms/step - loss: 1.0433 - accuracy: 0.6733 - val_loss: 1.6613 - val_accuracy: 0.5614\n",
            "Epoch 5/10\n",
            "109/109 [==============================] - 30s 279ms/step - loss: 0.7796 - accuracy: 0.7581 - val_loss: 1.5921 - val_accuracy: 0.5816\n",
            "Epoch 6/10\n",
            "109/109 [==============================] - 30s 279ms/step - loss: 0.5672 - accuracy: 0.8290 - val_loss: 1.7296 - val_accuracy: 0.5527\n",
            "Epoch 7/10\n",
            "109/109 [==============================] - 30s 279ms/step - loss: 0.4144 - accuracy: 0.8756 - val_loss: 1.6875 - val_accuracy: 0.5856\n",
            "Epoch 8/10\n",
            "109/109 [==============================] - 30s 280ms/step - loss: 0.2852 - accuracy: 0.9128 - val_loss: 1.9634 - val_accuracy: 0.5706\n",
            "Epoch 9/10\n",
            "109/109 [==============================] - 30s 280ms/step - loss: 0.1693 - accuracy: 0.9501 - val_loss: 2.5804 - val_accuracy: 0.5585\n",
            "Epoch 10/10\n",
            "109/109 [==============================] - 30s 279ms/step - loss: 0.1551 - accuracy: 0.9530 - val_loss: 2.5667 - val_accuracy: 0.5573\n"
          ],
          "name": "stdout"
        }
      ]
    },
    {
      "cell_type": "markdown",
      "metadata": {
        "id": "vZ2U7fzpxGDK"
      },
      "source": [
        "#### plotting results of training and validation process"
      ]
    },
    {
      "cell_type": "code",
      "metadata": {
        "colab": {
          "base_uri": "https://localhost:8080/",
          "height": 573
        },
        "id": "KpQn9y1NE1Su",
        "outputId": "85432ca7-8072-4654-9bff-0ba351597896"
      },
      "source": [
        "import matplotlib.pyplot as plt\n",
        "\n",
        "file_name = \"model_smaller\"\n",
        "# plot accuracy\n",
        "# print(history.history.keys())\n",
        "# summarize history for accuracy\n",
        "plt.plot(history.history['accuracy'])\n",
        "plt.plot(history.history['val_accuracy'])\n",
        "plt.title('model accuracy')\n",
        "plt.ylabel('accuracy')\n",
        "plt.xlabel('epoch')\n",
        "plt.legend(['train', 'test'], loc='upper left')\n",
        "path = \"drive/MyDrive/\"+file_name+\"_acc.jpg\"\n",
        "plt.savefig(dpi=150, fname=path)\n",
        "plt.show()\n",
        "# summarize history for loss\n",
        "plt.plot(history.history['loss'])\n",
        "plt.plot(history.history['val_loss'])\n",
        "plt.title('model loss')\n",
        "plt.ylabel('loss')\n",
        "plt.xlabel('epoch')\n",
        "plt.legend(['train', 'test'], loc='upper left')\n",
        "path = \"drive/MyDrive/\"+file_name+\"_loss.jpg\"\n",
        "plt.savefig(dpi=150, fname=path)\n",
        "plt.show()\n",
        "\n"
      ],
      "execution_count": null,
      "outputs": [
        {
          "output_type": "display_data",
          "data": {
            "image/png": "[encoded data removed]",
            "text/plain": [
              "<Figure size 432x288 with 1 Axes>"
            ]
          },
          "metadata": {
            "tags": [],
            "needs_background": "light"
          }
        },
        {
          "output_type": "display_data",
          "data": {
            "image/png": "[encoded data removed]",
            "text/plain": [
              "<Figure size 432x288 with 1 Axes>"
            ]
          },
          "metadata": {
            "tags": [],
            "needs_background": "light"
          }
        }
      ]
    },
    {
      "cell_type": "markdown",
      "metadata": {
        "id": "ApUDBLljb13b"
      },
      "source": [
        "**PREDICTIONS**"
      ]
    },
    {
      "cell_type": "markdown",
      "metadata": {
        "id": "fUyj8MpPwyf_"
      },
      "source": [
        "### this section covers the prediction code to predict a new custom text"
      ]
    },
    {
      "cell_type": "code",
      "metadata": {
        "colab": {
          "base_uri": "https://localhost:8080/"
        },
        "id": "ngGPW15e5RHy",
        "outputId": "79526bb7-6b95-4105-e475-695a74782cc1"
      },
      "source": [
        "print(maxlen)\n",
        "test_input_ids = [tokenizer.encode(str(i), max_length = maxlen , pad_to_max_length = True) for i in test.cleaned_text.values]\n",
        "test_labels= tf.keras.utils.to_categorical(test.type_index.values, num_classes=16)"
      ],
      "execution_count": null,
      "outputs": [
        {
          "output_type": "stream",
          "text": [
            "512\n"
          ],
          "name": "stdout"
        },
        {
          "output_type": "stream",
          "text": [
            "/usr/local/lib/python3.7/dist-packages/transformers/tokenization_utils_base.py:2132: FutureWarning: The `pad_to_max_length` argument is deprecated and will be removed in a future version, use `padding=True` or `padding='longest'` to pad to the longest sequence in the batch, or use `padding='max_length'` to pad to a max length. In this case, you can give a specific length with `max_length` (e.g. `max_length=45`) or leave max_length to None to pad to the maximal input size of the model (e.g. 512 for Bert).\n",
            "  FutureWarning,\n"
          ],
          "name": "stderr"
        }
      ]
    },
    {
      "cell_type": "code",
      "metadata": {
        "id": "Psnsk41d8Pye"
      },
      "source": [
        "def recreate_model(): \n",
        "    input_word_ids = tf.keras.layers.Input(shape=(maxlen,), dtype=tf.int32,\n",
        "                                           name=\"input_word_ids\")\n",
        "    bert_layer = transformers.TFBertModel.from_pretrained('bert-base-uncased')\n",
        "    bert_outputs = bert_layer(input_word_ids)[0]\n",
        "    pred = tf.keras.layers.Dense(16, activation='softmax')(bert_outputs[:,0,:])\n",
        "    \n",
        "    model = tf.keras.models.Model(inputs=input_word_ids, outputs=pred)\n",
        "    loss = tf.keras.losses.SparseCategoricalCrossentropy(from_logits=True)\n",
        "    model.compile(loss='categorical_crossentropy', optimizer=tf.keras.optimizers.Adam(\n",
        "    learning_rate=0.00001), metrics=['accuracy'])\n",
        "    model.load_weights(\"drive/MyDrive/bert_base_model.h5\")\n",
        "    return model"
      ],
      "execution_count": null,
      "outputs": []
    },
    {
      "cell_type": "code",
      "metadata": {
        "colab": {
          "base_uri": "https://localhost:8080/"
        },
        "id": "7peCHKJH8k8R",
        "outputId": "7b100d51-3941-4273-cd91-abfcf940654e"
      },
      "source": [
        "new_model = recreate_model()"
      ],
      "execution_count": null,
      "outputs": [
        {
          "output_type": "stream",
          "text": [
            "Some layers from the model checkpoint at bert-base-uncased were not used when initializing TFBertModel: ['mlm___cls', 'nsp___cls']\n",
            "- This IS expected if you are initializing TFBertModel from the checkpoint of a model trained on another task or with another architecture (e.g. initializing a BertForSequenceClassification model from a BertForPreTraining model).\n",
            "- This IS NOT expected if you are initializing TFBertModel from the checkpoint of a model that you expect to be exactly identical (initializing a BertForSequenceClassification model from a BertForSequenceClassification model).\n",
            "All the layers of TFBertModel were initialized from the model checkpoint at bert-base-uncased.\n",
            "If your task is similar to the task the model of the checkpoint was trained on, you can already use TFBertModel for predictions without further training.\n"
          ],
          "name": "stderr"
        },
        {
          "output_type": "stream",
          "text": [
            "WARNING:tensorflow:The parameters `output_attentions`, `output_hidden_states` and `use_cache` cannot be updated when calling a model.They have to be set to True/False in the config object (i.e.: `config=XConfig.from_pretrained('name', output_attentions=True)`).\n"
          ],
          "name": "stdout"
        },
        {
          "output_type": "stream",
          "text": [
            "WARNING:tensorflow:The parameters `output_attentions`, `output_hidden_states` and `use_cache` cannot be updated when calling a model.They have to be set to True/False in the config object (i.e.: `config=XConfig.from_pretrained('name', output_attentions=True)`).\n"
          ],
          "name": "stderr"
        },
        {
          "output_type": "stream",
          "text": [
            "WARNING:tensorflow:The parameter `return_dict` cannot be set in graph mode and will always be set to `True`.\n"
          ],
          "name": "stdout"
        },
        {
          "output_type": "stream",
          "text": [
            "WARNING:tensorflow:The parameter `return_dict` cannot be set in graph mode and will always be set to `True`.\n"
          ],
          "name": "stderr"
        }
      ]
    },
    {
      "cell_type": "code",
      "metadata": {
        "colab": {
          "base_uri": "https://localhost:8080/"
        },
        "id": "2n9VyZaH8oKI",
        "outputId": "c44be876-fc99-4250-bda7-2d6d22151916"
      },
      "source": [
        "input_text = \"i am ambitious, helpful. i love to go outside with my friends.i am creative, i like to try new things\"\n",
        "cleaned_ip = clean_text(input_text)\n",
        "custom_test_ids = [tokenizer.encode(str(cleaned_ip),max_length = maxlen , pad_to_max_length = True)]\n",
        "type_ind = np.argmax(new_model.predict(np.array(custom_test_ids)))"
      ],
      "execution_count": null,
      "outputs": [
        {
          "output_type": "stream",
          "text": [
            "/usr/local/lib/python3.7/dist-packages/transformers/tokenization_utils_base.py:2132: FutureWarning: The `pad_to_max_length` argument is deprecated and will be removed in a future version, use `padding=True` or `padding='longest'` to pad to the longest sequence in the batch, or use `padding='max_length'` to pad to a max length. In this case, you can give a specific length with `max_length` (e.g. `max_length=45`) or leave max_length to None to pad to the maximal input size of the model (e.g. 512 for Bert).\n",
            "  FutureWarning,\n"
          ],
          "name": "stderr"
        }
      ]
    },
    {
      "cell_type": "code",
      "metadata": {
        "colab": {
          "base_uri": "https://localhost:8080/",
          "height": 35
        },
        "id": "4hZB9aXs8xpP",
        "outputId": "e52694ee-a625-4607-dadb-e32d7446a04a"
      },
      "source": [
        "per_types[type_ind]"
      ],
      "execution_count": null,
      "outputs": [
        {
          "output_type": "execute_result",
          "data": {
            "application/vnd.google.colaboratory.intrinsic+json": {
              "type": "string"
            },
            "text/plain": [
              "'ISFP'"
            ]
          },
          "metadata": {
            "tags": []
          },
          "execution_count": 38
        }
      ]
    }
  ]
}